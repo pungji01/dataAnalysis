{
  "cells": [
    {
      "cell_type": "markdown",
      "id": "XFgQe4VqN-4R",
      "metadata": {
        "id": "XFgQe4VqN-4R"
      },
      "source": [
        "# 한글폰트 설정 및 라이브러리 임포트"
      ]
    },
    {
      "cell_type": "code",
      "execution_count": null,
      "id": "70ee2bad",
      "metadata": {
        "id": "70ee2bad"
      },
      "outputs": [],
      "source": [
        "# 코드 실행 후 재시작\n",
        "!sudo apt-get install -y fonts-nanum\n",
        "!sudo fc-cache -fv\n",
        "!rm ~/.cache/matplotlib -rf"
      ]
    },
    {
      "cell_type": "markdown",
      "id": "00fade0b",
      "metadata": {
        "id": "00fade0b"
      },
      "source": [
        "# 필요한 라이브러리 import"
      ]
    },
    {
      "cell_type": "code",
      "execution_count": null,
      "id": "9TnnqCBiL2cb",
      "metadata": {
        "id": "9TnnqCBiL2cb"
      },
      "outputs": [],
      "source": [
        "import pandas as pd\n",
        "import matplotlib.pyplot as plt\n",
        "import numpy as np\n",
        "\n",
        "# 멧플롯립 한글폰트 지정\n",
        "plt.rc('font', family='NanumBarunGothic')\n",
        "plt.rc('font', family='Malgun Gothic')\n",
        "plt.rcParams['axes.unicode_minus'] = False"
      ]
    },
    {
      "cell_type": "markdown",
      "id": "aa4adfcc",
      "metadata": {
        "id": "aa4adfcc"
      },
      "source": [
        "# 2024년 연령대별 현황\n",
        " - 2024년 연령대별 인구수 확인하기\n",
        " - https://jumin.mois.go.kr/#  연령별 인구현황 > 연령 구분 단위를 1세로 변경해서 조회하기"
      ]
    },
    {
      "cell_type": "markdown",
      "id": "184a8f37",
      "metadata": {
        "id": "184a8f37"
      },
      "source": [
        "## 파일 읽어서 데이터프레임 생성하기"
      ]
    },
    {
      "cell_type": "code",
      "execution_count": null,
      "id": "c1855d0f",
      "metadata": {
        "colab": {
          "base_uri": "https://localhost:8080/",
          "height": 428
        },
        "id": "c1855d0f",
        "outputId": "8fa79c90-95cb-4101-e0fa-dd729a204d34"
      },
      "outputs": [],
      "source": [
        "df = \n",
        "df.head()"
      ]
    },
    {
      "cell_type": "code",
      "execution_count": null,
      "id": "5cV5p-LjQAmB",
      "metadata": {
        "id": "5cV5p-LjQAmB"
      },
      "outputs": [],
      "source": []
    },
    {
      "cell_type": "markdown",
      "id": "2228865a",
      "metadata": {
        "id": "2228865a"
      },
      "source": [
        "## 데이터 속성을 탐색"
      ]
    },
    {
      "cell_type": "code",
      "execution_count": null,
      "id": "c8dcb369",
      "metadata": {
        "colab": {
          "base_uri": "https://localhost:8080/"
        },
        "id": "c8dcb369",
        "outputId": "2de818f9-dc89-493f-af5d-bc805c26709f"
      },
      "outputs": [],
      "source": [
        "df.함수이름?"
      ]
    },
    {
      "cell_type": "markdown",
      "id": "af0904f3",
      "metadata": {
        "id": "af0904f3"
      },
      "source": [
        "## 데이터 전처리"
      ]
    },
    {
      "cell_type": "markdown",
      "id": "jyF7W2b8GDyV",
      "metadata": {
        "id": "jyF7W2b8GDyV"
      },
      "source": [
        "### 행정구역을 인덱스로 설정하기"
      ]
    },
    {
      "cell_type": "code",
      "execution_count": null,
      "id": "KLBzYBhUGJRQ",
      "metadata": {
        "colab": {
          "base_uri": "https://localhost:8080/",
          "height": 362
        },
        "id": "KLBzYBhUGJRQ",
        "outputId": "cde8066e-6acd-443a-d4a1-6cf235a44164"
      },
      "outputs": [],
      "source": [
        "df.인덱스 설정 함수는?\n",
        "df.head(3)"
      ]
    },
    {
      "cell_type": "markdown",
      "id": "da4b83aa",
      "metadata": {
        "id": "da4b83aa"
      },
      "source": [
        "### 남자 연령대별 인구 현황을 데이터프레임으로 생성하기\n"
      ]
    },
    {
      "cell_type": "markdown",
      "id": "6kxgezE3IIEy",
      "metadata": {
        "id": "6kxgezE3IIEy"
      },
      "source": [
        "#### 데이터프레임 생성하기\n",
        "   - 남자 연령대별 인구수 컬럼 가져오기"
      ]
    },
    {
      "cell_type": "code",
      "execution_count": null,
      "id": "dc30f6af",
      "metadata": {},
      "outputs": [],
      "source": [
        "df.columns   # 컬럼명 보기"
      ]
    },
    {
      "cell_type": "code",
      "execution_count": null,
      "id": "9bee03f0",
      "metadata": {
        "colab": {
          "base_uri": "https://localhost:8080/",
          "height": 477
        },
        "id": "9bee03f0",
        "outputId": "984f8f53-f7f7-4d20-8dec-0581c3e52f11"
      },
      "outputs": [],
      "source": [
        "df_m = 남자 연령대별 컬럼에 해당하는 데이터만 가져오려면?\n",
        "df_m.head()"
      ]
    },
    {
      "cell_type": "markdown",
      "id": "mLhNvc_eIV4D",
      "metadata": {
        "id": "mLhNvc_eIV4D"
      },
      "source": [
        "#### 컬럼명 변경하기"
      ]
    },
    {
      "cell_type": "code",
      "execution_count": null,
      "id": "LrkdteHTIYp-",
      "metadata": {
        "colab": {
          "base_uri": "https://localhost:8080/",
          "height": 408
        },
        "id": "LrkdteHTIYp-",
        "outputId": "65a2a199-f6cb-4f6d-de76-412e5dfcd33b"
      },
      "outputs": [],
      "source": [
        "df_m.columns = 컬럼명 변경하는 방법은? ('2024년03월_남_'부분을 --> ''로 변경하기)\n",
        "df_m.head()"
      ]
    },
    {
      "cell_type": "code",
      "execution_count": null,
      "id": "wr0PsSnCI2aN",
      "metadata": {
        "colab": {
          "base_uri": "https://localhost:8080/"
        },
        "id": "wr0PsSnCI2aN",
        "outputId": "e6569dd5-e186-42cd-bb34-4c79f3f4b2a8"
      },
      "outputs": [],
      "source": [
        "df_m.dtypes"
      ]
    },
    {
      "cell_type": "markdown",
      "id": "9JMRBbXkRAlg",
      "metadata": {
        "id": "9JMRBbXkRAlg"
      },
      "source": [
        "#### 데이터 타입 변경하기\n",
        "- 문자열을 정수형으로 변경하기"
      ]
    },
    {
      "cell_type": "code",
      "execution_count": null,
      "id": "4Bw73OUhLksB",
      "metadata": {
        "colab": {
          "base_uri": "https://localhost:8080/"
        },
        "id": "4Bw73OUhLksB",
        "outputId": "9c15ccb0-e23f-41cd-f0fd-8573810a0487"
      },
      "outputs": [],
      "source": [
        "from pandas.core.dtypes.api import is_numeric_dtype\n",
        "\n",
        "def s(st):\n",
        "  if is_numeric_dtype(st):\n",
        "    return st\n",
        "\n",
        "  else:\n",
        "    return st.replace(',', '')\n",
        "\n",
        "df_m.iloc[0].apply(s).astype(int)"
      ]
    },
    {
      "cell_type": "code",
      "execution_count": null,
      "id": "Bf_Z_-6YJn5I",
      "metadata": {
        "colab": {
          "base_uri": "https://localhost:8080/",
          "height": 408
        },
        "id": "Bf_Z_-6YJn5I",
        "outputId": "8adc4584-92e2-4893-afdc-96aff1fe5491"
      },
      "outputs": [],
      "source": [
        "# 문자열을 정수로 변경하기\n",
        "df_m.iloc[0] = \n",
        "df_m.head()"
      ]
    },
    {
      "cell_type": "code",
      "execution_count": null,
      "id": "kcnzBd9lKMEp",
      "metadata": {
        "colab": {
          "base_uri": "https://localhost:8080/",
          "height": 213
        },
        "id": "kcnzBd9lKMEp",
        "outputId": "3277f454-4042-4c73-cf8a-2d9281b0d187"
      },
      "outputs": [],
      "source": [
        "df_m.head(1)\n"
      ]
    },
    {
      "cell_type": "markdown",
      "id": "rKQ1fPngSB5y",
      "metadata": {
        "id": "rKQ1fPngSB5y"
      },
      "source": [
        "### 여자 연령대별 인구 현황을 데이터프레임으로 생성하기"
      ]
    },
    {
      "cell_type": "markdown",
      "id": "f00qEWAZSOIX",
      "metadata": {
        "id": "f00qEWAZSOIX"
      },
      "source": [
        "#### 데이터프레임 생성하기\n",
        "   - 여자 연령대별 인구수 컬럼 가져오기"
      ]
    },
    {
      "cell_type": "code",
      "execution_count": null,
      "id": "I-18w-v6SS83",
      "metadata": {
        "colab": {
          "base_uri": "https://localhost:8080/",
          "height": 460
        },
        "id": "I-18w-v6SS83",
        "outputId": "98af984a-3e58-49f9-f309-7d284f9b535e"
      },
      "outputs": [],
      "source": [
        "df_w = \n",
        "df_w.head()"
      ]
    },
    {
      "cell_type": "markdown",
      "id": "0r4r9eXmTGvd",
      "metadata": {
        "id": "0r4r9eXmTGvd"
      },
      "source": [
        "#### 컬럼명 변경하기"
      ]
    },
    {
      "cell_type": "code",
      "execution_count": null,
      "id": "qHLQjpWNTGve",
      "metadata": {
        "colab": {
          "base_uri": "https://localhost:8080/",
          "height": 390
        },
        "id": "qHLQjpWNTGve",
        "outputId": "d1aa8fb9-498e-4c25-ceeb-4b30060830dd"
      },
      "outputs": [],
      "source": [
        "df_w.columns = \n",
        "df_w.head()"
      ]
    },
    {
      "cell_type": "code",
      "execution_count": null,
      "id": "YyLwYmOJTGve",
      "metadata": {
        "colab": {
          "base_uri": "https://localhost:8080/"
        },
        "id": "YyLwYmOJTGve",
        "outputId": "e9ffd41e-975e-47cf-8574-87f06ec5a79c"
      },
      "outputs": [],
      "source": [
        "df_w.dtypes"
      ]
    },
    {
      "cell_type": "markdown",
      "id": "XdwUQO3NTGve",
      "metadata": {
        "id": "XdwUQO3NTGve"
      },
      "source": [
        "#### 데이터 타입 변경하기\n",
        "- 문자열을 정수형으로 변경하기"
      ]
    },
    {
      "cell_type": "code",
      "execution_count": null,
      "id": "G9oTFtIxTGvf",
      "metadata": {
        "colab": {
          "base_uri": "https://localhost:8080/",
          "height": 196
        },
        "id": "G9oTFtIxTGvf",
        "outputId": "87668db3-b099-4280-b6ba-33f9602bdcb1"
      },
      "outputs": [],
      "source": [
        "df_w.iloc[0]= \n",
        "df_w.head(1)"
      ]
    },
    {
      "cell_type": "markdown",
      "id": "1bb671e0",
      "metadata": {
        "id": "1bb671e0"
      },
      "source": [
        "## 데이터 시각화\n"
      ]
    },
    {
      "cell_type": "markdown",
      "id": "4c7147ce",
      "metadata": {
        "id": "4c7147ce"
      },
      "source": [
        "### 연령대별 인구 현황\n",
        "- 가로 막대 그래프\n"
      ]
    },
    {
      "cell_type": "code",
      "execution_count": null,
      "id": "N10WjBSAUPCq",
      "metadata": {
        "colab": {
          "base_uri": "https://localhost:8080/"
        },
        "id": "N10WjBSAUPCq",
        "outputId": "10d87c7c-da99-469c-961c-36b37eccb94b"
      },
      "outputs": [],
      "source": [
        "df_m.columns"
      ]
    },
    {
      "cell_type": "code",
      "execution_count": null,
      "id": "5d4d51d0",
      "metadata": {
        "colab": {
          "base_uri": "https://localhost:8080/",
          "height": 510
        },
        "id": "5d4d51d0",
        "outputId": "0f5780c3-2829-49d7-8573-f65e4187f066"
      },
      "outputs": [],
      "source": [
        "plt.figure(figsize=(15, 10))\n",
        "plt.barh(df_m.columns, -df_m.iloc[0]//1000) #천 단위\n",
        "plt.barh(df_w.columns, df_w.iloc[0]//1000)\n",
        "\n",
        "plt.yticks(np.arange(0, 110, 10))\n",
        "\n",
        "plt.title('2024 대한민국 인구 피라미드')\n",
        "plt.savefig('2024_인구피라미드.png', dpi=100)\n",
        "plt.show()"
      ]
    }
  ],
  "metadata": {
    "colab": {
      "provenance": [],
      "toc_visible": true
    },
    "kernelspec": {
      "display_name": "Python 3",
      "name": "python3"
    },
    "language_info": {
      "codemirror_mode": {
        "name": "ipython",
        "version": 3
      },
      "file_extension": ".py",
      "mimetype": "text/x-python",
      "name": "python",
      "nbconvert_exporter": "python",
      "pygments_lexer": "ipython3",
      "version": "3.12.1"
    },
    "toc": {
      "base_numbering": 1,
      "nav_menu": {},
      "number_sections": true,
      "sideBar": true,
      "skip_h1_title": false,
      "title_cell": "Table of Contents",
      "title_sidebar": "Contents",
      "toc_cell": false,
      "toc_position": {},
      "toc_section_display": true,
      "toc_window_display": true
    },
    "varInspector": {
      "cols": {
        "lenName": 16,
        "lenType": 16,
        "lenVar": 40
      },
      "kernels_config": {
        "python": {
          "delete_cmd_postfix": "",
          "delete_cmd_prefix": "del ",
          "library": "var_list.py",
          "varRefreshCmd": "print(var_dic_list())"
        },
        "r": {
          "delete_cmd_postfix": ") ",
          "delete_cmd_prefix": "rm(",
          "library": "var_list.r",
          "varRefreshCmd": "cat(var_dic_list()) "
        }
      },
      "types_to_exclude": [
        "module",
        "function",
        "builtin_function_or_method",
        "instance",
        "_Feature"
      ],
      "window_display": false
    }
  },
  "nbformat": 4,
  "nbformat_minor": 5
}
