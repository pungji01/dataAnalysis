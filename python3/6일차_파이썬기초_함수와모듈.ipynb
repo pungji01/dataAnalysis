{
  "nbformat": 4,
  "nbformat_minor": 0,
  "metadata": {
    "colab": {
      "provenance": [],
      "authorship_tag": "ABX9TyNSlqecRCOAPWDzUiGFIE03",
      "include_colab_link": true
    },
    "kernelspec": {
      "name": "python3",
      "display_name": "Python 3"
    },
    "language_info": {
      "name": "python"
    }
  },
  "cells": [
    {
      "cell_type": "markdown",
      "metadata": {
        "id": "view-in-github",
        "colab_type": "text"
      },
      "source": [
        "<a href=\"https://colab.research.google.com/github/pungji01/dataAnalysis/blob/main/6%EC%9D%BC%EC%B0%A8_%ED%8C%8C%EC%9D%B4%EC%8D%AC%EA%B8%B0%EC%B4%88_%ED%95%A8%EC%88%98%EC%99%80%EB%AA%A8%EB%93%88.ipynb\" target=\"_parent\"><img src=\"https://colab.research.google.com/assets/colab-badge.svg\" alt=\"Open In Colab\"/></a>"
      ]
    },
    {
      "cell_type": "markdown",
      "source": [
        "#5. 함수와 모듈"
      ],
      "metadata": {
        "id": "KVmjc0yxzSMI"
      }
    },
    {
      "cell_type": "markdown",
      "source": [
        "##5-1 함수의 정의"
      ],
      "metadata": {
        "id": "HCNwnlIjzXwf"
      }
    },
    {
      "cell_type": "markdown",
      "source": [],
      "metadata": {
        "id": "fOXk4ehDzhA_"
      }
    },
    {
      "cell_type": "markdown",
      "source": [
        "###[실습문제' 암스트롱 수 찾기"
      ],
      "metadata": {
        "id": "pQI76XvRUaAw"
      }
    },
    {
      "cell_type": "code",
      "execution_count": 3,
      "metadata": {
        "id": "q633bwHLzNhn",
        "colab": {
          "base_uri": "https://localhost:8080/"
        },
        "outputId": "d1a29322-3d4d-478e-a9f0-9843b2634da7"
      },
      "outputs": [
        {
          "output_type": "stream",
          "name": "stdout",
          "text": [
            "[153] is armstrong number.\n",
            "[370] is armstrong number.\n",
            "[371] is armstrong number.\n",
            "[407] is armstrong number.\n"
          ]
        }
      ],
      "source": [
        "def is_armstrongNumber(N):\n",
        "    strNum = str(N)\n",
        "    sumNum = 0\n",
        "    for n in strNum:\n",
        "        sumNum += int(n)**3\n",
        "    return N == sumNum\n",
        "\n",
        "for i in range(100,1000):\n",
        "    if is_armstrongNumber(i):\n",
        "        print(f\"[{i}] is armstrong number.\")\n"
      ]
    },
    {
      "cell_type": "code",
      "source": [
        "def is_armstrongNumber(n):\n",
        "    _1, _2, _3 = int(str(n)[0]), int(str(n)[1]), int(str(n)[2])\n",
        "    if _1**3+_2**3+_3**3 == n:\n",
        "        return True\n",
        "    else:\n",
        "        return False\n",
        "\n",
        "for n in range(100, 1000):\n",
        "    if is_armstrongNumber(n):\n",
        "        print(f\"[{n}] is armstrong number\")"
      ],
      "metadata": {
        "id": "eH-DnPnGVi6W"
      },
      "execution_count": null,
      "outputs": []
    },
    {
      "cell_type": "code",
      "source": [
        "def is_arm(N):\n",
        "  n_10 = N % 100\n",
        "  n_1 = n_10 % 10\n",
        "\n",
        "  return True if (N // 100) **3 + (n_10 // 10) **3 + n_1 ** 3 == N else False\n",
        "\n",
        "for i in range(100, 1000):\n",
        "  if is_arm(i):\n",
        "    print(f\"{i}은 암스트롱수 입니다.)"
      ],
      "metadata": {
        "id": "YjOF0VLOWpct"
      },
      "execution_count": null,
      "outputs": []
    },
    {
      "cell_type": "code",
      "source": [
        "def is_armstrongNumber(n):\n",
        "    _1, _2, _3 = int(str(n)[0]), int(str(n)[1]), int(str(n)[2])\n",
        "    if _1**3+_2**3+_3**3 == n:\n",
        "        return True\n",
        "    else:\n",
        "        return False\n",
        "\n",
        "for n in range(100, 1000):\n",
        "    if is_armstrongNumber(n):\n",
        "        print(f\"[{n}] is armstrong number\")"
      ],
      "metadata": {
        "id": "3AjrxUIUkv8z"
      },
      "execution_count": null,
      "outputs": []
    },
    {
      "cell_type": "markdown",
      "source": [
        "###[실습문제] 커피 자동머신 프로그램(함수사용)"
      ],
      "metadata": {
        "id": "MyE28MzeYAnX"
      }
    },
    {
      "cell_type": "code",
      "source": [
        "def coffeemachin(coffee1, coffee2, coffee3):\n",
        "    total = 2500*coffee1 + 3000*coffee2 + 3000*coffee3\n",
        "    print(f\"지불하실 총 금액은 {total:,}원 입니다.\")\n",
        "\n",
        "    while True:\n",
        "        print('------------------------')\n",
        "        money = int(input('돈을 넣어 주세요: '))\n",
        "        change = money - total   # 거스름돈\n",
        "        if change < 0:\n",
        "            print(f\"돈이 부족합니다. {abs(change):,}원을 더 넣어주세요.\")\n",
        "            total = total - money\n",
        "        else:\n",
        "            print(f\"거스름돈은 {change:,}입니다. 커피 맛있게 드세요~\")\n",
        "            break\n",
        "\n",
        "\n",
        "menu = '''[커피 주문 머신 메뉴]\n",
        "-----------------------------\n",
        "- 아메리카노: 2500원\n",
        "- 카페라테:   3000원\n",
        "- 카페모카:   3000원\n",
        "-----------------------------\n",
        "원하시는 커피종류와 잔수를 입력하세요.'''\n",
        "print(menu)\n",
        "coffee1 = int(input('아메리카노 몇잔: '))\n",
        "coffee2 = int(input('카페라테   몇잔: '))\n",
        "coffee3 = int(input('카페모카   몇잔: '))\n",
        "\n",
        "coffeemachine(coffee1, coffee2, coffee3)"
      ],
      "metadata": {
        "id": "ZoEtjtNLXQbZ"
      },
      "execution_count": null,
      "outputs": []
    },
    {
      "cell_type": "code",
      "source": [
        "def coffeemachin(coffee1, coffee2, coffee3):\n",
        "    menu = '''[커피 주문 머신 메뉴]\n",
        "    -----------------------------\n",
        "    - 아메리카노: 2500원\n",
        "    - 카페라테:   3000원\n",
        "    - 카페모카:   3000원\n",
        "    -----------------------------\n",
        "    원하시는 커피종류와 잔수를 입력하세요.'''\n",
        "    print(menu)\n",
        "    coffee1 = int(input('아메리카노 몇잔: '))\n",
        "    coffee2 = int(input('카페라테   몇잔: '))\n",
        "    coffee3 = int(input('카페모카   몇잔: '))\n",
        "    total = 2500*coffee1 + 3000*coffee2 + 3000*coffee3\n",
        "    print(f\"지불하실 총 금액은 {total:,}원 입니다.\")\n",
        "\n",
        "    while True:\n",
        "        print('------------------------')\n",
        "        money = int(input('돈을 넣어 주세요: '))\n",
        "        change = money - total   # 거스름돈\n",
        "        if change < 0:\n",
        "            print(f\"돈이 부족합니다. {abs(change):,}원을 더 넣어주세요.\")\n",
        "            total = total - money\n",
        "        else:\n",
        "            print(f\"거스름돈은 {change:,}입니다. 커피 맛있게 드세요~\")\n",
        "            break\n",
        "\n",
        "\n",
        "coffeemachine()"
      ],
      "metadata": {
        "id": "A2WHLHgDXyfQ"
      },
      "execution_count": null,
      "outputs": []
    },
    {
      "cell_type": "markdown",
      "source": [
        "###[실습문제] 호텔관리 시스템 (함수사용)"
      ],
      "metadata": {
        "id": "mwk-yd1CYzr0"
      }
    },
    {
      "cell_type": "code",
      "source": [
        "print('호텔관리 시스템입니다.')\n",
        "menu = '''\n",
        "1. 체크인\n",
        "2. 체크아웃\n",
        "3. 입실현황\n",
        "0. 종료'''\n",
        "number = int(input('호텔 방의 개수는(입력): '))\n",
        "hotel = [0 for _ in range(number)]\n",
        "print(f\"방 현황: {hotel} (0:빈방, 1:입실중)\")\n",
        "\n",
        "def check_in():\n",
        "    num = int(input(f'체크-in하실 방 호수(1~{len(hotel)}): '))\n",
        "    if hotel[num-1]:   # 이미 입실 중일 때\n",
        "        print(f\"{num}번 방은 이미 입실 중입니다.\")\n",
        "    else:\n",
        "        hotel[num-1] = 1\n",
        "\n",
        "def check_out():\n",
        "    num = int(input(f'체크-out하실 방 호수(1~{len(hotel)}): '))\n",
        "    if hotel[num-1]: # 체크아웃 처리\n",
        "        hotel[num-1] = 0    # 빈 방 상태로 만듦\n",
        "    else:\n",
        "        print(f'{hotel[num]}번 방은 빈 방입니다. 빈 방은 체크-out하실 수 없습니다.')\n",
        "\n",
        "def room_status():\n",
        "    for idx, room in enumerate(hotel): #[0, 0, 0]\n",
        "        if room == 0:\n",
        "            print(f\"{idx+1}호: 빈방\")\n",
        "        elif room == 1:\n",
        "            print(f\"{idx+1}호: 입실중\")\n",
        "\n",
        "while True:\n",
        "    print('-------------------')\n",
        "    print(menu)\n",
        "    select = input('-->메뉴 선택: ')\n",
        "    if select == '0':\n",
        "        break\n",
        "    elif select == '1': # 체크인\n",
        "        check_in()\n",
        "        continue\n",
        "    elif select == '2': # 체크아웃\n",
        "        check_out()\n",
        "    elif select == '3': # 현황보기\n",
        "        room_status()\n",
        "\n",
        "print('-------------------')\n",
        "print('프로그램 종료!')"
      ],
      "metadata": {
        "colab": {
          "base_uri": "https://localhost:8080/"
        },
        "id": "i7Cq2-93YK7L",
        "outputId": "bcf08f87-6824-41f5-dd84-56a5f3d1ad14"
      },
      "execution_count": 6,
      "outputs": [
        {
          "output_type": "stream",
          "name": "stdout",
          "text": [
            "호텔관리 시스템입니다.\n",
            "호텔 방의 개수는(입력): 3\n",
            "방 현황: [0, 0, 0] (0:빈방, 1:입실중)\n",
            "-------------------\n",
            "\n",
            "1. 체크인\n",
            "2. 체크아웃\n",
            "3. 입실현황\n",
            "0. 종료\n",
            "-->메뉴 선택: 1\n",
            "체크-in하실 방 호수(1~3): 1\n",
            "-------------------\n",
            "\n",
            "1. 체크인\n",
            "2. 체크아웃\n",
            "3. 입실현황\n",
            "0. 종료\n",
            "-->메뉴 선택: 2\n",
            "체크-out하실 방 호수(1~3): 1\n",
            "-------------------\n",
            "\n",
            "1. 체크인\n",
            "2. 체크아웃\n",
            "3. 입실현황\n",
            "0. 종료\n",
            "-->메뉴 선택: 3\n",
            "1호: 빈방\n",
            "2호: 빈방\n",
            "3호: 빈방\n",
            "-------------------\n",
            "\n",
            "1. 체크인\n",
            "2. 체크아웃\n",
            "3. 입실현황\n",
            "0. 종료\n",
            "-->메뉴 선택: 2\n",
            "체크-out하실 방 호수(1~3): 1\n",
            "0번 방은 빈 방입니다. 빈 방은 체크-out하실 수 없습니다.\n",
            "-------------------\n",
            "\n",
            "1. 체크인\n",
            "2. 체크아웃\n",
            "3. 입실현황\n",
            "0. 종료\n",
            "-->메뉴 선택: 0\n",
            "-------------------\n",
            "프로그램 종료!\n"
          ]
        }
      ]
    },
    {
      "cell_type": "markdown",
      "source": [
        "###[실습문제] lamda & map() 사용하기\n"
      ],
      "metadata": {
        "id": "vll9cLxIdu6q"
      }
    },
    {
      "cell_type": "code",
      "source": [
        "# 리스트에서 3의 배수만 문자열로 변환하는 프로그램을 lambda와 map을\n",
        "# 이용하여 만들어 보세요.\n",
        "\n",
        "mylist = [1, 2, 3, 4, 5, 6, 7, 8, 9, 10]\n",
        "func = lambda x : str(x) if x%3 == 0 else x\n",
        "mylist = list(map(func, mylist))\n",
        "mylist"
      ],
      "metadata": {
        "colab": {
          "base_uri": "https://localhost:8080/"
        },
        "id": "e0ZRqK6ddzCi",
        "outputId": "79ae570c-fdcf-4cf6-d528-fac3e6cc05a6"
      },
      "execution_count": 10,
      "outputs": [
        {
          "output_type": "execute_result",
          "data": {
            "text/plain": [
              "[1, 2, '3', 4, 5, '6', 7, 8, '9', 10]"
            ]
          },
          "metadata": {},
          "execution_count": 10
        }
      ]
    },
    {
      "cell_type": "code",
      "source": [
        "mylist = [1, 2, 3, 4, 5, 6, 7, 8, 9, 10]\n",
        "mylist = list(map(lambda x : str(x) if x%3 == 0 else x, mylist))\n",
        "mylist"
      ],
      "metadata": {
        "colab": {
          "base_uri": "https://localhost:8080/"
        },
        "id": "MHhnC6nLfO0f",
        "outputId": "b683f3ea-fccd-4599-8529-2afdd089c538"
      },
      "execution_count": 11,
      "outputs": [
        {
          "output_type": "execute_result",
          "data": {
            "text/plain": [
              "[1, 2, '3', 4, 5, '6', 7, 8, '9', 10]"
            ]
          },
          "metadata": {},
          "execution_count": 11
        }
      ]
    },
    {
      "cell_type": "code",
      "source": [
        "# 2개의 리스트에서 동일한 인덱스의 숫자를 곱한 값을 리스트로 출력하는\n",
        "# 프로그램을 lambda와 map을 이용하여 만들어 보세요.\n",
        "\n",
        "myList1 = [1, 2, 3, 4, 5]\n",
        "myList2 = [2, 4, 6, 8, 10]\n",
        "\n",
        "func = lambda x, y : x*y\n",
        "mylist = list(map(func, myList1, myList2))\n",
        "print(mylist)\n",
        "\n",
        "\n",
        "myList1 = [1, 2, 3, 4, 5]\n",
        "myList2 = [2, 4, 6, 8, 10]\n",
        "myList3 = [-1,-1,-1,-1,-1]\n",
        "\n",
        "func = lambda x, y, z : x*y*z\n",
        "mylist = list(map(func, myList1, myList2, myList3))\n",
        "print(mylist)"
      ],
      "metadata": {
        "colab": {
          "base_uri": "https://localhost:8080/"
        },
        "id": "Yyg35lyLfvIe",
        "outputId": "45046732-9e37-4432-9ac3-99018dde7010"
      },
      "execution_count": 15,
      "outputs": [
        {
          "output_type": "stream",
          "name": "stdout",
          "text": [
            "[2, 8, 18, 32, 50]\n",
            "[-2, -8, -18, -32, -50]\n"
          ]
        }
      ]
    }
  ]
}
