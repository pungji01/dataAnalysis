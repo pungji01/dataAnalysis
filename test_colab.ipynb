{
  "nbformat": 4,
  "nbformat_minor": 0,
  "metadata": {
    "colab": {
      "provenance": [],
      "toc_visible": true,
      "authorship_tag": "ABX9TyNlGJ38yU81e7m4uctc/wZs",
      "include_colab_link": true
    },
    "kernelspec": {
      "name": "python3",
      "display_name": "Python 3"
    },
    "language_info": {
      "name": "python"
    }
  },
  "cells": [
    {
      "cell_type": "markdown",
      "metadata": {
        "id": "view-in-github",
        "colab_type": "text"
      },
      "source": [
        "<a href=\"https://colab.research.google.com/github/pungji01/dataAnalysis/blob/main/test_colab.ipynb\" target=\"_parent\"><img src=\"https://colab.research.google.com/assets/colab-badge.svg\" alt=\"Open In Colab\"/></a>"
      ]
    },
    {
      "cell_type": "markdown",
      "source": [
        "# 제목\n",
        "## 제목\n",
        "### **제목**\n",
        "#### 제목\n",
        "\n",
        "\n",
        "\n",
        "---\n",
        "\n",
        "\n",
        "\n",
        "1.   항목 추가\n",
        "2.   항목 추가\n",
        "\n",
        "\n",
        "\n"
      ],
      "metadata": {
        "id": "MC6nAc3bD6dz"
      }
    },
    {
      "cell_type": "markdown",
      "source": [
        "##1.제목"
      ],
      "metadata": {
        "id": "AansNhzxEipZ"
      }
    },
    {
      "cell_type": "code",
      "source": [
        "print(\"코랩에서 작성하는 코드\")"
      ],
      "metadata": {
        "id": "yKK3zFCOE25s"
      },
      "execution_count": null,
      "outputs": []
    },
    {
      "cell_type": "code",
      "source": [
        "a = 10\n",
        "b = 20\n",
        "print(a + b)\n",
        "print(a - b)\n",
        "print(a * b)\n",
        "print(a / b)\n",
        "print(a % b)"
      ],
      "metadata": {
        "id": "YZQNPUW3FDDr"
      },
      "execution_count": null,
      "outputs": []
    },
    {
      "cell_type": "markdown",
      "source": [
        "##2.파이썬 패키지 확인"
      ],
      "metadata": {
        "id": "qWhIoXsZEe0S"
      }
    },
    {
      "cell_type": "code",
      "execution_count": null,
      "metadata": {
        "id": "rFVIsthdDo6Z"
      },
      "outputs": [],
      "source": [
        "!pip list"
      ]
    }
  ]
}