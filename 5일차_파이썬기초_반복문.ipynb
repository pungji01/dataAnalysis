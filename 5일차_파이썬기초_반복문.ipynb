{
  "nbformat": 4,
  "nbformat_minor": 0,
  "metadata": {
    "colab": {
      "provenance": [],
      "authorship_tag": "ABX9TyM3Ye7AwFg/i2ffAEBusDPK",
      "include_colab_link": true
    },
    "kernelspec": {
      "name": "python3",
      "display_name": "Python 3"
    },
    "language_info": {
      "name": "python"
    }
  },
  "cells": [
    {
      "cell_type": "markdown",
      "metadata": {
        "id": "view-in-github",
        "colab_type": "text"
      },
      "source": [
        "<a href=\"https://colab.research.google.com/github/pungji01/dataAnalysis/blob/main/5%EC%9D%BC%EC%B0%A8_%ED%8C%8C%EC%9D%B4%EC%8D%AC%EA%B8%B0%EC%B4%88_%EB%B0%98%EB%B3%B5%EB%AC%B8.ipynb\" target=\"_parent\"><img src=\"https://colab.research.google.com/assets/colab-badge.svg\" alt=\"Open In Colab\"/></a>"
      ]
    },
    {
      "cell_type": "markdown",
      "source": [
        "#5. 반복문"
      ],
      "metadata": {
        "id": "vHaNbetdm1c0"
      }
    },
    {
      "cell_type": "markdown",
      "source": [
        "##5-1. for 반복문 : 유한반복"
      ],
      "metadata": {
        "id": "QBr12fBloMyY"
      }
    },
    {
      "cell_type": "markdown",
      "source": [
        "###1. 다양한 반복문"
      ],
      "metadata": {
        "id": "fo4tn3DWnP6u"
      }
    },
    {
      "cell_type": "code",
      "execution_count": null,
      "metadata": {
        "colab": {
          "base_uri": "https://localhost:8080/"
        },
        "id": "8avTTQcfkY2l",
        "outputId": "ebaf7ea6-93ca-4453-a4db-cad1b73357be"
      },
      "outputs": [
        {
          "output_type": "stream",
          "name": "stdout",
          "text": [
            "0\n",
            "1\n",
            "2\n"
          ]
        }
      ],
      "source": [
        "# 1. range() 함수 이용 : 정수를 차례로 발생시키는 함수\n",
        "for 변수 in range(3):       # in range(0,3,1)와 같다\n",
        "    print(변수)"
      ]
    },
    {
      "cell_type": "code",
      "source": [
        "# 2. 리스트 이용\n",
        "a = list(range(10,0,-1))\n",
        "print(a)\n",
        "\n",
        "a = list(range(1,11))\n",
        "print(a)\n",
        "for i in a:\n",
        "    print(i)\n",
        "\n",
        "for i in a:\n",
        "    print(i, end=',')\n"
      ],
      "metadata": {
        "colab": {
          "base_uri": "https://localhost:8080/"
        },
        "id": "KaisCVN4oSNb",
        "outputId": "767511d7-794d-4dee-b12e-8a3b52b54168"
      },
      "execution_count": null,
      "outputs": [
        {
          "output_type": "stream",
          "name": "stdout",
          "text": [
            "[10, 9, 8, 7, 6, 5, 4, 3, 2, 1]\n",
            "[1, 2, 3, 4, 5, 6, 7, 8, 9, 10]\n",
            "1\n",
            "2\n",
            "3\n",
            "4\n",
            "5\n",
            "6\n",
            "7\n",
            "8\n",
            "9\n",
            "10\n",
            "1,2,3,4,5,6,7,8,9,10,"
          ]
        }
      ]
    },
    {
      "cell_type": "code",
      "source": [
        "# 한 줄로 표현하는 방법\n",
        "for i in range(1,101):\n",
        "    print(i, end=',')\n",
        "    if i%10 == 0:\n",
        "        print('\\n')"
      ],
      "metadata": {
        "colab": {
          "base_uri": "https://localhost:8080/"
        },
        "id": "FH514ISepgYB",
        "outputId": "3ecca364-5d03-41d3-83c7-14b199a47f58"
      },
      "execution_count": null,
      "outputs": [
        {
          "output_type": "stream",
          "name": "stdout",
          "text": [
            "1,2,3,4,5,6,7,8,9,10,\n",
            "\n",
            "11,12,13,14,15,16,17,18,19,20,\n",
            "\n",
            "21,22,23,24,25,26,27,28,29,30,\n",
            "\n",
            "31,32,33,34,35,36,37,38,39,40,\n",
            "\n",
            "41,42,43,44,45,46,47,48,49,50,\n",
            "\n",
            "51,52,53,54,55,56,57,58,59,60,\n",
            "\n",
            "61,62,63,64,65,66,67,68,69,70,\n",
            "\n",
            "71,72,73,74,75,76,77,78,79,80,\n",
            "\n",
            "81,82,83,84,85,86,87,88,89,90,\n",
            "\n",
            "91,92,93,94,95,96,97,98,99,100,\n",
            "\n"
          ]
        }
      ]
    },
    {
      "cell_type": "code",
      "source": [
        "# 3. 문자열 이용\n",
        "for i in 'python':\n",
        "    print(i)"
      ],
      "metadata": {
        "colab": {
          "base_uri": "https://localhost:8080/"
        },
        "id": "m7t8MZb7qGww",
        "outputId": "84da149f-401c-425e-c3a8-3b624f22f271"
      },
      "execution_count": null,
      "outputs": [
        {
          "output_type": "stream",
          "name": "stdout",
          "text": [
            "p\n",
            "y\n",
            "t\n",
            "h\n",
            "o\n",
            "n\n"
          ]
        }
      ]
    },
    {
      "cell_type": "code",
      "source": [
        "# 4. 변수 사용안하고 반복만 할 때\n",
        "for _ in range(3):\n",
        "    print('변수 사용 안할 때는 _ (언더바)를 사용!')"
      ],
      "metadata": {
        "colab": {
          "base_uri": "https://localhost:8080/"
        },
        "id": "vQIjlnHjqW1y",
        "outputId": "8b5d151a-e55b-42c9-fbdd-69844c74682c"
      },
      "execution_count": null,
      "outputs": [
        {
          "output_type": "stream",
          "name": "stdout",
          "text": [
            "변수 사용 안할 때는 _ (언더바)를 사용!\n",
            "변수 사용 안할 때는 _ (언더바)를 사용!\n",
            "변수 사용 안할 때는 _ (언더바)를 사용!\n"
          ]
        }
      ]
    },
    {
      "cell_type": "code",
      "source": [
        "# 5. enumerate() : 리스트와 같은 순서가 있는 자료형의 인덱스를 함께 사용\n",
        "fruits = ['사과','포도','딸기','키위']\n",
        "\n",
        "idx = 0\n",
        "for fruit in fruits:\n",
        "    print(idx, fruit)\n",
        "    idx += 1\n",
        "\n",
        "for idx, fruit in enumerate(fruits):\n",
        "    print(idx, fruit)"
      ],
      "metadata": {
        "colab": {
          "base_uri": "https://localhost:8080/"
        },
        "id": "j69ffLonqoVk",
        "outputId": "193d6df6-489e-4fce-e31b-94a584e4da78"
      },
      "execution_count": null,
      "outputs": [
        {
          "output_type": "stream",
          "name": "stdout",
          "text": [
            "0 사과\n",
            "1 포도\n",
            "2 딸기\n",
            "3 키위\n",
            "0 사과\n",
            "1 포도\n",
            "2 딸기\n",
            "3 키위\n"
          ]
        }
      ]
    },
    {
      "cell_type": "code",
      "source": [
        "# 6. 컬렉션 자료형 이용\n",
        "\n",
        "# 리스트\n",
        "for a, b in [(1,2),(3,4),(5,6)]:\n",
        "    print(a,b)\n",
        "print('-'*30)\n",
        "\n",
        "# 딕셔너리\n",
        "dic = {1:'사과', 2:'포도'}\n",
        "for key in dic:\n",
        "    print(key, dic[key])\n",
        "print('-'*30)\n",
        "\n",
        "for key, value in dic.items():\n",
        "    print(key, value)\n",
        "\n",
        "# 집합\n",
        "print('-'*30)\n",
        "for v in {1,2,3,3,4,5,3}:\n",
        "    print(v)\n"
      ],
      "metadata": {
        "colab": {
          "base_uri": "https://localhost:8080/"
        },
        "id": "eW4HUOW1sU00",
        "outputId": "4a0c764d-2c78-4bd7-ea1e-87eba249e2d6"
      },
      "execution_count": null,
      "outputs": [
        {
          "output_type": "stream",
          "name": "stdout",
          "text": [
            "1 2\n",
            "3 4\n",
            "5 6\n",
            "------------------------------\n",
            "1 사과\n",
            "2 포도\n",
            "------------------------------\n",
            "1 사과\n",
            "2 포도\n",
            "------------------------------\n",
            "1\n",
            "2\n",
            "3\n",
            "4\n",
            "5\n"
          ]
        }
      ]
    },
    {
      "cell_type": "markdown",
      "source": [
        "###[실습문제] 1~N 까지 짝수 제외한 합계 구하기"
      ],
      "metadata": {
        "id": "x07hAyJ7uO4i"
      }
    },
    {
      "cell_type": "code",
      "source": [
        "n = int(input('합계를 구할 숫자 입력: '))\n",
        "hap = 0\n",
        "for i in range(1, n+1):\n",
        "    if i%2 != 0:\n",
        "        hap += i\n",
        "print(f\"1~{n}까지 짝수를 제외한 합은 : {hap}\")"
      ],
      "metadata": {
        "colab": {
          "base_uri": "https://localhost:8080/"
        },
        "id": "EvY8KU_YuYLw",
        "outputId": "e95aae47-0db6-42e6-e599-c6dea32e8d6e"
      },
      "execution_count": null,
      "outputs": [
        {
          "output_type": "stream",
          "name": "stdout",
          "text": [
            "합계를 구할 숫자 입력: 100\n",
            "1~100까지 짝수를 제외한 합은 : 2500\n"
          ]
        }
      ]
    },
    {
      "cell_type": "code",
      "source": [
        "# 리스트 표현식(list comprehension) 사용\n",
        "n = int(input('합계를 구할 숫자 입력: '))\n",
        "hap = 0\n",
        "for i in range(1, n+1, 2):\n",
        "        hap += i\n",
        "print(f\"1~{n}까지 짝수를 제외한 합은 : {hap}\")"
      ],
      "metadata": {
        "colab": {
          "base_uri": "https://localhost:8080/"
        },
        "id": "-urlWfFZwGKJ",
        "outputId": "8bd03dcf-3ca8-44ea-d86b-97f05947a90a"
      },
      "execution_count": null,
      "outputs": [
        {
          "output_type": "stream",
          "name": "stdout",
          "text": [
            "합계를 구할 숫자 입력: 100\n",
            "1~100까지 짝수를 제외한 합은 : 2500\n"
          ]
        }
      ]
    },
    {
      "cell_type": "code",
      "source": [
        " # sum()함수 사용\n",
        "n = int(input('합계를 구할 숫자 입력: '))\n",
        "hap = sum( [i for i in range(1, n+1, 2)] )\n",
        "print(f\"1~{n}까지 짝수를 제외한 합은 : {hap}\")"
      ],
      "metadata": {
        "colab": {
          "base_uri": "https://localhost:8080/"
        },
        "id": "CvMmVgiDwPXF",
        "outputId": "6f9af67b-af7a-4c68-9e4a-19c3c21cdca1"
      },
      "execution_count": null,
      "outputs": [
        {
          "output_type": "stream",
          "name": "stdout",
          "text": [
            "합계를 구할 숫자 입력: 100\n",
            "1~100까지 짝수를 제외한 합은 : 2500\n"
          ]
        }
      ]
    },
    {
      "cell_type": "markdown",
      "source": [
        "###[실습문제] 정오각형 그리기\n",
        "- turtle 모듈을 코랩에서 사용할 수 없음\n",
        "- pc에서 사용하기"
      ],
      "metadata": {
        "id": "ecuOBqT71us9"
      }
    },
    {
      "cell_type": "code",
      "source": [
        "import turtle\n",
        "\n",
        "t1= turtle.Pen()\n",
        "t2= turtle.Pen()\n",
        "\n",
        "t1.pensize(5)\n",
        "t1.color('blue')\n",
        "t1.shape('turtle')\n",
        "\n",
        "t2.goto(-100,100)\n",
        "t2.pensize(5)\n",
        "t2.color('red')\n",
        "t2.shape('turtle')\n",
        "\n",
        "for _ in range(5):\n",
        "    t1.forward(100)\n",
        "    t1.right(72)\n",
        "\n",
        "for _ in range(4):\n",
        "    t2.forward(100)\n",
        "    t2.right(90)\n",
        "\n",
        "turtle.exitonclick()\n"
      ],
      "metadata": {
        "id": "nj0vXFQM116k"
      },
      "execution_count": null,
      "outputs": []
    },
    {
      "cell_type": "markdown",
      "source": [
        "###[실습문제] for문을 이용해 1부터 100까지 숫자를 한 줄로 출력"
      ],
      "metadata": {
        "id": "gqDE6LNP8FSR"
      }
    },
    {
      "cell_type": "code",
      "source": [
        "for i in range(1,101):\n",
        "    print(i, end=' ')"
      ],
      "metadata": {
        "id": "lJhzGt0g8Kqt"
      },
      "execution_count": null,
      "outputs": []
    },
    {
      "cell_type": "code",
      "source": [
        "# join() : 문자열을 연결해 주는 함수, 숫자인 경우 str() 함수 이용해서 형변형 해줘야 함\n",
        "print( ' '.join( [str(i) for i in range(1,101)] ) )"
      ],
      "metadata": {
        "colab": {
          "base_uri": "https://localhost:8080/"
        },
        "id": "Ud3UPvoX8sDP",
        "outputId": "563e51a4-0da0-415b-e6b3-e449aec4400d"
      },
      "execution_count": null,
      "outputs": [
        {
          "output_type": "stream",
          "name": "stdout",
          "text": [
            "1 2 3 4 5 6 7 8 9 10 11 12 13 14 15 16 17 18 19 20 21 22 23 24 25 26 27 28 29 30 31 32 33 34 35 36 37 38 39 40 41 42 43 44 45 46 47 48 49 50 51 52 53 54 55 56 57 58 59 60 61 62 63 64 65 66 67 68 69 70 71 72 73 74 75 76 77 78 79 80 81 82 83 84 85 86 87 88 89 90 91 92 93 94 95 96 97 98 99 100\n"
          ]
        }
      ]
    },
    {
      "cell_type": "markdown",
      "source": [
        "###[실습문제]\n",
        "총 5명의 학생 성적이 아래와 같을 때 점수가 60점을 넘으면 합격이고 그렇지\n",
        "않으면 불합격이다. 5명에 대하여 각각 합격인지 불합격인지 반복문을 이용하\n",
        "여 결과를 출력해 주세요.\n",
        "\n",
        "scores = [90, 25, 67, 45, 80]\n"
      ],
      "metadata": {
        "id": "M73QFkzr9WZh"
      }
    },
    {
      "cell_type": "code",
      "source": [
        "import random\n",
        "\n",
        "# 방법1 : 직접 지정\n",
        "# scores = [90, 25, 67, 45, 80]\n",
        "\n",
        "# 방법2 : 빈 리스트 만들어서 숫자 리스트에 추가\n",
        "#scores = []\n",
        "#for _ in range(5):\n",
        "#    scores.append(random.randint(1,101))\n",
        "\n",
        "# 방법3 : 방법2를 list comprehension을 이용하여 한 줄로 표현\n",
        "scores = [ random.randint(1,101) for _ in range(5)]\n",
        "\n",
        "print(scores)\n",
        "for idx, score in enumerate(scores):\n",
        "    # if score >= 60:\n",
        "    #     print(f'{idx+1}번 학생 {score}점 : 합격입니다.')\n",
        "    # else:\n",
        "    #     print(f'{idx+1}번 학생 {score}점 : 불합격입니다.')\n",
        "\n",
        "        result = '합격' if score >= 60 else '불합격'\n",
        "        print(f'{idx+1}번 학생 {score}점 : {result}입니다.')"
      ],
      "metadata": {
        "colab": {
          "base_uri": "https://localhost:8080/"
        },
        "id": "mqBOV_zW9egI",
        "outputId": "03940903-61c3-41b3-eeac-8bab12085537"
      },
      "execution_count": null,
      "outputs": [
        {
          "output_type": "stream",
          "name": "stdout",
          "text": [
            "[72, 95, 10, 61, 57]\n",
            "1번 학생 72점 : 합격입니다.\n",
            "2번 학생 95점 : 합격입니다.\n",
            "3번 학생 10점 : 불합격입니다.\n",
            "4번 학생 61점 : 합격입니다.\n",
            "5번 학생 57점 : 불합격입니다.\n"
          ]
        }
      ]
    },
    {
      "cell_type": "markdown",
      "source": [
        "###[실습문제] 괄호의 짝꿍이 올바른지 판단하여 결과를 True/False로 출력\n"
      ],
      "metadata": {
        "id": "mC8xNU35CuyI"
      }
    },
    {
      "cell_type": "code",
      "source": [
        "'''예)\n",
        ")))()()((( => False\n",
        "()()()()()) => False\n",
        "()(())()() => True\n",
        "))(())(( => False\n",
        "()(()))( => False\n",
        "((())()) => True\n",
        " 6개 테스트를 모두\n",
        "통과해야 함'''\n",
        "\n",
        "p_list = list(input('판별할 괄호는 : '))\n",
        "print(p_list)\n",
        "\n",
        "t = 0\n",
        "for p in p_list:\n",
        "    if p == '(':\n",
        "        t += 1\n",
        "    elif p == ')':\n",
        "        t -= 1\n",
        "    if t < 0:\n",
        "        break\n",
        "if t == 0:\n",
        "    print('결과 : True')\n",
        "else:\n",
        "    print('결과 : False')\n"
      ],
      "metadata": {
        "colab": {
          "base_uri": "https://localhost:8080/"
        },
        "id": "y-ZIQwQsEGYB",
        "outputId": "ccbb8f71-5e02-43b8-ff39-d1eee9a98d25"
      },
      "execution_count": null,
      "outputs": [
        {
          "output_type": "stream",
          "name": "stdout",
          "text": [
            "판별할 괄호는 : ()()())\n",
            "['(', ')', '(', ')', '(', ')', ')']\n",
            "결과 : False\n"
          ]
        }
      ]
    },
    {
      "cell_type": "markdown",
      "source": [
        "##중첩 for 반복문: 반복문 안에 반복문"
      ],
      "metadata": {
        "id": "vfOj5VZyG-RP"
      }
    },
    {
      "cell_type": "code",
      "source": [
        "for i in range(3):\n",
        "    print(f\"{i}-------\")\n",
        "    for j in range(3):\n",
        "        print(f\"i:{i}, j:{j}\")"
      ],
      "metadata": {
        "colab": {
          "base_uri": "https://localhost:8080/"
        },
        "id": "MlpSZXBJHE3Y",
        "outputId": "128781e5-02f3-4168-ac35-1be68d022736"
      },
      "execution_count": null,
      "outputs": [
        {
          "output_type": "stream",
          "name": "stdout",
          "text": [
            "0-------\n",
            "i:0, j:0\n",
            "i:0, j:1\n",
            "i:0, j:2\n",
            "1-------\n",
            "i:1, j:0\n",
            "i:1, j:1\n",
            "i:1, j:2\n",
            "2-------\n",
            "i:2, j:0\n",
            "i:2, j:1\n",
            "i:2, j:2\n"
          ]
        }
      ]
    },
    {
      "cell_type": "code",
      "source": [
        "p_lists = [')))()()(((','()()()()())','()(())()()',\n",
        "           '))(())((','()(()))(','((())())']\n",
        "\n",
        "for p_list in p_lists:\n",
        "    t = 0\n",
        "    for p in p_list:\n",
        "        if p == '(':\n",
        "            t += 1\n",
        "        elif p == ')':\n",
        "            t -= 1\n",
        "        if t < 0:\n",
        "            break\n",
        "    if t == 0:\n",
        "        print('결과 : True')\n",
        "    else:\n",
        "        print('결과 : False')"
      ],
      "metadata": {
        "colab": {
          "base_uri": "https://localhost:8080/"
        },
        "id": "YjNDtxbRH_R7",
        "outputId": "c305646d-4798-42f8-edbf-c123ff0c68ae"
      },
      "execution_count": null,
      "outputs": [
        {
          "output_type": "stream",
          "name": "stdout",
          "text": [
            "결과 : False\n",
            "결과 : False\n",
            "결과 : True\n",
            "결과 : False\n",
            "결과 : False\n",
            "결과 : True\n"
          ]
        }
      ]
    },
    {
      "cell_type": "markdown",
      "source": [
        "##5-2. while 반복문"
      ],
      "metadata": {
        "id": "axZ97JFARgTf"
      }
    },
    {
      "cell_type": "markdown",
      "source": [
        "### while 반복문 기본형식"
      ],
      "metadata": {
        "id": "ZIOwKt8YRnmq"
      }
    },
    {
      "cell_type": "code",
      "source": [
        "a = 0\n",
        "while a < 5:        # 조건이 참일 동안 반복\n",
        "    print(f\"{a}는 5보다 작군요\")\n",
        "    a += 1\n",
        "print(f\"{a}는 5와 같군요\")"
      ],
      "metadata": {
        "colab": {
          "base_uri": "https://localhost:8080/"
        },
        "id": "3DcDJqDwRj2C",
        "outputId": "0532c1a4-5eca-4898-cedf-8702eefe2d0f"
      },
      "execution_count": null,
      "outputs": [
        {
          "output_type": "stream",
          "name": "stdout",
          "text": [
            "0는 5보다 작군요\n",
            "1는 5보다 작군요\n",
            "2는 5보다 작군요\n",
            "3는 5보다 작군요\n",
            "4는 5보다 작군요\n",
            "5는 5와 같군요\n"
          ]
        }
      ]
    },
    {
      "cell_type": "code",
      "source": [
        "a = 0\n",
        "while True:\n",
        "    if a >= 5:\n",
        "        break\n",
        "    print(f\"{a}는 5보다 작군요\")\n",
        "    a += 1\n",
        "print(f\"{a}는 5와 같군요\")"
      ],
      "metadata": {
        "colab": {
          "base_uri": "https://localhost:8080/"
        },
        "id": "lDSg5RZNSQ2T",
        "outputId": "f3855b6e-6458-4b32-f6bc-4749b1a4b577"
      },
      "execution_count": null,
      "outputs": [
        {
          "output_type": "stream",
          "name": "stdout",
          "text": [
            "0는 5보다 작군요\n",
            "1는 5보다 작군요\n",
            "2는 5보다 작군요\n",
            "3는 5보다 작군요\n",
            "4는 5보다 작군요\n",
            "5는 5와 같군요\n"
          ]
        }
      ]
    },
    {
      "cell_type": "markdown",
      "source": [
        "###[실습문제] \"열 번 찍어 안 넘어가는 나무 없다\"는 속담을 while문으로 만들기"
      ],
      "metadata": {
        "id": "-7rOGWyUS92u"
      }
    },
    {
      "cell_type": "code",
      "source": [
        "treeHit = 0\n",
        "while treeHit<10:\n",
        "    treeHit += 1\n",
        "    print(f\"나무를 {treeHit}번 찍었습니다.\")\n",
        "print('나무 넘어갑니다.')"
      ],
      "metadata": {
        "colab": {
          "base_uri": "https://localhost:8080/"
        },
        "id": "Z9RQDK7dTFIA",
        "outputId": "5f54efbc-ff6b-46c4-dae0-d41e50202608"
      },
      "execution_count": null,
      "outputs": [
        {
          "output_type": "stream",
          "name": "stdout",
          "text": [
            "나무를 1번 찍었습니다.\n",
            "나무를 2번 찍었습니다.\n",
            "나무를 3번 찍었습니다.\n",
            "나무를 4번 찍었습니다.\n",
            "나무를 5번 찍었습니다.\n",
            "나무를 6번 찍었습니다.\n",
            "나무를 7번 찍었습니다.\n",
            "나무를 8번 찍었습니다.\n",
            "나무를 9번 찍었습니다.\n",
            "나무를 10번 찍었습니다.\n",
            "나무 넘어갑니다.\n"
          ]
        }
      ]
    },
    {
      "cell_type": "code",
      "source": [
        "treeHit = 0\n",
        "while True:\n",
        "    if treeHit >= 10:\n",
        "        print('나무 넘어갑니다.')\n",
        "        break\n",
        "\n",
        "    treeHit += 1\n",
        "    print(f\"나무를 {treeHit}번 찍었습니다.\")\n"
      ],
      "metadata": {
        "colab": {
          "base_uri": "https://localhost:8080/"
        },
        "id": "rFZ7ib1EUPFS",
        "outputId": "3e759954-3555-49a1-e72c-aeff15432fa0"
      },
      "execution_count": null,
      "outputs": [
        {
          "output_type": "stream",
          "name": "stdout",
          "text": [
            "나무를 1번 찍었습니다.\n",
            "나무를 2번 찍었습니다.\n",
            "나무를 3번 찍었습니다.\n",
            "나무를 4번 찍었습니다.\n",
            "나무를 5번 찍었습니다.\n",
            "나무를 6번 찍었습니다.\n",
            "나무를 7번 찍었습니다.\n",
            "나무를 8번 찍었습니다.\n",
            "나무를 9번 찍었습니다.\n",
            "나무를 10번 찍었습니다.\n",
            "나무 넘어갑니다.\n"
          ]
        }
      ]
    }
  ]
}