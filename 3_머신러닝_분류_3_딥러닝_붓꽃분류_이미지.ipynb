{
  "cells": [
    {
      "cell_type": "markdown",
      "metadata": {
        "id": "view-in-github",
        "colab_type": "text"
      },
      "source": [
        "<a href=\"https://colab.research.google.com/github/pungji01/dataAnalysis/blob/main/3_%EB%A8%B8%EC%8B%A0%EB%9F%AC%EB%8B%9D_%EB%B6%84%EB%A5%98_3_%EB%94%A5%EB%9F%AC%EB%8B%9D_%EB%B6%93%EA%BD%83%EB%B6%84%EB%A5%98_%EC%9D%B4%EB%AF%B8%EC%A7%80.ipynb\" target=\"_parent\"><img src=\"https://colab.research.google.com/assets/colab-badge.svg\" alt=\"Open In Colab\"/></a>"
      ]
    },
    {
      "cell_type": "markdown",
      "id": "b4fdebfe",
      "metadata": {
        "papermill": {
          "duration": 0.008201,
          "end_time": "2023-04-01T13:40:33.530526",
          "exception": false,
          "start_time": "2023-04-01T13:40:33.522325",
          "status": "completed"
        },
        "tags": [],
        "id": "b4fdebfe"
      },
      "source": [
        "# 텐서플로우를 이용한 붓꽃 이미지 분류"
      ]
    },
    {
      "cell_type": "markdown",
      "source": [
        "### [주의!] 런타임 유형 변경 --> T4 GPU 선택\n"
      ],
      "metadata": {
        "id": "AUkiVPDs0Bbt"
      },
      "id": "AUkiVPDs0Bbt"
    },
    {
      "cell_type": "markdown",
      "source": [
        "### 코랩 하드웨어(Processor) 사양 확인"
      ],
      "metadata": {
        "id": "C9GF1quVwIvx"
      },
      "id": "C9GF1quVwIvx"
    },
    {
      "cell_type": "code",
      "source": [
        "# CPU 정보\n",
        "!cat /proc/cpuinfo"
      ],
      "metadata": {
        "id": "HsM0LMPdwQSz",
        "colab": {
          "base_uri": "https://localhost:8080/"
        },
        "outputId": "c874766b-f649-4c17-ed8e-3a39efb81323"
      },
      "id": "HsM0LMPdwQSz",
      "execution_count": 1,
      "outputs": [
        {
          "output_type": "stream",
          "name": "stdout",
          "text": [
            "processor\t: 0\n",
            "vendor_id\t: GenuineIntel\n",
            "cpu family\t: 6\n",
            "model\t\t: 79\n",
            "model name\t: Intel(R) Xeon(R) CPU @ 2.20GHz\n",
            "stepping\t: 0\n",
            "microcode\t: 0xffffffff\n",
            "cpu MHz\t\t: 2199.998\n",
            "cache size\t: 56320 KB\n",
            "physical id\t: 0\n",
            "siblings\t: 2\n",
            "core id\t\t: 0\n",
            "cpu cores\t: 1\n",
            "apicid\t\t: 0\n",
            "initial apicid\t: 0\n",
            "fpu\t\t: yes\n",
            "fpu_exception\t: yes\n",
            "cpuid level\t: 13\n",
            "wp\t\t: yes\n",
            "flags\t\t: fpu vme de pse tsc msr pae mce cx8 apic sep mtrr pge mca cmov pat pse36 clflush mmx fxsr sse sse2 ss ht syscall nx pdpe1gb rdtscp lm constant_tsc rep_good nopl xtopology nonstop_tsc cpuid tsc_known_freq pni pclmulqdq ssse3 fma cx16 pcid sse4_1 sse4_2 x2apic movbe popcnt aes xsave avx f16c rdrand hypervisor lahf_lm abm 3dnowprefetch invpcid_single ssbd ibrs ibpb stibp fsgsbase tsc_adjust bmi1 hle avx2 smep bmi2 erms invpcid rtm rdseed adx smap xsaveopt arat md_clear arch_capabilities\n",
            "bugs\t\t: cpu_meltdown spectre_v1 spectre_v2 spec_store_bypass l1tf mds swapgs taa mmio_stale_data retbleed\n",
            "bogomips\t: 4399.99\n",
            "clflush size\t: 64\n",
            "cache_alignment\t: 64\n",
            "address sizes\t: 46 bits physical, 48 bits virtual\n",
            "power management:\n",
            "\n",
            "processor\t: 1\n",
            "vendor_id\t: GenuineIntel\n",
            "cpu family\t: 6\n",
            "model\t\t: 79\n",
            "model name\t: Intel(R) Xeon(R) CPU @ 2.20GHz\n",
            "stepping\t: 0\n",
            "microcode\t: 0xffffffff\n",
            "cpu MHz\t\t: 2199.998\n",
            "cache size\t: 56320 KB\n",
            "physical id\t: 0\n",
            "siblings\t: 2\n",
            "core id\t\t: 0\n",
            "cpu cores\t: 1\n",
            "apicid\t\t: 1\n",
            "initial apicid\t: 1\n",
            "fpu\t\t: yes\n",
            "fpu_exception\t: yes\n",
            "cpuid level\t: 13\n",
            "wp\t\t: yes\n",
            "flags\t\t: fpu vme de pse tsc msr pae mce cx8 apic sep mtrr pge mca cmov pat pse36 clflush mmx fxsr sse sse2 ss ht syscall nx pdpe1gb rdtscp lm constant_tsc rep_good nopl xtopology nonstop_tsc cpuid tsc_known_freq pni pclmulqdq ssse3 fma cx16 pcid sse4_1 sse4_2 x2apic movbe popcnt aes xsave avx f16c rdrand hypervisor lahf_lm abm 3dnowprefetch invpcid_single ssbd ibrs ibpb stibp fsgsbase tsc_adjust bmi1 hle avx2 smep bmi2 erms invpcid rtm rdseed adx smap xsaveopt arat md_clear arch_capabilities\n",
            "bugs\t\t: cpu_meltdown spectre_v1 spectre_v2 spec_store_bypass l1tf mds swapgs taa mmio_stale_data retbleed\n",
            "bogomips\t: 4399.99\n",
            "clflush size\t: 64\n",
            "cache_alignment\t: 64\n",
            "address sizes\t: 46 bits physical, 48 bits virtual\n",
            "power management:\n",
            "\n"
          ]
        }
      ]
    },
    {
      "cell_type": "code",
      "source": [
        "# GPU 정보\n",
        "!nvidia-smi"
      ],
      "metadata": {
        "colab": {
          "base_uri": "https://localhost:8080/"
        },
        "id": "XgoMYqDewe5Z",
        "outputId": "ace26ed6-ce94-4500-d4f8-f74761a288d4"
      },
      "id": "XgoMYqDewe5Z",
      "execution_count": null,
      "outputs": [
        {
          "output_type": "stream",
          "name": "stdout",
          "text": [
            "Thu Feb  1 13:01:16 2024       \n",
            "+---------------------------------------------------------------------------------------+\n",
            "| NVIDIA-SMI 535.104.05             Driver Version: 535.104.05   CUDA Version: 12.2     |\n",
            "|-----------------------------------------+----------------------+----------------------+\n",
            "| GPU  Name                 Persistence-M | Bus-Id        Disp.A | Volatile Uncorr. ECC |\n",
            "| Fan  Temp   Perf          Pwr:Usage/Cap |         Memory-Usage | GPU-Util  Compute M. |\n",
            "|                                         |                      |               MIG M. |\n",
            "|=========================================+======================+======================|\n",
            "|   0  Tesla T4                       Off | 00000000:00:04.0 Off |                    0 |\n",
            "| N/A   46C    P8               9W /  70W |      0MiB / 15360MiB |      0%      Default |\n",
            "|                                         |                      |                  N/A |\n",
            "+-----------------------------------------+----------------------+----------------------+\n",
            "                                                                                         \n",
            "+---------------------------------------------------------------------------------------+\n",
            "| Processes:                                                                            |\n",
            "|  GPU   GI   CI        PID   Type   Process name                            GPU Memory |\n",
            "|        ID   ID                                                             Usage      |\n",
            "|=======================================================================================|\n",
            "|  No running processes found                                                           |\n",
            "+---------------------------------------------------------------------------------------+\n"
          ]
        }
      ]
    },
    {
      "cell_type": "markdown",
      "source": [
        "## 1.데이터 준비하기\n",
        "- 사전에 구글 드라이브에 \"0_datasets/iris\" 폴더를 만들고\n",
        "- 붓꽃 이미지 데이터 폴더(3개의 폴더에 담긴 이미지들)를 업로드한 상태에서 코드를 실행한다.\n",
        "- 붓꽃 이미지 데이터 폴더 위치 /content/drive/My Drive/0_datasets/iris"
      ],
      "metadata": {
        "id": "Ds98mA_qq6xV"
      },
      "id": "Ds98mA_qq6xV"
    },
    {
      "cell_type": "markdown",
      "id": "c8bf0817",
      "metadata": {
        "papermill": {
          "duration": 0.006493,
          "end_time": "2023-04-01T13:40:33.543942",
          "exception": false,
          "start_time": "2023-04-01T13:40:33.537449",
          "status": "completed"
        },
        "tags": [],
        "id": "c8bf0817"
      },
      "source": [
        "### 라이브러리 가져오기"
      ]
    },
    {
      "cell_type": "code",
      "execution_count": 2,
      "id": "11f236dc",
      "metadata": {
        "execution": {
          "iopub.execute_input": "2023-04-01T13:40:33.558724Z",
          "iopub.status.busy": "2023-04-01T13:40:33.558350Z",
          "iopub.status.idle": "2023-04-01T13:40:35.164523Z",
          "shell.execute_reply": "2023-04-01T13:40:35.163471Z"
        },
        "papermill": {
          "duration": 1.616497,
          "end_time": "2023-04-01T13:40:35.167155",
          "exception": false,
          "start_time": "2023-04-01T13:40:33.550658",
          "status": "completed"
        },
        "tags": [],
        "id": "11f236dc"
      },
      "outputs": [],
      "source": [
        "import numpy as np # linear algebra\n",
        "import pandas as pd # data processing, CSV file I/O (e.g. pd.read_csv)\n",
        "import os\n",
        "import matplotlib.pyplot as plt\n",
        "import seaborn as sns"
      ]
    },
    {
      "cell_type": "markdown",
      "source": [
        "### 붓꽃 이미지 파일 읽어오기\n",
        "- 구글 드라이브를 마운트 하기"
      ],
      "metadata": {
        "id": "yVwqUW7GotPV"
      },
      "id": "yVwqUW7GotPV"
    },
    {
      "cell_type": "code",
      "source": [
        "#구글드라이브 마운트하기\n",
        "from google.colab import drive\n",
        "drive.mount('/content/drive')"
      ],
      "metadata": {
        "colab": {
          "base_uri": "https://localhost:8080/"
        },
        "id": "QtJOkl3wjXRr",
        "outputId": "e9177f5f-bcd5-4cdf-99c8-337254d04de1"
      },
      "id": "QtJOkl3wjXRr",
      "execution_count": 3,
      "outputs": [
        {
          "output_type": "stream",
          "name": "stdout",
          "text": [
            "Mounted at /content/drive\n"
          ]
        }
      ]
    },
    {
      "cell_type": "markdown",
      "source": [
        "- 붓꽃 이미지 위치 폴더로 이동하기"
      ],
      "metadata": {
        "id": "oiGy7R0ypMq6"
      },
      "id": "oiGy7R0ypMq6"
    },
    {
      "cell_type": "code",
      "source": [
        "print(f'현재 디렉토리: {os.getcwd()}')\n",
        "# listdir = os.listdir()\n",
        "# listdir.sort()\n",
        "# listdir\n",
        "target_dir = '/content/drive/My Drive/0_datasets/iris'\n",
        "if os.getcwd() == target_dir:\n",
        "    pass\n",
        "else:\n",
        "    os.chdir(target_dir)\n",
        "    os.listdir()\n",
        "print(f'현재 디렉토리: {os.getcwd()}')"
      ],
      "metadata": {
        "colab": {
          "base_uri": "https://localhost:8080/"
        },
        "id": "ruKVC58HjsyK",
        "outputId": "bfe5ed06-634b-4eb8-e988-49487c8979dc"
      },
      "id": "ruKVC58HjsyK",
      "execution_count": 4,
      "outputs": [
        {
          "output_type": "stream",
          "name": "stdout",
          "text": [
            "현재 디렉토리: /content\n",
            "현재 디렉토리: /content/drive/My Drive/0_datasets/iris\n"
          ]
        }
      ]
    },
    {
      "cell_type": "markdown",
      "id": "b46c9903",
      "metadata": {
        "papermill": {
          "duration": 0.006652,
          "end_time": "2023-04-01T13:40:35.180776",
          "exception": false,
          "start_time": "2023-04-01T13:40:35.174124",
          "status": "completed"
        },
        "tags": [],
        "id": "b46c9903"
      },
      "source": [
        "- 붓꽃 이미지 파일 읽어오기"
      ]
    },
    {
      "cell_type": "code",
      "execution_count": 5,
      "id": "97d42757",
      "metadata": {
        "execution": {
          "iopub.execute_input": "2023-04-01T13:40:35.196000Z",
          "iopub.status.busy": "2023-04-01T13:40:35.195085Z",
          "iopub.status.idle": "2023-04-01T13:40:35.273189Z",
          "shell.execute_reply": "2023-04-01T13:40:35.272154Z"
        },
        "papermill": {
          "duration": 0.092678,
          "end_time": "2023-04-01T13:40:35.280167",
          "exception": false,
          "start_time": "2023-04-01T13:40:35.187489",
          "status": "completed"
        },
        "tags": [],
        "colab": {
          "base_uri": "https://localhost:8080/"
        },
        "id": "97d42757",
        "outputId": "64589078-1c70-4308-fc14-10e4fa939ffd"
      },
      "outputs": [
        {
          "output_type": "stream",
          "name": "stdout",
          "text": [
            "/content/drive/My Drive/0_datasets/iris/iris-versicolour/iris-f9e9cd4ee8537479728e1a68426e6eabbfacd35df6ca469994a223fcb3be6aff.jpg\n",
            "/content/drive/My Drive/0_datasets/iris/iris-versicolour/iris-801b7efb867255e85137bc1e1b06fd6cbab70d20cab5b5046733392ecb5b3150.jpg\n",
            "/content/drive/My Drive/0_datasets/iris/iris-versicolour/iris-8eca79db5bcd4aea7a7b70b6b82785bcf940681674bbb6548f8be79d48227a6e.jpg\n",
            "/content/drive/My Drive/0_datasets/iris/iris-versicolour/iris-4824f6f1215d7b890d283060a4540a8696b3da8571c05a097b327500ae8e2b51.jpg\n",
            "/content/drive/My Drive/0_datasets/iris/iris-versicolour/iris-51ecc9944d7c6fbc5db922fe368813e211cd5183b7aff9a77c2c3f4b2866c207.jpg\n",
            "/content/drive/My Drive/0_datasets/iris/iris-versicolour/iris-7d1d6e862a0d44adcd539a0713bee334852e8543110142c1330328d5f80f9576.jpg\n",
            "/content/drive/My Drive/0_datasets/iris/iris-versicolour/iris-b33a614aa3b675289eb50bb2b7cd9c0fc54a5c42ace86ae85d869d041eebd706.jpg\n",
            "/content/drive/My Drive/0_datasets/iris/iris-versicolour/iris-98819ca3d07490b4cb5f75f0a431bf711416a00c22cf60ba49951f2b26440607.jpg\n",
            "/content/drive/My Drive/0_datasets/iris/iris-versicolour/iris-e9da6dd69b7b07f80f6a813e2222eae8c8f7c3aeaa6bcc02b25ea7d763bcf022.jpg\n",
            "/content/drive/My Drive/0_datasets/iris/iris-versicolour/iris-186fe29e32ee1405ddbdd36236dd7691a3c45ba78cc4c0bf11489fa09fbb1b65.jpg\n",
            "/content/drive/My Drive/0_datasets/iris/iris-versicolour/iris-308389e34b6d9a61828b339916aed7af295fdb1c7577c23fb37252937619e7e4.jpg\n",
            "/content/drive/My Drive/0_datasets/iris/iris-versicolour/iris-a0e65269f7dc7801ac1ad8bd0c5aa547a70c7655447e921d1d4d153a9d23815e.jpg\n",
            "/content/drive/My Drive/0_datasets/iris/iris-versicolour/iris-cf1ff1e3a367c227c3e1c55ed4f341f9840d71ec5a4f9b2181a447d1bcedcb3d.jpg\n",
            "/content/drive/My Drive/0_datasets/iris/iris-versicolour/iris-1b86a5a577403f45b3b96f522e5e9c6455b9db4d6ce94ab6d3421349008ebc85.jpg\n",
            "/content/drive/My Drive/0_datasets/iris/iris-versicolour/iris-66a9af69fa34330c048917fd0ffb721b609e43b9689c7380442f9fa2a0094ee1.jpg\n",
            "/content/drive/My Drive/0_datasets/iris/iris-versicolour/iris-e3010dd4f380a8cf1df8d32c57bcf95db2a8a3857cadae8a487454dd07007d08.jpg\n",
            "/content/drive/My Drive/0_datasets/iris/iris-versicolour/iris-14cbed88b0d2a929477bdf1299724f22d782e90f29ce55531f4a3d8608f7d926.jpg\n",
            "/content/drive/My Drive/0_datasets/iris/iris-versicolour/iris-7b1bbc7c8ba25b3167d2b03453f1bfba1c12149a04ad7f4811643d94a9b88090.jpg\n",
            "/content/drive/My Drive/0_datasets/iris/iris-versicolour/iris-dbc87fcecade2c070baaf99caf03f4f0f6e3aa977e34972383cb94d0efe8a95d.jpg\n",
            "/content/drive/My Drive/0_datasets/iris/iris-versicolour/iris-4f9864121aa7049092ae8cfa1296cf4e1217451b1bb967fba6a3f76b6849f31b.jpg\n",
            "/content/drive/My Drive/0_datasets/iris/iris-versicolour/iris-2118d3f235a574afd48a1f345bc2937dad6e7660648516c8029f4e76993ea74d.jpg\n",
            "/content/drive/My Drive/0_datasets/iris/iris-versicolour/iris-821aac6bbdd55eedc447b9d3a98570d8277e07c9d84196bd33c7e2d5138009a0.jpg\n",
            "/content/drive/My Drive/0_datasets/iris/iris-versicolour/iris-86d782d20ef7a60e905e367050b0413ca566acc672bc92add0bb0304faa54cfc.jpg\n",
            "/content/drive/My Drive/0_datasets/iris/iris-versicolour/iris-a8166e731633202c36def003a15cc609f67e8c2298bb933981598a25c7dbd7aa.jpg\n",
            "/content/drive/My Drive/0_datasets/iris/iris-versicolour/iris-c1bb3c3c72e87027b1b7345f130e6d078540e5131dc5715b41994b835539573d.jpg\n",
            "/content/drive/My Drive/0_datasets/iris/iris-versicolour/iris-d35ec2a02f86acab64d8cc23d00eadb9ebb9c3971ff6b3aa717e0b4e8ce54ba9.jpg\n",
            "/content/drive/My Drive/0_datasets/iris/iris-versicolour/iris-cca118aeb345af2344be83aef21ac713ddf38a9e779b01486f19c3155b366865.jpg\n",
            "/content/drive/My Drive/0_datasets/iris/iris-versicolour/iris-28465709a0faa66b9250fc77d8362dabea912a0bc03ecf7b0b86edf689486e8e.jpg\n",
            "/content/drive/My Drive/0_datasets/iris/iris-versicolour/iris-8571a0441418a5fa9d0295b162d29fe96fa8cee47a75c32f3f6c841c5e02fe2d.jpg\n",
            "/content/drive/My Drive/0_datasets/iris/iris-versicolour/iris-fa59477b6d680ff1e96f3d4b25ed0c0ca17430e8d3fe408afef970d4b357aa97.jpg\n",
            "/content/drive/My Drive/0_datasets/iris/iris-versicolour/iris-0d91e950fa91fd2061447a0a6958ed2839f112f85e455a89eeee66462b2d2735.jpg\n",
            "/content/drive/My Drive/0_datasets/iris/iris-versicolour/iris-1a10e0a34dcf08bccc93cb38892c6d4b10bb5afe36d2ba737371716a9ddabbe2.jpg\n",
            "/content/drive/My Drive/0_datasets/iris/iris-versicolour/iris-a2be5db78e5b603a5297d9a7eec4e7f14ef2cba0c9d072dc0a59a4db3ab5bb13.jpg\n",
            "/content/drive/My Drive/0_datasets/iris/iris-versicolour/iris-875a96790adc5672e044cf9da9d2edb397627884dfe91c488ab3fb65f65c80ff.jpg\n",
            "/content/drive/My Drive/0_datasets/iris/iris-versicolour/iris-bc14791d9fed15529bba952cebd584f98b250a536b4a1913357652fef9c1ceb3.jpg\n",
            "/content/drive/My Drive/0_datasets/iris/iris-versicolour/iris-a474f202ee27a78473fb7b9f42d9ca4bf465b684df440bb20258e8644b224886.jpg\n",
            "/content/drive/My Drive/0_datasets/iris/iris-versicolour/iris-e4c769f972daaff8a78034bb7893052b0bfbc8252e9cf94e5e87a81f65912437.jpg\n",
            "/content/drive/My Drive/0_datasets/iris/iris-versicolour/iris-3934349f1fe07d0099a908bb81d7070ac5866a599698668ad35c1086170b9195.jpg\n",
            "/content/drive/My Drive/0_datasets/iris/iris-versicolour/iris-1ebcf1f677f52264e57ad6203b81034886a7427b943516f97d261ff7850b00eb.jpg\n",
            "/content/drive/My Drive/0_datasets/iris/iris-versicolour/iris-30e4e56b1f170ff4863b178a0a43ea7a64fdd06c1f89a775ec4dbf5fec71e15c.jpg\n",
            "/content/drive/My Drive/0_datasets/iris/iris-versicolour/iris-abb14f0fe9921739a260bfea804fd16df0b23620eaf04c27c90524a11d47f37d.jpg\n",
            "/content/drive/My Drive/0_datasets/iris/iris-versicolour/iris-1d35672eb95f5b1cf14c2977eb025c246f83cdacd056115fdc93e946b56b610c.jpg\n",
            "/content/drive/My Drive/0_datasets/iris/iris-versicolour/iris-7f7ecbb0135e6dd866ef698260fc9a1fed9d1af7323704ccbd65ee286a94b380.jpg\n",
            "/content/drive/My Drive/0_datasets/iris/iris-versicolour/iris-6497e8ea1a10a46e67a028e95878079b60838b5871aa43d4158cea544fe4feac.jpg\n",
            "/content/drive/My Drive/0_datasets/iris/iris-versicolour/iris-a968baef5183210e18cb109b89898e5908e66dd0dd7a3184eedf05ec36854d0e.jpg\n",
            "/content/drive/My Drive/0_datasets/iris/iris-versicolour/iris-9dc6c308fd1661fd6a4bb11784dd47fd3c43a195077d593f003a22e1d8d140f6.jpg\n",
            "/content/drive/My Drive/0_datasets/iris/iris-versicolour/iris-e62f076eb279ecbfe3fa873bad40a7cb6b8928b27c55eb94c139aee4be9d632a.jpg\n",
            "/content/drive/My Drive/0_datasets/iris/iris-versicolour/iris-0cd3800b74c2eab7688ecced3a22b29c1120aff3dbda0917c323a752822f16dd.jpg\n",
            "/content/drive/My Drive/0_datasets/iris/iris-versicolour/iris-95d7ec04b8158f0873fa4aab7b0a5ec616553f3f9ddd6623c110e3bc8298248f.jpg\n",
            "/content/drive/My Drive/0_datasets/iris/iris-versicolour/iris-6278d3cc6a9538a0f76c2ceb2ec2f20e4f28377b22892c438fa32a2b8ccbdbbc.jpg\n",
            "/content/drive/My Drive/0_datasets/iris/iris-versicolour/iris-6c89bbfd2071e4255e6ef4cc8f6f97a2bf67494cc916545f64ea310ab751df5c.jpg\n",
            "/content/drive/My Drive/0_datasets/iris/iris-versicolour/iris-f9ed657c72ea27e00dd1a393da3bb82899b2e935054e11f37703db344f39b8e4.jpg\n",
            "/content/drive/My Drive/0_datasets/iris/iris-versicolour/iris-54da9a9c5849583e3021f0d5a2ebc8813e6c7e7c167721a45d8beb3936b3487d.jpg\n",
            "/content/drive/My Drive/0_datasets/iris/iris-versicolour/iris-045ec7d0261b5bc9de83cbfeac2a0875ef3030a708d11339fb0129439de81d57.jpg\n",
            "/content/drive/My Drive/0_datasets/iris/iris-versicolour/iris-3cb0bb9a6170a07c5a887b168300d483e53cd3e7b7593eb5515ad1c1634f7340.jpg\n",
            "/content/drive/My Drive/0_datasets/iris/iris-versicolour/iris-749f5d850c4ab6a1b259472b421cd632098191f98e79af6f4262d4f2af76d4d5.jpg\n",
            "/content/drive/My Drive/0_datasets/iris/iris-versicolour/iris-01cdd55ca6402713465841abddcce79a2e906e12edf95afb77c16bde4b4907dc.jpg\n",
            "/content/drive/My Drive/0_datasets/iris/iris-versicolour/iris-a2841876689975813e597aa029330b10f718c98b699dfb2ef6192234a8fc17ad.jpg\n",
            "/content/drive/My Drive/0_datasets/iris/iris-versicolour/iris-0337d20a3b7273aa0ddaa7d6afb57a37a759b060e4401871db3cefaa6adc068d.jpg\n",
            "/content/drive/My Drive/0_datasets/iris/iris-versicolour/iris-7dcc69fa294fe04767706c6f455ea6b31d33db647b08aab44b3cd9022e2f2249.jpg\n",
            "/content/drive/My Drive/0_datasets/iris/iris-versicolour/iris-c3809bd509736f48955a165d54d5e9ef72809d869a083a59bccf9e2662056b19.jpg\n",
            "/content/drive/My Drive/0_datasets/iris/iris-versicolour/iris-5c55f8207918b5d27084f0b86641cbb885990a4ab27259168f8d4c398c08e892.jpg\n",
            "/content/drive/My Drive/0_datasets/iris/iris-versicolour/iris-21a1255e058722de1abe928e5bbe1c77bda31824c406c53f19530a3ca40be218.jpg\n",
            "/content/drive/My Drive/0_datasets/iris/iris-versicolour/iris-c6f9dd2a036999fc4a2ce6cbbe4ba8aacf4f6c3ec84e7ff17aa8fd9257c38dac.jpg\n",
            "/content/drive/My Drive/0_datasets/iris/iris-versicolour/iris-318d451a8c95551aecfde6b55520f302966db0a26a84770427300780b35aa05a.jpg\n",
            "/content/drive/My Drive/0_datasets/iris/iris-versicolour/iris-f88cf944ae97b92292eaeee58483259709e0914ff55ba9980f432961fc12c265.jpg\n",
            "/content/drive/My Drive/0_datasets/iris/iris-versicolour/iris-52a09a48187289d6dd5bd620db6d83a8d2d67dc7b8b8e4451469dc018d4d85e7.jpg\n",
            "/content/drive/My Drive/0_datasets/iris/iris-versicolour/iris-2a09038b87009ecee5e5b4cd4cef068653809cc1e08984f193fad00f1c0df972.jpg\n",
            "/content/drive/My Drive/0_datasets/iris/iris-versicolour/iris-6c9f07ed65cfe0162541320c5bb1b6c4e479683884c0aae9d82d464527a0a387.jpg\n",
            "/content/drive/My Drive/0_datasets/iris/iris-versicolour/iris-f7bc31af859b410a2e508c0c59f92acb31de19a89fa3d12aece125b341a278c4.jpg\n",
            "/content/drive/My Drive/0_datasets/iris/iris-versicolour/iris-92c4268516ace906ad1ac44592016e36d47a8c72a51cacca8597ba9e18a8278b.jpg\n",
            "/content/drive/My Drive/0_datasets/iris/iris-versicolour/iris-80ff80f84131cc702751cf6b8a7ca2e054b9e6c85aa0ba126b4cfef895e32cc5.jpg\n",
            "/content/drive/My Drive/0_datasets/iris/iris-versicolour/iris-86d81f8cbf8d438c64a6af85dadeae85defaefccfd16e7275a479479e947488d.jpg\n",
            "/content/drive/My Drive/0_datasets/iris/iris-versicolour/iris-59c76616a70079cef529f7e651b6a8588d7ab36e6f743b57685753225313d520.jpg\n",
            "/content/drive/My Drive/0_datasets/iris/iris-versicolour/iris-ddb685c56cfb9c8496bcba0d57710e1526fff7d499536b3942d0ab375fa1c4a6.jpg\n",
            "/content/drive/My Drive/0_datasets/iris/iris-versicolour/iris-e8d3fd862aae1c005bcc80a73fd34b9e683634933563e7538b520f26fd315478.jpg\n",
            "/content/drive/My Drive/0_datasets/iris/iris-versicolour/iris-46a9cd5d83f2ddc68375c55e46b3ace8a2404f7691becb4a5467b3c43bb0ee20.jpg\n",
            "/content/drive/My Drive/0_datasets/iris/iris-versicolour/iris-c9343a9d6aaa78e848209572ee67cfadc907b9689585224e9fd68e9444b58d1c.jpg\n",
            "/content/drive/My Drive/0_datasets/iris/iris-versicolour/iris-ea578f650069a67e5e660bb22b46c23e0a182cbfb59cdf5448cf20ce858131b6.jpg\n",
            "/content/drive/My Drive/0_datasets/iris/iris-versicolour/iris-360196ba36654c0d9070f95265a8a90bc224311eb34d1ab0cf851d8407d7c28e.jpg\n",
            "/content/drive/My Drive/0_datasets/iris/iris-versicolour/iris-ef705492ec4fdac4f1ce6f325f7268e993d4806677dbb4353b2cad6f1b3c0de2.jpg\n",
            "/content/drive/My Drive/0_datasets/iris/iris-versicolour/iris-009322547cb81cbb4dbc63c298304a2df8ea617191651d4cbd50b7a5bbba8a6a.jpg\n",
            "/content/drive/My Drive/0_datasets/iris/iris-versicolour/iris-8a1f03764c9fe97f3f0698a74f0b9dc1edbc7e303d5fdaa151b64303744cd81a.jpg\n",
            "/content/drive/My Drive/0_datasets/iris/iris-versicolour/iris-d065d91699a91b8512973eec41b08255282fbfabe80b43aac7f837da2c8c0739.jpg\n",
            "/content/drive/My Drive/0_datasets/iris/iris-versicolour/iris-589fa96b9a3c2654cf08d05d3bebf4ab7bc23592d7d5a95218f9ff87612992fa.jpg\n",
            "/content/drive/My Drive/0_datasets/iris/iris-versicolour/iris-21b2ccc2a23b9f878abd0817939fe4b198e2e43fa687233c62b0d67a51ee5592.jpg\n",
            "/content/drive/My Drive/0_datasets/iris/iris-versicolour/iris-99b3475edfb7641cef49e8ea754d8f32b1ca97cd0438037a1b0e775edcb3a3a3.jpg\n",
            "/content/drive/My Drive/0_datasets/iris/iris-versicolour/iris-05baeb3abc875aa3cd4b90ff5bf9e9a7457f496bde32786cdfb5ea25ff1ef74c.jpg\n",
            "/content/drive/My Drive/0_datasets/iris/iris-versicolour/iris-9d6f5203168069178d6c6aa65e3d3ccd8e6281c586c3b43d60d5f2d89dd8e288.jpg\n",
            "/content/drive/My Drive/0_datasets/iris/iris-versicolour/iris-b005c82b844de575f0b972b9a1797b2b1fbe98c067c484a51006afc4f549ada4.jpg\n",
            "/content/drive/My Drive/0_datasets/iris/iris-versicolour/iris-ab5ab3b25ab1fadca58724d80398694055ccf6a750eea18f8e0b16eb8c6b0ef8.jpg\n",
            "/content/drive/My Drive/0_datasets/iris/iris-versicolour/iris-e616f535e59b742234c4eb85d815088704c5876878a4914863f16ec3f18f21c3.jpg\n",
            "/content/drive/My Drive/0_datasets/iris/iris-versicolour/iris-3d10993b31cc464179cb527e85bff876d5e8561b88fc9a71ec44c80a5b0ee896.jpg\n",
            "/content/drive/My Drive/0_datasets/iris/iris-versicolour/iris-d45748637a4cb2bf240812a06b4b42e08883c533537e90a9ba642eab1d313017.jpg\n",
            "/content/drive/My Drive/0_datasets/iris/iris-versicolour/iris-96306e6ca502202631733cfc50a09fb7f392b9c072d1ed9709c024e56aef0caa.jpg\n",
            "/content/drive/My Drive/0_datasets/iris/iris-versicolour/iris-246d2ace4494c396b7b26f2c51416c0801e53c43e61fb0f82c50d44ab7d733a1.jpg\n",
            "/content/drive/My Drive/0_datasets/iris/iris-versicolour/iris-1fdb6535b53d8ffcef1104d7387f7df237748041a274d932a58b866923baf142.jpg\n",
            "/content/drive/My Drive/0_datasets/iris/iris-versicolour/iris-fc4b0cc65387ff78471659d14a78f0309a76f4c3ec641b871e40b40424255097.jpg\n",
            "/content/drive/My Drive/0_datasets/iris/iris-versicolour/iris-61b71f1de04a03ce719094b65179b06e3cd80afa01622b30cda8c3e41de6bfaa.jpg\n",
            "/content/drive/My Drive/0_datasets/iris/iris-versicolour/iris-775e054591059ea2aadba4e2e690a2396407396129cb280a8f206e523f7f3d5b.jpg\n",
            "/content/drive/My Drive/0_datasets/iris/iris-versicolour/iris-ea2370478730ac0822bedf21787ed1c5cf6fedd4c946259d291dd789e7d60fa6.jpg\n",
            "/content/drive/My Drive/0_datasets/iris/iris-versicolour/iris-4bc0bc7527b6a155cc92c98a29463dcebf8aa6a44a4fa46c7da63b75c69e868c.jpg\n",
            "/content/drive/My Drive/0_datasets/iris/iris-versicolour/iris-eb3242367930a8e8a8aad00c70961bb493cedfbcf6ce0fb5c0357d1080dbfc27.jpg\n",
            "/content/drive/My Drive/0_datasets/iris/iris-versicolour/iris-67c8cd324b42fd2b26a8dca1faca6b288c192805370a6bdf5abb77b8adb2297d.jpg\n",
            "/content/drive/My Drive/0_datasets/iris/iris-versicolour/iris-aa39999c27149a81e651367bd702b7c81b8858f29f3aa861a824520f22fbbf25.jpg\n",
            "/content/drive/My Drive/0_datasets/iris/iris-versicolour/iris-9d56a1e7df2f2a2f25263116a4e6d98b3295d03ed26a3004dda87d99b9e5b85a.jpg\n",
            "/content/drive/My Drive/0_datasets/iris/iris-versicolour/iris-ed13fddaf9a11b97ab5e482f15e826178260b876db00fba191d47490ab16328f.jpg\n",
            "/content/drive/My Drive/0_datasets/iris/iris-versicolour/iris-874121a450fa8a420bdc79cc7808fd28c5ea98758a4b50337a12a009fa556139.jpg\n",
            "/content/drive/My Drive/0_datasets/iris/iris-versicolour/iris-e0705428c423271bcfd14e8e5473a349ba1664153a647c9a80143c72f447176d.jpg\n",
            "/content/drive/My Drive/0_datasets/iris/iris-versicolour/iris-a62c846687953a4520f7eaeae73d4071bd10b9960d30da9be2dd671e3811546d.jpg\n",
            "/content/drive/My Drive/0_datasets/iris/iris-versicolour/iris-e7e0774289e2153cc733ff62768c40f34ac9b7b42e23c1abc2739f275e71a754.jpg\n",
            "/content/drive/My Drive/0_datasets/iris/iris-versicolour/iris-bb4a7ad4c844987bc9dc9dfad2b363698811efe3615512997a13cd191c23febc.jpg\n",
            "/content/drive/My Drive/0_datasets/iris/iris-versicolour/iris-0415d2f3295db04bebc93249b685f7d7af7873faa911cd270ecd8363bd322ed5.jpg\n",
            "/content/drive/My Drive/0_datasets/iris/iris-versicolour/iris-c917b9fdd2cb8347913cb06d2eafc9329f0ca705d6b4a297f01a102a48a4370c.jpg\n",
            "/content/drive/My Drive/0_datasets/iris/iris-versicolour/iris-b28975838551071a4092fef39977bce17694c292acb77d86a456705e111766cf.jpg\n",
            "/content/drive/My Drive/0_datasets/iris/iris-versicolour/iris-7cf1ebf02b2cc31539ed09ab89530fec6f31144a0d5248a50e7c14f64d24fe6e.jpg\n",
            "/content/drive/My Drive/0_datasets/iris/iris-versicolour/iris-590e7f5b8f4de94e4b82760919abd9684ec909d9f65691bed8e8f850010ac775.jpg\n",
            "/content/drive/My Drive/0_datasets/iris/iris-versicolour/iris-e3ced80a961d727cdc7160d706e3ce4ce50a6d716352863800cb9af7262d3f0d.jpg\n",
            "/content/drive/My Drive/0_datasets/iris/iris-versicolour/iris-e693a82bdd4d81d1ad17f81f90b85ccc236618c671930dc4c592f9691c115ca2.jpg\n",
            "/content/drive/My Drive/0_datasets/iris/iris-versicolour/iris-bcc926299806c7b0a5a2776401973293ab8562f8edea860c3f54f99c62bc25cb.jpg\n",
            "/content/drive/My Drive/0_datasets/iris/iris-versicolour/iris-9ffe51c2abd973d25a299647fa9ccaf6aa9c8eecf37840d7486a061438cf5771.jpg\n",
            "/content/drive/My Drive/0_datasets/iris/iris-versicolour/iris-1051c4b8975b55f269137b9c6268d05248cd7ef23c1573eaf19b4ddbf2c61d88.jpg\n",
            "/content/drive/My Drive/0_datasets/iris/iris-versicolour/iris-4ac91c937476e67518810945ea3c9a3d324d15d7224bcaee26a8f7c435df0ea8.jpg\n",
            "/content/drive/My Drive/0_datasets/iris/iris-versicolour/iris-ad7da5f15e2848ca269f28cd1dc094f6f685de2275ceaebb8e79d2199b98f584.jpg\n",
            "/content/drive/My Drive/0_datasets/iris/iris-versicolour/iris-a03095b12c3a2ae637e0257ec54cb22c769c76b3b3f954497e74b9e88c9f5e3f.jpg\n",
            "/content/drive/My Drive/0_datasets/iris/iris-versicolour/iris-ecd14a5063e73b96ef3d1cb147dfb232921dd00f2aaac889af9b174877d40418.jpg\n",
            "/content/drive/My Drive/0_datasets/iris/iris-versicolour/iris-7c3b5c5518313fc6ff2c27fcbc1527065cbb42004d75d656671601fa485e5838.jpg\n",
            "/content/drive/My Drive/0_datasets/iris/iris-versicolour/iris-0b486eebacd93e114a6ec24264e035684cebe7d2074eb71eb1a71dd70bf61e8f.jpg\n",
            "/content/drive/My Drive/0_datasets/iris/iris-versicolour/iris-c95b4462d659de1d7318d28c646c581c3fab341455fa8318cd98b9b6797f65fb.jpg\n",
            "/content/drive/My Drive/0_datasets/iris/iris-versicolour/iris-1b0b5aabd59e4c6ed1ceb54e57534d76f2f3f97e0a81800ff7ed901c35a424ab.jpg\n",
            "/content/drive/My Drive/0_datasets/iris/iris-versicolour/iris-8fd1577f760bbb0e4c3acb3310f7fe7668f87333caf33adaabb0112a00f698b1.jpg\n",
            "/content/drive/My Drive/0_datasets/iris/iris-versicolour/iris-86c76e0f331bc62192c392cf7c3ea710d2272a8cc9928d2566a5fc4559e5dce4.jpg\n",
            "/content/drive/My Drive/0_datasets/iris/iris-versicolour/iris-850229e6293a741277eb5efaa64d03c812f007c5d0f470992a8d4cfdb902230c.jpg\n",
            "/content/drive/My Drive/0_datasets/iris/iris-versicolour/iris-0f133861ea3fe1b68f9f1b59ebd9116ff963ee7104a0c4200218a33903f82444.jpg\n",
            "/content/drive/My Drive/0_datasets/iris/iris-versicolour/iris-37ad07fd7b39bc377fa6e9cafdb6e0c57fb77df2c264fe631705a8436c0c2513.jpg\n",
            "/content/drive/My Drive/0_datasets/iris/iris-versicolour/iris-b795e034b6ea08d3cd9acaa434c67aca9d17016991e8dd7d6fd19ae8f6120b77.jpg\n",
            "/content/drive/My Drive/0_datasets/iris/iris-versicolour/iris-e779b478fd5ccde1b6337f42e943b08bfb2d9717e5b737ac31369c660c4dd174.jpg\n",
            "/content/drive/My Drive/0_datasets/iris/iris-versicolour/iris-36132c6df6b47bda180b1daaafc7ac8a32fd7f9af83a92569da41429da49ea5b.jpg\n",
            "/content/drive/My Drive/0_datasets/iris/iris-versicolour/iris-bc515e63b5a4af49db8c802c58c83db69075debf28c792990d55a10e881944d9.jpg\n",
            "/content/drive/My Drive/0_datasets/iris/iris-versicolour/iris-4d299344882047e8fcd3eb99775111d8f965820eef7685c1462516f04ac61061.jpg\n",
            "/content/drive/My Drive/0_datasets/iris/iris-versicolour/iris-522f3eb1807d015f99e66e73b19775800712890f2c7f5b777409a451fa47d532.jpg\n",
            "/content/drive/My Drive/0_datasets/iris/iris-versicolour/iris-2599ec087885d23e8ead6d55091a924a5c7e8b09c9a278e0a741cad8951296e1.jpg\n",
            "/content/drive/My Drive/0_datasets/iris/iris-versicolour/iris-f6e4890dee087bd52e2c58ea4c6c2652da81809603ea3af561f11f8c2775c5f3.jpg\n",
            "/content/drive/My Drive/0_datasets/iris/iris-versicolour/iris-486642ca2c3486a275e1c73618079ca0ad1a75dbe38cbaf3e334db9bf7067d51.jpg\n",
            "/content/drive/My Drive/0_datasets/iris/iris-versicolour/iris-0befdbb7d3eeab5d4f851083ca266f4a1f0236c3a70ed2c3b1038571b117893b.jpg\n",
            "/content/drive/My Drive/0_datasets/iris/iris-versicolour/iris-d6292422e07b9a7d802082b56645335f0ed2cf9be043fe1b12c1bc06e8de613f.jpg\n",
            "/content/drive/My Drive/0_datasets/iris/iris-versicolour/iris-bd60a6ed0369df4bea1934ef52277c32757838123456a595c0f2484959553a36.jpg\n",
            "/content/drive/My Drive/0_datasets/iris/iris-versicolour/iris-a9259c79de5109b2e5570b83ff61ba63ed44562857f577fdc875d93e632ca33e.jpg\n",
            "/content/drive/My Drive/0_datasets/iris/iris-versicolour/iris-f44480d01e3b74ff7735af717af8ce30eae87d4c2187041fcd27290ac5f87701.jpg\n",
            "/content/drive/My Drive/0_datasets/iris/iris-versicolour/iris-e02ac5de5aab2f7cf6aa971523f9a31ad8e121078ecb04d3bd12e4afd3de582e.jpg\n",
            "/content/drive/My Drive/0_datasets/iris/iris-versicolour/iris-176df578e9316acbd6ec7a90905fea657bd7c6e545821eea8f740b8a6dd392b2.jpg\n",
            "/content/drive/My Drive/0_datasets/iris/iris-versicolour/iris-bf1073e12b5bfccef97c09ebc4f8e96b92dc6fdcc21fcd214609f9a8e03311d5.jpg\n",
            "/content/drive/My Drive/0_datasets/iris/iris-versicolour/iris-34f58ad4ea387643799fafc98eea76202ac73cd07ed9002254092500452022f6.jpg\n",
            "/content/drive/My Drive/0_datasets/iris/iris-versicolour/iris-ec9d25e8f3a4c9e7f3eeecbeaa5a11c1ed3192224d933c59bd7ca8c3c47a454f.jpg\n",
            "/content/drive/My Drive/0_datasets/iris/iris-versicolour/iris-5a313749aa61e9927389affdf88dccdf21d97d8a5f6aa2bd246ca4bc926903ba.jpg\n",
            "/content/drive/My Drive/0_datasets/iris/iris-versicolour/iris-c175cd02ac392ecead95d17049f5af1dcbe37851c3e42d73e6bb813d588ea70b.jpg\n",
            "/content/drive/My Drive/0_datasets/iris/iris-versicolour/iris-70d39023b41ec95a4290976b2f0cc4e3a536da1191e6b7fa08c7792e188f624f.jpg\n",
            "/content/drive/My Drive/0_datasets/iris/iris-versicolour/iris-1566f7f5421eaf423a82b3c1cd1328f2a685c5ef87d8d8e710f098635d86d3d0.jpg\n",
            "/content/drive/My Drive/0_datasets/iris/iris-versicolour/iris-66eee9ff0bfa521905f733b2a0c6c5acad7b8f1a30d280ed4a17f54fe1822a7e.jpg\n",
            "/content/drive/My Drive/0_datasets/iris/iris-versicolour/iris-b67f5c4d41c363fb6372adba8a450abec6a9b578f8db6aba58a45db497c92840.jpg\n",
            "/content/drive/My Drive/0_datasets/iris/iris-versicolour/iris-ceec54810a1843121dccc9626dce0297d916a922e01718b9e34487b483e05187.jpg\n",
            "/content/drive/My Drive/0_datasets/iris/iris-versicolour/iris-b943cab8255603e9cd5f9f4a4598a6255dd2738fd0929ba4cc9d301d5d2ca5be.jpg\n",
            "/content/drive/My Drive/0_datasets/iris/iris-versicolour/iris-7b86c821e104080a0a6c2de3b9e8f14bd230dc7763172c7648e3fc7340fd5671.jpg\n",
            "/content/drive/My Drive/0_datasets/iris/iris-versicolour/iris-2479944216a4f6f79b1bf438fe6b038331507054847b39e74c9c37270f83fe4a.jpg\n",
            "/content/drive/My Drive/0_datasets/iris/iris-versicolour/iris-ed5b4e072d43bc53a00a4a7f4d0f5d7c0cbd6a006e9c2d463128cedc956cb3de.jpg\n",
            "/content/drive/My Drive/0_datasets/iris/iris-versicolour/iris-1175239c07a943d89a6335fb4b99a9fb5aabb2137c4d96102f10b25260ae523f.jpg\n",
            "/content/drive/My Drive/0_datasets/iris/iris-versicolour/iris-430fa45aad0edfeb5b7138ff208fdeaa801b9830a9eb68f378242465b727289a.jpg\n",
            "/content/drive/My Drive/0_datasets/iris/iris-versicolour/iris-24a2ce5094875567f5171e17020ae5c4892b01b635286d207cabfe25764378cc.jpg\n",
            "/content/drive/My Drive/0_datasets/iris/iris-versicolour/iris-609d02a1f7bc3c63bda118242157d847c61218455984ad9a6cfa5871a0700714.jpg\n",
            "/content/drive/My Drive/0_datasets/iris/iris-versicolour/iris-c3b0db78904670ff57799147f600a7f6d6d45242e8cf99df3607fa730f416552.jpg\n",
            "/content/drive/My Drive/0_datasets/iris/iris-versicolour/iris-dbf1208d76bc3c5447de19b458426ec5955b5948e9d2bc565e1b7712fdb2e7a1.jpg\n",
            "/content/drive/My Drive/0_datasets/iris/iris-versicolour/iris-bd11f6b55f9335000066f804521640af5ef78819d9adac3847b5137bfe8d815e.jpg\n",
            "/content/drive/My Drive/0_datasets/iris/iris-versicolour/iris-15039ee53e2f5cc572a16b73b30cc3b251e77117f457e235469c736bc697927b.jpg\n",
            "/content/drive/My Drive/0_datasets/iris/iris-versicolour/iris-edb3e2e0ccbf7a67ddf80dae96289ab9283ccc1c7c40e29aea93f098eb96ffc3.jpg\n",
            "/content/drive/My Drive/0_datasets/iris/iris-versicolour/iris-0a9fd5cc2af21fc8797b3d6c9a0a1df5d8817168d1e95907c78901a6d86f75f9.jpg\n",
            "/content/drive/My Drive/0_datasets/iris/iris-versicolour/iris-46c3aec2a6ee6c8a5b44b719145b07b73c1f670ee802be26c0ab5514a8136400.jpg\n",
            "/content/drive/My Drive/0_datasets/iris/iris-versicolour/iris-3ba1625bb78e4b69b114bdafcdab64104b211d8ebadca89409e9e7ead6a0557c.jpg\n",
            "/content/drive/My Drive/0_datasets/iris/iris-versicolour/iris-99b358b141c7e4619e9856729e22e4b7fdd4acd9c35f674cebe1167cfca64f17.jpg\n",
            "/content/drive/My Drive/0_datasets/iris/iris-versicolour/iris-4e5d1022cc54b2f726588f724745f2b33017292d1672462c5be7ba8c09f8134f.jpg\n",
            "/content/drive/My Drive/0_datasets/iris/iris-versicolour/iris-2b93cba326d4e9a8ed0e0077f1042e00ec59806b6ba9ad093c8c4f099bfa39e0.jpg\n",
            "/content/drive/My Drive/0_datasets/iris/iris-versicolour/iris-213cd179db580f8e633087dcda0969fd175d18d4f325cb5b4c5f394bbba0c1e0.jpg\n",
            "/content/drive/My Drive/0_datasets/iris/iris-versicolour/iris-4cc15cd54152928861ecbdc8df34895ed463403efb1571dac78e3223b70ef569.jpg\n",
            "/content/drive/My Drive/0_datasets/iris/iris-versicolour/iris-02868b71ddd9b33ab795ac41609ea7b20a6e94f2543fad5d7fa11241d61feacf.jpg\n",
            "/content/drive/My Drive/0_datasets/iris/iris-versicolour/iris-34a7cc16d26ba0883574e7a1c913ad50cf630e56ec08ee1113bf3584f4e40230.jpg\n",
            "/content/drive/My Drive/0_datasets/iris/iris-versicolour/iris-7038aef1137814473a91f19a63ac7a55a709c6497e30efc79ca57cfaa688f705.jpg\n",
            "/content/drive/My Drive/0_datasets/iris/iris-versicolour/iris-5c38dba6f6c27064eb3920a5758e8f86c26fec662cc1ac4b5208d5f30d1e3ead.jpg\n",
            "/content/drive/My Drive/0_datasets/iris/iris-versicolour/iris-492ad2679ecb53c61d07be4ef996e0cf9be4ce960aa9021dc36fe6e334a84f61.jpg\n",
            "/content/drive/My Drive/0_datasets/iris/iris-versicolour/iris-95f1788d21553a470cf83835816d8f6627a1103165e12a9558d69d8287919406.jpg\n",
            "/content/drive/My Drive/0_datasets/iris/iris-versicolour/iris-62ef719cd70780088a4c140afae2a96c6ca9c22b72b078e3b9d25678d00b88a5.jpg\n",
            "/content/drive/My Drive/0_datasets/iris/iris-versicolour/iris-60cf8e41801bc6fbdcff8df046cbbdb50ebc3083f5042e94013f201590bd627a.jpg\n",
            "/content/drive/My Drive/0_datasets/iris/iris-versicolour/iris-0879d3f5b337fe512da1c7bf1d2bfd7616d744d3eef7fa532455a879d5cc4ba0.jpg\n",
            "/content/drive/My Drive/0_datasets/iris/iris-versicolour/iris-56acae7576aeb584a56c211ffe2c418ffa5b1cb55c32ea58252a38c440145b2a.jpg\n",
            "/content/drive/My Drive/0_datasets/iris/iris-versicolour/iris-c156236fb6e888764485e796f1f972bbc7ad960fe6330a7ce9182922046439c4.jpg\n",
            "/content/drive/My Drive/0_datasets/iris/iris-versicolour/iris-b026efb61a9e3876749536afe183d2ace078e5e29615b07ac8792ab55ba90ebc.jpg\n",
            "/content/drive/My Drive/0_datasets/iris/iris-versicolour/iris-6bd33dd9dcaa57993d1a9a2553482460f65aa8d6ee647d58859284a1a63ddec5.jpg\n",
            "/content/drive/My Drive/0_datasets/iris/iris-versicolour/iris-5b3106db389d61f4277f43de4953e660ff858d8ab58a048b3d8bf8d10f556389.jpg\n",
            "/content/drive/My Drive/0_datasets/iris/iris-versicolour/iris-c15d6019ebe17d7446ced589ef5ef7a70474d35a8b072e0edfcec850b0a106db.jpg\n",
            "/content/drive/My Drive/0_datasets/iris/iris-versicolour/iris-2ac575a689662b7045c25e2554df5f985a3c6c0fd5236fabef8de9c78815330c.jpg\n",
            "/content/drive/My Drive/0_datasets/iris/iris-versicolour/iris-336fc3472b6465826f7cd87d5cef8f78d43cf2772ebe058ce71e1c5bad74c0e1.jpg\n",
            "/content/drive/My Drive/0_datasets/iris/iris-versicolour/iris-0fec175448a23db03c1987527f7e9bb74c18cffa76ef003f962c62603b1cbb87.jpg\n",
            "/content/drive/My Drive/0_datasets/iris/iris-versicolour/iris-bd8d83096126eaa10c44d48dbad4b36aeb9f605f1a0f6ca929d3d0d492dafeb6.jpg\n",
            "/content/drive/My Drive/0_datasets/iris/iris-versicolour/iris-377d3a78560b308b00c3cfa9cdb57afefa8ee9f55297b84d1ff09f70cde826bb.jpg\n",
            "/content/drive/My Drive/0_datasets/iris/iris-versicolour/iris-b3c26658e97eacae9686db3115217e6cd41c323e0ac366cfb66b8e297f5c0384.jpg\n",
            "/content/drive/My Drive/0_datasets/iris/iris-versicolour/iris-a3961a84470c01b004941499adab746929dbd2f4ceaa2f21dbb4c634e5865687.jpg\n",
            "/content/drive/My Drive/0_datasets/iris/iris-versicolour/iris-13dfaff08727abea3da8cfd8d097fe1404e76417fefe27ff71900a89954e145a.jpg\n",
            "/content/drive/My Drive/0_datasets/iris/iris-versicolour/iris-ccbfcc68b7e405cee17896e4fe8d23280d3444733abf05431d19800ba0110013.jpg\n",
            "/content/drive/My Drive/0_datasets/iris/iris-versicolour/iris-78368de7538c2913f94a332bff9f467a403809b8c3d7bc900b714d719a75d391.jpg\n",
            "/content/drive/My Drive/0_datasets/iris/iris-versicolour/iris-4febb88ef811b5ca6077d17ef8ae5dbc598d3f869c52af7c14891def774d73fa.jpg\n",
            "/content/drive/My Drive/0_datasets/iris/iris-versicolour/iris-6d7b50671d436253529686b3e43814e4623d7eda6885a1ec0ac44f8900cfb60f.jpg\n",
            "/content/drive/My Drive/0_datasets/iris/iris-versicolour/iris-17ac8f7b5734443090f35bdc531bfe05b0235b5d164afb5c95f9d35f13655cf3.jpg\n",
            "/content/drive/My Drive/0_datasets/iris/iris-versicolour/iris-d4762a194567b6eb2b5bd9ccb0dc3089eb13883cf4691425b4e8a119f504a4ca.jpg\n",
            "/content/drive/My Drive/0_datasets/iris/iris-versicolour/iris-69dc406da3381828ff821703923c962e97f6873cbf44a0074a13dc3c56b5e6e1.jpg\n",
            "/content/drive/My Drive/0_datasets/iris/iris-versicolour/iris-1bb8d2297383d4f062cd27d3eca73b29c11ef827958f0245cf0cfa6c6fb87d8c.jpg\n",
            "/content/drive/My Drive/0_datasets/iris/iris-versicolour/iris-8669e4937a2003054408afd228d99cb737e9db5088f42d292267c43a3889001a.jpg\n",
            "/content/drive/My Drive/0_datasets/iris/iris-versicolour/iris-75a6d269ab65a15a63830922e666aa587202af7b6b547ecdbcbd074a649d912d.jpg\n",
            "/content/drive/My Drive/0_datasets/iris/iris-versicolour/iris-f276ad0c14d5aafc055f73c926d1370af093b0e086caf146e271ef8afdb08c5f.jpg\n",
            "/content/drive/My Drive/0_datasets/iris/iris-versicolour/iris-09d556e9ed7ebba4c80ad14641dd1e87a5f8300e5cab1b139a9b01804a23e0bb.jpg\n",
            "/content/drive/My Drive/0_datasets/iris/iris-versicolour/iris-2ecaad6dfe3d9b84a756bc2303a975a732718b954a6f54eae85f681ea3189b13.jpg\n",
            "/content/drive/My Drive/0_datasets/iris/iris-versicolour/iris-19c232066246383772ea39824b363a7c645d0412941cfc6453822086d88c025f.jpg\n",
            "/content/drive/My Drive/0_datasets/iris/iris-versicolour/iris-4172137322d46e06fee91ec92ef31f7d7e82caf7c931d86af6b4b30c52325e26.jpg\n",
            "/content/drive/My Drive/0_datasets/iris/iris-versicolour/iris-0191be65e3e7ce58d43d600ff66adf0230442f58b33ca96aadf632b7f87292a4.jpg\n",
            "/content/drive/My Drive/0_datasets/iris/iris-versicolour/iris-8644099b4005e79ba37ed32d25bd5f5a7e9cba916c586fb1ae28ded158faba21.jpg\n",
            "/content/drive/My Drive/0_datasets/iris/iris-versicolour/iris-0870294b18d1c77f2b9e6f203e0ab25e8fdc665364be33ff3df503d09933204b.jpg\n",
            "/content/drive/My Drive/0_datasets/iris/iris-versicolour/iris-74d1acf18cfacd0a728c180ec8e1c7b4f43aff72584b05ac6b7c59f5572bd4d4.jpg\n",
            "/content/drive/My Drive/0_datasets/iris/iris-versicolour/iris-5476c5733b631bf4d7670a2d29c33c75670ba6c323eaf41fca5724c72c3efc38.jpg\n",
            "/content/drive/My Drive/0_datasets/iris/iris-versicolour/iris-21f52e3e35fcb8d1f5d7c7e2c76d5eb9529590cdc4062dad6ac5ee99cff16ac7.jpg\n",
            "/content/drive/My Drive/0_datasets/iris/iris-versicolour/iris-bfe099abe7cb86660649fa04b3dd48b7244f894ce1fddbb084a41de98343b843.jpg\n",
            "/content/drive/My Drive/0_datasets/iris/iris-versicolour/iris-32827aec52e0f3fa131fa85f2092fc6fa02b1b80642740b59d029cef920c26b3.jpg\n",
            "/content/drive/My Drive/0_datasets/iris/iris-versicolour/iris-bdae8314e4385d8e2322abd8e63a82758a9063c77514f49fc252e651cbd79f82.jpg\n",
            "/content/drive/My Drive/0_datasets/iris/iris-versicolour/iris-9dededf184993455c411a0ed81d6c3c55af7c610ccb55c6ae34dfac2f8bde978.jpg\n",
            "/content/drive/My Drive/0_datasets/iris/iris-versicolour/iris-53fdf3e91c59c502f1c19c9faa15aa77ba595740db60c2dff943ce5be7c79e4e.jpg\n",
            "/content/drive/My Drive/0_datasets/iris/iris-versicolour/iris-599b16016b353763c8626151a737adc361178eb8856ae55bb70ef69e23798a75.jpg\n",
            "/content/drive/My Drive/0_datasets/iris/iris-versicolour/iris-f3018a9440d17c265062d1c61475127f9952b6fe951d38fd7700402d706c0b01.jpg\n",
            "/content/drive/My Drive/0_datasets/iris/iris-versicolour/iris-8a8bc54332a42bb35ee131d7b64e9375b4ac890632eb09e193835b838172d797.jpg\n",
            "/content/drive/My Drive/0_datasets/iris/iris-versicolour/iris-aa8a55379f3177428a1004716068828fd756ccd4b72694160f8283334605e6e6.jpg\n",
            "/content/drive/My Drive/0_datasets/iris/iris-versicolour/iris-9ee27633bb041ef1b677e03e7a86df708f63f0595512972403dcf5188a3f48f5.jpg\n",
            "/content/drive/My Drive/0_datasets/iris/iris-versicolour/iris-fa775e8825e3e26f6a994d7d7f61e6e5d0ea0dfbba0c4fadfad01a3be142e73b.jpg\n",
            "/content/drive/My Drive/0_datasets/iris/iris-versicolour/iris-5ff84f09773fa84a356a3835a69da5ecadc4831524a90da28740e0ec6f64fa4f.jpg\n",
            "/content/drive/My Drive/0_datasets/iris/iris-versicolour/iris-88cfeee2bb571d9e2906b52fe3a0e8b12ddd116a4a0a0b04e270952785fc5c28.jpg\n",
            "/content/drive/My Drive/0_datasets/iris/iris-versicolour/iris-a14dc602b78c7e1fff399e693cade2fa95c2d38d1a6e4751976bc00f07b8cb69.jpg\n",
            "/content/drive/My Drive/0_datasets/iris/iris-versicolour/iris-867d238d70bd39d3969968a6f5cbb370a4536de20a4f74567e25fb377f421f11.jpg\n",
            "/content/drive/My Drive/0_datasets/iris/iris-versicolour/iris-90b7d491b9a39bb5c8bb7649cce90ab7f483c2759fb55fda2d9067ac9eec7e39.jpg\n",
            "/content/drive/My Drive/0_datasets/iris/iris-versicolour/iris-680b0ba8a41b7e9aeb0cdadc4813b9779145f4e20e775e2eb4d5aed6a04df9e5.jpg\n",
            "/content/drive/My Drive/0_datasets/iris/iris-versicolour/iris-a445b0720254984275097c83afbdb1fe896cb010b5c662a6532ed0601ea24d7c.jpg\n",
            "/content/drive/My Drive/0_datasets/iris/iris-versicolour/iris-6eb15a3dfd42349d0d2f007d040308897102698189688403dc2dd7e0083a2777.jpg\n",
            "/content/drive/My Drive/0_datasets/iris/iris-versicolour/iris-338fc323ed045a908fb1e8ff991255e1b8e01c967e36b054cb65edddf97b3bb0.jpg\n",
            "/content/drive/My Drive/0_datasets/iris/iris-versicolour/iris-b894a11e21bb8fc3bbc33b646669a1be1490cf134e81cb6c015f3d8350abf7a1.jpg\n",
            "/content/drive/My Drive/0_datasets/iris/iris-versicolour/iris-eb01666d4591b2e03abecef5a7ded79c6d4ecb6d1922382c990ad95210d55795.jpg\n",
            "/content/drive/My Drive/0_datasets/iris/iris-versicolour/iris-6caa7d5a1f88a1e5c2dc1f4d2a65b64afcd9cd701e6ba22510d9a93d9ca58110.jpg\n",
            "/content/drive/My Drive/0_datasets/iris/iris-versicolour/iris-ca2c54931b6a4683d2112d4b28ccf050c87ad915564ba7dfba41c4c68a7f01e4.jpg\n",
            "/content/drive/My Drive/0_datasets/iris/iris-versicolour/iris-36f2b9282342292b67f38a55a62b0c66fa4e5bb58587f7fec90d1e93ea8c407a.jpg\n",
            "/content/drive/My Drive/0_datasets/iris/iris-versicolour/iris-ded550505a1088513b84abe5a912f9af817ec586721e949011b7f8eb763231c3.jpg\n",
            "/content/drive/My Drive/0_datasets/iris/iris-versicolour/iris-4e03d9b1de982663bc81f26030b3a935ea9035f64b05e1b804788fee06ff1ba4.jpg\n",
            "/content/drive/My Drive/0_datasets/iris/iris-versicolour/iris-e76fa5406e02a312c102f16eb5d27c7e0de37b35f801e1ed4c28bd4caf133e7a.jpg\n",
            "/content/drive/My Drive/0_datasets/iris/iris-versicolour/iris-432026d8501abcd495bd98937a82213da97fca410af1c46889eabbcf2fd1b589.jpg\n",
            "/content/drive/My Drive/0_datasets/iris/iris-versicolour/iris-8e9439ec7231fa3b9bc9f62a67af4e180466b32a72316600431b1ec93e63b296.jpg\n",
            "/content/drive/My Drive/0_datasets/iris/iris-versicolour/iris-ee17e4bf9b1518b3c1add7494811731fd4989ca454d572adabbe8889bffc7dc0.jpg\n",
            "/content/drive/My Drive/0_datasets/iris/iris-versicolour/iris-cf5babcededb7088a8c809a8547729f3e2af1cf9fca9903fac3ab43dbb6f43a1.jpg\n",
            "/content/drive/My Drive/0_datasets/iris/iris-versicolour/iris-dfed1678d39063da041fd30f80ca8d9770350fbab0590a52792f0d3bcd80e9da.jpg\n",
            "/content/drive/My Drive/0_datasets/iris/iris-versicolour/iris-42214ce9975435213d959ca3dece8239d1ff68d73eefc305b39e3f3570bb2fbf.jpg\n",
            "/content/drive/My Drive/0_datasets/iris/iris-versicolour/iris-a7b71d1b9fa474dd59389652531d36b1d0b0eed4c20968945292208891a87616.jpg\n",
            "/content/drive/My Drive/0_datasets/iris/iris-versicolour/iris-4413379cba179dacfee06f156aa33e52f67727551ca810a2f67ef7c13f583812.jpg\n",
            "/content/drive/My Drive/0_datasets/iris/iris-versicolour/iris-f121f5da73a30a35f542b0eaf644c7aba6cdf94ed26482916923a01f743eb810.jpg\n",
            "/content/drive/My Drive/0_datasets/iris/iris-versicolour/iris-9e6ce91679c9aaceb3e9c930f11e788aacbfa8341a2a5737583c14a4d6666f3d.jpg\n",
            "/content/drive/My Drive/0_datasets/iris/iris-versicolour/iris-125b6645e086cd60131764a6bed12650e0f7f2091c8bbb72555c103196c01881.jpg\n",
            "/content/drive/My Drive/0_datasets/iris/iris-versicolour/iris-df4206653f1ec9909434323c05bb15ded18e72587e335f8905536c34a4be3d45.jpg\n",
            "/content/drive/My Drive/0_datasets/iris/iris-versicolour/iris-a7e13b6f2d7f796768d898f5f66dceefdbd566dd4406eea9f266fc16dd68a6f2.jpg\n",
            "/content/drive/My Drive/0_datasets/iris/iris-versicolour/iris-0e15b746b15cfdeadbf8514a8320c5eaa5dbf882bb15ee810eb98affc33de39e.jpg\n",
            "/content/drive/My Drive/0_datasets/iris/iris-versicolour/iris-77afc65061dcb784e22592a727f2367114d08367e8f222dda6c371371da2f3f6.jpg\n",
            "/content/drive/My Drive/0_datasets/iris/iris-setosa/iris-40d5d5b3aacd405930c5e03689455ec3001e6601daad468e28b3e65126b404ab.jpg\n",
            "/content/drive/My Drive/0_datasets/iris/iris-setosa/iris-e45d869cb9d443b39d59e35c2f47870f5a2a335fce53f0c8a5bc615b9c53c429.jpg\n",
            "/content/drive/My Drive/0_datasets/iris/iris-setosa/iris-1f941001f508ff1bd492457a90da64e52c461bfd64587a3cf7c6bf1bcb35adab.jpg\n",
            "/content/drive/My Drive/0_datasets/iris/iris-setosa/iris-9e3208f4f9fedc9598ddf26f77925a1e8df9d7865a4d6e5b4f74075d558d6a5e.jpg\n",
            "/content/drive/My Drive/0_datasets/iris/iris-setosa/iris-63a8324f33d5eed6bb5a0056f035b88aa27f9b28c23dd2e68fcf46ca7e631d8d.jpg\n",
            "/content/drive/My Drive/0_datasets/iris/iris-setosa/iris-dc68b4e9bfec2480995e39087005812b394e2c504c806c23fe3905d812c08624.jpg\n",
            "/content/drive/My Drive/0_datasets/iris/iris-setosa/iris-debe85f1f2d7760415cd12f128bb7821e0726e306bd22de4fff422b20e2c165b.jpg\n",
            "/content/drive/My Drive/0_datasets/iris/iris-setosa/iris-7e9947110916b594c050f014171bf50d20d9885bc19b62b73b048e9427b97fa5.jpg\n",
            "/content/drive/My Drive/0_datasets/iris/iris-setosa/iris-5638409c7854fc47775db47397a1dd6cdc1c9ec08666412d9733bbc18685af67.jpg\n",
            "/content/drive/My Drive/0_datasets/iris/iris-setosa/iris-7e567d477139f28cbb330a410ae7c8566a497fb6ce2999447ed802ac174340b6.jpg\n",
            "/content/drive/My Drive/0_datasets/iris/iris-setosa/iris-706c80d1f831870cf48714c7859624792bd9b9c1fe9e7e6de9b06db7819798b4.jpg\n",
            "/content/drive/My Drive/0_datasets/iris/iris-setosa/iris-e3d1a560d25cf573d2cbbf2fe6cd231819e998109a5cf1788d59fbb9859b3be2.jpg\n",
            "/content/drive/My Drive/0_datasets/iris/iris-setosa/iris-3d65612a9d86928706ed2170fc1a70fccebde222cb6a8be16ddbac7fc4f24e8c.jpg\n",
            "/content/drive/My Drive/0_datasets/iris/iris-setosa/iris-0ff5ba898a0ec179a25ca217af45374fdd06d606bb85fc29294291facad1776a.jpg\n",
            "/content/drive/My Drive/0_datasets/iris/iris-setosa/iris-2a17ce3d9678b046d5f42db47589f7eacfb916ef051293e35f2dcb1c76741069.jpg\n",
            "/content/drive/My Drive/0_datasets/iris/iris-setosa/iris-793fe85ddd6a97e9c9f184ed20d1d216e48bf85aa71633eff6d27073e0825d54.jpg\n",
            "/content/drive/My Drive/0_datasets/iris/iris-setosa/iris-819130af42335d4bb75bebb0d2ee2e353a89a3d518a1d2ce69842859c5668c5a.jpg\n",
            "/content/drive/My Drive/0_datasets/iris/iris-setosa/iris-a2df1c4f9250c5f9d0acc141f61b65f9e10701da308fbb8b408d50070d2856f6.jpg\n",
            "/content/drive/My Drive/0_datasets/iris/iris-setosa/iris-4b4ae04b89e410fe0c154f460b898909494b6ba7580806fd1f0c1fb1aac21537.jpg\n",
            "/content/drive/My Drive/0_datasets/iris/iris-setosa/iris-2c5b373c2a5fd214092eb578c75eb5dc84334e5f11a02f4fa23d5d316b18f770.jpg\n",
            "/content/drive/My Drive/0_datasets/iris/iris-setosa/iris-1289c57b571e8e98e4feb3e18a890130adc145b971b7e208a6ce5bad945b4a5a.jpg\n",
            "/content/drive/My Drive/0_datasets/iris/iris-setosa/iris-8865cddb5bd6b16f8e64ac2d0417049b6a9362de67f44afa371e127ed215dfba.jpg\n",
            "/content/drive/My Drive/0_datasets/iris/iris-setosa/iris-20f5f654ae5fbcc405b465ce257c187f81eb5fc070531f940be42f1424c3fb44.jpg\n",
            "/content/drive/My Drive/0_datasets/iris/iris-setosa/iris-a6b85bf1f3d18bbb6470440592834c2c7f081b490836392cf5f01636ee7cf658.jpg\n",
            "/content/drive/My Drive/0_datasets/iris/iris-setosa/iris-9fb8d691550315506ae08233406e8f1a4afed411ea0b0ac37e4b9cdb9c42e1ec.jpg\n",
            "/content/drive/My Drive/0_datasets/iris/iris-setosa/iris-70069edd7ab0b829b84bb6d4465b2ca4038e129bb19d0d3f2ba671adc03398cc.jpg\n",
            "/content/drive/My Drive/0_datasets/iris/iris-setosa/iris-29c3861c8962dd41a2b20d6a13299c35e892c0b59487fe3e5bcc513645d860ab.jpg\n",
            "/content/drive/My Drive/0_datasets/iris/iris-setosa/iris-0797945218a97d6e5251b4758a2ba1b418cbd52ce4ef46a3239e4b939bd9807b.jpg\n",
            "/content/drive/My Drive/0_datasets/iris/iris-setosa/iris-ea0c9679108abba869e7a84d20bf01284491124a77f85e076400ea3fff83d673.jpg\n",
            "/content/drive/My Drive/0_datasets/iris/iris-setosa/iris-0c826b6f4648edf507e0cafdab53712bb6fd1f04dab453cee8db774a728dd640.jpg\n",
            "/content/drive/My Drive/0_datasets/iris/iris-setosa/iris-dda1a1e2f89f7611ffdb45b1cece8716f23ca042fc0c590557f4383eb7fa4a88.jpg\n",
            "/content/drive/My Drive/0_datasets/iris/iris-setosa/iris-01ab65973fd487a6cee4c5af1551c42b264eec5abab46bffd7c307ffef647e11.jpg\n",
            "/content/drive/My Drive/0_datasets/iris/iris-setosa/iris-8c216e1acff39be76d6133e1f549d138bf63359fa0da01417e681842210ea262.jpg\n",
            "/content/drive/My Drive/0_datasets/iris/iris-setosa/iris-5b85818d7034982b27efa099528f0ee301dde9af368f7ffab1e606e0db8b7afd.jpg\n",
            "/content/drive/My Drive/0_datasets/iris/iris-setosa/iris-e4f3d38b7d735ccb2e76abece95b317fc592fa2f790852e578b511f311a0fff3.jpg\n",
            "/content/drive/My Drive/0_datasets/iris/iris-setosa/iris-21b2ccc2a23b9f878abd0817939fe4b198e2e43fa687233c62b0d67a51ee5592.jpg\n",
            "/content/drive/My Drive/0_datasets/iris/iris-setosa/iris-cd64ccba86aa7aada7c1d37ebc4eb7100255577c2569e017b5ec321ff44b12d8.jpg\n",
            "/content/drive/My Drive/0_datasets/iris/iris-setosa/iris-5f4e8fffde2404cc30be275999fddeec64f8a711ab73f7fa4eb7667c8475c57b.jpg\n",
            "/content/drive/My Drive/0_datasets/iris/iris-setosa/iris-765579548dc0178b5a87d96f63a57886b85f395a4ae3ee459988d924174225c9.jpg\n",
            "/content/drive/My Drive/0_datasets/iris/iris-setosa/iris-1e80d2d6f3e9cf96c1cb33f3e47f3e5a3f4a6eb26fa3ab479d462e1ac837ba66.jpg\n",
            "/content/drive/My Drive/0_datasets/iris/iris-setosa/iris-6815050b6117cf2e1fd60b1c33bfbb94837b8e173ff869f625757da4a04965c9.jpg\n",
            "/content/drive/My Drive/0_datasets/iris/iris-setosa/iris-dadbf929ef14ff971a4f0c41694b41e2a525d64bccfca225b0d8f48c73e2514a.jpg\n",
            "/content/drive/My Drive/0_datasets/iris/iris-setosa/iris-f31c83878b37242ce9306e3bc59c557786e8d496841cae4a91638efd47d66ad8.jpg\n",
            "/content/drive/My Drive/0_datasets/iris/iris-setosa/iris-9cd498593dc75080241d13dfd4aadcd0860bd91c91a31a21b5dc052faea2c32c.jpg\n",
            "/content/drive/My Drive/0_datasets/iris/iris-setosa/iris-d9aae37a8fa6afdef2af170c266a597925eea935f4d070e979d565713ea62642.jpg\n",
            "/content/drive/My Drive/0_datasets/iris/iris-setosa/iris-fac5f8c23d8c50658db0f4e4a074c2f7771917eb52cbdf6eda50c12889510cf4.jpg\n",
            "/content/drive/My Drive/0_datasets/iris/iris-setosa/iris-2abfd90b157f1bc4170c24cc8c258d776a58926f0efca787961210f60bce76be.jpg\n",
            "/content/drive/My Drive/0_datasets/iris/iris-setosa/iris-7b181d378efb838ebe77df6b8d93ca936b575c2a230606d4b330cbb203e3e32f.jpg\n",
            "/content/drive/My Drive/0_datasets/iris/iris-setosa/iris-a8de5f0de4236c2b836e59718e837b7307c88bdabe456a4f757eef560d3e0fb6.jpg\n",
            "/content/drive/My Drive/0_datasets/iris/iris-setosa/iris-fdd46bc8cdd760707811fe958f12f7a3aa7ccc51609d9ec710c074af0bf9fb42.jpg\n",
            "/content/drive/My Drive/0_datasets/iris/iris-setosa/iris-c50d481f9fa3666c2c3808806c7c2945623f9d9a6a1d93a17133c4cb1560c41c.jpg\n",
            "/content/drive/My Drive/0_datasets/iris/iris-setosa/iris-e437a7c7ad2bbac87fef3666b40c4de1251b9c5f595183eda90a8d9b1ef5b188.jpg\n",
            "/content/drive/My Drive/0_datasets/iris/iris-setosa/iris-bfcf79b3b527eb64b78f9a068a1000042336e532f0f44e68f818dd13ab492a76.jpg\n",
            "/content/drive/My Drive/0_datasets/iris/iris-setosa/iris-9675d304f0ef47c3a07c34becdb800047c2482a58f4a82497168f14839f022e1.jpg\n",
            "/content/drive/My Drive/0_datasets/iris/iris-setosa/iris-e49a8f19ce5b5db6bb9fc41f9f13ec42431ec2673f00aba83645b9fdb7b79cc9.jpg\n",
            "/content/drive/My Drive/0_datasets/iris/iris-setosa/iris-2d99bd179332761c8ac805fbf27141b3fc52ef9fe4f8947f0d61cf303488cb7d.jpg\n",
            "/content/drive/My Drive/0_datasets/iris/iris-setosa/iris-f340f1f09cf8a0f83b28eb8e945317bb2e11502575275bb27ee8163ee28d2799.jpg\n",
            "/content/drive/My Drive/0_datasets/iris/iris-setosa/iris-16f7515e1d6aa6d7dd3af4bca38c8065bfab9d426c5fd75b3c4bc51d737fb9d0.jpg\n",
            "/content/drive/My Drive/0_datasets/iris/iris-setosa/iris-332953f4d6a355ca189e2508164b24360fc69f83304e7384ca2203ddcb7c73b5.jpg\n",
            "/content/drive/My Drive/0_datasets/iris/iris-setosa/iris-5bebf00fe3aff121b5c50cab4ac683a7d0cab2201a896eb4222f348a659aabbf.jpg\n",
            "/content/drive/My Drive/0_datasets/iris/iris-setosa/iris-b281bebf78912e7891bf731da98ff3d97e525fc19f5d5e7c21badf536e257ef6.jpg\n",
            "/content/drive/My Drive/0_datasets/iris/iris-setosa/iris-b23baa5fca9761ca32c2ced0f96d2ff1e298226dc8b5ebb9a4dc0e9248479e53.jpg\n",
            "/content/drive/My Drive/0_datasets/iris/iris-setosa/iris-4d9965e24b023e907ce465c440360a2934cac685c55d8b3779cc1322a549f9f9.jpg\n",
            "/content/drive/My Drive/0_datasets/iris/iris-setosa/iris-911f2ca0ab6dd576afbcd503b12287d3050fa4792c6f687c1275d3e58acd6e7c.jpg\n",
            "/content/drive/My Drive/0_datasets/iris/iris-setosa/iris-8305dd2a080e7fe941ea36f3b3ec0aa1a195ad5d957831cf4088edccea9465e2.jpg\n",
            "/content/drive/My Drive/0_datasets/iris/iris-setosa/iris-75d861d389e8114773cba23a016302bb5d13cc1ff383f331ce87dbe79be86001.jpg\n",
            "/content/drive/My Drive/0_datasets/iris/iris-setosa/iris-83f433381b755101b9fc9fbc9743e35fbb8a1a10911c48f53b11e965a1cbf101.jpg\n",
            "/content/drive/My Drive/0_datasets/iris/iris-virginica/iris-ec288bdad71388f907457db2476f12a5cb43c28cfa28d2a2077398a42b948a35.jpg\n",
            "/content/drive/My Drive/0_datasets/iris/iris-virginica/iris-6e49e60db77a7e4451236167ce997b26d0345e23b578051c79fcbc0689192645.jpg\n",
            "/content/drive/My Drive/0_datasets/iris/iris-virginica/iris-08c7a0e53ee1de193062d7bf86a21adec67b9115fd6099f1b2d2ee728a936002.jpg\n",
            "/content/drive/My Drive/0_datasets/iris/iris-virginica/iris-3eed72bc2511f619190ce79d24a0436fef7fcf424e25523cb849642d14ac7bcf.jpg\n",
            "/content/drive/My Drive/0_datasets/iris/iris-virginica/iris-c45295e76c6289504921412293d5ddbe4610bb6e3b593ea9ec90958e74b73ed2.jpg\n",
            "/content/drive/My Drive/0_datasets/iris/iris-virginica/iris-5da184e8620ebf0feef4d5ffe4346e6c44b2fb60cecc0320bd7726a1844b14cd.jpg\n",
            "/content/drive/My Drive/0_datasets/iris/iris-virginica/iris-753248ef7e9ad66f900360e29b32ed15efccdf0c374b3a2b1cfd90346dc138f0.jpg\n",
            "/content/drive/My Drive/0_datasets/iris/iris-virginica/iris-cf5babcededb7088a8c809a8547729f3e2af1cf9fca9903fac3ab43dbb6f43a1.jpg\n",
            "/content/drive/My Drive/0_datasets/iris/iris-virginica/iris-12adb3a8516399e27ff1a9d20d28dca4674836ed00c7c0ae268afce2c30c4451.jpg\n",
            "/content/drive/My Drive/0_datasets/iris/iris-virginica/iris-deb0300afea7ed2f19c52a5242f88177cfc7459c33c4c8cc583c313fa188d131.jpg\n",
            "/content/drive/My Drive/0_datasets/iris/iris-virginica/iris-e8d3fd862aae1c005bcc80a73fd34b9e683634933563e7538b520f26fd315478.jpg\n",
            "/content/drive/My Drive/0_datasets/iris/iris-virginica/iris-3dec97fe46d33e194520ca70740e4c2e11b0ffbffbd0aec0d06afdc167ddf775.jpg\n",
            "/content/drive/My Drive/0_datasets/iris/iris-virginica/iris-fb69572a59584f51fa6ea545d9ef64ac9e9c5bc59551d06b532ddb1797ce2c63.jpg\n",
            "/content/drive/My Drive/0_datasets/iris/iris-virginica/iris-31fe72f1656b49b2079a9f16636ae4b3d77724ae40738f7fd2cf69f11cd0ea18.jpg\n",
            "/content/drive/My Drive/0_datasets/iris/iris-virginica/iris-db756cf8db2d8da5fd7604d0955e65da8f633d1504fa1ab9e027f4e270bae17a.jpg\n",
            "/content/drive/My Drive/0_datasets/iris/iris-virginica/iris-8a29d0ebde79da38cdd2dc47f19426ed8845249744985f4926cafea11eb9b3eb.jpg\n",
            "/content/drive/My Drive/0_datasets/iris/iris-virginica/iris-bfe099abe7cb86660649fa04b3dd48b7244f894ce1fddbb084a41de98343b843.jpg\n",
            "/content/drive/My Drive/0_datasets/iris/iris-virginica/iris-249370d38cc29bc2a4038e528f9c484c186fe46a126e4b6c76607860679c0453.jpg\n",
            "/content/drive/My Drive/0_datasets/iris/iris-virginica/iris-fe01d69f28dad8e7da6075a13e6eb20284ae8b9b72e58db01904f4cdfd4e8c98.jpg\n",
            "/content/drive/My Drive/0_datasets/iris/iris-virginica/iris-5691cad06fe37f743025c097fa9c4cec85e20ca3b0efff29175e60434e212421.jpg\n",
            "/content/drive/My Drive/0_datasets/iris/iris-virginica/iris-2599ec087885d23e8ead6d55091a924a5c7e8b09c9a278e0a741cad8951296e1.jpg\n",
            "/content/drive/My Drive/0_datasets/iris/iris-virginica/iris-fe6614752d2fac2e7318af6fa3f00842c04334082848da76a189e466ae489d93.jpg\n",
            "/content/drive/My Drive/0_datasets/iris/iris-virginica/iris-4b47f927405d90caa15cbf17b0442390fc71a2ca6fb8d07138e8de17d739e9a4.jpg\n",
            "/content/drive/My Drive/0_datasets/iris/iris-virginica/iris-f7bc31af859b410a2e508c0c59f92acb31de19a89fa3d12aece125b341a278c4.jpg\n",
            "/content/drive/My Drive/0_datasets/iris/iris-virginica/iris-5567fe0e53dd949e2343a9c4d9386c99bbd8fab1adb384a5649a4ae976485e01.jpg\n",
            "/content/drive/My Drive/0_datasets/iris/iris-virginica/iris-3683dca27dff32584f808ae43a6dcd76fb271cb565e0f4ccdc1280c49aad6642.jpg\n",
            "/content/drive/My Drive/0_datasets/iris/iris-virginica/iris-9a889c96a37e8927f20773783a084f31897f075353d34a304c85e53be480e72a.jpg\n",
            "/content/drive/My Drive/0_datasets/iris/iris-virginica/iris-3b19970f2f6807b8a41c3c426d4b0032fba84d025929eb6e6ff01501995fc1c2.jpg\n",
            "/content/drive/My Drive/0_datasets/iris/iris-virginica/iris-6a799ec7c0544366d5c237afeebf9e71f704f8fa96584f0613fd02530f5f3023.jpg\n",
            "/content/drive/My Drive/0_datasets/iris/iris-virginica/iris-b3c086333cb5ccb7bb66a163cf4bf449dc0f28df27d6580a35832f32fd67bfc9.jpg\n",
            "/content/drive/My Drive/0_datasets/iris/iris-virginica/iris-0980b03485ebf621a048bdbc8547414f1244fa900f5dc4c00fbdc059bf232057.jpg\n",
            "/content/drive/My Drive/0_datasets/iris/iris-virginica/iris-697588d7bb5e17040e52746f753a2ecc171a78e3c8180279243d9dc459b88e3e.jpg\n",
            "/content/drive/My Drive/0_datasets/iris/iris-virginica/iris-35f1485663090dcedddce2648fb7486fb0146fe485cdee9ee77924dcc1507dea.jpg\n",
            "/content/drive/My Drive/0_datasets/iris/iris-virginica/iris-63ef6a48db0445db3601ff85b1e9f0efcb73b9d560a64f997c3a8ce663aa6023.jpg\n",
            "/content/drive/My Drive/0_datasets/iris/iris-virginica/iris-5fa040dabb4dc22ebd79a3bb8dd00195041e5878f0ee5099c0c1997901ec891a.jpg\n",
            "/content/drive/My Drive/0_datasets/iris/iris-virginica/iris-a5c2f82647f867e1d23be16be8b83d9b029adf5010d87dcb5ed30460ce1f46db.jpg\n",
            "/content/drive/My Drive/0_datasets/iris/iris-virginica/iris-9a37ae71aca0942cdc2135bca30e4da96f45ad85fa41a57f8d407e6395bec7f8.jpg\n",
            "/content/drive/My Drive/0_datasets/iris/iris-virginica/iris-96f06136df7a415550b90e443771d0b5b0cd990b503b64cc4987f5cb6797fa9b.jpg\n",
            "/content/drive/My Drive/0_datasets/iris/iris-virginica/iris-e0022650ad7be128f517b70d30b0462d2a69bae0202ad53c3cac1c4894f19ef9.jpg\n",
            "/content/drive/My Drive/0_datasets/iris/iris-virginica/iris-909424cba44f59686df080e271953ada99dd7e285d4a4b3b4cc155e4893aedca.jpg\n",
            "/content/drive/My Drive/0_datasets/iris/iris-virginica/iris-c31e6056c94b5cb618436fbaac9eaff73403fa1b87a72db2c363d172a4db1820.jpg\n",
            "/content/drive/My Drive/0_datasets/iris/iris-virginica/iris-4c5d9a33327db025d9c391aeb182cbe20cfab4d4eb4ac951cc5cd15e132145d8.jpg\n",
            "/content/drive/My Drive/0_datasets/iris/iris-virginica/iris-fbcd292ba66d3f3ff2d0aa1f294e6c644106588b6083f526ddfb3097c7ff122a.jpg\n",
            "/content/drive/My Drive/0_datasets/iris/iris-virginica/iris-49a9158e46e788a39eeaefe82b19504d58dde167f540df6bc9492c3916d5f7ca.jpg\n",
            "/content/drive/My Drive/0_datasets/iris/iris-virginica/iris-42efc1ea0da9306b69ddcca00264da0c7ca82128a1855f2a50fdf8a2e83a04a3.jpg\n",
            "/content/drive/My Drive/0_datasets/iris/iris-virginica/iris-a7733a0a125651c8a0e202f100dd722382cab84d5d98b20f44928cf9eab99d79.jpg\n",
            "/content/drive/My Drive/0_datasets/iris/iris-virginica/iris-d99d5fd2de5be1419cbd569570dbb6c9a6c8ec4f0a1ff5b55dc2607f6ecdca8f.jpg\n",
            "/content/drive/My Drive/0_datasets/iris/iris-virginica/iris-f22d4b9605e62db13072246ff6925b9cf0240461f9dfc948d154b983db4243b9.jpg\n",
            "/content/drive/My Drive/0_datasets/iris/iris-virginica/iris-bcc926299806c7b0a5a2776401973293ab8562f8edea860c3f54f99c62bc25cb.jpg\n",
            "/content/drive/My Drive/0_datasets/iris/iris-virginica/iris-11fec7884160b8ce5c24faea946e137f8f38eefef4a1b76de6a72e1b0b279c4b.jpg\n",
            "/content/drive/My Drive/0_datasets/iris/iris-virginica/iris-10fb9f154ead3c56ba0ab2c1ab609521c963f2326a648f82c9d7cabd178fc425.jpg\n",
            "/content/drive/My Drive/0_datasets/iris/iris-virginica/iris-c238b6ec47053761edf13684d3f970df2565016d4f493b9d7559bdb0efabd802.jpg\n",
            "/content/drive/My Drive/0_datasets/iris/iris-virginica/iris-e779b478fd5ccde1b6337f42e943b08bfb2d9717e5b737ac31369c660c4dd174.jpg\n",
            "/content/drive/My Drive/0_datasets/iris/iris-virginica/iris-f61433c22fa629345932977e82cefc2368fd1dbd93e6040ea5f237409c4238c8.jpg\n",
            "/content/drive/My Drive/0_datasets/iris/iris-virginica/iris-9ce2d8c4f1eae5911fcbd2883137ba5542c87cc2fe85b0a3fbec2c45293c903e.jpg\n",
            "/content/drive/My Drive/0_datasets/iris/iris-virginica/iris-ac8fcb8564c99d102c195cb2550de6304b9f0d428a9e9a2bbf9bd527ca4b2bf1.jpg\n",
            "/content/drive/My Drive/0_datasets/iris/iris-virginica/iris-53a33a278d1a81d6420e002fd2fe809fe6593a1bdebe94efcfc51b4528663281.jpg\n",
            "/content/drive/My Drive/0_datasets/iris/iris-virginica/iris-61b71f1de04a03ce719094b65179b06e3cd80afa01622b30cda8c3e41de6bfaa.jpg\n",
            "/content/drive/My Drive/0_datasets/iris/iris-virginica/iris-24cb956e50b7ea4ab5e25eb5450298d37b7b0c49d204279dfdbf9c90c376ddf4.jpg\n",
            "/content/drive/My Drive/0_datasets/iris/iris-virginica/iris-e43c13aa505cd1220f6046bb9935c889a97f8370d8a49ad25a3c97ac38eb287f.jpg\n",
            "/content/drive/My Drive/0_datasets/iris/iris-virginica/iris-240cff8aa17cb406f5c0b1be7420b2ac850e3c75ce0148d76abe3328c145367e.jpg\n",
            "/content/drive/My Drive/0_datasets/iris/iris-virginica/iris-0f612632106cde3e540e50d8e798ab31a1f88e61d9d82c6033caf97141d95db8.jpg\n",
            "/content/drive/My Drive/0_datasets/iris/iris-virginica/iris-9e6ce91679c9aaceb3e9c930f11e788aacbfa8341a2a5737583c14a4d6666f3d.jpg\n",
            "/content/drive/My Drive/0_datasets/iris/iris-virginica/iris-eb3242367930a8e8a8aad00c70961bb493cedfbcf6ce0fb5c0357d1080dbfc27.jpg\n",
            "/content/drive/My Drive/0_datasets/iris/iris-virginica/iris-eba0c546e9b7b3d92f0b7eb98b2914810912990789479838807993d13787a2d9.jpg\n",
            "/content/drive/My Drive/0_datasets/iris/iris-virginica/iris-fa4b6d7e3617216104b1405cda21bf234840cd84a2c1966034caa63def2f64f0.jpg\n",
            "/content/drive/My Drive/0_datasets/iris/iris-virginica/iris-f47c5963cdbaa3238ba2d446848e8449c6af83e663f0a9216cf0baba8429b36f.jpg\n",
            "/content/drive/My Drive/0_datasets/iris/iris-virginica/iris-874121a450fa8a420bdc79cc7808fd28c5ea98758a4b50337a12a009fa556139.jpg\n",
            "/content/drive/My Drive/0_datasets/iris/iris-virginica/iris-e4c769f972daaff8a78034bb7893052b0bfbc8252e9cf94e5e87a81f65912437.jpg\n",
            "/content/drive/My Drive/0_datasets/iris/iris-virginica/iris-8772f981742bcc671077f0e7c0ddc1458d37f6110ce2398ec88426e5f945d0dd.jpg\n",
            "/content/drive/My Drive/0_datasets/iris/iris-virginica/iris-ca40bc5839ee2f9f5dcac621235a1db2f533f40f96a35e1282f907b40afa457d.jpg\n",
            "/content/drive/My Drive/0_datasets/iris/iris-virginica/iris-8df4654cbc178e47d55a6595bb1a92a38fa60bfc1b88af949f84aafa63caa112.jpg\n",
            "/content/drive/My Drive/0_datasets/iris/iris-virginica/iris-28e44e86e0aedb8e7d50af2b7de6975977a42ae6898aa1cf45a272fcf0300886.jpg\n",
            "/content/drive/My Drive/0_datasets/iris/iris-virginica/iris-4e7fc6a442a97fe9fabbaf08b5dc10f35839719e37b27431991c713c0e2a10d9.jpg\n",
            "/content/drive/My Drive/0_datasets/iris/iris-virginica/iris-b1c52aa9352103ffd4965dbf8e1afba05960fd0b701993d88568b0ac28d95068.jpg\n",
            "/content/drive/My Drive/0_datasets/iris/iris-virginica/iris-bdae8314e4385d8e2322abd8e63a82758a9063c77514f49fc252e651cbd79f82.jpg\n",
            "/content/drive/My Drive/0_datasets/iris/iris-virginica/iris-b8646fac43bada69c0991ef2627a230ab03f78430fd4a38c0f0966ffb4571398.jpg\n",
            "/content/drive/My Drive/0_datasets/iris/iris-virginica/iris-96c3de62b69df9892c388ce6d7920e3813d0c485980e9b1d991ddb5cf52f3086.jpg\n",
            "/content/drive/My Drive/0_datasets/iris/iris-virginica/iris-0b486eebacd93e114a6ec24264e035684cebe7d2074eb71eb1a71dd70bf61e8f.jpg\n",
            "/content/drive/My Drive/0_datasets/iris/iris-virginica/iris-0e5228449eefd43ae577dabe6fe4a940497234cb468803a1261a261b339715af.jpg\n",
            "/content/drive/My Drive/0_datasets/iris/iris-virginica/iris-621b3bce9226df10d785f6c9c2c1918cd6795de48f6b34688c026af6f2b439c2.jpg\n",
            "/content/drive/My Drive/0_datasets/iris/iris-virginica/iris-98819ca3d07490b4cb5f75f0a431bf711416a00c22cf60ba49951f2b26440607.jpg\n",
            "/content/drive/My Drive/0_datasets/iris/iris-virginica/iris-1804702f49c2c385f8b30913569aebc6dce3da52ec02c2c638a2b0806f16014e.jpg\n",
            "/content/drive/My Drive/0_datasets/iris/iris-virginica/iris-68d83ad09262afb25337ccc1d0f3a6d36f118910f36451ce8a6600c77a8aa5bd.jpg\n",
            "/content/drive/My Drive/0_datasets/iris/iris-virginica/iris-49474410fc2aaaaa011876b6cebdefad22fda03d6ff11608c7c931e00df87451.jpg\n"
          ]
        }
      ],
      "source": [
        "# for dirname, _, filenames in os.walk('/kaggle/input'):\n",
        "for dirname, _, filenames in os.walk(target_dir):\n",
        "    for filename in filenames:\n",
        "        print(os.path.join(dirname, filename))"
      ]
    },
    {
      "cell_type": "markdown",
      "id": "82d41618",
      "metadata": {
        "papermill": {
          "duration": 0.007192,
          "end_time": "2023-04-01T13:40:35.298845",
          "exception": false,
          "start_time": "2023-04-01T13:40:35.291653",
          "status": "completed"
        },
        "tags": [],
        "id": "82d41618"
      },
      "source": [
        "### 분류(classes) 지정하기"
      ]
    },
    {
      "cell_type": "code",
      "execution_count": 6,
      "id": "10bbe3d6",
      "metadata": {
        "execution": {
          "iopub.execute_input": "2023-04-01T13:40:35.315323Z",
          "iopub.status.busy": "2023-04-01T13:40:35.314643Z",
          "iopub.status.idle": "2023-04-01T13:40:35.322114Z",
          "shell.execute_reply": "2023-04-01T13:40:35.321065Z"
        },
        "papermill": {
          "duration": 0.01793,
          "end_time": "2023-04-01T13:40:35.324169",
          "exception": false,
          "start_time": "2023-04-01T13:40:35.306239",
          "status": "completed"
        },
        "tags": [],
        "colab": {
          "base_uri": "https://localhost:8080/"
        },
        "id": "10bbe3d6",
        "outputId": "f9f9c192-0dc6-4994-a106-e59c031087b8"
      },
      "outputs": [
        {
          "output_type": "stream",
          "name": "stdout",
          "text": [
            "Length of setosa:  67\n",
            "Length of versicolour:  269\n",
            "Length of virginica:  85\n"
          ]
        }
      ],
      "source": [
        "# 이미지 파일 위치(path) 지정하기\n",
        "import pathlib\n",
        "\n",
        "data_dir = target_dir # Datasets path\n",
        "data_dir = pathlib.Path(data_dir)\n",
        "data_dir\n",
        "\n",
        "# 붓꽃 분류(classes) 지정하기\n",
        "setosa = list(data_dir.glob('iris-setosa/*'))\n",
        "versicolour = list(data_dir.glob('iris-versicolour/*'))\n",
        "virginica = list(data_dir.glob('iris-virginica/*'))\n",
        "\n",
        "print(\"Length of setosa: \", len(setosa))\n",
        "print(\"Length of versicolour: \", len(versicolour))\n",
        "print(\"Length of virginica: \", len(virginica))"
      ]
    },
    {
      "cell_type": "markdown",
      "id": "5ab23f30",
      "metadata": {
        "papermill": {
          "duration": 0.007561,
          "end_time": "2023-04-01T13:40:35.387230",
          "exception": false,
          "start_time": "2023-04-01T13:40:35.379669",
          "status": "completed"
        },
        "tags": [],
        "id": "5ab23f30"
      },
      "source": [
        "### 임의의 붓꽃 이미지 출력해보기(matplotlib 그래프 이용)"
      ]
    },
    {
      "cell_type": "code",
      "execution_count": 7,
      "id": "1c8b41d1",
      "metadata": {
        "execution": {
          "iopub.execute_input": "2023-04-01T13:40:35.404607Z",
          "iopub.status.busy": "2023-04-01T13:40:35.403762Z",
          "iopub.status.idle": "2023-04-01T13:40:35.985334Z",
          "shell.execute_reply": "2023-04-01T13:40:35.984429Z"
        },
        "papermill": {
          "duration": 0.596699,
          "end_time": "2023-04-01T13:40:35.991892",
          "exception": false,
          "start_time": "2023-04-01T13:40:35.395193",
          "status": "completed"
        },
        "tags": [],
        "colab": {
          "base_uri": "https://localhost:8080/",
          "height": 356
        },
        "id": "1c8b41d1",
        "outputId": "c6b111dc-97f5-487f-f727-a03bb0f43010"
      },
      "outputs": [
        {
          "output_type": "stream",
          "name": "stdout",
          "text": [
            "24\n",
            "247\n",
            "78\n"
          ]
        },
        {
          "output_type": "execute_result",
          "data": {
            "text/plain": [
              "<matplotlib.image.AxesImage at 0x7f876b01b520>"
            ]
          },
          "metadata": {},
          "execution_count": 7
        },
        {
          "output_type": "display_data",
          "data": {
            "text/plain": [
              "<Figure size 1500x300 with 3 Axes>"
            ],
            "image/png": "[encoded data removed]"
          },
          "metadata": {}
        }
      ],
      "source": [
        "import matplotlib.image as img\n",
        "import PIL.Image as Image\n",
        "\n",
        "fig, ax = plt.subplots(ncols= 3, nrows = 1, figsize=(15,3))\n",
        "fig.suptitle('Category')\n",
        "\n",
        "rand_setosa = np.random.randint(-1,len(setosa))\n",
        "print(rand_setosa)\n",
        "\n",
        "rand_versicolour = np.random.randint(-1, len(versicolour))\n",
        "print(rand_versicolour)\n",
        "\n",
        "rand_virginica = np.random.randint(-1, len(virginica))\n",
        "print(rand_virginica)\n",
        "\n",
        "\n",
        "setosa_image = img.imread(setosa[rand_setosa])\n",
        "versicolour_image = img.imread(versicolour[rand_versicolour])\n",
        "virginica_image = img.imread(virginica[rand_virginica])\n",
        "\n",
        "ax[0].set_title('setosa')\n",
        "ax[1].set_title('versicolour')\n",
        "ax[2].set_title('virginica')\n",
        "\n",
        "ax[0].imshow(setosa_image)\n",
        "ax[1].imshow(versicolour_image)\n",
        "ax[2].imshow(virginica_image)"
      ]
    },
    {
      "cell_type": "markdown",
      "source": [
        "\n",
        "\n",
        "---\n",
        "\n"
      ],
      "metadata": {
        "id": "F3no5Dz5rbSO"
      },
      "id": "F3no5Dz5rbSO"
    },
    {
      "cell_type": "markdown",
      "source": [
        "## 2.데이터 전처리"
      ],
      "metadata": {
        "id": "y4unwA8urenA"
      },
      "id": "y4unwA8urenA"
    },
    {
      "cell_type": "markdown",
      "id": "000f4090",
      "metadata": {
        "papermill": {
          "duration": 0.012013,
          "end_time": "2023-04-01T13:40:36.016363",
          "exception": false,
          "start_time": "2023-04-01T13:40:36.004350",
          "status": "completed"
        },
        "tags": [],
        "id": "000f4090"
      },
      "source": [
        "### 데이터 분류값 지정하기"
      ]
    },
    {
      "cell_type": "code",
      "execution_count": 8,
      "id": "2d4627d2",
      "metadata": {
        "execution": {
          "iopub.execute_input": "2023-04-01T13:40:36.041819Z",
          "iopub.status.busy": "2023-04-01T13:40:36.041472Z",
          "iopub.status.idle": "2023-04-01T13:40:36.046489Z",
          "shell.execute_reply": "2023-04-01T13:40:36.045447Z"
        },
        "papermill": {
          "duration": 0.020281,
          "end_time": "2023-04-01T13:40:36.048652",
          "exception": false,
          "start_time": "2023-04-01T13:40:36.028371",
          "status": "completed"
        },
        "tags": [],
        "id": "2d4627d2"
      },
      "outputs": [],
      "source": [
        "# contains the images path\n",
        "\n",
        "df_images = {\n",
        "    'setosa' : setosa,\n",
        "    'versicolour' : versicolour,\n",
        "    'virginica': virginica\n",
        "}\n",
        "\n",
        "# contains numerical labels for the categories\n",
        "df_labels = {\n",
        "    'setosa' : 0,\n",
        "    'versicolour' : 1,\n",
        "    'virginica': 2\n",
        "}"
      ]
    },
    {
      "cell_type": "markdown",
      "id": "df23269d",
      "metadata": {
        "papermill": {
          "duration": 0.011854,
          "end_time": "2023-04-01T13:40:36.072369",
          "exception": false,
          "start_time": "2023-04-01T13:40:36.060515",
          "status": "completed"
        },
        "tags": [],
        "id": "df23269d"
      },
      "source": [
        "### 이미지 모양(shape) 확인"
      ]
    },
    {
      "cell_type": "code",
      "execution_count": 13,
      "id": "26ad9ce9",
      "metadata": {
        "execution": {
          "iopub.execute_input": "2023-04-01T13:40:36.099192Z",
          "iopub.status.busy": "2023-04-01T13:40:36.097628Z",
          "iopub.status.idle": "2023-04-01T13:40:36.488989Z",
          "shell.execute_reply": "2023-04-01T13:40:36.487918Z"
        },
        "papermill": {
          "duration": 0.406933,
          "end_time": "2023-04-01T13:40:36.491341",
          "exception": false,
          "start_time": "2023-04-01T13:40:36.084408",
          "status": "completed"
        },
        "tags": [],
        "colab": {
          "base_uri": "https://localhost:8080/"
        },
        "id": "26ad9ce9",
        "outputId": "81519d85-4a78-4547-f917-f10b13d7fc01"
      },
      "outputs": [
        {
          "output_type": "execute_result",
          "data": {
            "text/plain": [
              "(256, 256, 3)"
            ]
          },
          "metadata": {},
          "execution_count": 13
        }
      ],
      "source": [
        "import cv2\n",
        "\n",
        "img = cv2.imread(str(df_images['virginica'][rand_virginica])) # Converting it into numerical arrays\n",
        "img.shape"
      ]
    },
    {
      "cell_type": "markdown",
      "id": "cfcf3c26",
      "metadata": {
        "papermill": {
          "duration": 0.012016,
          "end_time": "2023-04-01T13:40:36.516344",
          "exception": false,
          "start_time": "2023-04-01T13:40:36.504328",
          "status": "completed"
        },
        "tags": [],
        "id": "cfcf3c26"
      },
      "source": [
        "### 학습 데이터 지정하기(X and y)\n",
        "- MobileNetv2 model에서 사용(학습)할 수 있도록 (224, 224) 사이즈로 변경한다."
      ]
    },
    {
      "cell_type": "code",
      "execution_count": 11,
      "id": "dacd1aa0",
      "metadata": {
        "execution": {
          "iopub.execute_input": "2023-04-01T13:40:36.544593Z",
          "iopub.status.busy": "2023-04-01T13:40:36.542891Z",
          "iopub.status.idle": "2023-04-01T13:40:39.657327Z",
          "shell.execute_reply": "2023-04-01T13:40:39.655658Z"
        },
        "papermill": {
          "duration": 3.131957,
          "end_time": "2023-04-01T13:40:39.660711",
          "exception": false,
          "start_time": "2023-04-01T13:40:36.528754",
          "status": "completed"
        },
        "tags": [],
        "colab": {
          "base_uri": "https://localhost:8080/"
        },
        "id": "dacd1aa0",
        "outputId": "3939efc9-2dc3-4793-de11-9d3786ca7937"
      },
      "outputs": [
        {
          "output_type": "stream",
          "name": "stdout",
          "text": [
            "421 421\n"
          ]
        }
      ],
      "source": [
        "X, y = [], [] # X = images, y = labels\n",
        "for label, images in df_images.items():  # df_images 딕셔너리 정보를 (레이블,값)으로 분리\n",
        "    for image in images:\n",
        "        img = cv2.imread(str(image))\n",
        "        resized_img = cv2.resize(img, (224, 224)) # Resizing the images to be able to pass on MobileNetv2 model\n",
        "        X.append(resized_img)\n",
        "        y.append(df_labels[label])\n",
        "print(len(X), len(y))\n"
      ]
    },
    {
      "cell_type": "markdown",
      "id": "5e0bfb79",
      "metadata": {
        "papermill": {
          "duration": 0.014245,
          "end_time": "2023-04-01T13:40:39.688829",
          "exception": false,
          "start_time": "2023-04-01T13:40:39.674584",
          "status": "completed"
        },
        "tags": [],
        "id": "5e0bfb79"
      },
      "source": [
        "### 넘파이 array로 변환(X and y to numpy arrays)"
      ]
    },
    {
      "cell_type": "code",
      "execution_count": 14,
      "id": "d50e07b6",
      "metadata": {
        "execution": {
          "iopub.execute_input": "2023-04-01T13:40:39.715605Z",
          "iopub.status.busy": "2023-04-01T13:40:39.715295Z",
          "iopub.status.idle": "2023-04-01T13:40:39.740884Z",
          "shell.execute_reply": "2023-04-01T13:40:39.739609Z"
        },
        "papermill": {
          "duration": 0.041506,
          "end_time": "2023-04-01T13:40:39.743506",
          "exception": false,
          "start_time": "2023-04-01T13:40:39.702000",
          "status": "completed"
        },
        "tags": [],
        "id": "d50e07b6"
      },
      "outputs": [],
      "source": [
        "X = np.array(X)\n",
        "y = np.array(y)"
      ]
    },
    {
      "cell_type": "markdown",
      "id": "e6958831",
      "metadata": {
        "papermill": {
          "duration": 0.012242,
          "end_time": "2023-04-01T13:40:39.768372",
          "exception": false,
          "start_time": "2023-04-01T13:40:39.756130",
          "status": "completed"
        },
        "tags": [],
        "id": "e6958831"
      },
      "source": [
        "### 학습 데이터 분리하기(Split into training, validation, and test sets)"
      ]
    },
    {
      "cell_type": "code",
      "execution_count": 15,
      "id": "a589858a",
      "metadata": {
        "execution": {
          "iopub.execute_input": "2023-04-01T13:40:39.794072Z",
          "iopub.status.busy": "2023-04-01T13:40:39.793764Z",
          "iopub.status.idle": "2023-04-01T13:40:40.199127Z",
          "shell.execute_reply": "2023-04-01T13:40:40.197932Z"
        },
        "papermill": {
          "duration": 0.421335,
          "end_time": "2023-04-01T13:40:40.201887",
          "exception": false,
          "start_time": "2023-04-01T13:40:39.780552",
          "status": "completed"
        },
        "tags": [],
        "colab": {
          "base_uri": "https://localhost:8080/"
        },
        "id": "a589858a",
        "outputId": "fff23eaf-b80b-4703-dc1a-fdf3ced146d0"
      },
      "outputs": [
        {
          "output_type": "execute_result",
          "data": {
            "text/plain": [
              "((336, 224, 224, 3),\n",
              " (22, 224, 224, 3),\n",
              " (63, 224, 224, 3),\n",
              " (336,),\n",
              " (22,),\n",
              " (63,))"
            ]
          },
          "metadata": {},
          "execution_count": 15
        }
      ],
      "source": [
        "from sklearn.model_selection import train_test_split\n",
        "\n",
        "X_train, X_test_val, y_train, y_test_val = train_test_split(X, y, train_size = 0.8, random_state=42)\n",
        "X_test, X_val, y_test, y_val = train_test_split(X_test_val, y_test_val, random_state=42)\n",
        "X_train.shape, X_val.shape, X_test.shape, y_train.shape, y_val.shape, y_test.shape\n"
      ]
    },
    {
      "cell_type": "markdown",
      "source": [
        "\n",
        "\n",
        "---\n",
        "\n"
      ],
      "metadata": {
        "id": "Ocj-p6hFtmr6"
      },
      "id": "Ocj-p6hFtmr6"
    },
    {
      "cell_type": "markdown",
      "source": [
        "## 3.모델 학습하기"
      ],
      "metadata": {
        "id": "3FG8PrlFtmzv"
      },
      "id": "3FG8PrlFtmzv"
    },
    {
      "cell_type": "markdown",
      "id": "86fa390f",
      "metadata": {
        "papermill": {
          "duration": 0.012145,
          "end_time": "2023-04-01T13:40:40.227994",
          "exception": false,
          "start_time": "2023-04-01T13:40:40.215849",
          "status": "completed"
        },
        "tags": [],
        "id": "86fa390f"
      },
      "source": [
        "### (딥러닝)라이브러리 가져오기"
      ]
    },
    {
      "cell_type": "code",
      "execution_count": 16,
      "id": "34752cfb",
      "metadata": {
        "execution": {
          "iopub.execute_input": "2023-04-01T13:40:40.253823Z",
          "iopub.status.busy": "2023-04-01T13:40:40.253498Z",
          "iopub.status.idle": "2023-04-01T13:40:54.372277Z",
          "shell.execute_reply": "2023-04-01T13:40:54.370814Z"
        },
        "papermill": {
          "duration": 14.134186,
          "end_time": "2023-04-01T13:40:54.374342",
          "exception": false,
          "start_time": "2023-04-01T13:40:40.240156",
          "status": "completed"
        },
        "tags": [],
        "colab": {
          "base_uri": "https://localhost:8080/"
        },
        "id": "34752cfb",
        "outputId": "4fbd70ea-418e-4cbf-aeb3-4118b31243d7"
      },
      "outputs": [
        {
          "output_type": "stream",
          "name": "stdout",
          "text": [
            "2.15.0\n"
          ]
        }
      ],
      "source": [
        "import tensorflow as tf\n",
        "from tensorflow import keras\n",
        "import tensorflow_hub as hub\n",
        "# from keras.utils.np_utils import to_categorical\n",
        "from keras.callbacks import ModelCheckpoint, EarlyStopping\n",
        "print(tf.__version__)"
      ]
    },
    {
      "cell_type": "markdown",
      "source": [
        "- 원핫인코딩(One-Hot Encodig) 형태로 변환하기\n",
        " * 해당 값은 1, 그 외는 모두 0"
      ],
      "metadata": {
        "id": "Q-LCHlBhysmf"
      },
      "id": "Q-LCHlBhysmf"
    },
    {
      "cell_type": "code",
      "execution_count": 17,
      "id": "3981aa0a",
      "metadata": {
        "execution": {
          "iopub.execute_input": "2023-04-01T13:40:54.401949Z",
          "iopub.status.busy": "2023-04-01T13:40:54.401295Z",
          "iopub.status.idle": "2023-04-01T13:40:54.407567Z",
          "shell.execute_reply": "2023-04-01T13:40:54.406614Z"
        },
        "papermill": {
          "duration": 0.021911,
          "end_time": "2023-04-01T13:40:54.409696",
          "exception": false,
          "start_time": "2023-04-01T13:40:54.387785",
          "status": "completed"
        },
        "tags": [],
        "id": "3981aa0a"
      },
      "outputs": [],
      "source": [
        "num_label = len(np.unique(y)) # number of labels\n",
        "\n",
        "y_train_cat = keras.utils.to_categorical(y_train, num_label)\n",
        "y_val_cat = keras.utils.to_categorical(y_val, num_label)\n",
        "y_test_cat = keras.utils.to_categorical(y_test, num_label)"
      ]
    },
    {
      "cell_type": "markdown",
      "id": "74ae52b6",
      "metadata": {
        "papermill": {
          "duration": 0.012236,
          "end_time": "2023-04-01T13:40:54.434229",
          "exception": false,
          "start_time": "2023-04-01T13:40:54.421993",
          "status": "completed"
        },
        "tags": [],
        "id": "74ae52b6"
      },
      "source": [
        "### 모델 정의하기(신경망 구성하기)\n",
        "- 전이학습모델 사용(mobilenet_v2)"
      ]
    },
    {
      "cell_type": "code",
      "execution_count": 18,
      "id": "313c0cbf",
      "metadata": {
        "execution": {
          "iopub.execute_input": "2023-04-01T13:40:54.460527Z",
          "iopub.status.busy": "2023-04-01T13:40:54.459965Z",
          "iopub.status.idle": "2023-04-01T13:40:54.477682Z",
          "shell.execute_reply": "2023-04-01T13:40:54.476785Z"
        },
        "papermill": {
          "duration": 0.032928,
          "end_time": "2023-04-01T13:40:54.479735",
          "exception": false,
          "start_time": "2023-04-01T13:40:54.446807",
          "status": "completed"
        },
        "tags": [],
        "id": "313c0cbf"
      },
      "outputs": [],
      "source": [
        "normalizer = tf.keras.layers.Rescaling(scale=1/255)"
      ]
    },
    {
      "cell_type": "code",
      "execution_count": 19,
      "id": "4e1e86c8",
      "metadata": {
        "execution": {
          "iopub.execute_input": "2023-04-01T13:40:54.506173Z",
          "iopub.status.busy": "2023-04-01T13:40:54.505289Z",
          "iopub.status.idle": "2023-04-01T13:41:00.779332Z",
          "shell.execute_reply": "2023-04-01T13:41:00.778300Z"
        },
        "papermill": {
          "duration": 6.290327,
          "end_time": "2023-04-01T13:41:00.782165",
          "exception": false,
          "start_time": "2023-04-01T13:40:54.491838",
          "status": "completed"
        },
        "tags": [],
        "id": "4e1e86c8"
      },
      "outputs": [],
      "source": [
        "# 만들어진 모델을 불러와 그대로 사용하는 경우\n",
        "mobile_net = 'https://tfhub.dev/google/tf2-preview/mobilenet_v2/feature_vector/4' # MobileNetv4 link\n",
        "mobile_net = hub.KerasLayer(\n",
        "        mobile_net, input_shape=(224,224, 3), trainable=False) # Removing the last layer\n"
      ]
    },
    {
      "cell_type": "code",
      "execution_count": 20,
      "id": "ba56352b",
      "metadata": {
        "execution": {
          "iopub.execute_input": "2023-04-01T13:41:00.808913Z",
          "iopub.status.busy": "2023-04-01T13:41:00.808581Z",
          "iopub.status.idle": "2023-04-01T13:41:01.536598Z",
          "shell.execute_reply": "2023-04-01T13:41:01.535419Z"
        },
        "papermill": {
          "duration": 0.744165,
          "end_time": "2023-04-01T13:41:01.539215",
          "exception": false,
          "start_time": "2023-04-01T13:41:00.795050",
          "status": "completed"
        },
        "tags": [],
        "colab": {
          "base_uri": "https://localhost:8080/"
        },
        "id": "ba56352b",
        "outputId": "91cd57c7-11b2-4b3e-8f3f-6e2fae7bfe69"
      },
      "outputs": [
        {
          "output_type": "stream",
          "name": "stdout",
          "text": [
            "Model: \"sequential\"\n",
            "_________________________________________________________________\n",
            " Layer (type)                Output Shape              Param #   \n",
            "=================================================================\n",
            " rescaling (Rescaling)       (None, 224, 224, 3)       0         \n",
            "                                                                 \n",
            " keras_layer (KerasLayer)    (None, 1280)              2257984   \n",
            "                                                                 \n",
            " dropout (Dropout)           (None, 1280)              0         \n",
            "                                                                 \n",
            " dense (Dense)               (None, 3)                 3843      \n",
            "                                                                 \n",
            "=================================================================\n",
            "Total params: 2261827 (8.63 MB)\n",
            "Trainable params: 3843 (15.01 KB)\n",
            "Non-trainable params: 2257984 (8.61 MB)\n",
            "_________________________________________________________________\n"
          ]
        }
      ],
      "source": [
        "# 모델(신경망 레이어)을 약간 수정해서 사용하는 경우\n",
        "model = keras.Sequential([\n",
        "    keras.Input(shape=(224,224,3)),\n",
        "    normalizer,\n",
        "    mobile_net,\n",
        "    keras.layers.Dropout(0.2),\n",
        "    keras.layers.Dense(num_label, activation='softmax')\n",
        "])\n",
        "\n",
        "model.summary()"
      ]
    },
    {
      "cell_type": "code",
      "execution_count": 21,
      "id": "ebea5931",
      "metadata": {
        "execution": {
          "iopub.execute_input": "2023-04-01T13:41:01.570263Z",
          "iopub.status.busy": "2023-04-01T13:41:01.569924Z",
          "iopub.status.idle": "2023-04-01T13:41:01.587427Z",
          "shell.execute_reply": "2023-04-01T13:41:01.586452Z"
        },
        "papermill": {
          "duration": 0.035697,
          "end_time": "2023-04-01T13:41:01.589862",
          "exception": false,
          "start_time": "2023-04-01T13:41:01.554165",
          "status": "completed"
        },
        "tags": [],
        "id": "ebea5931"
      },
      "outputs": [],
      "source": [
        "model.compile(optimizer='adam',\n",
        "              loss='categorical_crossentropy',\n",
        "              metrics=['accuracy'])"
      ]
    },
    {
      "cell_type": "markdown",
      "source": [
        "- 학습하기\n",
        " * epochs=100"
      ],
      "metadata": {
        "id": "1Hj3JiOgzSjd"
      },
      "id": "1Hj3JiOgzSjd"
    },
    {
      "cell_type": "code",
      "execution_count": 22,
      "id": "3705b804",
      "metadata": {
        "execution": {
          "iopub.execute_input": "2023-04-01T13:41:01.619422Z",
          "iopub.status.busy": "2023-04-01T13:41:01.618546Z",
          "iopub.status.idle": "2023-04-01T13:41:40.980421Z",
          "shell.execute_reply": "2023-04-01T13:41:40.978770Z"
        },
        "papermill": {
          "duration": 39.379857,
          "end_time": "2023-04-01T13:41:40.983357",
          "exception": false,
          "start_time": "2023-04-01T13:41:01.603500",
          "status": "completed"
        },
        "tags": [],
        "colab": {
          "base_uri": "https://localhost:8080/"
        },
        "id": "3705b804",
        "outputId": "87556997-577f-4239-9143-e7fcb16b7fed"
      },
      "outputs": [
        {
          "output_type": "stream",
          "name": "stdout",
          "text": [
            "Epoch 1/100\n",
            "11/11 [==============================] - ETA: 0s - loss: 1.0599 - accuracy: 0.5833"
          ]
        },
        {
          "output_type": "stream",
          "name": "stderr",
          "text": [
            "/usr/local/lib/python3.10/dist-packages/keras/src/engine/training.py:3103: UserWarning: You are saving your model as an HDF5 file via `model.save()`. This file format is considered legacy. We recommend using instead the native Keras format, e.g. `model.save('my_model.keras')`.\n",
            "  saving_api.save_model(\n"
          ]
        },
        {
          "output_type": "stream",
          "name": "stdout",
          "text": [
            "\b\b\b\b\b\b\b\b\b\b\b\b\b\b\b\b\b\b\b\b\b\b\b\b\b\b\b\b\b\b\b\b\b\b\b\b\b\b\b\b\b\b\b\b\b\b\b\b\b\b\b\b\b\b\b\b\b\b\b\b\b\b\b\b\b\b\b\b\b\b\b\b\b\b\b\b\b\b\b\b\b\b\r11/11 [==============================] - 11s 293ms/step - loss: 1.0599 - accuracy: 0.5833 - val_loss: 0.9085 - val_accuracy: 0.6364\n",
            "Epoch 2/100\n",
            "11/11 [==============================] - 1s 67ms/step - loss: 0.9105 - accuracy: 0.6220 - val_loss: 0.7771 - val_accuracy: 0.5909\n",
            "Epoch 3/100\n",
            "11/11 [==============================] - 0s 38ms/step - loss: 0.8500 - accuracy: 0.6518 - val_loss: 0.8281 - val_accuracy: 0.6364\n",
            "Epoch 4/100\n",
            "11/11 [==============================] - 1s 75ms/step - loss: 0.7479 - accuracy: 0.6994 - val_loss: 0.7384 - val_accuracy: 0.5909\n",
            "Epoch 5/100\n",
            "11/11 [==============================] - 0s 41ms/step - loss: 0.7653 - accuracy: 0.6667 - val_loss: 0.7886 - val_accuracy: 0.6364\n",
            "Epoch 6/100\n",
            "11/11 [==============================] - 1s 75ms/step - loss: 0.7194 - accuracy: 0.6875 - val_loss: 0.6900 - val_accuracy: 0.6364\n",
            "Epoch 7/100\n",
            "11/11 [==============================] - 0s 41ms/step - loss: 0.6314 - accuracy: 0.7202 - val_loss: 0.7020 - val_accuracy: 0.6364\n",
            "Epoch 8/100\n",
            "11/11 [==============================] - 1s 81ms/step - loss: 0.5917 - accuracy: 0.7589 - val_loss: 0.6547 - val_accuracy: 0.7727\n",
            "Epoch 9/100\n",
            "11/11 [==============================] - 0s 44ms/step - loss: 0.5756 - accuracy: 0.7619 - val_loss: 0.7312 - val_accuracy: 0.6364\n",
            "Epoch 10/100\n",
            "11/11 [==============================] - 0s 38ms/step - loss: 0.5573 - accuracy: 0.7619 - val_loss: 0.6589 - val_accuracy: 0.7727\n",
            "Epoch 11/100\n",
            "11/11 [==============================] - 0s 37ms/step - loss: 0.5443 - accuracy: 0.7530 - val_loss: 0.7009 - val_accuracy: 0.5909\n",
            "Epoch 12/100\n",
            "11/11 [==============================] - 0s 42ms/step - loss: 0.5344 - accuracy: 0.7589 - val_loss: 0.7113 - val_accuracy: 0.6364\n",
            "Epoch 13/100\n",
            "11/11 [==============================] - 1s 67ms/step - loss: 0.5125 - accuracy: 0.7798 - val_loss: 0.6289 - val_accuracy: 0.7727\n",
            "Epoch 14/100\n",
            "11/11 [==============================] - 0s 39ms/step - loss: 0.4879 - accuracy: 0.7887 - val_loss: 0.6560 - val_accuracy: 0.7727\n",
            "Epoch 15/100\n",
            "11/11 [==============================] - 0s 38ms/step - loss: 0.4861 - accuracy: 0.7976 - val_loss: 0.6747 - val_accuracy: 0.7727\n",
            "Epoch 16/100\n",
            "11/11 [==============================] - 0s 38ms/step - loss: 0.4750 - accuracy: 0.8095 - val_loss: 0.6295 - val_accuracy: 0.7727\n",
            "Epoch 17/100\n",
            "11/11 [==============================] - 1s 66ms/step - loss: 0.4267 - accuracy: 0.8363 - val_loss: 0.6144 - val_accuracy: 0.7727\n",
            "Epoch 18/100\n",
            "11/11 [==============================] - 0s 38ms/step - loss: 0.4496 - accuracy: 0.8214 - val_loss: 0.6623 - val_accuracy: 0.7727\n",
            "Epoch 19/100\n",
            "11/11 [==============================] - 0s 37ms/step - loss: 0.4023 - accuracy: 0.8482 - val_loss: 0.6450 - val_accuracy: 0.7727\n",
            "Epoch 20/100\n",
            "11/11 [==============================] - 0s 37ms/step - loss: 0.3910 - accuracy: 0.8571 - val_loss: 0.6639 - val_accuracy: 0.7727\n",
            "Epoch 21/100\n",
            "11/11 [==============================] - 0s 37ms/step - loss: 0.3946 - accuracy: 0.8333 - val_loss: 0.6582 - val_accuracy: 0.7727\n",
            "Epoch 22/100\n",
            "11/11 [==============================] - 0s 37ms/step - loss: 0.3809 - accuracy: 0.8601 - val_loss: 0.6643 - val_accuracy: 0.7727\n",
            "Epoch 23/100\n",
            "11/11 [==============================] - 0s 41ms/step - loss: 0.3833 - accuracy: 0.8363 - val_loss: 0.6182 - val_accuracy: 0.7727\n",
            "Epoch 24/100\n",
            "11/11 [==============================] - 0s 41ms/step - loss: 0.3936 - accuracy: 0.8333 - val_loss: 0.7041 - val_accuracy: 0.6818\n",
            "Epoch 25/100\n",
            "11/11 [==============================] - 0s 37ms/step - loss: 0.3902 - accuracy: 0.8304 - val_loss: 0.6150 - val_accuracy: 0.7727\n",
            "Epoch 26/100\n",
            "11/11 [==============================] - 0s 37ms/step - loss: 0.3539 - accuracy: 0.8750 - val_loss: 0.6870 - val_accuracy: 0.7727\n",
            "Epoch 27/100\n",
            "11/11 [==============================] - 0s 38ms/step - loss: 0.3382 - accuracy: 0.8690 - val_loss: 0.6561 - val_accuracy: 0.7727\n",
            "Epoch 28/100\n",
            "11/11 [==============================] - 0s 38ms/step - loss: 0.3495 - accuracy: 0.8661 - val_loss: 0.6769 - val_accuracy: 0.7273\n",
            "Epoch 29/100\n",
            "11/11 [==============================] - 0s 37ms/step - loss: 0.3359 - accuracy: 0.8720 - val_loss: 0.6621 - val_accuracy: 0.7727\n",
            "Epoch 30/100\n",
            "11/11 [==============================] - 0s 37ms/step - loss: 0.3057 - accuracy: 0.9048 - val_loss: 0.6829 - val_accuracy: 0.7273\n",
            "Epoch 31/100\n",
            "11/11 [==============================] - 0s 42ms/step - loss: 0.3088 - accuracy: 0.8869 - val_loss: 0.6418 - val_accuracy: 0.7727\n",
            "Epoch 32/100\n",
            "11/11 [==============================] - 0s 40ms/step - loss: 0.3029 - accuracy: 0.9048 - val_loss: 0.6886 - val_accuracy: 0.7273\n",
            "Epoch 33/100\n",
            "11/11 [==============================] - 0s 44ms/step - loss: 0.2979 - accuracy: 0.9018 - val_loss: 0.6510 - val_accuracy: 0.7727\n",
            "Epoch 34/100\n",
            "11/11 [==============================] - 0s 40ms/step - loss: 0.3020 - accuracy: 0.9137 - val_loss: 0.7073 - val_accuracy: 0.6818\n",
            "Epoch 35/100\n",
            "11/11 [==============================] - 0s 42ms/step - loss: 0.2944 - accuracy: 0.8899 - val_loss: 0.6422 - val_accuracy: 0.7273\n",
            "Epoch 36/100\n",
            "11/11 [==============================] - 0s 45ms/step - loss: 0.2966 - accuracy: 0.9167 - val_loss: 0.6810 - val_accuracy: 0.6818\n",
            "Epoch 37/100\n",
            "11/11 [==============================] - 0s 41ms/step - loss: 0.2770 - accuracy: 0.9077 - val_loss: 0.6842 - val_accuracy: 0.7273\n",
            "Epoch 38/100\n",
            "11/11 [==============================] - 0s 41ms/step - loss: 0.2687 - accuracy: 0.9077 - val_loss: 0.6628 - val_accuracy: 0.7273\n",
            "Epoch 39/100\n",
            "11/11 [==============================] - 0s 45ms/step - loss: 0.2879 - accuracy: 0.9018 - val_loss: 0.7341 - val_accuracy: 0.6818\n",
            "Epoch 40/100\n",
            "11/11 [==============================] - 0s 38ms/step - loss: 0.2722 - accuracy: 0.8988 - val_loss: 0.6824 - val_accuracy: 0.6818\n",
            "Epoch 41/100\n",
            "11/11 [==============================] - 0s 38ms/step - loss: 0.2605 - accuracy: 0.9286 - val_loss: 0.6826 - val_accuracy: 0.6818\n",
            "Epoch 42/100\n",
            "11/11 [==============================] - 0s 38ms/step - loss: 0.2806 - accuracy: 0.9077 - val_loss: 0.7801 - val_accuracy: 0.6818\n",
            "Epoch 42: early stopping\n"
          ]
        }
      ],
      "source": [
        "early_stopping = EarlyStopping(monitor='val_loss', mode='min', patience=25, verbose=1)\n",
        "mc = ModelCheckpoint ('best_model.h5', monitor='val_loss', mode='min', save_best_only=True)\n",
        "history = model.fit(X_train, y_train_cat,\n",
        "                    epochs=100, validation_data=(X_val, y_val_cat),\n",
        "                    callbacks=[early_stopping, mc])"
      ]
    },
    {
      "cell_type": "markdown",
      "source": [
        "\n",
        "\n",
        "---\n",
        "\n"
      ],
      "metadata": {
        "id": "jUfBsEMY0ntR"
      },
      "id": "jUfBsEMY0ntR"
    },
    {
      "cell_type": "markdown",
      "source": [
        "## 4.평가 및 예측"
      ],
      "metadata": {
        "id": "_xHZXWWGzRca"
      },
      "id": "_xHZXWWGzRca"
    },
    {
      "cell_type": "markdown",
      "id": "dc92b64e",
      "metadata": {
        "papermill": {
          "duration": 0.031914,
          "end_time": "2023-04-01T13:41:41.073699",
          "exception": false,
          "start_time": "2023-04-01T13:41:41.041785",
          "status": "completed"
        },
        "tags": [],
        "id": "dc92b64e"
      },
      "source": [
        "### 테스트 데이터로 예측해보기(Predict on test set)"
      ]
    },
    {
      "cell_type": "code",
      "execution_count": 23,
      "id": "14427e46",
      "metadata": {
        "execution": {
          "iopub.execute_input": "2023-04-01T13:41:41.140181Z",
          "iopub.status.busy": "2023-04-01T13:41:41.139819Z",
          "iopub.status.idle": "2023-04-01T13:41:48.218745Z",
          "shell.execute_reply": "2023-04-01T13:41:48.217566Z"
        },
        "papermill": {
          "duration": 7.115113,
          "end_time": "2023-04-01T13:41:48.221304",
          "exception": false,
          "start_time": "2023-04-01T13:41:41.106191",
          "status": "completed"
        },
        "tags": [],
        "colab": {
          "base_uri": "https://localhost:8080/"
        },
        "id": "14427e46",
        "outputId": "bd48f449-be2a-49ad-ea74-a8b0b9fe0028"
      },
      "outputs": [
        {
          "output_type": "stream",
          "name": "stdout",
          "text": [
            "1/1 [==============================] - 2s 2s/step\n",
            "2/2 [==============================] - 1s 975ms/step\n"
          ]
        },
        {
          "output_type": "execute_result",
          "data": {
            "text/plain": [
              "array([1, 1, 1, 1, 1, 1, 1, 1, 1, 1, 1, 2, 1, 1, 1, 1, 1, 1, 1, 1, 1, 2,\n",
              "       1, 1, 1, 0, 2, 1, 1, 1, 2, 0, 1, 0, 1, 1, 1, 0, 1, 1, 1, 0, 1, 1,\n",
              "       2, 0, 1, 1, 1, 0, 1, 1, 0, 1, 1, 1, 1, 0, 1, 1, 1, 1, 1])"
            ]
          },
          "metadata": {},
          "execution_count": 23
        }
      ],
      "source": [
        "prediction = model.predict(X_test, batch_size=64, verbose=1)\n",
        "prediction = np.argmax(model.predict(X_test), axis=-1) #for multiclass\n",
        "prediction = prediction.flatten()\n",
        "prediction"
      ]
    },
    {
      "cell_type": "markdown",
      "source": [
        "### 모델 정확도 확인"
      ],
      "metadata": {
        "id": "lfkEcASo0fSi"
      },
      "id": "lfkEcASo0fSi"
    },
    {
      "cell_type": "code",
      "execution_count": 24,
      "id": "af171f34",
      "metadata": {
        "execution": {
          "iopub.execute_input": "2023-04-01T13:41:48.288671Z",
          "iopub.status.busy": "2023-04-01T13:41:48.288363Z",
          "iopub.status.idle": "2023-04-01T13:41:48.294569Z",
          "shell.execute_reply": "2023-04-01T13:41:48.293434Z"
        },
        "papermill": {
          "duration": 0.042774,
          "end_time": "2023-04-01T13:41:48.297431",
          "exception": false,
          "start_time": "2023-04-01T13:41:48.254657",
          "status": "completed"
        },
        "tags": [],
        "colab": {
          "base_uri": "https://localhost:8080/"
        },
        "id": "af171f34",
        "outputId": "a47a775f-0279-4232-b458-85eec7e5617d"
      },
      "outputs": [
        {
          "output_type": "stream",
          "name": "stdout",
          "text": [
            "0.6190476190476191\n"
          ]
        }
      ],
      "source": [
        "from sklearn.metrics import accuracy_score\n",
        "\n",
        "accuracy = accuracy_score(y_test, prediction)\n",
        "print(accuracy)"
      ]
    },
    {
      "cell_type": "code",
      "execution_count": 28,
      "id": "ccd9fa6d",
      "metadata": {
        "execution": {
          "iopub.execute_input": "2023-04-01T13:41:48.364475Z",
          "iopub.status.busy": "2023-04-01T13:41:48.364194Z",
          "iopub.status.idle": "2023-04-01T13:41:48.509167Z",
          "shell.execute_reply": "2023-04-01T13:41:48.508026Z"
        },
        "papermill": {
          "duration": 0.180915,
          "end_time": "2023-04-01T13:41:48.511251",
          "exception": false,
          "start_time": "2023-04-01T13:41:48.330336",
          "status": "completed"
        },
        "tags": [],
        "colab": {
          "base_uri": "https://localhost:8080/"
        },
        "id": "ccd9fa6d",
        "outputId": "79b875a3-639c-4345-90f0-d342468fc8a6"
      },
      "outputs": [
        {
          "output_type": "stream",
          "name": "stdout",
          "text": [
            "2/2 [==============================] - 0s 46ms/step - loss: 1.1654 - accuracy: 0.6190\n"
          ]
        },
        {
          "output_type": "execute_result",
          "data": {
            "text/plain": [
              "[1.1654375791549683, 0.6190476417541504]"
            ]
          },
          "metadata": {},
          "execution_count": 28
        }
      ],
      "source": [
        "model.evaluate(X_test,y_test_cat)"
      ]
    },
    {
      "cell_type": "code",
      "execution_count": 26,
      "id": "4ab03d17",
      "metadata": {
        "execution": {
          "iopub.execute_input": "2023-04-01T13:41:48.580767Z",
          "iopub.status.busy": "2023-04-01T13:41:48.580464Z",
          "iopub.status.idle": "2023-04-01T13:41:48.591217Z",
          "shell.execute_reply": "2023-04-01T13:41:48.590128Z"
        },
        "papermill": {
          "duration": 0.048329,
          "end_time": "2023-04-01T13:41:48.593669",
          "exception": false,
          "start_time": "2023-04-01T13:41:48.545340",
          "status": "completed"
        },
        "tags": [],
        "colab": {
          "base_uri": "https://localhost:8080/"
        },
        "id": "4ab03d17",
        "outputId": "37f7396d-0e0d-4d9f-e6f0-9a741d7ea310"
      },
      "outputs": [
        {
          "output_type": "stream",
          "name": "stdout",
          "text": [
            "              precision    recall  f1-score   support\n",
            "\n",
            "           0       0.67      0.40      0.50        15\n",
            "           1       0.63      0.89      0.74        35\n",
            "           2       0.40      0.15      0.22        13\n",
            "\n",
            "    accuracy                           0.62        63\n",
            "   macro avg       0.57      0.48      0.49        63\n",
            "weighted avg       0.59      0.62      0.57        63\n",
            "\n"
          ]
        }
      ],
      "source": [
        "from sklearn.metrics import classification_report\n",
        "\n",
        "print(classification_report(y_test, prediction))\n"
      ]
    },
    {
      "cell_type": "code",
      "execution_count": 29,
      "id": "2055b938",
      "metadata": {
        "execution": {
          "iopub.execute_input": "2023-04-01T13:41:48.662679Z",
          "iopub.status.busy": "2023-04-01T13:41:48.662069Z",
          "iopub.status.idle": "2023-04-01T13:41:48.670530Z",
          "shell.execute_reply": "2023-04-01T13:41:48.669536Z"
        },
        "papermill": {
          "duration": 0.044838,
          "end_time": "2023-04-01T13:41:48.672572",
          "exception": false,
          "start_time": "2023-04-01T13:41:48.627734",
          "status": "completed"
        },
        "tags": [],
        "colab": {
          "base_uri": "https://localhost:8080/"
        },
        "id": "2055b938",
        "outputId": "e2028c6c-819d-447e-ab53-a1718028b31b"
      },
      "outputs": [
        {
          "output_type": "execute_result",
          "data": {
            "text/plain": [
              "array([[ 6,  9,  0],\n",
              "       [ 1, 31,  3],\n",
              "       [ 2,  9,  2]])"
            ]
          },
          "metadata": {},
          "execution_count": 29
        }
      ],
      "source": [
        "from sklearn.metrics import confusion_matrix\n",
        "\n",
        "confusion_matrix(y_test, prediction)"
      ]
    },
    {
      "cell_type": "markdown",
      "source": [
        "### 실제 / 예측 비교"
      ],
      "metadata": {
        "id": "LlB3R-uX01Sz"
      },
      "id": "LlB3R-uX01Sz"
    },
    {
      "cell_type": "code",
      "execution_count": 30,
      "id": "585d3bdb",
      "metadata": {
        "execution": {
          "iopub.execute_input": "2023-04-01T13:41:48.741477Z",
          "iopub.status.busy": "2023-04-01T13:41:48.741182Z",
          "iopub.status.idle": "2023-04-01T13:41:48.765555Z",
          "shell.execute_reply": "2023-04-01T13:41:48.764459Z"
        },
        "papermill": {
          "duration": 0.061715,
          "end_time": "2023-04-01T13:41:48.767896",
          "exception": false,
          "start_time": "2023-04-01T13:41:48.706181",
          "status": "completed"
        },
        "tags": [],
        "colab": {
          "base_uri": "https://localhost:8080/",
          "height": 423
        },
        "id": "585d3bdb",
        "outputId": "caef55b4-1258-4ef7-f442-a4d1e0c583c9"
      },
      "outputs": [
        {
          "output_type": "execute_result",
          "data": {
            "text/plain": [
              "    actual  predicted\n",
              "0        1          1\n",
              "1        1          1\n",
              "2        1          1\n",
              "3        1          1\n",
              "4        1          1\n",
              "..     ...        ...\n",
              "58       1          1\n",
              "59       2          1\n",
              "60       2          1\n",
              "61       1          1\n",
              "62       1          1\n",
              "\n",
              "[63 rows x 2 columns]"
            ],
            "text/html": [
              "\n",
              "  <div id=\"df-82a3ffe0-977e-484a-bbd6-e52f20e90967\" class=\"colab-df-container\">\n",
              "    <div>\n",
              "<style scoped>\n",
              "    .dataframe tbody tr th:only-of-type {\n",
              "        vertical-align: middle;\n",
              "    }\n",
              "\n",
              "    .dataframe tbody tr th {\n",
              "        vertical-align: top;\n",
              "    }\n",
              "\n",
              "    .dataframe thead th {\n",
              "        text-align: right;\n",
              "    }\n",
              "</style>\n",
              "<table border=\"1\" class=\"dataframe\">\n",
              "  <thead>\n",
              "    <tr style=\"text-align: right;\">\n",
              "      <th></th>\n",
              "      <th>actual</th>\n",
              "      <th>predicted</th>\n",
              "    </tr>\n",
              "  </thead>\n",
              "  <tbody>\n",
              "    <tr>\n",
              "      <th>0</th>\n",
              "      <td>1</td>\n",
              "      <td>1</td>\n",
              "    </tr>\n",
              "    <tr>\n",
              "      <th>1</th>\n",
              "      <td>1</td>\n",
              "      <td>1</td>\n",
              "    </tr>\n",
              "    <tr>\n",
              "      <th>2</th>\n",
              "      <td>1</td>\n",
              "      <td>1</td>\n",
              "    </tr>\n",
              "    <tr>\n",
              "      <th>3</th>\n",
              "      <td>1</td>\n",
              "      <td>1</td>\n",
              "    </tr>\n",
              "    <tr>\n",
              "      <th>4</th>\n",
              "      <td>1</td>\n",
              "      <td>1</td>\n",
              "    </tr>\n",
              "    <tr>\n",
              "      <th>...</th>\n",
              "      <td>...</td>\n",
              "      <td>...</td>\n",
              "    </tr>\n",
              "    <tr>\n",
              "      <th>58</th>\n",
              "      <td>1</td>\n",
              "      <td>1</td>\n",
              "    </tr>\n",
              "    <tr>\n",
              "      <th>59</th>\n",
              "      <td>2</td>\n",
              "      <td>1</td>\n",
              "    </tr>\n",
              "    <tr>\n",
              "      <th>60</th>\n",
              "      <td>2</td>\n",
              "      <td>1</td>\n",
              "    </tr>\n",
              "    <tr>\n",
              "      <th>61</th>\n",
              "      <td>1</td>\n",
              "      <td>1</td>\n",
              "    </tr>\n",
              "    <tr>\n",
              "      <th>62</th>\n",
              "      <td>1</td>\n",
              "      <td>1</td>\n",
              "    </tr>\n",
              "  </tbody>\n",
              "</table>\n",
              "<p>63 rows × 2 columns</p>\n",
              "</div>\n",
              "    <div class=\"colab-df-buttons\">\n",
              "\n",
              "  <div class=\"colab-df-container\">\n",
              "    <button class=\"colab-df-convert\" onclick=\"convertToInteractive('df-82a3ffe0-977e-484a-bbd6-e52f20e90967')\"\n",
              "            title=\"Convert this dataframe to an interactive table.\"\n",
              "            style=\"display:none;\">\n",
              "\n",
              "  <svg xmlns=\"http://www.w3.org/2000/svg\" height=\"24px\" viewBox=\"0 -960 960 960\">\n",
              "    <path d=\"M120-120v-720h720v720H120Zm60-500h600v-160H180v160Zm220 220h160v-160H400v160Zm0 220h160v-160H400v160ZM180-400h160v-160H180v160Zm440 0h160v-160H620v160ZM180-180h160v-160H180v160Zm440 0h160v-160H620v160Z\"/>\n",
              "  </svg>\n",
              "    </button>\n",
              "\n",
              "  <style>\n",
              "    .colab-df-container {\n",
              "      display:flex;\n",
              "      gap: 12px;\n",
              "    }\n",
              "\n",
              "    .colab-df-convert {\n",
              "      background-color: #E8F0FE;\n",
              "      border: none;\n",
              "      border-radius: 50%;\n",
              "      cursor: pointer;\n",
              "      display: none;\n",
              "      fill: #1967D2;\n",
              "      height: 32px;\n",
              "      padding: 0 0 0 0;\n",
              "      width: 32px;\n",
              "    }\n",
              "\n",
              "    .colab-df-convert:hover {\n",
              "      background-color: #E2EBFA;\n",
              "      box-shadow: 0px 1px 2px rgba(60, 64, 67, 0.3), 0px 1px 3px 1px rgba(60, 64, 67, 0.15);\n",
              "      fill: #174EA6;\n",
              "    }\n",
              "\n",
              "    .colab-df-buttons div {\n",
              "      margin-bottom: 4px;\n",
              "    }\n",
              "\n",
              "    [theme=dark] .colab-df-convert {\n",
              "      background-color: #3B4455;\n",
              "      fill: #D2E3FC;\n",
              "    }\n",
              "\n",
              "    [theme=dark] .colab-df-convert:hover {\n",
              "      background-color: #434B5C;\n",
              "      box-shadow: 0px 1px 3px 1px rgba(0, 0, 0, 0.15);\n",
              "      filter: drop-shadow(0px 1px 2px rgba(0, 0, 0, 0.3));\n",
              "      fill: #FFFFFF;\n",
              "    }\n",
              "  </style>\n",
              "\n",
              "    <script>\n",
              "      const buttonEl =\n",
              "        document.querySelector('#df-82a3ffe0-977e-484a-bbd6-e52f20e90967 button.colab-df-convert');\n",
              "      buttonEl.style.display =\n",
              "        google.colab.kernel.accessAllowed ? 'block' : 'none';\n",
              "\n",
              "      async function convertToInteractive(key) {\n",
              "        const element = document.querySelector('#df-82a3ffe0-977e-484a-bbd6-e52f20e90967');\n",
              "        const dataTable =\n",
              "          await google.colab.kernel.invokeFunction('convertToInteractive',\n",
              "                                                    [key], {});\n",
              "        if (!dataTable) return;\n",
              "\n",
              "        const docLinkHtml = 'Like what you see? Visit the ' +\n",
              "          '<a target=\"_blank\" href=https://colab.research.google.com/notebooks/data_table.ipynb>data table notebook</a>'\n",
              "          + ' to learn more about interactive tables.';\n",
              "        element.innerHTML = '';\n",
              "        dataTable['output_type'] = 'display_data';\n",
              "        await google.colab.output.renderOutput(dataTable, element);\n",
              "        const docLink = document.createElement('div');\n",
              "        docLink.innerHTML = docLinkHtml;\n",
              "        element.appendChild(docLink);\n",
              "      }\n",
              "    </script>\n",
              "  </div>\n",
              "\n",
              "\n",
              "<div id=\"df-a302283e-9bd2-48dc-82d1-90188e156b1a\">\n",
              "  <button class=\"colab-df-quickchart\" onclick=\"quickchart('df-a302283e-9bd2-48dc-82d1-90188e156b1a')\"\n",
              "            title=\"Suggest charts\"\n",
              "            style=\"display:none;\">\n",
              "\n",
              "<svg xmlns=\"http://www.w3.org/2000/svg\" height=\"24px\"viewBox=\"0 0 24 24\"\n",
              "     width=\"24px\">\n",
              "    <g>\n",
              "        <path d=\"M19 3H5c-1.1 0-2 .9-2 2v14c0 1.1.9 2 2 2h14c1.1 0 2-.9 2-2V5c0-1.1-.9-2-2-2zM9 17H7v-7h2v7zm4 0h-2V7h2v10zm4 0h-2v-4h2v4z\"/>\n",
              "    </g>\n",
              "</svg>\n",
              "  </button>\n",
              "\n",
              "<style>\n",
              "  .colab-df-quickchart {\n",
              "      --bg-color: #E8F0FE;\n",
              "      --fill-color: #1967D2;\n",
              "      --hover-bg-color: #E2EBFA;\n",
              "      --hover-fill-color: #174EA6;\n",
              "      --disabled-fill-color: #AAA;\n",
              "      --disabled-bg-color: #DDD;\n",
              "  }\n",
              "\n",
              "  [theme=dark] .colab-df-quickchart {\n",
              "      --bg-color: #3B4455;\n",
              "      --fill-color: #D2E3FC;\n",
              "      --hover-bg-color: #434B5C;\n",
              "      --hover-fill-color: #FFFFFF;\n",
              "      --disabled-bg-color: #3B4455;\n",
              "      --disabled-fill-color: #666;\n",
              "  }\n",
              "\n",
              "  .colab-df-quickchart {\n",
              "    background-color: var(--bg-color);\n",
              "    border: none;\n",
              "    border-radius: 50%;\n",
              "    cursor: pointer;\n",
              "    display: none;\n",
              "    fill: var(--fill-color);\n",
              "    height: 32px;\n",
              "    padding: 0;\n",
              "    width: 32px;\n",
              "  }\n",
              "\n",
              "  .colab-df-quickchart:hover {\n",
              "    background-color: var(--hover-bg-color);\n",
              "    box-shadow: 0 1px 2px rgba(60, 64, 67, 0.3), 0 1px 3px 1px rgba(60, 64, 67, 0.15);\n",
              "    fill: var(--button-hover-fill-color);\n",
              "  }\n",
              "\n",
              "  .colab-df-quickchart-complete:disabled,\n",
              "  .colab-df-quickchart-complete:disabled:hover {\n",
              "    background-color: var(--disabled-bg-color);\n",
              "    fill: var(--disabled-fill-color);\n",
              "    box-shadow: none;\n",
              "  }\n",
              "\n",
              "  .colab-df-spinner {\n",
              "    border: 2px solid var(--fill-color);\n",
              "    border-color: transparent;\n",
              "    border-bottom-color: var(--fill-color);\n",
              "    animation:\n",
              "      spin 1s steps(1) infinite;\n",
              "  }\n",
              "\n",
              "  @keyframes spin {\n",
              "    0% {\n",
              "      border-color: transparent;\n",
              "      border-bottom-color: var(--fill-color);\n",
              "      border-left-color: var(--fill-color);\n",
              "    }\n",
              "    20% {\n",
              "      border-color: transparent;\n",
              "      border-left-color: var(--fill-color);\n",
              "      border-top-color: var(--fill-color);\n",
              "    }\n",
              "    30% {\n",
              "      border-color: transparent;\n",
              "      border-left-color: var(--fill-color);\n",
              "      border-top-color: var(--fill-color);\n",
              "      border-right-color: var(--fill-color);\n",
              "    }\n",
              "    40% {\n",
              "      border-color: transparent;\n",
              "      border-right-color: var(--fill-color);\n",
              "      border-top-color: var(--fill-color);\n",
              "    }\n",
              "    60% {\n",
              "      border-color: transparent;\n",
              "      border-right-color: var(--fill-color);\n",
              "    }\n",
              "    80% {\n",
              "      border-color: transparent;\n",
              "      border-right-color: var(--fill-color);\n",
              "      border-bottom-color: var(--fill-color);\n",
              "    }\n",
              "    90% {\n",
              "      border-color: transparent;\n",
              "      border-bottom-color: var(--fill-color);\n",
              "    }\n",
              "  }\n",
              "</style>\n",
              "\n",
              "  <script>\n",
              "    async function quickchart(key) {\n",
              "      const quickchartButtonEl =\n",
              "        document.querySelector('#' + key + ' button');\n",
              "      quickchartButtonEl.disabled = true;  // To prevent multiple clicks.\n",
              "      quickchartButtonEl.classList.add('colab-df-spinner');\n",
              "      try {\n",
              "        const charts = await google.colab.kernel.invokeFunction(\n",
              "            'suggestCharts', [key], {});\n",
              "      } catch (error) {\n",
              "        console.error('Error during call to suggestCharts:', error);\n",
              "      }\n",
              "      quickchartButtonEl.classList.remove('colab-df-spinner');\n",
              "      quickchartButtonEl.classList.add('colab-df-quickchart-complete');\n",
              "    }\n",
              "    (() => {\n",
              "      let quickchartButtonEl =\n",
              "        document.querySelector('#df-a302283e-9bd2-48dc-82d1-90188e156b1a button');\n",
              "      quickchartButtonEl.style.display =\n",
              "        google.colab.kernel.accessAllowed ? 'block' : 'none';\n",
              "    })();\n",
              "  </script>\n",
              "</div>\n",
              "\n",
              "  <div id=\"id_242a99f0-d8f7-4ec9-bd7e-53f30c859210\">\n",
              "    <style>\n",
              "      .colab-df-generate {\n",
              "        background-color: #E8F0FE;\n",
              "        border: none;\n",
              "        border-radius: 50%;\n",
              "        cursor: pointer;\n",
              "        display: none;\n",
              "        fill: #1967D2;\n",
              "        height: 32px;\n",
              "        padding: 0 0 0 0;\n",
              "        width: 32px;\n",
              "      }\n",
              "\n",
              "      .colab-df-generate:hover {\n",
              "        background-color: #E2EBFA;\n",
              "        box-shadow: 0px 1px 2px rgba(60, 64, 67, 0.3), 0px 1px 3px 1px rgba(60, 64, 67, 0.15);\n",
              "        fill: #174EA6;\n",
              "      }\n",
              "\n",
              "      [theme=dark] .colab-df-generate {\n",
              "        background-color: #3B4455;\n",
              "        fill: #D2E3FC;\n",
              "      }\n",
              "\n",
              "      [theme=dark] .colab-df-generate:hover {\n",
              "        background-color: #434B5C;\n",
              "        box-shadow: 0px 1px 3px 1px rgba(0, 0, 0, 0.15);\n",
              "        filter: drop-shadow(0px 1px 2px rgba(0, 0, 0, 0.3));\n",
              "        fill: #FFFFFF;\n",
              "      }\n",
              "    </style>\n",
              "    <button class=\"colab-df-generate\" onclick=\"generateWithVariable('df')\"\n",
              "            title=\"Generate code using this dataframe.\"\n",
              "            style=\"display:none;\">\n",
              "\n",
              "  <svg xmlns=\"http://www.w3.org/2000/svg\" height=\"24px\"viewBox=\"0 0 24 24\"\n",
              "       width=\"24px\">\n",
              "    <path d=\"M7,19H8.4L18.45,9,17,7.55,7,17.6ZM5,21V16.75L18.45,3.32a2,2,0,0,1,2.83,0l1.4,1.43a1.91,1.91,0,0,1,.58,1.4,1.91,1.91,0,0,1-.58,1.4L9.25,21ZM18.45,9,17,7.55Zm-12,3A5.31,5.31,0,0,0,4.9,8.1,5.31,5.31,0,0,0,1,6.5,5.31,5.31,0,0,0,4.9,4.9,5.31,5.31,0,0,0,6.5,1,5.31,5.31,0,0,0,8.1,4.9,5.31,5.31,0,0,0,12,6.5,5.46,5.46,0,0,0,6.5,12Z\"/>\n",
              "  </svg>\n",
              "    </button>\n",
              "    <script>\n",
              "      (() => {\n",
              "      const buttonEl =\n",
              "        document.querySelector('#id_242a99f0-d8f7-4ec9-bd7e-53f30c859210 button.colab-df-generate');\n",
              "      buttonEl.style.display =\n",
              "        google.colab.kernel.accessAllowed ? 'block' : 'none';\n",
              "\n",
              "      buttonEl.onclick = () => {\n",
              "        google.colab.notebook.generateWithVariable('df');\n",
              "      }\n",
              "      })();\n",
              "    </script>\n",
              "  </div>\n",
              "\n",
              "    </div>\n",
              "  </div>\n"
            ],
            "application/vnd.google.colaboratory.intrinsic+json": {
              "type": "dataframe",
              "variable_name": "df",
              "summary": "{\n  \"name\": \"df\",\n  \"rows\": 63,\n  \"fields\": [\n    {\n      \"column\": \"actual\",\n      \"properties\": {\n        \"dtype\": \"number\",\n        \"std\": 0,\n        \"min\": 0,\n        \"max\": 2,\n        \"num_unique_values\": 3,\n        \"samples\": [\n          1,\n          2,\n          0\n        ],\n        \"semantic_type\": \"\",\n        \"description\": \"\"\n      }\n    },\n    {\n      \"column\": \"predicted\",\n      \"properties\": {\n        \"dtype\": \"number\",\n        \"std\": 0,\n        \"min\": 0,\n        \"max\": 2,\n        \"num_unique_values\": 3,\n        \"samples\": [\n          1,\n          2,\n          0\n        ],\n        \"semantic_type\": \"\",\n        \"description\": \"\"\n      }\n    }\n  ]\n}"
            }
          },
          "metadata": {},
          "execution_count": 30
        }
      ],
      "source": [
        "df = pd.DataFrame({'actual': y_test, 'predicted': prediction})\n",
        "df"
      ]
    },
    {
      "cell_type": "markdown",
      "source": [],
      "metadata": {
        "id": "0CwBtj8T05r0"
      },
      "id": "0CwBtj8T05r0"
    },
    {
      "cell_type": "code",
      "source": [
        "import plotly\n",
        "plotly.__version__"
      ],
      "metadata": {
        "colab": {
          "base_uri": "https://localhost:8080/",
          "height": 35
        },
        "id": "1VxXI14d1oh9",
        "outputId": "b0362ff3-d6b8-48a0-bd66-ddf388ed41da"
      },
      "id": "1VxXI14d1oh9",
      "execution_count": 31,
      "outputs": [
        {
          "output_type": "execute_result",
          "data": {
            "text/plain": [
              "'5.15.0'"
            ],
            "application/vnd.google.colaboratory.intrinsic+json": {
              "type": "string"
            }
          },
          "metadata": {},
          "execution_count": 31
        }
      ]
    },
    {
      "cell_type": "code",
      "source": [
        "import plotly.io as pio\n",
        "pio.renderers.default = \"colab\""
      ],
      "metadata": {
        "id": "V56ZMdj212QB"
      },
      "id": "V56ZMdj212QB",
      "execution_count": 32,
      "outputs": []
    },
    {
      "cell_type": "code",
      "execution_count": 33,
      "id": "b24ac596",
      "metadata": {
        "execution": {
          "iopub.execute_input": "2023-04-01T13:41:48.838377Z",
          "iopub.status.busy": "2023-04-01T13:41:48.837465Z",
          "iopub.status.idle": "2023-04-01T13:41:54.540023Z",
          "shell.execute_reply": "2023-04-01T13:41:54.539057Z"
        },
        "papermill": {
          "duration": 5.740228,
          "end_time": "2023-04-01T13:41:54.542522",
          "exception": false,
          "start_time": "2023-04-01T13:41:48.802294",
          "status": "completed"
        },
        "tags": [],
        "colab": {
          "base_uri": "https://localhost:8080/",
          "height": 542
        },
        "id": "b24ac596",
        "outputId": "53d9fd76-f3e9-4308-8ffd-028b493f372c"
      },
      "outputs": [
        {
          "output_type": "display_data",
          "data": {
            "text/html": [
              "<html>\n",
              "<head><meta charset=\"utf-8\" /></head>\n",
              "<body>\n",
              "    <div>            <script src=\"https://cdnjs.cloudflare.com/ajax/libs/mathjax/2.7.5/MathJax.js?config=TeX-AMS-MML_SVG\"></script><script type=\"text/javascript\">if (window.MathJax && window.MathJax.Hub && window.MathJax.Hub.Config) {window.MathJax.Hub.Config({SVG: {font: \"STIX-Web\"}});}</script>                <script type=\"text/javascript\">window.PlotlyConfig = {MathJaxConfig: 'local'};</script>\n",
              "        <script charset=\"utf-8\" src=\"https://cdn.plot.ly/plotly-2.24.1.min.js\"></script>                <div id=\"4fdd317e-c5c9-485a-88ce-1561437a41d2\" class=\"plotly-graph-div\" style=\"height:525px; width:100%;\"></div>            <script type=\"text/javascript\">                                    window.PLOTLYENV=window.PLOTLYENV || {};                                    if (document.getElementById(\"4fdd317e-c5c9-485a-88ce-1561437a41d2\")) {                    Plotly.newPlot(                        \"4fdd317e-c5c9-485a-88ce-1561437a41d2\",                        [{\"hovertemplate\":\"variable=train\\u003cbr\\u003eindex=%{x}\\u003cbr\\u003evalue=%{y}\\u003cextra\\u003e\\u003c\\u002fextra\\u003e\",\"legendgroup\":\"train\",\"line\":{\"color\":\"#636efa\",\"dash\":\"solid\"},\"marker\":{\"symbol\":\"circle\"},\"mode\":\"markers+lines\",\"name\":\"train\",\"orientation\":\"v\",\"showlegend\":true,\"x\":[0,1,2,3,4,5,6,7,8,9,10,11,12,13,14,15,16,17,18,19,20,21,22,23,24,25,26,27,28,29,30,31,32,33,34,35,36,37,38,39,40,41],\"xaxis\":\"x\",\"y\":[0.5833333134651184,0.6220238208770752,0.6517857313156128,0.699404776096344,0.6666666865348816,0.6875,0.7202380895614624,0.7589285969734192,0.761904776096344,0.761904776096344,0.7529761791229248,0.7589285969734192,0.7797619104385376,0.788690447807312,0.7976190447807312,0.8095238208770752,0.836309552192688,0.8214285969734192,0.8482142686843872,0.8571428656578064,0.8333333134651184,0.8601190447807312,0.836309552192688,0.8333333134651184,0.8303571343421936,0.875,0.8690476417541504,0.8660714030265808,0.8720238208770752,0.9047619104385376,0.886904776096344,0.9047619104385376,0.9017857313156128,0.913690447807312,0.8898809552192688,0.9166666865348816,0.9077380895614624,0.9077380895614624,0.9017857313156128,0.898809552192688,0.9285714030265808,0.9077380895614624],\"yaxis\":\"y\",\"type\":\"scatter\"},{\"hovertemplate\":\"variable=val\\u003cbr\\u003eindex=%{x}\\u003cbr\\u003evalue=%{y}\\u003cextra\\u003e\\u003c\\u002fextra\\u003e\",\"legendgroup\":\"val\",\"line\":{\"color\":\"#EF553B\",\"dash\":\"solid\"},\"marker\":{\"symbol\":\"circle\"},\"mode\":\"markers+lines\",\"name\":\"val\",\"orientation\":\"v\",\"showlegend\":true,\"x\":[0,1,2,3,4,5,6,7,8,9,10,11,12,13,14,15,16,17,18,19,20,21,22,23,24,25,26,27,28,29,30,31,32,33,34,35,36,37,38,39,40,41],\"xaxis\":\"x\",\"y\":[0.6363636255264282,0.5909090638160706,0.6363636255264282,0.5909090638160706,0.6363636255264282,0.6363636255264282,0.6363636255264282,0.7727272510528564,0.6363636255264282,0.7727272510528564,0.5909090638160706,0.6363636255264282,0.7727272510528564,0.7727272510528564,0.7727272510528564,0.7727272510528564,0.7727272510528564,0.7727272510528564,0.7727272510528564,0.7727272510528564,0.7727272510528564,0.7727272510528564,0.7727272510528564,0.6818181872367859,0.7727272510528564,0.7727272510528564,0.7727272510528564,0.7272727489471436,0.7727272510528564,0.7272727489471436,0.7727272510528564,0.7272727489471436,0.7727272510528564,0.6818181872367859,0.7272727489471436,0.6818181872367859,0.7272727489471436,0.7272727489471436,0.6818181872367859,0.6818181872367859,0.6818181872367859,0.6818181872367859],\"yaxis\":\"y\",\"type\":\"scatter\"}],                        {\"template\":{\"data\":{\"histogram2dcontour\":[{\"type\":\"histogram2dcontour\",\"colorbar\":{\"outlinewidth\":0,\"ticks\":\"\"},\"colorscale\":[[0.0,\"#0d0887\"],[0.1111111111111111,\"#46039f\"],[0.2222222222222222,\"#7201a8\"],[0.3333333333333333,\"#9c179e\"],[0.4444444444444444,\"#bd3786\"],[0.5555555555555556,\"#d8576b\"],[0.6666666666666666,\"#ed7953\"],[0.7777777777777778,\"#fb9f3a\"],[0.8888888888888888,\"#fdca26\"],[1.0,\"#f0f921\"]]}],\"choropleth\":[{\"type\":\"choropleth\",\"colorbar\":{\"outlinewidth\":0,\"ticks\":\"\"}}],\"histogram2d\":[{\"type\":\"histogram2d\",\"colorbar\":{\"outlinewidth\":0,\"ticks\":\"\"},\"colorscale\":[[0.0,\"#0d0887\"],[0.1111111111111111,\"#46039f\"],[0.2222222222222222,\"#7201a8\"],[0.3333333333333333,\"#9c179e\"],[0.4444444444444444,\"#bd3786\"],[0.5555555555555556,\"#d8576b\"],[0.6666666666666666,\"#ed7953\"],[0.7777777777777778,\"#fb9f3a\"],[0.8888888888888888,\"#fdca26\"],[1.0,\"#f0f921\"]]}],\"heatmap\":[{\"type\":\"heatmap\",\"colorbar\":{\"outlinewidth\":0,\"ticks\":\"\"},\"colorscale\":[[0.0,\"#0d0887\"],[0.1111111111111111,\"#46039f\"],[0.2222222222222222,\"#7201a8\"],[0.3333333333333333,\"#9c179e\"],[0.4444444444444444,\"#bd3786\"],[0.5555555555555556,\"#d8576b\"],[0.6666666666666666,\"#ed7953\"],[0.7777777777777778,\"#fb9f3a\"],[0.8888888888888888,\"#fdca26\"],[1.0,\"#f0f921\"]]}],\"heatmapgl\":[{\"type\":\"heatmapgl\",\"colorbar\":{\"outlinewidth\":0,\"ticks\":\"\"},\"colorscale\":[[0.0,\"#0d0887\"],[0.1111111111111111,\"#46039f\"],[0.2222222222222222,\"#7201a8\"],[0.3333333333333333,\"#9c179e\"],[0.4444444444444444,\"#bd3786\"],[0.5555555555555556,\"#d8576b\"],[0.6666666666666666,\"#ed7953\"],[0.7777777777777778,\"#fb9f3a\"],[0.8888888888888888,\"#fdca26\"],[1.0,\"#f0f921\"]]}],\"contourcarpet\":[{\"type\":\"contourcarpet\",\"colorbar\":{\"outlinewidth\":0,\"ticks\":\"\"}}],\"contour\":[{\"type\":\"contour\",\"colorbar\":{\"outlinewidth\":0,\"ticks\":\"\"},\"colorscale\":[[0.0,\"#0d0887\"],[0.1111111111111111,\"#46039f\"],[0.2222222222222222,\"#7201a8\"],[0.3333333333333333,\"#9c179e\"],[0.4444444444444444,\"#bd3786\"],[0.5555555555555556,\"#d8576b\"],[0.6666666666666666,\"#ed7953\"],[0.7777777777777778,\"#fb9f3a\"],[0.8888888888888888,\"#fdca26\"],[1.0,\"#f0f921\"]]}],\"surface\":[{\"type\":\"surface\",\"colorbar\":{\"outlinewidth\":0,\"ticks\":\"\"},\"colorscale\":[[0.0,\"#0d0887\"],[0.1111111111111111,\"#46039f\"],[0.2222222222222222,\"#7201a8\"],[0.3333333333333333,\"#9c179e\"],[0.4444444444444444,\"#bd3786\"],[0.5555555555555556,\"#d8576b\"],[0.6666666666666666,\"#ed7953\"],[0.7777777777777778,\"#fb9f3a\"],[0.8888888888888888,\"#fdca26\"],[1.0,\"#f0f921\"]]}],\"mesh3d\":[{\"type\":\"mesh3d\",\"colorbar\":{\"outlinewidth\":0,\"ticks\":\"\"}}],\"scatter\":[{\"fillpattern\":{\"fillmode\":\"overlay\",\"size\":10,\"solidity\":0.2},\"type\":\"scatter\"}],\"parcoords\":[{\"type\":\"parcoords\",\"line\":{\"colorbar\":{\"outlinewidth\":0,\"ticks\":\"\"}}}],\"scatterpolargl\":[{\"type\":\"scatterpolargl\",\"marker\":{\"colorbar\":{\"outlinewidth\":0,\"ticks\":\"\"}}}],\"bar\":[{\"error_x\":{\"color\":\"#2a3f5f\"},\"error_y\":{\"color\":\"#2a3f5f\"},\"marker\":{\"line\":{\"color\":\"#E5ECF6\",\"width\":0.5},\"pattern\":{\"fillmode\":\"overlay\",\"size\":10,\"solidity\":0.2}},\"type\":\"bar\"}],\"scattergeo\":[{\"type\":\"scattergeo\",\"marker\":{\"colorbar\":{\"outlinewidth\":0,\"ticks\":\"\"}}}],\"scatterpolar\":[{\"type\":\"scatterpolar\",\"marker\":{\"colorbar\":{\"outlinewidth\":0,\"ticks\":\"\"}}}],\"histogram\":[{\"marker\":{\"pattern\":{\"fillmode\":\"overlay\",\"size\":10,\"solidity\":0.2}},\"type\":\"histogram\"}],\"scattergl\":[{\"type\":\"scattergl\",\"marker\":{\"colorbar\":{\"outlinewidth\":0,\"ticks\":\"\"}}}],\"scatter3d\":[{\"type\":\"scatter3d\",\"line\":{\"colorbar\":{\"outlinewidth\":0,\"ticks\":\"\"}},\"marker\":{\"colorbar\":{\"outlinewidth\":0,\"ticks\":\"\"}}}],\"scattermapbox\":[{\"type\":\"scattermapbox\",\"marker\":{\"colorbar\":{\"outlinewidth\":0,\"ticks\":\"\"}}}],\"scatterternary\":[{\"type\":\"scatterternary\",\"marker\":{\"colorbar\":{\"outlinewidth\":0,\"ticks\":\"\"}}}],\"scattercarpet\":[{\"type\":\"scattercarpet\",\"marker\":{\"colorbar\":{\"outlinewidth\":0,\"ticks\":\"\"}}}],\"carpet\":[{\"aaxis\":{\"endlinecolor\":\"#2a3f5f\",\"gridcolor\":\"white\",\"linecolor\":\"white\",\"minorgridcolor\":\"white\",\"startlinecolor\":\"#2a3f5f\"},\"baxis\":{\"endlinecolor\":\"#2a3f5f\",\"gridcolor\":\"white\",\"linecolor\":\"white\",\"minorgridcolor\":\"white\",\"startlinecolor\":\"#2a3f5f\"},\"type\":\"carpet\"}],\"table\":[{\"cells\":{\"fill\":{\"color\":\"#EBF0F8\"},\"line\":{\"color\":\"white\"}},\"header\":{\"fill\":{\"color\":\"#C8D4E3\"},\"line\":{\"color\":\"white\"}},\"type\":\"table\"}],\"barpolar\":[{\"marker\":{\"line\":{\"color\":\"#E5ECF6\",\"width\":0.5},\"pattern\":{\"fillmode\":\"overlay\",\"size\":10,\"solidity\":0.2}},\"type\":\"barpolar\"}],\"pie\":[{\"automargin\":true,\"type\":\"pie\"}]},\"layout\":{\"autotypenumbers\":\"strict\",\"colorway\":[\"#636efa\",\"#EF553B\",\"#00cc96\",\"#ab63fa\",\"#FFA15A\",\"#19d3f3\",\"#FF6692\",\"#B6E880\",\"#FF97FF\",\"#FECB52\"],\"font\":{\"color\":\"#2a3f5f\"},\"hovermode\":\"closest\",\"hoverlabel\":{\"align\":\"left\"},\"paper_bgcolor\":\"white\",\"plot_bgcolor\":\"#E5ECF6\",\"polar\":{\"bgcolor\":\"#E5ECF6\",\"angularaxis\":{\"gridcolor\":\"white\",\"linecolor\":\"white\",\"ticks\":\"\"},\"radialaxis\":{\"gridcolor\":\"white\",\"linecolor\":\"white\",\"ticks\":\"\"}},\"ternary\":{\"bgcolor\":\"#E5ECF6\",\"aaxis\":{\"gridcolor\":\"white\",\"linecolor\":\"white\",\"ticks\":\"\"},\"baxis\":{\"gridcolor\":\"white\",\"linecolor\":\"white\",\"ticks\":\"\"},\"caxis\":{\"gridcolor\":\"white\",\"linecolor\":\"white\",\"ticks\":\"\"}},\"coloraxis\":{\"colorbar\":{\"outlinewidth\":0,\"ticks\":\"\"}},\"colorscale\":{\"sequential\":[[0.0,\"#0d0887\"],[0.1111111111111111,\"#46039f\"],[0.2222222222222222,\"#7201a8\"],[0.3333333333333333,\"#9c179e\"],[0.4444444444444444,\"#bd3786\"],[0.5555555555555556,\"#d8576b\"],[0.6666666666666666,\"#ed7953\"],[0.7777777777777778,\"#fb9f3a\"],[0.8888888888888888,\"#fdca26\"],[1.0,\"#f0f921\"]],\"sequentialminus\":[[0.0,\"#0d0887\"],[0.1111111111111111,\"#46039f\"],[0.2222222222222222,\"#7201a8\"],[0.3333333333333333,\"#9c179e\"],[0.4444444444444444,\"#bd3786\"],[0.5555555555555556,\"#d8576b\"],[0.6666666666666666,\"#ed7953\"],[0.7777777777777778,\"#fb9f3a\"],[0.8888888888888888,\"#fdca26\"],[1.0,\"#f0f921\"]],\"diverging\":[[0,\"#8e0152\"],[0.1,\"#c51b7d\"],[0.2,\"#de77ae\"],[0.3,\"#f1b6da\"],[0.4,\"#fde0ef\"],[0.5,\"#f7f7f7\"],[0.6,\"#e6f5d0\"],[0.7,\"#b8e186\"],[0.8,\"#7fbc41\"],[0.9,\"#4d9221\"],[1,\"#276419\"]]},\"xaxis\":{\"gridcolor\":\"white\",\"linecolor\":\"white\",\"ticks\":\"\",\"title\":{\"standoff\":15},\"zerolinecolor\":\"white\",\"automargin\":true,\"zerolinewidth\":2},\"yaxis\":{\"gridcolor\":\"white\",\"linecolor\":\"white\",\"ticks\":\"\",\"title\":{\"standoff\":15},\"zerolinecolor\":\"white\",\"automargin\":true,\"zerolinewidth\":2},\"scene\":{\"xaxis\":{\"backgroundcolor\":\"#E5ECF6\",\"gridcolor\":\"white\",\"linecolor\":\"white\",\"showbackground\":true,\"ticks\":\"\",\"zerolinecolor\":\"white\",\"gridwidth\":2},\"yaxis\":{\"backgroundcolor\":\"#E5ECF6\",\"gridcolor\":\"white\",\"linecolor\":\"white\",\"showbackground\":true,\"ticks\":\"\",\"zerolinecolor\":\"white\",\"gridwidth\":2},\"zaxis\":{\"backgroundcolor\":\"#E5ECF6\",\"gridcolor\":\"white\",\"linecolor\":\"white\",\"showbackground\":true,\"ticks\":\"\",\"zerolinecolor\":\"white\",\"gridwidth\":2}},\"shapedefaults\":{\"line\":{\"color\":\"#2a3f5f\"}},\"annotationdefaults\":{\"arrowcolor\":\"#2a3f5f\",\"arrowhead\":0,\"arrowwidth\":1},\"geo\":{\"bgcolor\":\"white\",\"landcolor\":\"#E5ECF6\",\"subunitcolor\":\"white\",\"showland\":true,\"showlakes\":true,\"lakecolor\":\"white\"},\"title\":{\"x\":0.05},\"mapbox\":{\"style\":\"light\"}}},\"xaxis\":{\"anchor\":\"y\",\"domain\":[0.0,1.0],\"title\":{\"text\":\"index\"}},\"yaxis\":{\"anchor\":\"x\",\"domain\":[0.0,1.0],\"title\":{\"text\":\"value\"}},\"legend\":{\"title\":{\"text\":\"variable\"},\"tracegroupgap\":0},\"title\":{\"text\":\"Training and Evaluation Accuracy every Epoch\"}},                        {\"responsive\": true}                    ).then(function(){\n",
              "                            \n",
              "var gd = document.getElementById('4fdd317e-c5c9-485a-88ce-1561437a41d2');\n",
              "var x = new MutationObserver(function (mutations, observer) {{\n",
              "        var display = window.getComputedStyle(gd).display;\n",
              "        if (!display || display === 'none') {{\n",
              "            console.log([gd, 'removed!']);\n",
              "            Plotly.purge(gd);\n",
              "            observer.disconnect();\n",
              "        }}\n",
              "}});\n",
              "\n",
              "// Listen for the removal of the full notebook cells\n",
              "var notebookContainer = gd.closest('#notebook-container');\n",
              "if (notebookContainer) {{\n",
              "    x.observe(notebookContainer, {childList: true});\n",
              "}}\n",
              "\n",
              "// Listen for the clearing of the current output cell\n",
              "var outputEl = gd.closest('.output');\n",
              "if (outputEl) {{\n",
              "    x.observe(outputEl, {childList: true});\n",
              "}}\n",
              "\n",
              "                        })                };                            </script>        </div>\n",
              "</body>\n",
              "</html>"
            ]
          },
          "metadata": {}
        }
      ],
      "source": [
        "import plotly.express as px\n",
        "\n",
        "acc = pd.DataFrame({'train': history.history['accuracy'],\n",
        "                    'val': history.history['val_accuracy']})\n",
        "\n",
        "fig = px.line(acc, x=acc.index, y=acc.columns[0::],\n",
        "              title='Training and Evaluation Accuracy every Epoch', markers=True)\n",
        "fig.show()"
      ]
    },
    {
      "cell_type": "code",
      "execution_count": 34,
      "id": "58acae3b",
      "metadata": {
        "execution": {
          "iopub.execute_input": "2023-04-01T13:41:54.622672Z",
          "iopub.status.busy": "2023-04-01T13:41:54.622371Z",
          "iopub.status.idle": "2023-04-01T13:41:54.680443Z",
          "shell.execute_reply": "2023-04-01T13:41:54.679326Z"
        },
        "papermill": {
          "duration": 0.101034,
          "end_time": "2023-04-01T13:41:54.683717",
          "exception": false,
          "start_time": "2023-04-01T13:41:54.582683",
          "status": "completed"
        },
        "tags": [],
        "colab": {
          "base_uri": "https://localhost:8080/",
          "height": 542
        },
        "id": "58acae3b",
        "outputId": "0daaf50e-c5ee-4831-95bf-2f2c1ba8e7bb"
      },
      "outputs": [
        {
          "output_type": "display_data",
          "data": {
            "text/html": [
              "<html>\n",
              "<head><meta charset=\"utf-8\" /></head>\n",
              "<body>\n",
              "    <div>            <script src=\"https://cdnjs.cloudflare.com/ajax/libs/mathjax/2.7.5/MathJax.js?config=TeX-AMS-MML_SVG\"></script><script type=\"text/javascript\">if (window.MathJax && window.MathJax.Hub && window.MathJax.Hub.Config) {window.MathJax.Hub.Config({SVG: {font: \"STIX-Web\"}});}</script>                <script type=\"text/javascript\">window.PlotlyConfig = {MathJaxConfig: 'local'};</script>\n",
              "        <script charset=\"utf-8\" src=\"https://cdn.plot.ly/plotly-2.24.1.min.js\"></script>                <div id=\"4f5e27e8-de27-4040-a15b-289592128011\" class=\"plotly-graph-div\" style=\"height:525px; width:100%;\"></div>            <script type=\"text/javascript\">                                    window.PLOTLYENV=window.PLOTLYENV || {};                                    if (document.getElementById(\"4f5e27e8-de27-4040-a15b-289592128011\")) {                    Plotly.newPlot(                        \"4f5e27e8-de27-4040-a15b-289592128011\",                        [{\"hovertemplate\":\"variable=train\\u003cbr\\u003eindex=%{x}\\u003cbr\\u003evalue=%{y}\\u003cextra\\u003e\\u003c\\u002fextra\\u003e\",\"legendgroup\":\"train\",\"line\":{\"color\":\"#636efa\",\"dash\":\"solid\"},\"marker\":{\"symbol\":\"circle\"},\"mode\":\"markers+lines\",\"name\":\"train\",\"orientation\":\"v\",\"showlegend\":true,\"x\":[0,1,2,3,4,5,6,7,8,9,10,11,12,13,14,15,16,17,18,19,20,21,22,23,24,25,26,27,28,29,30,31,32,33,34,35,36,37,38,39,40,41],\"xaxis\":\"x\",\"y\":[1.0599164962768555,0.9105080366134644,0.8500176668167114,0.7478505373001099,0.7653450965881348,0.7193791270256042,0.6313585638999939,0.5917366147041321,0.5755613446235657,0.5572812557220459,0.5443359017372131,0.5344048738479614,0.5125176310539246,0.4878506064414978,0.4860634505748749,0.47496581077575684,0.4266734719276428,0.449556440114975,0.40227431058883667,0.3909899890422821,0.39463797211647034,0.38088181614875793,0.3833142817020416,0.39360037446022034,0.3902023434638977,0.35389798879623413,0.3382209241390228,0.34945225715637207,0.3358907103538513,0.3056984543800354,0.308757483959198,0.3028731942176819,0.2979162633419037,0.3019942045211792,0.29436588287353516,0.2966134250164032,0.27697262167930603,0.2686748504638672,0.2878909111022949,0.2722446918487549,0.26050543785095215,0.2805653214454651],\"yaxis\":\"y\",\"type\":\"scatter\"},{\"hovertemplate\":\"variable=val\\u003cbr\\u003eindex=%{x}\\u003cbr\\u003evalue=%{y}\\u003cextra\\u003e\\u003c\\u002fextra\\u003e\",\"legendgroup\":\"val\",\"line\":{\"color\":\"#EF553B\",\"dash\":\"solid\"},\"marker\":{\"symbol\":\"circle\"},\"mode\":\"markers+lines\",\"name\":\"val\",\"orientation\":\"v\",\"showlegend\":true,\"x\":[0,1,2,3,4,5,6,7,8,9,10,11,12,13,14,15,16,17,18,19,20,21,22,23,24,25,26,27,28,29,30,31,32,33,34,35,36,37,38,39,40,41],\"xaxis\":\"x\",\"y\":[0.9084766507148743,0.7771299481391907,0.8281469941139221,0.7384154796600342,0.7885856032371521,0.6900217533111572,0.7020353078842163,0.6547084450721741,0.7312082648277283,0.658886194229126,0.7009272575378418,0.7112855315208435,0.6289426684379578,0.6559622287750244,0.6746740341186523,0.6295165419578552,0.6144012808799744,0.6622633337974548,0.6449936032295227,0.6638817191123962,0.6581681966781616,0.6643016934394836,0.6182345747947693,0.704085648059845,0.6149901747703552,0.6870127320289612,0.656114935874939,0.6769237518310547,0.6620852947235107,0.6828510761260986,0.641814649105072,0.6885608434677124,0.6509656310081482,0.7073348164558411,0.6422337889671326,0.6810119152069092,0.6841672658920288,0.6627541184425354,0.7340956330299377,0.6824326515197754,0.6826366782188416,0.7800544500350952],\"yaxis\":\"y\",\"type\":\"scatter\"}],                        {\"template\":{\"data\":{\"histogram2dcontour\":[{\"type\":\"histogram2dcontour\",\"colorbar\":{\"outlinewidth\":0,\"ticks\":\"\"},\"colorscale\":[[0.0,\"#0d0887\"],[0.1111111111111111,\"#46039f\"],[0.2222222222222222,\"#7201a8\"],[0.3333333333333333,\"#9c179e\"],[0.4444444444444444,\"#bd3786\"],[0.5555555555555556,\"#d8576b\"],[0.6666666666666666,\"#ed7953\"],[0.7777777777777778,\"#fb9f3a\"],[0.8888888888888888,\"#fdca26\"],[1.0,\"#f0f921\"]]}],\"choropleth\":[{\"type\":\"choropleth\",\"colorbar\":{\"outlinewidth\":0,\"ticks\":\"\"}}],\"histogram2d\":[{\"type\":\"histogram2d\",\"colorbar\":{\"outlinewidth\":0,\"ticks\":\"\"},\"colorscale\":[[0.0,\"#0d0887\"],[0.1111111111111111,\"#46039f\"],[0.2222222222222222,\"#7201a8\"],[0.3333333333333333,\"#9c179e\"],[0.4444444444444444,\"#bd3786\"],[0.5555555555555556,\"#d8576b\"],[0.6666666666666666,\"#ed7953\"],[0.7777777777777778,\"#fb9f3a\"],[0.8888888888888888,\"#fdca26\"],[1.0,\"#f0f921\"]]}],\"heatmap\":[{\"type\":\"heatmap\",\"colorbar\":{\"outlinewidth\":0,\"ticks\":\"\"},\"colorscale\":[[0.0,\"#0d0887\"],[0.1111111111111111,\"#46039f\"],[0.2222222222222222,\"#7201a8\"],[0.3333333333333333,\"#9c179e\"],[0.4444444444444444,\"#bd3786\"],[0.5555555555555556,\"#d8576b\"],[0.6666666666666666,\"#ed7953\"],[0.7777777777777778,\"#fb9f3a\"],[0.8888888888888888,\"#fdca26\"],[1.0,\"#f0f921\"]]}],\"heatmapgl\":[{\"type\":\"heatmapgl\",\"colorbar\":{\"outlinewidth\":0,\"ticks\":\"\"},\"colorscale\":[[0.0,\"#0d0887\"],[0.1111111111111111,\"#46039f\"],[0.2222222222222222,\"#7201a8\"],[0.3333333333333333,\"#9c179e\"],[0.4444444444444444,\"#bd3786\"],[0.5555555555555556,\"#d8576b\"],[0.6666666666666666,\"#ed7953\"],[0.7777777777777778,\"#fb9f3a\"],[0.8888888888888888,\"#fdca26\"],[1.0,\"#f0f921\"]]}],\"contourcarpet\":[{\"type\":\"contourcarpet\",\"colorbar\":{\"outlinewidth\":0,\"ticks\":\"\"}}],\"contour\":[{\"type\":\"contour\",\"colorbar\":{\"outlinewidth\":0,\"ticks\":\"\"},\"colorscale\":[[0.0,\"#0d0887\"],[0.1111111111111111,\"#46039f\"],[0.2222222222222222,\"#7201a8\"],[0.3333333333333333,\"#9c179e\"],[0.4444444444444444,\"#bd3786\"],[0.5555555555555556,\"#d8576b\"],[0.6666666666666666,\"#ed7953\"],[0.7777777777777778,\"#fb9f3a\"],[0.8888888888888888,\"#fdca26\"],[1.0,\"#f0f921\"]]}],\"surface\":[{\"type\":\"surface\",\"colorbar\":{\"outlinewidth\":0,\"ticks\":\"\"},\"colorscale\":[[0.0,\"#0d0887\"],[0.1111111111111111,\"#46039f\"],[0.2222222222222222,\"#7201a8\"],[0.3333333333333333,\"#9c179e\"],[0.4444444444444444,\"#bd3786\"],[0.5555555555555556,\"#d8576b\"],[0.6666666666666666,\"#ed7953\"],[0.7777777777777778,\"#fb9f3a\"],[0.8888888888888888,\"#fdca26\"],[1.0,\"#f0f921\"]]}],\"mesh3d\":[{\"type\":\"mesh3d\",\"colorbar\":{\"outlinewidth\":0,\"ticks\":\"\"}}],\"scatter\":[{\"fillpattern\":{\"fillmode\":\"overlay\",\"size\":10,\"solidity\":0.2},\"type\":\"scatter\"}],\"parcoords\":[{\"type\":\"parcoords\",\"line\":{\"colorbar\":{\"outlinewidth\":0,\"ticks\":\"\"}}}],\"scatterpolargl\":[{\"type\":\"scatterpolargl\",\"marker\":{\"colorbar\":{\"outlinewidth\":0,\"ticks\":\"\"}}}],\"bar\":[{\"error_x\":{\"color\":\"#2a3f5f\"},\"error_y\":{\"color\":\"#2a3f5f\"},\"marker\":{\"line\":{\"color\":\"#E5ECF6\",\"width\":0.5},\"pattern\":{\"fillmode\":\"overlay\",\"size\":10,\"solidity\":0.2}},\"type\":\"bar\"}],\"scattergeo\":[{\"type\":\"scattergeo\",\"marker\":{\"colorbar\":{\"outlinewidth\":0,\"ticks\":\"\"}}}],\"scatterpolar\":[{\"type\":\"scatterpolar\",\"marker\":{\"colorbar\":{\"outlinewidth\":0,\"ticks\":\"\"}}}],\"histogram\":[{\"marker\":{\"pattern\":{\"fillmode\":\"overlay\",\"size\":10,\"solidity\":0.2}},\"type\":\"histogram\"}],\"scattergl\":[{\"type\":\"scattergl\",\"marker\":{\"colorbar\":{\"outlinewidth\":0,\"ticks\":\"\"}}}],\"scatter3d\":[{\"type\":\"scatter3d\",\"line\":{\"colorbar\":{\"outlinewidth\":0,\"ticks\":\"\"}},\"marker\":{\"colorbar\":{\"outlinewidth\":0,\"ticks\":\"\"}}}],\"scattermapbox\":[{\"type\":\"scattermapbox\",\"marker\":{\"colorbar\":{\"outlinewidth\":0,\"ticks\":\"\"}}}],\"scatterternary\":[{\"type\":\"scatterternary\",\"marker\":{\"colorbar\":{\"outlinewidth\":0,\"ticks\":\"\"}}}],\"scattercarpet\":[{\"type\":\"scattercarpet\",\"marker\":{\"colorbar\":{\"outlinewidth\":0,\"ticks\":\"\"}}}],\"carpet\":[{\"aaxis\":{\"endlinecolor\":\"#2a3f5f\",\"gridcolor\":\"white\",\"linecolor\":\"white\",\"minorgridcolor\":\"white\",\"startlinecolor\":\"#2a3f5f\"},\"baxis\":{\"endlinecolor\":\"#2a3f5f\",\"gridcolor\":\"white\",\"linecolor\":\"white\",\"minorgridcolor\":\"white\",\"startlinecolor\":\"#2a3f5f\"},\"type\":\"carpet\"}],\"table\":[{\"cells\":{\"fill\":{\"color\":\"#EBF0F8\"},\"line\":{\"color\":\"white\"}},\"header\":{\"fill\":{\"color\":\"#C8D4E3\"},\"line\":{\"color\":\"white\"}},\"type\":\"table\"}],\"barpolar\":[{\"marker\":{\"line\":{\"color\":\"#E5ECF6\",\"width\":0.5},\"pattern\":{\"fillmode\":\"overlay\",\"size\":10,\"solidity\":0.2}},\"type\":\"barpolar\"}],\"pie\":[{\"automargin\":true,\"type\":\"pie\"}]},\"layout\":{\"autotypenumbers\":\"strict\",\"colorway\":[\"#636efa\",\"#EF553B\",\"#00cc96\",\"#ab63fa\",\"#FFA15A\",\"#19d3f3\",\"#FF6692\",\"#B6E880\",\"#FF97FF\",\"#FECB52\"],\"font\":{\"color\":\"#2a3f5f\"},\"hovermode\":\"closest\",\"hoverlabel\":{\"align\":\"left\"},\"paper_bgcolor\":\"white\",\"plot_bgcolor\":\"#E5ECF6\",\"polar\":{\"bgcolor\":\"#E5ECF6\",\"angularaxis\":{\"gridcolor\":\"white\",\"linecolor\":\"white\",\"ticks\":\"\"},\"radialaxis\":{\"gridcolor\":\"white\",\"linecolor\":\"white\",\"ticks\":\"\"}},\"ternary\":{\"bgcolor\":\"#E5ECF6\",\"aaxis\":{\"gridcolor\":\"white\",\"linecolor\":\"white\",\"ticks\":\"\"},\"baxis\":{\"gridcolor\":\"white\",\"linecolor\":\"white\",\"ticks\":\"\"},\"caxis\":{\"gridcolor\":\"white\",\"linecolor\":\"white\",\"ticks\":\"\"}},\"coloraxis\":{\"colorbar\":{\"outlinewidth\":0,\"ticks\":\"\"}},\"colorscale\":{\"sequential\":[[0.0,\"#0d0887\"],[0.1111111111111111,\"#46039f\"],[0.2222222222222222,\"#7201a8\"],[0.3333333333333333,\"#9c179e\"],[0.4444444444444444,\"#bd3786\"],[0.5555555555555556,\"#d8576b\"],[0.6666666666666666,\"#ed7953\"],[0.7777777777777778,\"#fb9f3a\"],[0.8888888888888888,\"#fdca26\"],[1.0,\"#f0f921\"]],\"sequentialminus\":[[0.0,\"#0d0887\"],[0.1111111111111111,\"#46039f\"],[0.2222222222222222,\"#7201a8\"],[0.3333333333333333,\"#9c179e\"],[0.4444444444444444,\"#bd3786\"],[0.5555555555555556,\"#d8576b\"],[0.6666666666666666,\"#ed7953\"],[0.7777777777777778,\"#fb9f3a\"],[0.8888888888888888,\"#fdca26\"],[1.0,\"#f0f921\"]],\"diverging\":[[0,\"#8e0152\"],[0.1,\"#c51b7d\"],[0.2,\"#de77ae\"],[0.3,\"#f1b6da\"],[0.4,\"#fde0ef\"],[0.5,\"#f7f7f7\"],[0.6,\"#e6f5d0\"],[0.7,\"#b8e186\"],[0.8,\"#7fbc41\"],[0.9,\"#4d9221\"],[1,\"#276419\"]]},\"xaxis\":{\"gridcolor\":\"white\",\"linecolor\":\"white\",\"ticks\":\"\",\"title\":{\"standoff\":15},\"zerolinecolor\":\"white\",\"automargin\":true,\"zerolinewidth\":2},\"yaxis\":{\"gridcolor\":\"white\",\"linecolor\":\"white\",\"ticks\":\"\",\"title\":{\"standoff\":15},\"zerolinecolor\":\"white\",\"automargin\":true,\"zerolinewidth\":2},\"scene\":{\"xaxis\":{\"backgroundcolor\":\"#E5ECF6\",\"gridcolor\":\"white\",\"linecolor\":\"white\",\"showbackground\":true,\"ticks\":\"\",\"zerolinecolor\":\"white\",\"gridwidth\":2},\"yaxis\":{\"backgroundcolor\":\"#E5ECF6\",\"gridcolor\":\"white\",\"linecolor\":\"white\",\"showbackground\":true,\"ticks\":\"\",\"zerolinecolor\":\"white\",\"gridwidth\":2},\"zaxis\":{\"backgroundcolor\":\"#E5ECF6\",\"gridcolor\":\"white\",\"linecolor\":\"white\",\"showbackground\":true,\"ticks\":\"\",\"zerolinecolor\":\"white\",\"gridwidth\":2}},\"shapedefaults\":{\"line\":{\"color\":\"#2a3f5f\"}},\"annotationdefaults\":{\"arrowcolor\":\"#2a3f5f\",\"arrowhead\":0,\"arrowwidth\":1},\"geo\":{\"bgcolor\":\"white\",\"landcolor\":\"#E5ECF6\",\"subunitcolor\":\"white\",\"showland\":true,\"showlakes\":true,\"lakecolor\":\"white\"},\"title\":{\"x\":0.05},\"mapbox\":{\"style\":\"light\"}}},\"xaxis\":{\"anchor\":\"y\",\"domain\":[0.0,1.0],\"title\":{\"text\":\"index\"}},\"yaxis\":{\"anchor\":\"x\",\"domain\":[0.0,1.0],\"title\":{\"text\":\"value\"}},\"legend\":{\"title\":{\"text\":\"variable\"},\"tracegroupgap\":0},\"title\":{\"text\":\"Training and Evaluation Loss every Epoch\"}},                        {\"responsive\": true}                    ).then(function(){\n",
              "                            \n",
              "var gd = document.getElementById('4f5e27e8-de27-4040-a15b-289592128011');\n",
              "var x = new MutationObserver(function (mutations, observer) {{\n",
              "        var display = window.getComputedStyle(gd).display;\n",
              "        if (!display || display === 'none') {{\n",
              "            console.log([gd, 'removed!']);\n",
              "            Plotly.purge(gd);\n",
              "            observer.disconnect();\n",
              "        }}\n",
              "}});\n",
              "\n",
              "// Listen for the removal of the full notebook cells\n",
              "var notebookContainer = gd.closest('#notebook-container');\n",
              "if (notebookContainer) {{\n",
              "    x.observe(notebookContainer, {childList: true});\n",
              "}}\n",
              "\n",
              "// Listen for the clearing of the current output cell\n",
              "var outputEl = gd.closest('.output');\n",
              "if (outputEl) {{\n",
              "    x.observe(outputEl, {childList: true});\n",
              "}}\n",
              "\n",
              "                        })                };                            </script>        </div>\n",
              "</body>\n",
              "</html>"
            ]
          },
          "metadata": {}
        }
      ],
      "source": [
        "loss = pd.DataFrame({'train': history.history['loss'],\n",
        "                     'val': history.history['val_loss']})\n",
        "\n",
        "fig = px.line(loss, x=loss.index, y=loss.columns[0::],\n",
        "              title='Training and Evaluation Loss every Epoch', markers=True)\n",
        "fig.show()"
      ]
    }
  ],
  "metadata": {
    "kernelspec": {
      "display_name": "Python 3",
      "name": "python3"
    },
    "language_info": {
      "codemirror_mode": {
        "name": "ipython",
        "version": 3
      },
      "file_extension": ".py",
      "mimetype": "text/x-python",
      "name": "python",
      "nbconvert_exporter": "python",
      "pygments_lexer": "ipython3",
      "version": "3.7.12"
    },
    "papermill": {
      "default_parameters": {},
      "duration": 97.9189,
      "end_time": "2023-04-01T13:41:58.583492",
      "environment_variables": {},
      "exception": null,
      "input_path": "__notebook__.ipynb",
      "output_path": "__notebook__.ipynb",
      "parameters": {},
      "start_time": "2023-04-01T13:40:20.664592",
      "version": "2.4.0"
    },
    "colab": {
      "provenance": [],
      "gpuType": "T4",
      "include_colab_link": true
    },
    "accelerator": "GPU"
  },
  "nbformat": 4,
  "nbformat_minor": 5
}