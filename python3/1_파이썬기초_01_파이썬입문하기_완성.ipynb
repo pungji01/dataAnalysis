{
  "cells": [
    {
      "cell_type": "markdown",
      "metadata": {
        "id": "view-in-github",
        "colab_type": "text"
      },
      "source": [
        "<a href=\"https://colab.research.google.com/github/pungji01/dataAnalysis/blob/main/1_%ED%8C%8C%EC%9D%B4%EC%8D%AC%EA%B8%B0%EC%B4%88_01_%ED%8C%8C%EC%9D%B4%EC%8D%AC%EC%9E%85%EB%AC%B8%ED%95%98%EA%B8%B0_%EC%99%84%EC%84%B1.ipynb\" target=\"_parent\"><img src=\"https://colab.research.google.com/assets/colab-badge.svg\" alt=\"Open In Colab\"/></a>"
      ]
    },
    {
      "cell_type": "markdown",
      "id": "5b39199b",
      "metadata": {
        "id": "5b39199b"
      },
      "source": [
        "# 파이썬 기초"
      ]
    },
    {
      "cell_type": "markdown",
      "id": "3f3da3bd",
      "metadata": {
        "id": "3f3da3bd"
      },
      "source": [
        "# 1. 파이썬 입문하기\n",
        "파이썬 소개 및 파이썬 학습환경 만들기"
      ]
    },
    {
      "cell_type": "markdown",
      "id": "0c52a67e",
      "metadata": {
        "id": "0c52a67e"
      },
      "source": [
        "----------------------------------"
      ]
    },
    {
      "cell_type": "markdown",
      "id": "2703dc18-b6a4-4904-a8a0-9d6cd7c66c3b",
      "metadata": {
        "id": "2703dc18-b6a4-4904-a8a0-9d6cd7c66c3b"
      },
      "source": [
        "### 1-1.파이썬 코드 작성시 주의사항"
      ]
    },
    {
      "cell_type": "markdown",
      "id": "e364a1de-7939-485a-8e4b-80648f460ad8",
      "metadata": {
        "id": "e364a1de-7939-485a-8e4b-80648f460ad8"
      },
      "source": [
        "- 파이썬 명령은 기본 적으로 위에서 아래로 순차 처리된다.\n",
        "- 중간에 오류가 발생하면 그 다음 행은 실행되지 않는다.\n",
        "- 파이썬에서 들여쓰기(tab으로 이동되는 공백)도 명령의 일종으로 아무 곳에서 공백을 만들면 안된다.\n",
        "- 파이썬은 대〮소문자를 구별한다.\n",
        "- 파이썬에서 주석은 한 줄 주석(# 기호 사용), 여러 줄 주석(‘’’ ’’’ 또는 “”” ”””) 으로 표시한다.\n"
      ]
    },
    {
      "cell_type": "markdown",
      "id": "11668415",
      "metadata": {
        "id": "11668415"
      },
      "source": [
        "#### #주석표시\n",
        "**주석** : 코드에서 실행되지는 않지만 사람이 이해할 수 있도록 설명하는 문장\n",
        "- **#** 문장 앞에 이 기호를 사용\n",
        "- **작은따옴표(''' ''')** 또는 **큰따옴표(\"\"\" \"\"\")** 를 세개 사용하는 경우는 주석표시로 사용된다."
      ]
    },
    {
      "cell_type": "code",
      "execution_count": null,
      "id": "d0b4d454",
      "metadata": {
        "id": "d0b4d454",
        "outputId": "431a1513-d23c-45b7-b369-bc1e0e2d2267"
      },
      "outputs": [
        {
          "name": "stdout",
          "output_type": "stream",
          "text": [
            "60\n"
          ]
        }
      ],
      "source": [
        "# 이것은 주석입니다.\n",
        "a = 10\n",
        "b = 50\n",
        "''' 이것도 주석입니다.\n",
        "a = 30\n",
        "b = 70\n",
        "'''\n",
        "print(a + b)"
      ]
    },
    {
      "cell_type": "markdown",
      "id": "b11c5643",
      "metadata": {
        "id": "b11c5643"
      },
      "source": [
        "### 1-2.파이썬에서 자주 발생하는 오류 유형\n",
        "https://docs.python.org/ko/3/tutorial/errors.html#errors-and-exceptions"
      ]
    },
    {
      "cell_type": "markdown",
      "id": "f865521f",
      "metadata": {
        "jp-MarkdownHeadingCollapsed": true,
        "id": "f865521f"
      },
      "source": [
        "- python SyntaxError\n",
        "- python ValueError\n",
        "- python NameError\n",
        "- python IndexError\n",
        "- python ZeroDivisionError\n",
        "- python TypeError\n",
        "- python FileNotFoundError\n",
        "등등"
      ]
    },
    {
      "cell_type": "markdown",
      "id": "99699b61-de24-4e0b-8817-a531baca9705",
      "metadata": {
        "id": "99699b61-de24-4e0b-8817-a531baca9705"
      },
      "source": [
        "#### [error] python SyntaxError : 문법 오류"
      ]
    },
    {
      "cell_type": "code",
      "execution_count": null,
      "id": "b798ee8d-9e9d-4f63-b468-d76685f5694d",
      "metadata": {
        "id": "b798ee8d-9e9d-4f63-b468-d76685f5694d",
        "outputId": "0d1b5bb1-54c8-4ca2-f758-8e50ab83ef75"
      },
      "outputs": [
        {
          "ename": "SyntaxError",
          "evalue": "expected ':' (439992750.py, line 2)",
          "output_type": "error",
          "traceback": [
            "\u001b[1;36m  Cell \u001b[1;32mIn[16], line 2\u001b[1;36m\u001b[0m\n\u001b[1;33m    if a<9\u001b[0m\n\u001b[1;37m          ^\u001b[0m\n\u001b[1;31mSyntaxError\u001b[0m\u001b[1;31m:\u001b[0m expected ':'\n"
          ]
        }
      ],
      "source": [
        "a = 1\n",
        "if a<9\n",
        "    print('a는 9보다 작습니다.')"
      ]
    },
    {
      "cell_type": "markdown",
      "id": "84b54328-b2b6-476a-b7d7-b9069a244c8c",
      "metadata": {
        "id": "84b54328-b2b6-476a-b7d7-b9069a244c8c"
      },
      "source": [
        "#### [error] python ValueError : 부적절한 값 넣을 경우"
      ]
    },
    {
      "cell_type": "code",
      "execution_count": null,
      "id": "e20019b2-fe40-41a9-96bb-984204ee76ec",
      "metadata": {
        "scrolled": true,
        "id": "e20019b2-fe40-41a9-96bb-984204ee76ec",
        "outputId": "a3bda740-fc02-423c-d6da-e1d87979055c"
      },
      "outputs": [
        {
          "ename": "ValueError",
          "evalue": "invalid literal for int() with base 10: 'Python'",
          "output_type": "error",
          "traceback": [
            "\u001b[1;31m---------------------------------------------------------------------------\u001b[0m",
            "\u001b[1;31mValueError\u001b[0m                                Traceback (most recent call last)",
            "Cell \u001b[1;32mIn[17], line 1\u001b[0m\n\u001b[1;32m----> 1\u001b[0m num \u001b[38;5;241m=\u001b[39m \u001b[38;5;28;43mint\u001b[39;49m\u001b[43m(\u001b[49m\u001b[38;5;124;43m'\u001b[39;49m\u001b[38;5;124;43mPython\u001b[39;49m\u001b[38;5;124;43m'\u001b[39;49m\u001b[43m)\u001b[49m\n",
            "\u001b[1;31mValueError\u001b[0m: invalid literal for int() with base 10: 'Python'"
          ]
        }
      ],
      "source": [
        "num = int('Python')"
      ]
    },
    {
      "cell_type": "markdown",
      "id": "dab1f888-ac3c-40dc-899e-02b9e357f08e",
      "metadata": {
        "id": "dab1f888-ac3c-40dc-899e-02b9e357f08e"
      },
      "source": [
        "#### [error] python IndexError :  인덱스 오류"
      ]
    },
    {
      "cell_type": "code",
      "execution_count": null,
      "id": "88e019d4-ac48-46a4-9bee-35bf50028de9",
      "metadata": {
        "id": "88e019d4-ac48-46a4-9bee-35bf50028de9",
        "outputId": "c1d97723-6d9b-4a6c-9a50-219bc5fd9976"
      },
      "outputs": [
        {
          "ename": "IndexError",
          "evalue": "list index out of range",
          "output_type": "error",
          "traceback": [
            "\u001b[1;31m---------------------------------------------------------------------------\u001b[0m",
            "\u001b[1;31mIndexError\u001b[0m                                Traceback (most recent call last)",
            "Cell \u001b[1;32mIn[18], line 2\u001b[0m\n\u001b[0;32m      1\u001b[0m a \u001b[38;5;241m=\u001b[39m [\u001b[38;5;241m10\u001b[39m,\u001b[38;5;241m20\u001b[39m,\u001b[38;5;241m30\u001b[39m,\u001b[38;5;241m40\u001b[39m,\u001b[38;5;241m50\u001b[39m]\n\u001b[1;32m----> 2\u001b[0m \u001b[43ma\u001b[49m\u001b[43m[\u001b[49m\u001b[38;5;241;43m100\u001b[39;49m\u001b[43m]\u001b[49m\n",
            "\u001b[1;31mIndexError\u001b[0m: list index out of range"
          ]
        }
      ],
      "source": [
        "a = [10,20,30,40,50]\n",
        "a[100]"
      ]
    },
    {
      "cell_type": "markdown",
      "id": "f77fe241-9485-4707-8a9a-9610135e5af4",
      "metadata": {
        "id": "f77fe241-9485-4707-8a9a-9610135e5af4"
      },
      "source": [
        "#### [error] python NameError : 해당 변수 이름을 찾을 수 없을 경우"
      ]
    },
    {
      "cell_type": "code",
      "execution_count": null,
      "id": "ddfa150a-da1a-4ef4-8855-9b5db3dcac1d",
      "metadata": {
        "id": "ddfa150a-da1a-4ef4-8855-9b5db3dcac1d",
        "outputId": "237d1eee-6c1c-4e03-a57e-f4817ec914f5"
      },
      "outputs": [
        {
          "ename": "NameError",
          "evalue": "name 'b' is not defined",
          "output_type": "error",
          "traceback": [
            "\u001b[1;31m---------------------------------------------------------------------------\u001b[0m",
            "\u001b[1;31mNameError\u001b[0m                                 Traceback (most recent call last)",
            "Cell \u001b[1;32mIn[19], line 2\u001b[0m\n\u001b[0;32m      1\u001b[0m a \u001b[38;5;241m=\u001b[39m \u001b[38;5;241m10\u001b[39m\n\u001b[1;32m----> 2\u001b[0m \u001b[38;5;28mprint\u001b[39m(\u001b[43mb\u001b[49m)\n",
            "\u001b[1;31mNameError\u001b[0m: name 'b' is not defined"
          ]
        }
      ],
      "source": [
        "a = 10\n",
        "print(b)"
      ]
    },
    {
      "cell_type": "markdown",
      "id": "a025716f-7b09-4f05-891c-6d2af0db39a1",
      "metadata": {
        "id": "a025716f-7b09-4f05-891c-6d2af0db39a1"
      },
      "source": [
        "#### [error] python ZeroDivisionError : 0으로 나누려할 경우"
      ]
    },
    {
      "cell_type": "code",
      "execution_count": null,
      "id": "deebbee7-f361-4ffd-afe1-990f81bc2714",
      "metadata": {
        "id": "deebbee7-f361-4ffd-afe1-990f81bc2714",
        "outputId": "fbfc7a37-fb27-43ae-b357-858b5f9ee568"
      },
      "outputs": [
        {
          "ename": "ZeroDivisionError",
          "evalue": "division by zero",
          "output_type": "error",
          "traceback": [
            "\u001b[1;31m---------------------------------------------------------------------------\u001b[0m",
            "\u001b[1;31mZeroDivisionError\u001b[0m                         Traceback (most recent call last)",
            "Cell \u001b[1;32mIn[20], line 1\u001b[0m\n\u001b[1;32m----> 1\u001b[0m a \u001b[38;5;241m=\u001b[39m \u001b[38;5;241;43m100\u001b[39;49m\u001b[43m \u001b[49m\u001b[38;5;241;43m/\u001b[39;49m\u001b[43m \u001b[49m\u001b[38;5;241;43m0\u001b[39;49m\n",
            "\u001b[1;31mZeroDivisionError\u001b[0m: division by zero"
          ]
        }
      ],
      "source": [
        "a = 100 / 0"
      ]
    },
    {
      "cell_type": "markdown",
      "id": "4dc75570-9ca3-4e8b-9ea8-2e7c7a918b20",
      "metadata": {
        "id": "4dc75570-9ca3-4e8b-9ea8-2e7c7a918b20"
      },
      "source": [
        "#### [error] python TypeError : 잘못된 타입을 전달했을 때"
      ]
    },
    {
      "cell_type": "code",
      "execution_count": null,
      "id": "bafcacca-7c95-44ec-b9cd-07e585c8fc96",
      "metadata": {
        "id": "bafcacca-7c95-44ec-b9cd-07e585c8fc96",
        "outputId": "4b9a3bfc-873d-4cb0-9790-2f0eb7d84017"
      },
      "outputs": [
        {
          "ename": "TypeError",
          "evalue": "unsupported operand type(s) for +: 'int' and 'str'",
          "output_type": "error",
          "traceback": [
            "\u001b[1;31m---------------------------------------------------------------------------\u001b[0m",
            "\u001b[1;31mTypeError\u001b[0m                                 Traceback (most recent call last)",
            "Cell \u001b[1;32mIn[21], line 1\u001b[0m\n\u001b[1;32m----> 1\u001b[0m a \u001b[38;5;241m=\u001b[39m \u001b[38;5;241;43m10\u001b[39;49m\u001b[43m \u001b[49m\u001b[38;5;241;43m+\u001b[39;49m\u001b[43m \u001b[49m\u001b[38;5;124;43m'\u001b[39;49m\u001b[38;5;124;43m20\u001b[39;49m\u001b[38;5;124;43m'\u001b[39;49m\n",
            "\u001b[1;31mTypeError\u001b[0m: unsupported operand type(s) for +: 'int' and 'str'"
          ]
        }
      ],
      "source": [
        "a = 10 + '20'   # 숫자와 문자 연산 안됨"
      ]
    },
    {
      "cell_type": "markdown",
      "id": "9bb26d95-e55d-4b8e-8d83-2eb56eb74afc",
      "metadata": {
        "id": "9bb26d95-e55d-4b8e-8d83-2eb56eb74afc"
      },
      "source": [
        "#### [error] python FileNotFoundError"
      ]
    },
    {
      "cell_type": "code",
      "execution_count": null,
      "id": "be120c79-30a3-4586-84bb-cf4939e05d2a",
      "metadata": {
        "id": "be120c79-30a3-4586-84bb-cf4939e05d2a",
        "outputId": "aea63c16-6a7e-48bf-a291-708e2408ec0d"
      },
      "outputs": [
        {
          "ename": "FileNotFoundError",
          "evalue": "[Errno 2] No such file or directory: 'abc.txt'",
          "output_type": "error",
          "traceback": [
            "\u001b[1;31m---------------------------------------------------------------------------\u001b[0m",
            "\u001b[1;31mFileNotFoundError\u001b[0m                         Traceback (most recent call last)",
            "Cell \u001b[1;32mIn[22], line 1\u001b[0m\n\u001b[1;32m----> 1\u001b[0m file \u001b[38;5;241m=\u001b[39m \u001b[38;5;28;43mopen\u001b[39;49m\u001b[43m(\u001b[49m\u001b[38;5;124;43m'\u001b[39;49m\u001b[38;5;124;43mabc.txt\u001b[39;49m\u001b[38;5;124;43m'\u001b[39;49m\u001b[43m)\u001b[49m\n",
            "File \u001b[1;32mC:\\python\\Python312\\Lib\\site-packages\\IPython\\core\\interactiveshell.py:310\u001b[0m, in \u001b[0;36m_modified_open\u001b[1;34m(file, *args, **kwargs)\u001b[0m\n\u001b[0;32m    303\u001b[0m \u001b[38;5;28;01mif\u001b[39;00m file \u001b[38;5;129;01min\u001b[39;00m {\u001b[38;5;241m0\u001b[39m, \u001b[38;5;241m1\u001b[39m, \u001b[38;5;241m2\u001b[39m}:\n\u001b[0;32m    304\u001b[0m     \u001b[38;5;28;01mraise\u001b[39;00m \u001b[38;5;167;01mValueError\u001b[39;00m(\n\u001b[0;32m    305\u001b[0m         \u001b[38;5;124mf\u001b[39m\u001b[38;5;124m\"\u001b[39m\u001b[38;5;124mIPython won\u001b[39m\u001b[38;5;124m'\u001b[39m\u001b[38;5;124mt let you open fd=\u001b[39m\u001b[38;5;132;01m{\u001b[39;00mfile\u001b[38;5;132;01m}\u001b[39;00m\u001b[38;5;124m by default \u001b[39m\u001b[38;5;124m\"\u001b[39m\n\u001b[0;32m    306\u001b[0m         \u001b[38;5;124m\"\u001b[39m\u001b[38;5;124mas it is likely to crash IPython. If you know what you are doing, \u001b[39m\u001b[38;5;124m\"\u001b[39m\n\u001b[0;32m    307\u001b[0m         \u001b[38;5;124m\"\u001b[39m\u001b[38;5;124myou can use builtins\u001b[39m\u001b[38;5;124m'\u001b[39m\u001b[38;5;124m open.\u001b[39m\u001b[38;5;124m\"\u001b[39m\n\u001b[0;32m    308\u001b[0m     )\n\u001b[1;32m--> 310\u001b[0m \u001b[38;5;28;01mreturn\u001b[39;00m \u001b[43mio_open\u001b[49m\u001b[43m(\u001b[49m\u001b[43mfile\u001b[49m\u001b[43m,\u001b[49m\u001b[43m \u001b[49m\u001b[38;5;241;43m*\u001b[39;49m\u001b[43margs\u001b[49m\u001b[43m,\u001b[49m\u001b[43m \u001b[49m\u001b[38;5;241;43m*\u001b[39;49m\u001b[38;5;241;43m*\u001b[39;49m\u001b[43mkwargs\u001b[49m\u001b[43m)\u001b[49m\n",
            "\u001b[1;31mFileNotFoundError\u001b[0m: [Errno 2] No such file or directory: 'abc.txt'"
          ]
        }
      ],
      "source": [
        "file = open('abc.txt')  # 현재 위치에 'abc.txt'란 파일이 없을 경우"
      ]
    },
    {
      "cell_type": "markdown",
      "id": "036a23dc-ad32-42bb-a4d2-8467cc24c855",
      "metadata": {
        "id": "036a23dc-ad32-42bb-a4d2-8467cc24c855"
      },
      "source": [
        "### 1-3.오류 예외처리 방법"
      ]
    },
    {
      "cell_type": "code",
      "execution_count": null,
      "id": "f330b08f-923d-482d-baa0-2da8020f7e3e",
      "metadata": {
        "id": "f330b08f-923d-482d-baa0-2da8020f7e3e",
        "outputId": "0fff63d0-43c9-4642-bfd3-52c4c998bab0"
      },
      "outputs": [
        {
          "name": "stdout",
          "output_type": "stream",
          "text": [
            "[오류] 현재 위치에서 해당 파일을 찾을 수 없습니다\n"
          ]
        }
      ],
      "source": [
        "# 예제: FileNotFoundError 오류 메시지가 발생했을 경우에 대한 예외처리\n",
        "try:\n",
        "    file = open('abc.txt')\n",
        "except FileNotFoundError:\n",
        "    print('[오류] 현재 위치에서 해당 파일을 찾을 수 없습니다')"
      ]
    },
    {
      "cell_type": "code",
      "execution_count": null,
      "id": "59cabb63-b772-4d0e-85db-1ec912e4bd39",
      "metadata": {
        "id": "59cabb63-b772-4d0e-85db-1ec912e4bd39",
        "outputId": "85a928fe-786b-437d-d575-22eaea1f3fa0"
      },
      "outputs": [
        {
          "name": "stdout",
          "output_type": "stream",
          "text": [
            "[[오류] 현재 위치(C:\\python\\dataAnalysis)에서 해당 파일을 찾을 수 없습니다\n"
          ]
        }
      ],
      "source": [
        "# 예제: FileNotFoundError 오류 메시지가 발생했을 경우에 대한 예외처리\n",
        "import os\n",
        "try:\n",
        "    file = open('abc.txt')\n",
        "except FileNotFoundError:\n",
        "    print(f'[[오류] 현재 위치({os.getcwd()})에서 해당 파일을 찾을 수 없습니다')"
      ]
    },
    {
      "cell_type": "markdown",
      "id": "f1d6a768",
      "metadata": {
        "id": "f1d6a768"
      },
      "source": [
        "### [실습] 파이썬 정보 확인하기"
      ]
    },
    {
      "cell_type": "code",
      "execution_count": null,
      "id": "4f19148e-dedf-48ab-8fb7-56aeafeab838",
      "metadata": {
        "id": "4f19148e-dedf-48ab-8fb7-56aeafeab838",
        "outputId": "0f2af371-dc9f-483d-8cd2-a4b59c366645"
      },
      "outputs": [
        {
          "name": "stdout",
          "output_type": "stream",
          "text": [
            "Python 3.12.1\n"
          ]
        }
      ],
      "source": [
        "# 1.파이썬 설치 버전 확인\n",
        "!python -V"
      ]
    },
    {
      "cell_type": "code",
      "execution_count": null,
      "id": "7a6709ce-9c4a-4100-b2b2-ddaa5c14b219",
      "metadata": {
        "id": "7a6709ce-9c4a-4100-b2b2-ddaa5c14b219",
        "outputId": "4e4704f7-dda2-496a-95fe-ea68a6fdf483"
      },
      "outputs": [
        {
          "name": "stdout",
          "output_type": "stream",
          "text": [
            "파이썬 버전 : 3.12.1 (tags/v3.12.1:2305ca5, Dec  7 2023, 22:03:25) [MSC v.1937 64 bit (AMD64)]\n"
          ]
        }
      ],
      "source": [
        "# 1.파이썬 설치 버전 확인\n",
        "import sys\n",
        "print(f'파이썬 버전 : {sys.version}')"
      ]
    },
    {
      "cell_type": "code",
      "execution_count": null,
      "id": "fe832924",
      "metadata": {
        "id": "fe832924",
        "outputId": "4b1c66b8-ea39-4b4a-dd24-724f26c1f427"
      },
      "outputs": [
        {
          "name": "stdout",
          "output_type": "stream",
          "text": [
            "파이썬 실행파일 위치 : C:\\python\\Python312\\python.exe\n"
          ]
        }
      ],
      "source": [
        "# 2.파이썬 설치 위치\n",
        "print(f'파이썬 실행파일 위치 : {sys.executable}')"
      ]
    },
    {
      "cell_type": "code",
      "execution_count": null,
      "id": "6abdcb34",
      "metadata": {
        "id": "6abdcb34",
        "outputId": "22c9c790-2a02-4b44-9531-e6a9363f1729"
      },
      "outputs": [
        {
          "name": "stdout",
          "output_type": "stream",
          "text": [
            "현재 위치: C:\\python\\dataAnalysis\n"
          ]
        }
      ],
      "source": [
        "# 3.현재 위치\n",
        "import os\n",
        "print(f'현재 위치: {os.getcwd()}')  #현재 폴더 경로"
      ]
    },
    {
      "cell_type": "markdown",
      "id": "7dababe2",
      "metadata": {
        "id": "7dababe2"
      },
      "source": [
        "-------------------------"
      ]
    },
    {
      "cell_type": "markdown",
      "id": "416d36fc",
      "metadata": {
        "id": "416d36fc"
      },
      "source": [
        "끝"
      ]
    }
  ],
  "metadata": {
    "kernelspec": {
      "display_name": "Python 3 (ipykernel)",
      "language": "python",
      "name": "python3"
    },
    "language_info": {
      "codemirror_mode": {
        "name": "ipython",
        "version": 3
      },
      "file_extension": ".py",
      "mimetype": "text/x-python",
      "name": "python",
      "nbconvert_exporter": "python",
      "pygments_lexer": "ipython3",
      "version": "3.12.1"
    },
    "vscode": {
      "interpreter": {
        "hash": "b41e41bff03a930185ac2cbea60ce521f7c8c2f5401ceb5c30214081f77ab4f5"
      }
    },
    "colab": {
      "provenance": [],
      "include_colab_link": true
    }
  },
  "nbformat": 4,
  "nbformat_minor": 5
}
