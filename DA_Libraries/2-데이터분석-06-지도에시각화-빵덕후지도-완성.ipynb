{
 "cells": [
  {
   "cell_type": "markdown",
   "id": "XFgQe4VqN-4R",
   "metadata": {
    "id": "XFgQe4VqN-4R"
   },
   "source": [
    "# 한글폰트 설정 및 라이브러리 임포트"
   ]
  },
  {
   "cell_type": "code",
   "execution_count": null,
   "id": "70ee2bad",
   "metadata": {
    "id": "70ee2bad"
   },
   "outputs": [],
   "source": [
    "# 코드 실행 후 재시작\n",
    "!sudo apt-get install -y fonts-nanum\n",
    "!sudo fc-cache -fv\n",
    "!rm ~/.cache/matplotlib -rf"
   ]
  },
  {
   "cell_type": "markdown",
   "id": "00fade0b",
   "metadata": {
    "id": "00fade0b"
   },
   "source": [
    "# 필요한 라이브러리 import"
   ]
  },
  {
   "cell_type": "code",
   "execution_count": null,
   "id": "9TnnqCBiL2cb",
   "metadata": {
    "id": "9TnnqCBiL2cb"
   },
   "outputs": [],
   "source": [
    "import pandas as pd\n",
    "import matplotlib.pyplot as plt\n",
    "import numpy as np\n",
    "\n",
    "# 멧플롯립 한글폰트 지정\n",
    "plt.rc('font', family='NanumBarunGothic')    # 코랩에서 사용\n",
    "plt.rc('font', family='Malgun Gothic')    # 윈도우에서 사용\n",
    "plt.rcParams['axes.unicode_minus'] = False"
   ]
  },
  {
   "cell_type": "markdown",
   "id": "aa4adfcc",
   "metadata": {
    "id": "aa4adfcc"
   },
   "source": [
    "# 빵덕후들의 지도\n",
    " - 제주도 서귀포시의 제과점 위치 정보를 제공하는 지도 시각화"
   ]
  },
  {
   "cell_type": "markdown",
   "id": "184a8f37",
   "metadata": {
    "id": "184a8f37"
   },
   "source": [
    "## 파일 읽어서 데이터프레임 생성하기"
   ]
  },
  {
   "cell_type": "code",
   "execution_count": null,
   "id": "c1855d0f",
   "metadata": {
    "colab": {
     "base_uri": "https://localhost:8080/",
     "height": 397
    },
    "id": "c1855d0f",
    "outputId": "9f9a3101-9499-4a33-c9a7-d66299b34bda"
   },
   "outputs": [],
   "source": [
    "import pandas as pd\n",
    "df = pd.read_csv('제주특별자치도_서귀포시_제과점현황_20240401.csv', encoding='cp949')\n",
    "df.head()"
   ]
  },
  {
   "cell_type": "markdown",
   "id": "FIAlDGYYYVJ_",
   "metadata": {
    "id": "FIAlDGYYYVJ_"
   },
   "source": [
    "## 데이터 구조 탐색하기"
   ]
  },
  {
   "cell_type": "code",
   "execution_count": null,
   "id": "i9hDum1bZno7",
   "metadata": {
    "colab": {
     "base_uri": "https://localhost:8080/"
    },
    "id": "i9hDum1bZno7",
    "outputId": "95c9b3ae-f43e-4bd3-9317-4008b3bb42e8"
   },
   "outputs": [],
   "source": [
    "df.info()"
   ]
  },
  {
   "cell_type": "code",
   "execution_count": null,
   "id": "5cV5p-LjQAmB",
   "metadata": {
    "colab": {
     "base_uri": "https://localhost:8080/"
    },
    "id": "5cV5p-LjQAmB",
    "outputId": "543ac099-6ec0-4876-9983-c4f77c1621a3"
   },
   "outputs": [],
   "source": [
    "#'업종명'컬럼의 데이터 확인하기\n",
    "df['업종명'].value_counts()"
   ]
  },
  {
   "cell_type": "code",
   "execution_count": null,
   "id": "dyhD6IogciZC",
   "metadata": {
    "colab": {
     "base_uri": "https://localhost:8080/",
     "height": 115
    },
    "id": "dyhD6IogciZC",
    "outputId": "8dc81292-89d2-417c-8018-3a152337ecef"
   },
   "outputs": [],
   "source": [
    "# 결측치 데이터 확인하기\n",
    "# df.isnull()\n",
    "df.isnull().sum()"
   ]
  },
  {
   "cell_type": "code",
   "execution_count": null,
   "id": "c05ad3c5",
   "metadata": {},
   "outputs": [],
   "source": [
    "# 특정 컬럼의 결측치 확인\n",
    "df[df['소재지(도로명)'].isnull()]\n",
    "# df.loc[df['소재지(도로명)'].isnull()]"
   ]
  },
  {
   "cell_type": "markdown",
   "id": "cy7cTiAHcKOD",
   "metadata": {
    "id": "cy7cTiAHcKOD"
   },
   "source": [
    "## 데이터 전처리하기"
   ]
  },
  {
   "cell_type": "markdown",
   "id": "zKTzxdyScNED",
   "metadata": {
    "id": "zKTzxdyScNED"
   },
   "source": [
    "### 이상치 확인하기\n",
    "- 수치형 값을 갖는 '위도','경도' 컬럼에 이상치가 있는지 boxplot으로 확인"
   ]
  },
  {
   "cell_type": "code",
   "execution_count": null,
   "id": "a_ZAo_wWZ-ss",
   "metadata": {
    "id": "a_ZAo_wWZ-ss"
   },
   "outputs": [],
   "source": [
    "import matplotlib.pyplot as plt\n",
    "\n",
    "ax1 = plt.subplot(121) # (1) 첫 번째 공간에 axes 생성\n",
    "ax1.boxplot(df['위도'])\n",
    "ax2 = plt.subplot(122)\n",
    "ax2.boxplot(df['경도'])\n",
    "plt.show()"
   ]
  },
  {
   "cell_type": "markdown",
   "id": "mVohEEpab4GR",
   "metadata": {
    "id": "mVohEEpab4GR"
   },
   "source": [
    "### 불필요한 컬럼 삭제하기\n",
    "- '소재지(도로명)' 컬럼 대신 '소재지(지번)'을 사용하면 되기 때문에 이 컬럼은 삭제한다\n",
    "- '업종명', '데이터기준일자' 컬럼도 분석에 필요하지 않은 내용으로 보고 삭제한다."
   ]
  },
  {
   "cell_type": "code",
   "execution_count": null,
   "id": "D98cNY-xbcuf",
   "metadata": {
    "colab": {
     "base_uri": "https://localhost:8080/"
    },
    "id": "D98cNY-xbcuf",
    "outputId": "9040d00f-3703-43ed-8cd4-7e07c2223c6e"
   },
   "outputs": [],
   "source": [
    "df.drop(columns=['업종명', '소재지(도로명)', '데이터기준일자'], axis=1, inplace=True)\n",
    "df.isnull().sum()"
   ]
  },
  {
   "cell_type": "code",
   "execution_count": null,
   "id": "HZNtbw4abkfg",
   "metadata": {
    "colab": {
     "base_uri": "https://localhost:8080/",
     "height": 258
    },
    "id": "HZNtbw4abkfg",
    "outputId": "63c6646e-54c8-403d-8197-f8a00f1b2c2c"
   },
   "outputs": [],
   "source": [
    "df.head()"
   ]
  },
  {
   "cell_type": "markdown",
   "id": "7kdZlT8Rwnya",
   "metadata": {
    "id": "7kdZlT8Rwnya"
   },
   "source": [
    "### 소재지(지번) 주소에서 읍,면,동 정보 추출하기"
   ]
  },
  {
   "cell_type": "code",
   "execution_count": null,
   "id": "YtTZxTWKwyCU",
   "metadata": {
    "colab": {
     "base_uri": "https://localhost:8080/"
    },
    "id": "YtTZxTWKwyCU",
    "outputId": "cb2fa8eb-2cda-4eae-b6f7-1bf721c28356"
   },
   "outputs": [],
   "source": [
    "df['소재지(지번)'].str.split(' ').str[2]"
   ]
  },
  {
   "cell_type": "code",
   "execution_count": null,
   "id": "F3rgF3iUyPWM",
   "metadata": {
    "colab": {
     "base_uri": "https://localhost:8080/",
     "height": 310
    },
    "id": "F3rgF3iUyPWM",
    "outputId": "adf28f5a-fbb8-4f46-bb48-51ef0795b31b"
   },
   "outputs": [],
   "source": [
    "df['읍면동'] = df['소재지(지번)'].str.split(' ').str[2]\n",
    "df.head()"
   ]
  },
  {
   "cell_type": "code",
   "execution_count": null,
   "id": "udH5QN6izJYw",
   "metadata": {
    "colab": {
     "base_uri": "https://localhost:8080/"
    },
    "id": "udH5QN6izJYw",
    "outputId": "29c8e56e-5142-4d47-934b-47c4076c9cca"
   },
   "outputs": [],
   "source": [
    "df.info()"
   ]
  },
  {
   "cell_type": "markdown",
   "id": "qKW57h6mv52x",
   "metadata": {
    "id": "qKW57h6mv52x"
   },
   "source": [
    "## 데이터 탐색하기"
   ]
  },
  {
   "cell_type": "markdown",
   "id": "gmfCMPHIwDqQ",
   "metadata": {
    "id": "gmfCMPHIwDqQ"
   },
   "source": [
    "### 빵집이 제일 많은 동네는 어디일까?"
   ]
  },
  {
   "cell_type": "code",
   "execution_count": null,
   "id": "kI4I9ACB0Cbz",
   "metadata": {
    "colab": {
     "base_uri": "https://localhost:8080/"
    },
    "id": "kI4I9ACB0Cbz",
    "outputId": "c2dc2b67-97ad-4e4f-c94c-0ac7145ac6a4"
   },
   "outputs": [],
   "source": [
    "df['읍면동'].value_counts()"
   ]
  },
  {
   "cell_type": "code",
   "execution_count": null,
   "id": "lHn4qDEYPSJv",
   "metadata": {
    "id": "lHn4qDEYPSJv"
   },
   "outputs": [],
   "source": [
    "# 대정읍-> 안덕면 -> 성산읍 순서로 빵집이 많다."
   ]
  },
  {
   "cell_type": "code",
   "execution_count": null,
   "id": "oVTsutjsze8W",
   "metadata": {
    "colab": {
     "base_uri": "https://localhost:8080/",
     "height": 836
    },
    "id": "oVTsutjsze8W",
    "outputId": "0e324d05-edf3-4ec2-a241-9bda3967ff9c"
   },
   "outputs": [],
   "source": [
    "df.loc[df['읍면동']=='대정읍'][['업소명', '소재지(지번)']]"
   ]
  },
  {
   "cell_type": "markdown",
   "id": "gp-dTKA60QWw",
   "metadata": {
    "id": "gp-dTKA60QWw"
   },
   "source": [
    "### 중문동/서호동에 있는 빵집의 주소 알아보기"
   ]
  },
  {
   "cell_type": "code",
   "execution_count": null,
   "id": "C3XswKpmzn9N",
   "metadata": {
    "colab": {
     "base_uri": "https://localhost:8080/",
     "height": 300
    },
    "id": "C3XswKpmzn9N",
    "outputId": "504bcf8f-d2d1-41ff-e069-7208b39af501"
   },
   "outputs": [],
   "source": [
    "# df.loc[df['읍면동']=='중문동'][['업소명', '소재지(지번)']]\n",
    "df.loc[df['읍면동']=='서호동'][['업소명', '소재지(지번)']]"
   ]
  },
  {
   "cell_type": "markdown",
   "id": "DR32-9VzdhFT",
   "metadata": {
    "id": "DR32-9VzdhFT"
   },
   "source": [
    "## 데이터 시각화 하기\n",
    "- 지도위에 위치와 정보 표시하기\n",
    "- folium 사용법 <br>\n",
    "https://python-visualization.github.io/folium/quickstart.html#Getting-Started"
   ]
  },
  {
   "cell_type": "markdown",
   "id": "Dz6U6a1XkieX",
   "metadata": {
    "id": "Dz6U6a1XkieX"
   },
   "source": [
    "### folium사용하기"
   ]
  },
  {
   "cell_type": "code",
   "execution_count": null,
   "id": "572bb7f9",
   "metadata": {},
   "outputs": [],
   "source": [
    "!pip install folium"
   ]
  },
  {
   "cell_type": "code",
   "execution_count": null,
   "id": "vlbZMVxJb_co",
   "metadata": {
    "id": "vlbZMVxJb_co"
   },
   "outputs": [],
   "source": [
    "import folium"
   ]
  },
  {
   "cell_type": "code",
   "execution_count": null,
   "id": "nOu8_MZpdmYp",
   "metadata": {
    "colab": {
     "base_uri": "https://localhost:8080/",
     "height": 36
    },
    "id": "nOu8_MZpdmYp",
    "outputId": "f5879aaf-c820-479f-920f-f33ab6a28d89"
   },
   "outputs": [],
   "source": [
    "folium.__version__"
   ]
  },
  {
   "cell_type": "code",
   "execution_count": null,
   "id": "I6cR5K0WfVWs",
   "metadata": {
    "colab": {
     "base_uri": "https://localhost:8080/",
     "height": 462
    },
    "id": "I6cR5K0WfVWs",
    "outputId": "6f136846-8ddd-4322-ac66-d6fa89360eaa"
   },
   "outputs": [],
   "source": [
    "# 초기위치(위도,경도)=서귀포시 33.2541205,126.560076\n",
    "lati, long  = 33.2541205,126.560076\n",
    "map = folium.Map(location = [lati, long], zoom_start= 10)\n",
    "map"
   ]
  },
  {
   "cell_type": "code",
   "execution_count": null,
   "id": "nOsiZUfudqM9",
   "metadata": {
    "colab": {
     "base_uri": "https://localhost:8080/",
     "height": 462
    },
    "id": "nOsiZUfudqM9",
    "outputId": "7ea4341c-1ec2-4249-91cc-9967644e4d7b"
   },
   "outputs": [],
   "source": [
    "map = folium.Map(location = [ lati, long ],\n",
    "                 zoom_start= 10\n",
    "                 )\n",
    "tooltip = 'click'\n",
    "folium.Marker(\n",
    "    location = [lati, long ],\n",
    "    popup = '<strong>hello jeju</strong>',\n",
    "    icon = folium.Icon(color = 'pink', icon = 'heart'),\n",
    "    tooltip = tooltip\n",
    ").add_to(map)\n",
    "map"
   ]
  },
  {
   "cell_type": "code",
   "execution_count": null,
   "id": "RGUQF_o8eqUx",
   "metadata": {
    "id": "RGUQF_o8eqUx"
   },
   "outputs": [],
   "source": []
  },
  {
   "cell_type": "code",
   "execution_count": null,
   "id": "CyFxeE9ChIys",
   "metadata": {
    "id": "CyFxeE9ChIys"
   },
   "outputs": [],
   "source": []
  },
  {
   "cell_type": "markdown",
   "id": "SE7GhojtkdzW",
   "metadata": {
    "id": "SE7GhojtkdzW"
   },
   "source": [
    "### 제과점 위치 마커 표시하기"
   ]
  },
  {
   "cell_type": "code",
   "execution_count": null,
   "id": "ulA8cU9fk_XB",
   "metadata": {
    "colab": {
     "base_uri": "https://localhost:8080/",
     "height": 310
    },
    "id": "ulA8cU9fk_XB",
    "outputId": "479d486d-52cc-436e-dc58-926f660093fc"
   },
   "outputs": [],
   "source": [
    "df.head()"
   ]
  },
  {
   "cell_type": "code",
   "execution_count": null,
   "id": "Om1gAdQTlMfY",
   "metadata": {
    "id": "Om1gAdQTlMfY"
   },
   "outputs": [],
   "source": []
  },
  {
   "cell_type": "code",
   "execution_count": null,
   "id": "wZxY-psxkuXY",
   "metadata": {
    "colab": {
     "base_uri": "https://localhost:8080/",
     "height": 36
    },
    "id": "wZxY-psxkuXY",
    "outputId": "31620650-c3a8-4c25-ae15-a1654340e968"
   },
   "outputs": [],
   "source": [
    "df.loc[0,'위도']\n",
    "df.loc[5, '위도']\n"
   ]
  },
  {
   "cell_type": "markdown",
   "id": "GY_oDK1do0l2",
   "metadata": {
    "id": "GY_oDK1do0l2"
   },
   "source": [
    "### 마커에 정보 넣기"
   ]
  },
  {
   "cell_type": "code",
   "execution_count": null,
   "id": "vruIYqhBoCXR",
   "metadata": {
    "colab": {
     "base_uri": "https://localhost:8080/",
     "height": 462
    },
    "id": "vruIYqhBoCXR",
    "outputId": "96adec2a-cfbe-4dd1-d00d-cb762cca6942"
   },
   "outputs": [],
   "source": [
    "for idx in df.index :\n",
    "  lat = df.loc[idx,'위도']\n",
    "  lng = df.loc[idx,'경도']\n",
    "  marker = folium.Marker(\n",
    "      location = [lat, lng],\n",
    "      popup = f\"<div style='width:100px'> <strong>{df.loc[idx,'업소명']}</strong><br>\\\n",
    "      {df.loc[idx, '소재지(지번)']}</div>\",\n",
    "      icon = folium.Icon(color='orange', icon='cloud')\n",
    "      )\n",
    "  marker.add_to(map)\n",
    "\n",
    "map"
   ]
  },
  {
   "cell_type": "code",
   "execution_count": null,
   "id": "TqrriZBQpcza",
   "metadata": {
    "colab": {
     "base_uri": "https://localhost:8080/",
     "height": 462
    },
    "id": "TqrriZBQpcza",
    "outputId": "5bf4a2e3-b080-4e64-89b4-9e63063afc28"
   },
   "outputs": [],
   "source": [
    "from folium.plugins import MarkerCluster\n",
    "\n",
    "map = folium.Map(location = [33.3616666,126.5291666 ],\n",
    "                 zoom_start= 10\n",
    "                 )\n",
    "\n",
    "marker_cluster = MarkerCluster().add_to(map)\n",
    "\n",
    "for idx in df.index :\n",
    "  lat = df.loc[idx,'위도']\n",
    "  lng = df.loc[idx,'경도']\n",
    "  marker = folium.Marker(\n",
    "      location = [lat, lng],\n",
    "      popup = f\"<div style='width:100px'> <strong>{df.loc[idx,'업소명']}</strong><br>\\\n",
    "      {df.loc[idx, '소재지(지번)']}</div>\",\n",
    "      icon = folium.Icon(color='orange', icon='cloud')\n",
    "      )\n",
    "  marker.add_to(marker_cluster)\n",
    "\n",
    "map\n"
   ]
  }
 ],
 "metadata": {
  "colab": {
   "provenance": []
  },
  "kernelspec": {
   "display_name": "Python 3 (ipykernel)",
   "language": "python",
   "name": "python3"
  },
  "language_info": {
   "codemirror_mode": {
    "name": "ipython",
    "version": 3
   },
   "file_extension": ".py",
   "mimetype": "text/x-python",
   "name": "python",
   "nbconvert_exporter": "python",
   "pygments_lexer": "ipython3",
   "version": "3.12.1"
  },
  "toc": {
   "base_numbering": 1,
   "nav_menu": {},
   "number_sections": true,
   "sideBar": true,
   "skip_h1_title": false,
   "title_cell": "Table of Contents",
   "title_sidebar": "Contents",
   "toc_cell": false,
   "toc_position": {},
   "toc_section_display": true,
   "toc_window_display": true
  },
  "varInspector": {
   "cols": {
    "lenName": 16,
    "lenType": 16,
    "lenVar": 40
   },
   "kernels_config": {
    "python": {
     "delete_cmd_postfix": "",
     "delete_cmd_prefix": "del ",
     "library": "var_list.py",
     "varRefreshCmd": "print(var_dic_list())"
    },
    "r": {
     "delete_cmd_postfix": ") ",
     "delete_cmd_prefix": "rm(",
     "library": "var_list.r",
     "varRefreshCmd": "cat(var_dic_list()) "
    }
   },
   "types_to_exclude": [
    "module",
    "function",
    "builtin_function_or_method",
    "instance",
    "_Feature"
   ],
   "window_display": false
  }
 },
 "nbformat": 4,
 "nbformat_minor": 5
}
