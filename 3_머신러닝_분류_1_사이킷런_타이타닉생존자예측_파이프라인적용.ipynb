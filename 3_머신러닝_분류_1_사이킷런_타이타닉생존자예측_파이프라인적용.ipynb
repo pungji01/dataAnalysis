{
  "cells": [
    {
      "cell_type": "markdown",
      "metadata": {
        "id": "view-in-github",
        "colab_type": "text"
      },
      "source": [
        "<a href=\"https://colab.research.google.com/github/pungji01/dataAnalysis/blob/main/3_%EB%A8%B8%EC%8B%A0%EB%9F%AC%EB%8B%9D_%EB%B6%84%EB%A5%98_1_%EC%82%AC%EC%9D%B4%ED%82%B7%EB%9F%B0_%ED%83%80%EC%9D%B4%ED%83%80%EB%8B%89%EC%83%9D%EC%A1%B4%EC%9E%90%EC%98%88%EC%B8%A1_%ED%8C%8C%EC%9D%B4%ED%94%84%EB%9D%BC%EC%9D%B8%EC%A0%81%EC%9A%A9.ipynb\" target=\"_parent\"><img src=\"https://colab.research.google.com/assets/colab-badge.svg\" alt=\"Open In Colab\"/></a>"
      ]
    },
    {
      "cell_type": "markdown",
      "metadata": {
        "id": "5JlViWHmcbTS"
      },
      "source": [
        "# 타이타닉 생존자 예측 : 분류"
      ]
    },
    {
      "cell_type": "markdown",
      "metadata": {
        "id": "z7Ijq7Dwcbk-"
      },
      "source": [
        "## #사용 모델 : RandomForestClassifier"
      ]
    },
    {
      "cell_type": "markdown",
      "metadata": {
        "id": "Bo4sld1bcPBy"
      },
      "source": [
        "## 방법1: 사이킷런을 이용한 기본 방법"
      ]
    },
    {
      "cell_type": "markdown",
      "metadata": {
        "id": "i0BOn2TFez-X"
      },
      "source": []
    },
    {
      "cell_type": "code",
      "execution_count": null,
      "metadata": {
        "colab": {
          "base_uri": "https://localhost:8080/"
        },
        "id": "85BmF_uHcPqq",
        "outputId": "2e31f846-de9f-400b-92ac-a4e4b737cd76"
      },
      "outputs": [
        {
          "name": "stderr",
          "output_type": "stream",
          "text": [
            "/usr/local/lib/python3.10/dist-packages/sklearn/preprocessing/_encoders.py:868: FutureWarning: `sparse` was renamed to `sparse_output` in version 1.2 and will be removed in 1.4. `sparse_output` is ignored unless you leave `sparse` to its default value.\n",
            "  warnings.warn(\n"
          ]
        },
        {
          "name": "stdout",
          "output_type": "stream",
          "text": [
            "Test Accuracy: 82.12%\n",
            "              precision    recall  f1-score   support\n",
            "\n",
            "           0       0.84      0.86      0.85       105\n",
            "           1       0.79      0.77      0.78        74\n",
            "\n",
            "    accuracy                           0.82       179\n",
            "   macro avg       0.82      0.81      0.81       179\n",
            "weighted avg       0.82      0.82      0.82       179\n",
            "\n"
          ]
        }
      ],
      "source": [
        "import pandas as pd\n",
        "from sklearn.model_selection import train_test_split\n",
        "from sklearn.preprocessing import StandardScaler, OneHotEncoder\n",
        "from sklearn.ensemble import RandomForestClassifier\n",
        "from sklearn.metrics import accuracy_score, classification_report\n",
        "\n",
        "\n",
        "# 데이터 불러오기\n",
        "train_data_url = \"https://raw.githubusercontent.com/datasciencedojo/datasets/master/titanic.csv\"\n",
        "data = pd.read_csv(train_data_url)\n",
        "\n",
        "# 불필요한 컬럼 제거\n",
        "data = data.drop(['Name', 'Ticket', 'Cabin'], axis=1)\n",
        "\n",
        "# 결측치 처리\n",
        "data['Age'].fillna(data['Age'].median(), inplace=True)\n",
        "data['Embarked'].fillna(data['Embarked'].mode()[0], inplace=True)\n",
        "\n",
        "# 범주형 변수 인코딩 (One-Hot Encoding)\n",
        "encoder = OneHotEncoder(sparse=False)\n",
        "categorical_columns = ['Sex', 'Embarked', 'Pclass']\n",
        "encoded_categorical = encoder.fit_transform(data[categorical_columns])\n",
        "\n",
        "# 수치형 변수 표준화\n",
        "scaler = StandardScaler()\n",
        "numerical_columns = ['Age', 'SibSp', 'Parch', 'Fare']\n",
        "scaled_numerical = scaler.fit_transform(data[numerical_columns])\n",
        "\n",
        "# 인코딩된 범주형 데이터 및 표준화된 수치형 데이터를 결합\n",
        "import numpy as np\n",
        "X = np.hstack([scaled_numerical, encoded_categorical])\n",
        "\n",
        "# 타겟 데이터 분리\n",
        "y = data['Survived']\n",
        "\n",
        "# 훈련 및 테스트 데이터로 분할\n",
        "X_train, X_test, y_train, y_test = train_test_split(X, y, test_size=0.2, random_state=42)\n",
        "\n",
        "# 랜덤 포레스트 모델 생성 및 학습\n",
        "clf = RandomForestClassifier(random_state=42)\n",
        "clf.fit(X_train, y_train)\n",
        "\n",
        "# 예측 수행\n",
        "y_pred = clf.predict(X_test)\n",
        "\n",
        "# 정확도 출력\n",
        "accuracy = accuracy_score(y_test, y_pred)\n",
        "print(f'Test Accuracy: {accuracy * 100:.2f}%')\n",
        "\n",
        "# 자세한 성능 평가 보고서 출력\n",
        "print(classification_report(y_test, y_pred))"
      ]
    },
    {
      "cell_type": "markdown",
      "metadata": {
        "id": "2bCiXFL7cRbR"
      },
      "source": [
        "## 방법2: **컬럼 변환기**를 사용한 전처리(ColumnTransformer)\n",
        "방법1을 조금 더 간단하게 하는 방법"
      ]
    },
    {
      "cell_type": "code",
      "execution_count": null,
      "metadata": {
        "colab": {
          "base_uri": "https://localhost:8080/"
        },
        "id": "sxOvjuPRZAtT",
        "outputId": "20a1f42b-ee12-4560-946f-66b3aa0e0ed7"
      },
      "outputs": [
        {
          "name": "stdout",
          "output_type": "stream",
          "text": [
            "Test Accuracy: 82.12%\n",
            "성능 평가 보고서: \n",
            "               precision    recall  f1-score   support\n",
            "\n",
            "           0       0.84      0.86      0.85       105\n",
            "           1       0.79      0.77      0.78        74\n",
            "\n",
            "    accuracy                           0.82       179\n",
            "   macro avg       0.82      0.81      0.81       179\n",
            "weighted avg       0.82      0.82      0.82       179\n",
            "\n"
          ]
        }
      ],
      "source": [
        "import pandas as pd\n",
        "from sklearn.model_selection import train_test_split\n",
        "from sklearn.preprocessing import OneHotEncoder, StandardScaler\n",
        "from sklearn.compose import ColumnTransformer\n",
        "from sklearn.ensemble import RandomForestClassifier\n",
        "from sklearn.metrics import accuracy_score, classification_report\n",
        "\n",
        "\n",
        "# 데이터 불러오기\n",
        "train_data_url = \"https://raw.githubusercontent.com/datasciencedojo/datasets/master/titanic.csv\"\n",
        "data = pd.read_csv(train_data_url)\n",
        "\n",
        "# 불필요한 컬럼 제거\n",
        "data = data.drop(['Name', 'Ticket', 'Cabin'], axis=1)\n",
        "\n",
        "# 결측치 처리\n",
        "data['Age'].fillna(data['Age'].median(), inplace=True)\n",
        "data['Embarked'].fillna(data['Embarked'].mode()[0], inplace=True)\n",
        "\n",
        "\n",
        "# 범주형 변수와 수치형 변수를 구분\n",
        "categorical_features = ['Sex', 'Embarked', 'Pclass']\n",
        "numerical_features = ['Age', 'SibSp', 'Parch', 'Fare']\n",
        "\n",
        "# 컬럼 변환기를 통한 전처리\n",
        "preprocessor = ColumnTransformer(\n",
        "    transformers=[\n",
        "        ('num', StandardScaler(), numerical_features),\n",
        "        ('cat', OneHotEncoder(), categorical_features)\n",
        "    ]\n",
        ")\n",
        "\n",
        "# 피처와 타겟 분리\n",
        "X = data.drop('Survived', axis=1)\n",
        "y = data['Survived']\n",
        "\n",
        "# 훈련 및 테스트 세트로 분리\n",
        "X_train, X_test, y_train, y_test = train_test_split(X, y, test_size=0.2, random_state=42)\n",
        "\n",
        "\n",
        "X_train = preprocessor.fit_transform(X_train)\n",
        "X_test = preprocessor.transform(X_test)\n",
        "\n",
        "# 랜덤 포레스트 모델 생성 및 학습\n",
        "model = RandomForestClassifier(random_state=42)\n",
        "model.fit(X_train, y_train)\n",
        "\n",
        "# 모델 학습\n",
        "model.fit(X_train, y_train)\n",
        "\n",
        "# 예측 수행\n",
        "y_pred = model.predict(X_test)\n",
        "\n",
        "# 정확도 출력\n",
        "accuracy = accuracy_score(y_test, y_pred)\n",
        "print(f'Test Accuracy: {accuracy * 100:.2f}%')\n",
        "\n",
        "# 자세한 성능 평가 보고서 출력\n",
        "print('성능 평가 보고서: \\n', classification_report(y_test, y_pred))"
      ]
    },
    {
      "cell_type": "markdown",
      "metadata": {
        "id": "pA2exOeJZSy8"
      },
      "source": [
        "## 방법3: **파이프라인**을 이용하여 전처리와 여러 개의 모델 적용 한번에(Pipeline)\n",
        "여러개의 모델을 동시에 학습시킬 수 있다."
      ]
    },
    {
      "cell_type": "code",
      "execution_count": null,
      "metadata": {
        "colab": {
          "base_uri": "https://localhost:8080/"
        },
        "id": "97bAQk1rZS78",
        "outputId": "622b5978-5a8b-4c59-b2ce-6b81d51b7216"
      },
      "outputs": [
        {
          "name": "stdout",
          "output_type": "stream",
          "text": [
            "Test Accuracy: 82.12%\n",
            "성능 평가 보고서: \n",
            "               precision    recall  f1-score   support\n",
            "\n",
            "           0       0.84      0.86      0.85       105\n",
            "           1       0.79      0.77      0.78        74\n",
            "\n",
            "    accuracy                           0.82       179\n",
            "   macro avg       0.82      0.81      0.81       179\n",
            "weighted avg       0.82      0.82      0.82       179\n",
            "\n"
          ]
        }
      ],
      "source": [
        "import pandas as pd\n",
        "from sklearn.model_selection import train_test_split\n",
        "from sklearn.preprocessing import OneHotEncoder, StandardScaler\n",
        "from sklearn.pipeline import Pipeline\n",
        "from sklearn.compose import ColumnTransformer\n",
        "from sklearn.ensemble import RandomForestClassifier\n",
        "from sklearn.metrics import accuracy_score, classification_report\n",
        "\n",
        "\n",
        "# 데이터 불러오기\n",
        "train_data_url = \"https://raw.githubusercontent.com/datasciencedojo/datasets/master/titanic.csv\"\n",
        "data = pd.read_csv(train_data_url)\n",
        "\n",
        "# 불필요한 컬럼 제거\n",
        "data = data.drop(['Name', 'Ticket', 'Cabin'], axis=1)\n",
        "\n",
        "# 결측치 처리\n",
        "data['Age'].fillna(data['Age'].median(), inplace=True)\n",
        "data['Embarked'].fillna(data['Embarked'].mode()[0], inplace=True)\n",
        "\n",
        "\n",
        "# 범주형 변수와 수치형 변수를 구분\n",
        "categorical_features = ['Sex', 'Embarked', 'Pclass']\n",
        "numerical_features = ['Age', 'SibSp', 'Parch', 'Fare']\n",
        "\n",
        "# 컬럼 변환기를 통한 전처리\n",
        "preprocessor = ColumnTransformer(\n",
        "    transformers=[\n",
        "        ('num', StandardScaler(), numerical_features),\n",
        "        ('cat', OneHotEncoder(), categorical_features)\n",
        "    ]\n",
        ")\n",
        "\n",
        "# 피처와 타겟 분리\n",
        "X = data.drop('Survived', axis=1)\n",
        "y = data['Survived']\n",
        "\n",
        "# 훈련 및 테스트 세트로 분리\n",
        "X_train, X_test, y_train, y_test = train_test_split(X, y, test_size=0.2, random_state=42)\n",
        "\n",
        "# 파이프라인 구축 (전처리 + 분류 모델)\n",
        "pipeline = Pipeline([\n",
        "    ('preprocessor', preprocessor),\n",
        "    ('classifier', RandomForestClassifier(random_state=42))     # 이부분에 여러 개의 다른 모델을 추가할 수 있다\n",
        "])\n",
        "\n",
        "# 모델 학습\n",
        "pipeline.fit(X_train, y_train)\n",
        "\n",
        "# 예측 수행\n",
        "y_pred = pipeline.predict(X_test)\n",
        "\n",
        "# 정확도 출력\n",
        "accuracy = accuracy_score(y_test, y_pred)\n",
        "print(f'Test Accuracy: {accuracy * 100:.2f}%')\n",
        "\n",
        "# 자세한 성능 평가 보고서 출력\n",
        "print('성능 평가 보고서: \\n', classification_report(y_test, y_pred))"
      ]
    }
  ],
  "metadata": {
    "colab": {
      "provenance": [],
      "toc_visible": true,
      "include_colab_link": true
    },
    "kernelspec": {
      "display_name": "Python 3",
      "name": "python3"
    },
    "language_info": {
      "name": "python"
    }
  },
  "nbformat": 4,
  "nbformat_minor": 0
}