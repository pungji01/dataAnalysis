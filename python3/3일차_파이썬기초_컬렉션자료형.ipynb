{
  "nbformat": 4,
  "nbformat_minor": 0,
  "metadata": {
    "colab": {
      "provenance": [],
      "collapsed_sections": [
        "uvlMZYnBTyUd",
        "OhoG2L3cXaCF"
      ],
      "authorship_tag": "ABX9TyPFg7Ktjc4YqG7blauCfxl5",
      "include_colab_link": true
    },
    "kernelspec": {
      "name": "python3",
      "display_name": "Python 3"
    },
    "language_info": {
      "name": "python"
    }
  },
  "cells": [
    {
      "cell_type": "markdown",
      "metadata": {
        "id": "view-in-github",
        "colab_type": "text"
      },
      "source": [
        "<a href=\"https://colab.research.google.com/github/pungji01/dataAnalysis/blob/main/3%EC%9D%BC%EC%B0%A8_%ED%8C%8C%EC%9D%B4%EC%8D%AC%EA%B8%B0%EC%B4%88_%EC%BB%AC%EB%A0%89%EC%85%98%EC%9E%90%EB%A3%8C%ED%98%95.ipynb\" target=\"_parent\"><img src=\"https://colab.research.google.com/assets/colab-badge.svg\" alt=\"Open In Colab\"/></a>"
      ]
    },
    {
      "cell_type": "markdown",
      "source": [
        "#3. 컬렉션 자료형"
      ],
      "metadata": {
        "id": "h70SmSdQTnO9"
      }
    },
    {
      "cell_type": "markdown",
      "source": [
        "##3-1 리스트 생성"
      ],
      "metadata": {
        "id": "uvlMZYnBTyUd"
      }
    },
    {
      "cell_type": "code",
      "execution_count": 2,
      "metadata": {
        "colab": {
          "base_uri": "https://localhost:8080/"
        },
        "id": "vcPUxmduTgKI",
        "outputId": "7279d84c-d891-4fe3-f91d-124d577b23de"
      },
      "outputs": [
        {
          "output_type": "stream",
          "name": "stdout",
          "text": [
            "<class 'list'>\n",
            "[]\n"
          ]
        }
      ],
      "source": [
        "# 빈 리스트 생성\n",
        "a = []\n",
        "a = list()\n",
        "print( type(a) )\n",
        "print(a)"
      ]
    },
    {
      "cell_type": "code",
      "source": [
        "# 초기 데이터 넣고 리스트 생성\n",
        "import math\n",
        "a = [1,2,3,4,5,]\n",
        "a = [1, 'apple', '딸기', 3.14, math.pi, max([10,30,20])]\n",
        "b = [1, 2, a, ['사과', '딸기'], {'k':'kiwi'}]\n",
        "print(a)\n",
        "print(b)"
      ],
      "metadata": {
        "colab": {
          "base_uri": "https://localhost:8080/"
        },
        "id": "S4OqkouSTtEg",
        "outputId": "f3eb92bf-b34f-4335-e658-1c12c2c9d0af"
      },
      "execution_count": 5,
      "outputs": [
        {
          "output_type": "stream",
          "name": "stdout",
          "text": [
            "[1, 'apple', '딸기', 3.14, 3.141592653589793, 30]\n",
            "[1, 2, [1, 'apple', '딸기', 3.14, 3.141592653589793, 30], ['사과', '딸기'], {'k': 'kiwi'}]\n"
          ]
        }
      ]
    },
    {
      "cell_type": "code",
      "source": [
        "numlist = []\n",
        "for num in range(1,21,2):   # for 반복문, range():정수를 순차로 발생시키는 함수\n",
        "    numlist.append(num)     # 리스트에 데이터 추가\n",
        "print(numlist)"
      ],
      "metadata": {
        "colab": {
          "base_uri": "https://localhost:8080/"
        },
        "id": "MV3HqNeFVLu9",
        "outputId": "82cc0951-53d6-4fc8-c912-328022b4155e"
      },
      "execution_count": 7,
      "outputs": [
        {
          "output_type": "stream",
          "name": "stdout",
          "text": [
            "[1, 3, 5, 7, 9, 11, 13, 15, 17, 19]\n"
          ]
        }
      ]
    },
    {
      "cell_type": "code",
      "source": [
        "print(b)\n",
        "for i in b:   #for 반복문, b란 이름의 리스트 안에 있는 요소를 하나씩 출력하는 코드\n",
        "    print(i)"
      ],
      "metadata": {
        "colab": {
          "base_uri": "https://localhost:8080/"
        },
        "id": "zHM-y1kUVhgh",
        "outputId": "59852837-031b-42d7-d952-073ce170244c"
      },
      "execution_count": 9,
      "outputs": [
        {
          "output_type": "stream",
          "name": "stdout",
          "text": [
            "[1, 2, [1, 'apple', '딸기', 3.14, 3.141592653589793, 30], ['사과', '딸기'], {'k': 'kiwi'}]\n",
            "1\n",
            "2\n",
            "[1, 'apple', '딸기', 3.14, 3.141592653589793, 30]\n",
            "['사과', '딸기']\n",
            "{'k': 'kiwi'}\n"
          ]
        }
      ]
    },
    {
      "cell_type": "markdown",
      "source": [
        "##3-2 리스트 요소에 접근"
      ],
      "metadata": {
        "id": "OhoG2L3cXaCF"
      }
    },
    {
      "cell_type": "code",
      "source": [
        "colors = ['빨강', '초록', '파랑', '노랑', '검정']\n",
        "print( colors[0] )\n",
        "print( colors[2:4] )\n",
        "print( colors[::-1] )   # 거꾸로 정렬\n",
        "\n",
        "for color in colors:\n",
        "    print(f\"나는 '{color}' 색상을 좋아합니다.\")"
      ],
      "metadata": {
        "colab": {
          "base_uri": "https://localhost:8080/"
        },
        "id": "Y0cnVnbSXdXx",
        "outputId": "9cd04b84-d9f1-43d3-c5ab-3b1bb2aa3b7a"
      },
      "execution_count": 11,
      "outputs": [
        {
          "output_type": "stream",
          "name": "stdout",
          "text": [
            "빨강\n",
            "['파랑', '노랑']\n",
            "['검정', '노랑', '파랑', '초록', '빨강']\n",
            "나는 '빨강' 색상을 좋아합니다.\n",
            "나는 '초록' 색상을 좋아합니다.\n",
            "나는 '파랑' 색상을 좋아합니다.\n",
            "나는 '노랑' 색상을 좋아합니다.\n",
            "나는 '검정' 색상을 좋아합니다.\n"
          ]
        }
      ]
    },
    {
      "cell_type": "markdown",
      "source": [
        "###리스트에 요소 추가하기"
      ],
      "metadata": {
        "id": "IwXiO-XbYoZL"
      }
    },
    {
      "cell_type": "code",
      "source": [
        "print(colors)\n",
        "# 인덱스 2위치에 '분홍' 넣기\n",
        "colors.insert(2, '분홍')\n",
        "print(colors)\n",
        "\n",
        "# 맨 뒤에 추가하기\n",
        "colors.append('보라')\n",
        "print(colors)"
      ],
      "metadata": {
        "colab": {
          "base_uri": "https://localhost:8080/"
        },
        "id": "e38sChoKYmr9",
        "outputId": "6e9baa5c-4e28-45b7-877f-b8c2d81ed4dd"
      },
      "execution_count": 13,
      "outputs": [
        {
          "output_type": "stream",
          "name": "stdout",
          "text": [
            "['빨강', '초록', '분홍', '파랑', '노랑', '검정']\n",
            "['빨강', '초록', '분홍', '분홍', '파랑', '노랑', '검정']\n",
            "['빨강', '초록', '분홍', '분홍', '파랑', '노랑', '검정', '보라']\n"
          ]
        }
      ]
    },
    {
      "cell_type": "markdown",
      "source": [
        "### 리스트 특정 위치의 요소값 변경"
      ],
      "metadata": {
        "id": "gy3twjiKZerk"
      }
    },
    {
      "cell_type": "code",
      "source": [
        "colors[3] = '주황'\n",
        "print(colors)\n",
        "colors[1:3] = '갈색'\n",
        "print(colors)\n",
        "colors[1:3] = ['갈색', '고동']\n",
        "print(colors)\n",
        "colors[1:4] = '갈색'    # 주의! 인덱스 개수가 다르면 대체가 안되고 없어짐\n",
        "print(colors)"
      ],
      "metadata": {
        "colab": {
          "base_uri": "https://localhost:8080/"
        },
        "id": "n1jZ5MY6ZjrM",
        "outputId": "6144f582-9bba-4f93-bf36-c331a0daae63"
      },
      "execution_count": 19,
      "outputs": [
        {
          "output_type": "stream",
          "name": "stdout",
          "text": [
            "['빨강', '갈색', '고동', '주황', '파랑', '노랑', '검정', '보라']\n",
            "['빨강', '갈', '색', '주황', '파랑', '노랑', '검정', '보라']\n",
            "['빨강', '갈색', '고동', '주황', '파랑', '노랑', '검정', '보라']\n",
            "['빨강', '갈', '색', '파랑', '노랑', '검정', '보라']\n"
          ]
        }
      ]
    },
    {
      "cell_type": "markdown",
      "source": [
        "### 리스트의 요소 삭제"
      ],
      "metadata": {
        "id": "WE7rt559bYyo"
      }
    },
    {
      "cell_type": "code",
      "source": [
        "colors = ['빨강', '노랑', '초록', '파랑', '노랑', '검정', '노랑']\n",
        "# 맨 뒤에 있는 것 삭제(꺼내기)\n",
        "colors.pop()\n",
        "print(colors)\n",
        "\n",
        "# 요소값과 일치하는 것 삭제\n",
        "colors.remove('노랑')\n",
        "print(colors)\n",
        "\n",
        "# 전체 요소 삭제\n",
        "colors.clear()\n",
        "print(colors)"
      ],
      "metadata": {
        "colab": {
          "base_uri": "https://localhost:8080/"
        },
        "id": "GBj8rGpVbbmZ",
        "outputId": "f5d3e2d6-f922-4376-9668-f62b31a8d5a0"
      },
      "execution_count": 23,
      "outputs": [
        {
          "output_type": "stream",
          "name": "stdout",
          "text": [
            "['빨강', '노랑', '초록', '파랑', '노랑', '검정']\n",
            "['빨강', '초록', '파랑', '노랑', '검정']\n",
            "[]\n"
          ]
        }
      ]
    },
    {
      "cell_type": "markdown",
      "source": [
        "### 리스트 자체 삭제"
      ],
      "metadata": {
        "id": "eI03JGxycxPA"
      }
    },
    {
      "cell_type": "code",
      "source": [
        "del(colors)\n",
        "print(colors)   # 리스트 colors가 없어졌으므로 오류 발생"
      ],
      "metadata": {
        "colab": {
          "base_uri": "https://localhost:8080/",
          "height": 164
        },
        "id": "cdkI_IFBcm-0",
        "outputId": "36ed5caf-597d-4673-a7c1-defede26aee4"
      },
      "execution_count": 24,
      "outputs": [
        {
          "output_type": "error",
          "ename": "NameError",
          "evalue": "name 'colors' is not defined",
          "traceback": [
            "\u001b[0;31m---------------------------------------------------------------------------\u001b[0m",
            "\u001b[0;31mNameError\u001b[0m                                 Traceback (most recent call last)",
            "\u001b[0;32m<ipython-input-24-90ee9471d91d>\u001b[0m in \u001b[0;36m<cell line: 2>\u001b[0;34m()\u001b[0m\n\u001b[1;32m      1\u001b[0m \u001b[0;32mdel\u001b[0m\u001b[0;34m(\u001b[0m\u001b[0mcolors\u001b[0m\u001b[0;34m)\u001b[0m\u001b[0;34m\u001b[0m\u001b[0;34m\u001b[0m\u001b[0m\n\u001b[0;32m----> 2\u001b[0;31m \u001b[0mprint\u001b[0m\u001b[0;34m(\u001b[0m\u001b[0mcolors\u001b[0m\u001b[0;34m)\u001b[0m\u001b[0;34m\u001b[0m\u001b[0;34m\u001b[0m\u001b[0m\n\u001b[0m",
            "\u001b[0;31mNameError\u001b[0m: name 'colors' is not defined"
          ]
        }
      ]
    },
    {
      "cell_type": "markdown",
      "source": [
        "###2차원/3차원... 리스트 요소 접근"
      ],
      "metadata": {
        "id": "ycdTW6n0c96j"
      }
    },
    {
      "cell_type": "code",
      "source": [
        "animals = ['사자', '호랑이', '곰',\n",
        "            ['고양이', '강아지', ['돌고래', '범고래'], '햄스터'],\n",
        "           ]\n",
        "\n",
        "print(animals)\n",
        "print(animals[1])\n",
        "print(animals[3])\n",
        "print(animals[3][1])      # 2차원\n",
        "print(animals[3][2][1])   # 3차원"
      ],
      "metadata": {
        "colab": {
          "base_uri": "https://localhost:8080/"
        },
        "id": "GpMqwutcdDK_",
        "outputId": "dd5a42aa-54f2-4889-b8a6-7ceafa3a00a5"
      },
      "execution_count": 26,
      "outputs": [
        {
          "output_type": "stream",
          "name": "stdout",
          "text": [
            "['사자', '호랑이', '곰', ['고양이', '강아지', ['돌고래', '범고래'], '햄스터']]\n",
            "호랑이\n",
            "['고양이', '강아지', ['돌고래', '범고래'], '햄스터']\n",
            "강아지\n",
            "범고래\n"
          ]
        }
      ]
    },
    {
      "cell_type": "markdown",
      "source": [
        "### 리스트 길이(요소의 개수)"
      ],
      "metadata": {
        "id": "K3FegWq3fYo5"
      }
    },
    {
      "cell_type": "code",
      "source": [
        "print(animals)\n",
        "print( len(animals) )\n",
        "print(len(animals[3]))\n",
        "print(len(animals[3][2]))"
      ],
      "metadata": {
        "colab": {
          "base_uri": "https://localhost:8080/"
        },
        "id": "mm2rd96gfbYM",
        "outputId": "f7bd7e09-c9af-41ab-bdbf-9545a1f8a8d4"
      },
      "execution_count": 29,
      "outputs": [
        {
          "output_type": "stream",
          "name": "stdout",
          "text": [
            "['사자', '호랑이', '곰', ['고양이', '강아지', ['돌고래', '범고래'], '햄스터']]\n",
            "4\n",
            "4\n",
            "2\n"
          ]
        }
      ]
    },
    {
      "cell_type": "markdown",
      "source": [
        "### 리스트 함수"
      ],
      "metadata": {
        "id": "mkj0e7ZYgEMU"
      }
    },
    {
      "cell_type": "code",
      "source": [
        "colors = ['빨강', '초록', '파랑', '노랑', '검정', '노랑']\n",
        "\n",
        "# 리스트 요소 정렬\n",
        "print(colors)\n",
        "colors.sort()   # 순차 정렬(가나다 순)\n",
        "print(colors)\n",
        "\n",
        "colors.reverse() # 역순 정렬\n",
        "print(colors)\n",
        "\n",
        "# 리스트의 특정 요소 위치 찾기\n",
        "print(f\"'빨강' 요소 값 위치 찾기 : {colors.index('빨강')}\" )\n",
        "print(f\"'노랑' 요소 값 위치 찾기 : {colors.index('노랑')}\" ) # 여러 개 있을 경우 맨 앞의 인덱스 나타내기\n",
        "\n",
        "# 요소 값 개수 세기\n",
        "print(f\"요소 값 개수 세기 : {colors.count('노랑')}\")\n",
        "\n",
        "# 리스트 정렬해서 새로운 이름을 저장해서 사용\n",
        "new = sorted(colors)\n",
        "print(new)"
      ],
      "metadata": {
        "colab": {
          "base_uri": "https://localhost:8080/"
        },
        "id": "SYAv_ZZygGmr",
        "outputId": "4a80d33e-dd44-4361-e19d-890debddb8e9"
      },
      "execution_count": 47,
      "outputs": [
        {
          "output_type": "stream",
          "name": "stdout",
          "text": [
            "['빨강', '초록', '파랑', '노랑', '검정', '노랑']\n",
            "['검정', '노랑', '노랑', '빨강', '초록', '파랑']\n",
            "['파랑', '초록', '빨강', '노랑', '노랑', '검정']\n",
            "'빨강' 요소 값 위치 찾기 : 2\n",
            "'노랑' 요소 값 위치 찾기 : 3\n",
            "요소 값 개수 세기 : 2\n",
            "['검정', '노랑', '노랑', '빨강', '초록', '파랑']\n"
          ]
        }
      ]
    },
    {
      "cell_type": "code",
      "source": [
        "colors = ['빨강', '초록', '파랑', '노랑', '검정']\n",
        "newColors = ['red', 'green', 'blue']\n",
        "print(colors)\n",
        "print(newColors)\n",
        "colors.extend(newColors)\n",
        "print(colors)\n",
        "print('-'*50)\n",
        "\n",
        "colors = ['빨강', '초록', '파랑', '노랑', '검정']\n",
        "newColors = ['red', 'green', 'blue']\n",
        "colors += newColors   # colors.extend(newColors)와 같은 결과\n",
        "print(colors)"
      ],
      "metadata": {
        "colab": {
          "base_uri": "https://localhost:8080/"
        },
        "id": "EcluhdIfiGvQ",
        "outputId": "e3465b3e-7a96-4807-94c4-b794b8dea432"
      },
      "execution_count": 49,
      "outputs": [
        {
          "output_type": "stream",
          "name": "stdout",
          "text": [
            "['빨강', '초록', '파랑', '노랑', '검정']\n",
            "['red', 'green', 'blue']\n",
            "['빨강', '초록', '파랑', '노랑', '검정', 'red', 'green', 'blue']\n",
            "--------------------------------------------------\n",
            "['빨강', '초록', '파랑', '노랑', '검정', 'red', 'green', 'blue']\n"
          ]
        }
      ]
    },
    {
      "cell_type": "markdown",
      "source": [
        "##3-2 딕셔너리(Dictionary)"
      ],
      "metadata": {
        "id": "G_ADTxnHnj4b"
      }
    },
    {
      "cell_type": "markdown",
      "source": [
        "### 딕셔너리 자료 생성"
      ],
      "metadata": {
        "id": "PdOWJGBQtRSc"
      }
    },
    {
      "cell_type": "code",
      "source": [
        "dic = dict()   # 빈 딕셔너리 생성\n",
        "dic = {}      # 빈 딕셔너리 생성\n",
        "print( type(dic) )"
      ],
      "metadata": {
        "colab": {
          "base_uri": "https://localhost:8080/"
        },
        "id": "gdzodUuvnjbO",
        "outputId": "0a67fb1c-b3c3-4f9c-fd3f-c11befb6e3ef"
      },
      "execution_count": 52,
      "outputs": [
        {
          "output_type": "stream",
          "name": "stdout",
          "text": [
            "<class 'dict'>\n"
          ]
        }
      ]
    },
    {
      "cell_type": "code",
      "source": [
        "# 딕셔너리는 Key:Value 구조\n",
        "members = {1:'이승철', 2:'박정현', 'bts':['진', 'RM', '뷔', '지민']}\n",
        "print(members)\n",
        "print(members[2])   # 2는 키 값이다.\n",
        "print(members['bts'])\n",
        "print(members['bts'][1])\n",
        "print( len(members) )"
      ],
      "metadata": {
        "colab": {
          "base_uri": "https://localhost:8080/"
        },
        "id": "cItK_6B4tqMP",
        "outputId": "385f91e9-08b2-4891-9c33-1f826b7dc7ae"
      },
      "execution_count": 54,
      "outputs": [
        {
          "output_type": "stream",
          "name": "stdout",
          "text": [
            "{1: '이승철', 2: '박정현', 'bts': ['진', 'RM', '뷔', '지민']}\n",
            "박정현\n",
            "['진', 'RM', '뷔', '지민']\n",
            "RM\n",
            "3\n"
          ]
        }
      ]
    },
    {
      "cell_type": "markdown",
      "source": [
        "###딕셔너리에서 Value에 접근하기\n",
        "- Key를 통해서 Value에 접근할 수 있다."
      ],
      "metadata": {
        "id": "IHJfdYaPv2mx"
      }
    },
    {
      "cell_type": "code",
      "source": [
        "members = {1:'이승철', 2:'박정현', 'bts':['진', 'RM', '뷔', '지민']}\n",
        "for key in members:\n",
        "    print(f\"Key->{key}, value->{members[key]}\")\n"
      ],
      "metadata": {
        "colab": {
          "base_uri": "https://localhost:8080/"
        },
        "id": "86mU1NvVvLlv",
        "outputId": "72035227-1d18-43b6-8d88-58b77d4b8014"
      },
      "execution_count": 56,
      "outputs": [
        {
          "output_type": "stream",
          "name": "stdout",
          "text": [
            "Key->1, value->이승철\n",
            "Key->2, value->박정현\n",
            "Key->bts, value->['진', 'RM', '뷔', '지민']\n"
          ]
        }
      ]
    },
    {
      "cell_type": "markdown",
      "source": [
        "### 딕셔너리에서 자주 사용하는 함수"
      ],
      "metadata": {
        "id": "D2Nttmc8wG9O"
      }
    },
    {
      "cell_type": "code",
      "source": [
        "members = {1:'이승철', 2:'박정현', 'bts':['진', 'RM', '뷔', '지민']}\n",
        "print( members.keys() )     # key만 모아둔 것\n",
        "print( members.values() )   # value만 모아둔 것\n",
        "print( members.items() )   # (key, value) 쌍으로 모아둔 것"
      ],
      "metadata": {
        "colab": {
          "base_uri": "https://localhost:8080/"
        },
        "id": "kD4Q1q-SwLmL",
        "outputId": "a573fec0-dc56-4a48-8832-31cc33d43491"
      },
      "execution_count": 58,
      "outputs": [
        {
          "output_type": "stream",
          "name": "stdout",
          "text": [
            "dict_keys([1, 2, 'bts'])\n",
            "dict_values(['이승철', '박정현', ['진', 'RM', '뷔', '지민']])\n",
            "dict_items([(1, '이승철'), (2, '박정현'), ('bts', ['진', 'RM', '뷔', '지민'])])\n"
          ]
        }
      ]
    },
    {
      "cell_type": "code",
      "source": [
        "# for (key, value) in members.items():\n",
        "for key, value in members.items():   # 보통 (key, value)에서 괄호는 생략하고 for 제어문의 카운터로 사용\n",
        "    print( key, value )\n",
        "\n",
        "for key in members.keys():\n",
        "    print( key, members[key] )\n",
        "\n",
        "for key in members:\n",
        "    print( key, members[key] )"
      ],
      "metadata": {
        "colab": {
          "base_uri": "https://localhost:8080/"
        },
        "id": "H34NadYnwuzn",
        "outputId": "fb562ada-0acf-4848-a5d4-bf54e4c2ca1c"
      },
      "execution_count": 61,
      "outputs": [
        {
          "output_type": "stream",
          "name": "stdout",
          "text": [
            "1 이승철\n",
            "2 박정현\n",
            "bts ['진', 'RM', '뷔', '지민']\n",
            "1 이승철\n",
            "2 박정현\n",
            "bts ['진', 'RM', '뷔', '지민']\n",
            "1 이승철\n",
            "2 박정현\n",
            "bts ['진', 'RM', '뷔', '지민']\n"
          ]
        }
      ]
    },
    {
      "cell_type": "markdown",
      "source": [
        "### 딕셔너리에 요소 추가/수정/삭제"
      ],
      "metadata": {
        "id": "ZLENIz1rx5LJ"
      }
    },
    {
      "cell_type": "code",
      "source": [
        "members = {1:'이승철', 2:'박정현', 'bts':['진', 'RM', '뷔', '지민']}\n",
        "print(members)\n",
        "\n",
        "# 요소 추가\n",
        "members[3] = 'NCT Dream'\n",
        "members['소속사'] = ['하이브', 'SM기획']\n",
        "print(members)\n",
        "\n",
        "# 요소 수정\n",
        "members[1] = '세븐틴'\n",
        "print(members)\n",
        "\n",
        "# 요소 삭제\n",
        "del(members['소속사'])\n",
        "print(members)\n",
        "\n",
        "# 딕셔너리 삭제\n",
        "del(members)\n",
        "print(members)    # members가 삭제됐으므로 오류 발생"
      ],
      "metadata": {
        "colab": {
          "base_uri": "https://localhost:8080/",
          "height": 255
        },
        "id": "B5LANXZex9fH",
        "outputId": "3c4bc71f-b18a-449f-c4e6-7990da0cfb0e"
      },
      "execution_count": 66,
      "outputs": [
        {
          "output_type": "stream",
          "name": "stdout",
          "text": [
            "{1: '이승철', 2: '박정현', 'bts': ['진', 'RM', '뷔', '지민']}\n",
            "{1: '이승철', 2: '박정현', 'bts': ['진', 'RM', '뷔', '지민'], 3: 'NCT Dream', '소속사': ['하이브', 'SM기획']}\n",
            "{1: '세븐틴', 2: '박정현', 'bts': ['진', 'RM', '뷔', '지민'], 3: 'NCT Dream', '소속사': ['하이브', 'SM기획']}\n",
            "{1: '세븐틴', 2: '박정현', 'bts': ['진', 'RM', '뷔', '지민'], 3: 'NCT Dream'}\n"
          ]
        },
        {
          "output_type": "error",
          "ename": "NameError",
          "evalue": "name 'members' is not defined",
          "traceback": [
            "\u001b[0;31m---------------------------------------------------------------------------\u001b[0m",
            "\u001b[0;31mNameError\u001b[0m                                 Traceback (most recent call last)",
            "\u001b[0;32m<ipython-input-66-bed73e6f8d40>\u001b[0m in \u001b[0;36m<cell line: 18>\u001b[0;34m()\u001b[0m\n\u001b[1;32m     16\u001b[0m \u001b[0;34m\u001b[0m\u001b[0m\n\u001b[1;32m     17\u001b[0m \u001b[0;32mdel\u001b[0m\u001b[0;34m(\u001b[0m\u001b[0mmembers\u001b[0m\u001b[0;34m)\u001b[0m\u001b[0;34m\u001b[0m\u001b[0;34m\u001b[0m\u001b[0m\n\u001b[0;32m---> 18\u001b[0;31m \u001b[0mprint\u001b[0m\u001b[0;34m(\u001b[0m\u001b[0mmembers\u001b[0m\u001b[0;34m)\u001b[0m\u001b[0;34m\u001b[0m\u001b[0;34m\u001b[0m\u001b[0m\n\u001b[0m",
            "\u001b[0;31mNameError\u001b[0m: name 'members' is not defined"
          ]
        }
      ]
    },
    {
      "cell_type": "markdown",
      "source": [
        "##3.3 튜플(Tuple)"
      ],
      "metadata": {
        "id": "ep7usQVJzZQp"
      }
    },
    {
      "cell_type": "markdown",
      "source": [
        "###튜플 생성"
      ],
      "metadata": {
        "id": "G1PPjK4IzjFo"
      }
    },
    {
      "cell_type": "code",
      "source": [
        "tup = tuple()     # 빈 튜플 생성\n",
        "tup = ()          # 빈 튜플 생성\n",
        "print( type(tup) )\n",
        "\n",
        "a = [1,2,3,4]\n",
        "print(a)\n",
        "print( tuple(a) )   # 리스트를 튜플로 변환"
      ],
      "metadata": {
        "colab": {
          "base_uri": "https://localhost:8080/"
        },
        "id": "8VMmu3miz264",
        "outputId": "709235fa-50ec-4287-9989-55291fea981f"
      },
      "execution_count": 68,
      "outputs": [
        {
          "output_type": "stream",
          "name": "stdout",
          "text": [
            "<class 'tuple'>\n",
            "[1, 2, 3, 4]\n",
            "(1, 2, 3, 4)\n"
          ]
        }
      ]
    },
    {
      "cell_type": "code",
      "source": [
        "tup = ('사과')      # 괄호는 묶음의 의미로 해석\n",
        "print( type(tup) )\n",
        "tup = ('사과',)     # 튜플에서 요서가 하나일 때는 반드시 맨 뒤에 ,(쉼표) 추가\n",
        "print( type(tup) )"
      ],
      "metadata": {
        "colab": {
          "base_uri": "https://localhost:8080/"
        },
        "id": "9qer-1qB0jGU",
        "outputId": "882af027-a7df-4ea4-d454-7ebc9a8902f4"
      },
      "execution_count": 70,
      "outputs": [
        {
          "output_type": "stream",
          "name": "stdout",
          "text": [
            "<class 'str'>\n",
            "<class 'tuple'>\n"
          ]
        }
      ]
    },
    {
      "cell_type": "code",
      "source": [
        "help(tuple)   # 자료형에 대한 도움말"
      ],
      "metadata": {
        "id": "Cj8ZsQq21CQI"
      },
      "execution_count": null,
      "outputs": []
    },
    {
      "cell_type": "markdown",
      "source": [
        "###튜플은 변수를 정의할 때/함수의 파라미터 정의에 사용"
      ],
      "metadata": {
        "id": "b1XgZBcC2CNn"
      }
    },
    {
      "cell_type": "code",
      "source": [
        "a, b = 100, 200   # (a, b) = 100, 200\n",
        "a, b = 100, [1, 2, 3]\n",
        "print(a)\n",
        "print(b)"
      ],
      "metadata": {
        "colab": {
          "base_uri": "https://localhost:8080/"
        },
        "id": "PMOP_gZB2Qig",
        "outputId": "20c4fcc6-c1ed-4bb7-bca9-a2033b3c124f"
      },
      "execution_count": 72,
      "outputs": [
        {
          "output_type": "stream",
          "name": "stdout",
          "text": [
            "100\n",
            "[1, 2, 3]\n"
          ]
        }
      ]
    },
    {
      "cell_type": "code",
      "source": [
        "def nSum(a, b):   # 함수 parameter\n",
        "    return a + b\n",
        "\n",
        "nSum( 100, 200)   # 함수 argument"
      ],
      "metadata": {
        "colab": {
          "base_uri": "https://localhost:8080/"
        },
        "id": "VLLtOaX-2kyA",
        "outputId": "543e8d77-e910-4580-cb11-acbb38f7aab4"
      },
      "execution_count": 73,
      "outputs": [
        {
          "output_type": "execute_result",
          "data": {
            "text/plain": [
              "300"
            ]
          },
          "metadata": {},
          "execution_count": 73
        }
      ]
    },
    {
      "cell_type": "markdown",
      "source": [
        "##3.4 집합(Set)\n",
        "- 집합 자료는 키남 모아 놓은 딕셔너리의 특수한 형태"
      ],
      "metadata": {
        "id": "TfNEkPG83Jrj"
      }
    },
    {
      "cell_type": "markdown",
      "source": [
        "###집합 생성"
      ],
      "metadata": {
        "id": "gDPRimNv6XWq"
      }
    },
    {
      "cell_type": "code",
      "source": [
        "a = set()   # 빈 집합 생성\n",
        "print( type(a) )\n",
        "\n",
        "a = {1,2,3,4,2,2,4}   # unique한 데이터만 남는다\n",
        "print(a)"
      ],
      "metadata": {
        "colab": {
          "base_uri": "https://localhost:8080/"
        },
        "id": "LGCcIb7l50Co",
        "outputId": "49ebaa10-ebe7-4c44-877b-46b9f8cabf6a"
      },
      "execution_count": 74,
      "outputs": [
        {
          "output_type": "stream",
          "name": "stdout",
          "text": [
            "<class 'set'>\n",
            "{1, 2, 3, 4}\n"
          ]
        }
      ]
    },
    {
      "cell_type": "markdown",
      "source": [
        "###집합은 중복된 데이터는 배제한다\n",
        "- unique한 데이터만 남는다.\n",
        "- 순서는 없다"
      ],
      "metadata": {
        "id": "PpLC17Fu60JQ"
      }
    },
    {
      "cell_type": "code",
      "source": [
        "a = [1,2,3,4,5,6,7,2,2,3,4,6,5,7,2]\n",
        "print(a)\n",
        "a = list( set(a) )\n",
        "print(a)"
      ],
      "metadata": {
        "colab": {
          "base_uri": "https://localhost:8080/"
        },
        "id": "xrTDxDO7672k",
        "outputId": "ff0f7825-e6e9-4202-f734-079ccad38aff"
      },
      "execution_count": 75,
      "outputs": [
        {
          "output_type": "stream",
          "name": "stdout",
          "text": [
            "[1, 2, 3, 4, 5, 6, 7, 2, 2, 3, 4, 6, 5, 7, 2]\n",
            "[1, 2, 3, 4, 5, 6, 7]\n"
          ]
        }
      ]
    },
    {
      "cell_type": "markdown",
      "source": [
        "###집합에 요소 추가/삭제"
      ],
      "metadata": {
        "id": "-pgmGvx17WgQ"
      }
    },
    {
      "cell_type": "code",
      "source": [
        "s = {1,2,3,'a','b'}\n",
        "print(s)\n",
        "\n",
        "# 요소 1개 추가\n",
        "s.add(4)\n",
        "print(s)\n",
        "\n",
        "# 요소 여러 개 추가\n",
        "s.update(['c','d',5])\n",
        "s.update('apple')   # 단어의 알파펫 단위로 추가됨. 중복은 제거\n",
        "print(s)\n",
        "\n",
        "# 요소 1개 삭제\n",
        "s.discard('a')\n",
        "print(s)\n",
        "s.discard('apple')\n",
        "#s.discard(['p','l'])   #오류 발생\n",
        "print(s)\n",
        "\n",
        "# 특정 요소 삭제\n",
        "s.remove(1)\n",
        "print(s)\n",
        "\n",
        "# 임의의 요소 1개 삭제 : 어떤 요소가 삭제될지 모름, 랜덤 삭제\n",
        "s.pop()\n",
        "print(s)"
      ],
      "metadata": {
        "colab": {
          "base_uri": "https://localhost:8080/"
        },
        "id": "2zVKOvS17iFo",
        "outputId": "e80e6065-3b08-4858-b07d-6c74b43c693e"
      },
      "execution_count": 84,
      "outputs": [
        {
          "output_type": "stream",
          "name": "stdout",
          "text": [
            "{1, 2, 3, 'b', 'a'}\n",
            "{1, 2, 3, 4, 'b', 'a'}\n",
            "{1, 2, 3, 4, 5, 'e', 'l', 'a', 'b', 'p', 'd', 'c'}\n",
            "{1, 2, 3, 4, 5, 'e', 'l', 'b', 'p', 'd', 'c'}\n",
            "{1, 2, 3, 4, 5, 'e', 'l', 'b', 'p', 'd', 'c'}\n",
            "{2, 3, 4, 5, 'e', 'l', 'b', 'p', 'd', 'c'}\n",
            "{3, 4, 5, 'e', 'l', 'b', 'p', 'd', 'c'}\n"
          ]
        }
      ]
    },
    {
      "cell_type": "code",
      "source": [
        "# 집합 삭제\n",
        "del(s)\n",
        "print(s)"
      ],
      "metadata": {
        "colab": {
          "base_uri": "https://localhost:8080/",
          "height": 164
        },
        "id": "6XJAjFBA-BjK",
        "outputId": "19522334-0087-481d-af7d-d294ea856813"
      },
      "execution_count": 85,
      "outputs": [
        {
          "output_type": "error",
          "ename": "NameError",
          "evalue": "name 's' is not defined",
          "traceback": [
            "\u001b[0;31m---------------------------------------------------------------------------\u001b[0m",
            "\u001b[0;31mNameError\u001b[0m                                 Traceback (most recent call last)",
            "\u001b[0;32m<ipython-input-85-0f21bc0fada7>\u001b[0m in \u001b[0;36m<cell line: 2>\u001b[0;34m()\u001b[0m\n\u001b[1;32m      1\u001b[0m \u001b[0;32mdel\u001b[0m\u001b[0;34m(\u001b[0m\u001b[0ms\u001b[0m\u001b[0;34m)\u001b[0m\u001b[0;34m\u001b[0m\u001b[0;34m\u001b[0m\u001b[0m\n\u001b[0;32m----> 2\u001b[0;31m \u001b[0mprint\u001b[0m\u001b[0;34m(\u001b[0m\u001b[0ms\u001b[0m\u001b[0;34m)\u001b[0m\u001b[0;34m\u001b[0m\u001b[0;34m\u001b[0m\u001b[0m\n\u001b[0m",
            "\u001b[0;31mNameError\u001b[0m: name 's' is not defined"
          ]
        }
      ]
    },
    {
      "cell_type": "markdown",
      "source": [
        "###교집합/합집합/차집합"
      ],
      "metadata": {
        "id": "tpSYNj6C-lfM"
      }
    },
    {
      "cell_type": "code",
      "source": [
        "s1 = {1,2,3,4,5}\n",
        "s2 = {3,4,5,6,7}\n",
        "print(s1)\n",
        "print(s2)\n",
        "\n",
        "# 교집합\n",
        "print( s1 & s2 )\n",
        "print( s1.intersection(s2) )\n",
        "\n",
        "# 합집합\n",
        "print( s1 | s2 )\n",
        "print( s1.union(s2) )\n",
        "\n",
        "# 차집합\n",
        "print( s1 - s2 )\n",
        "print( s1.difference(s2) )\n",
        "print( s2 - s1 )\n",
        "print( s2.difference(s1) )\n",
        "\n",
        "\n",
        "# A.intersection_update(B,C) --> 계산 결과를 A로 업데이트하여 변경\n",
        "s1 = {1,2,3,4,5}\n",
        "s2 = {3,4,5,6,7}\n",
        "print(s1)\n",
        "print(s2)\n",
        "s1.intersection_update(s2)\n",
        "print(s1)\n"
      ],
      "metadata": {
        "colab": {
          "base_uri": "https://localhost:8080/"
        },
        "id": "2UXEMmS7-p4F",
        "outputId": "6ff852aa-b9cb-454e-c591-ceee1871f342"
      },
      "execution_count": 92,
      "outputs": [
        {
          "output_type": "stream",
          "name": "stdout",
          "text": [
            "{1, 2, 3, 4, 5}\n",
            "{3, 4, 5, 6, 7}\n",
            "{3, 4, 5}\n",
            "{3, 4, 5}\n",
            "{1, 2, 3, 4, 5, 6, 7}\n",
            "{1, 2, 3, 4, 5, 6, 7}\n",
            "{1, 2}\n",
            "{1, 2}\n",
            "{6, 7}\n",
            "{6, 7}\n",
            "{1, 2, 3, 4, 5}\n",
            "{3, 4, 5, 6, 7}\n",
            "{3, 4, 5}\n"
          ]
        }
      ]
    }
  ]
}
