{
  "nbformat": 4,
  "nbformat_minor": 0,
  "metadata": {
    "colab": {
      "provenance": [],
      "collapsed_sections": [
        "fnVhNagViT8h"
      ],
      "authorship_tag": "ABX9TyOXGY2jxZtQKUyc22G0JUOV",
      "include_colab_link": true
    },
    "kernelspec": {
      "name": "python3",
      "display_name": "Python 3"
    },
    "language_info": {
      "name": "python"
    }
  },
  "cells": [
    {
      "cell_type": "markdown",
      "metadata": {
        "id": "view-in-github",
        "colab_type": "text"
      },
      "source": [
        "<a href=\"https://colab.research.google.com/github/pungji01/dataAnalysis/blob/main/4%EC%9D%BC%EC%B0%A8_%ED%8C%8C%EC%9D%B4%EC%8D%AC%EA%B8%B0%EC%B4%88_%EC%A1%B0%EA%B1%B4%EB%AC%B8.ipynb\" target=\"_parent\"><img src=\"https://colab.research.google.com/assets/colab-badge.svg\" alt=\"Open In Colab\"/></a>"
      ]
    },
    {
      "cell_type": "code",
      "execution_count": null,
      "metadata": {
        "id": "bQ-smF-xWxFw"
      },
      "outputs": [],
      "source": []
    },
    {
      "cell_type": "markdown",
      "source": [
        "#4.파이썬 조건문"
      ],
      "metadata": {
        "id": "odNBRWVqcgzF"
      }
    },
    {
      "cell_type": "markdown",
      "source": [
        "##1. if 조건문(if만 사용)"
      ],
      "metadata": {
        "id": "uLc0ocHTcm82"
      }
    },
    {
      "cell_type": "code",
      "source": [
        "a = 99\n",
        "if a < 100:   # 만약 a가 100보다 작으면\n",
        "  print(f\"{a}는 100보다 작군요\")"
      ],
      "metadata": {
        "colab": {
          "base_uri": "https://localhost:8080/"
        },
        "id": "WWKKr9MqdCZ8",
        "outputId": "ab0a9dd2-c912-4598-bd68-cde0af9d568d"
      },
      "execution_count": 1,
      "outputs": [
        {
          "output_type": "stream",
          "name": "stdout",
          "text": [
            "99는 100보다 작군요\n"
          ]
        }
      ]
    },
    {
      "cell_type": "markdown",
      "source": [
        "##2. if ~ else - 조건문"
      ],
      "metadata": {
        "id": "o2Q7BmZFcuZb"
      }
    },
    {
      "cell_type": "code",
      "source": [
        "a = int( input('숫자를 입력하세요: ') )\n",
        "if a < 100:   # 만약 a가 100보다 작으면 (True)\n",
        "  print(f\"{a}는 100보다 작군요\")\n",
        "else:         # 그렇지 않다면 (False)\n",
        "  print(f\"{a}는 100보다 작지 않군요\")"
      ],
      "metadata": {
        "colab": {
          "base_uri": "https://localhost:8080/"
        },
        "id": "goZQZ5cGdoBx",
        "outputId": "744a4ee7-35d4-474c-b3e0-e89bf1ff90b1"
      },
      "execution_count": 2,
      "outputs": [
        {
          "output_type": "stream",
          "name": "stdout",
          "text": [
            "숫자를 입력하세요: 300\n",
            "300는 100보다 작지 않군요\n"
          ]
        }
      ]
    },
    {
      "cell_type": "markdown",
      "source": [
        "##3. 중첩 if 조건문 (if문 안에 if문)"
      ],
      "metadata": {
        "id": "TMg4ixJPc4Ys"
      }
    },
    {
      "cell_type": "code",
      "source": [
        "a = int( input('숫자를 입력하세요: ') )\n",
        "if a < 100:\n",
        "    if a < 50:\n",
        "        print(f\"{a}는 50보다 작군요\")\n",
        "    else:           # 50 <= a < 100\n",
        "        print(f\"{a}는 50과 100의 사이의 숫자군요\")\n",
        "else:\n",
        "    if a == 100:\n",
        "        print(f\"{a}는 100과 같군요\")\n",
        "    else:\n",
        "        print(f\"{a}는 100보다 크군요\")"
      ],
      "metadata": {
        "id": "_XVBaDWre2Wi"
      },
      "execution_count": null,
      "outputs": []
    },
    {
      "cell_type": "markdown",
      "source": [
        "###[실습문제] 짝수/홀수 판별하기"
      ],
      "metadata": {
        "id": "fnVhNagViT8h"
      }
    },
    {
      "cell_type": "code",
      "source": [
        "x = int(input('숫자를 입력하세요'))\n",
        "if x % 2 == 0:\n",
        "    print(f\"입력된 수: {x} ==> 짝수\")\n",
        "else:\n",
        "    print(f\"입력된 수: {x} ==> 홀수\")"
      ],
      "metadata": {
        "colab": {
          "base_uri": "https://localhost:8080/"
        },
        "id": "Nm3aO8lDgIoG",
        "outputId": "cd9762f1-339b-4266-e456-1739961167b9"
      },
      "execution_count": 3,
      "outputs": [
        {
          "output_type": "stream",
          "name": "stdout",
          "text": [
            "숫자를 입력하세요43\n",
            "입력된 수: 43 ==> 홀수\n"
          ]
        }
      ]
    },
    {
      "cell_type": "code",
      "source": [
        "x = int(input('숫자를 입력하세요'))\n",
        "if x % 2 == 0:    print(f\"입력된 수: {x} ==> 짝수\")\n",
        "else:             print(f\"입력된 수: {x} ==> 홀수\")"
      ],
      "metadata": {
        "id": "UtN9i6GohQ6T"
      },
      "execution_count": null,
      "outputs": []
    },
    {
      "cell_type": "code",
      "source": [
        "x = int(input('숫자를 입력하세요'))\n",
        "print(f\"입력된 수: {x} ==> 짝수\") if x % 2 == 0 else print(f\"입력된 수: {x} ==> 홀수\")"
      ],
      "metadata": {
        "colab": {
          "base_uri": "https://localhost:8080/"
        },
        "id": "7ZKx3GguhXUH",
        "outputId": "0381505e-d9b9-4db3-e6a9-d3cfa0ae1372"
      },
      "execution_count": 5,
      "outputs": [
        {
          "output_type": "stream",
          "name": "stdout",
          "text": [
            "숫자를 입력하세요27\n",
            "입력된 수: 27 ==> 홀수\n"
          ]
        }
      ]
    },
    {
      "cell_type": "markdown",
      "source": [
        "###[실습문제] 가위/바위/보 게임"
      ],
      "metadata": {
        "id": "eIiNHvqBiLMa"
      }
    },
    {
      "cell_type": "code",
      "source": [
        "import random           # 난수 발생 모듈\n",
        "random.randint(1,10)    # 1~10 사이의 임의의 정수 선택\n",
        "computer = random.choice(['가위','바위','보'])\n",
        "my = input('가위/바위/보 중 하나 입력: ')\n",
        "print('-'*30,'게임결과는?')\n",
        "print(f\"computer : {computer}, my: {my}\")\n",
        "\n",
        "# 결과 판단하기\n",
        "if computer == my:\n",
        "    print(f\"서로 비겼습니다\")\n",
        "# 컴퓨터가 이긴 경우\n",
        "else:\n",
        "    if (computer == '가위' and my == '보') or \\\n",
        "       (computer == '바위' and my == '가위') or \\\n",
        "       (computer == '보' and my == '가위'):\n",
        "            print(f\"컴퓨터가 이겼습니다\")\n",
        "    else:\n",
        "            print(f\"내가 이겼습니다\")\n"
      ],
      "metadata": {
        "colab": {
          "base_uri": "https://localhost:8080/"
        },
        "id": "-gX1v8wHiENR",
        "outputId": "dbe16f39-d1ba-4024-81d7-d57c4077dd8e"
      },
      "execution_count": 29,
      "outputs": [
        {
          "output_type": "stream",
          "name": "stdout",
          "text": [
            "가위/바위/보 중 하나 입력: 바위\n",
            "------------------------------ 게임결과는?\n",
            "computer : 보, my: 바위\n",
            "내가 이겼습니다\n"
          ]
        }
      ]
    },
    {
      "cell_type": "markdown",
      "source": [
        "###[실습문제] 직각삼각형 판별하기"
      ],
      "metadata": {
        "id": "ms9ylIPypYJ3"
      }
    },
    {
      "cell_type": "code",
      "source": [
        "print('삼각형의 세 변의 길이를 입력 받습니다.')\n",
        "c = int(input('빗변 c의 길이를 입력하세요: '))\n",
        "a = int(input('  변 a의 길이를 입력하세요: '))\n",
        "b = int(input('  변 b의 길이를 입력하세요: '))\n",
        "print('-'*30)\n",
        "\n",
        "if a**2 + b**2 == c**2:\n",
        "    print('직각삼각형입니다')\n",
        "else:\n",
        "    print('직각삼각형이 아닙니다.')"
      ],
      "metadata": {
        "colab": {
          "base_uri": "https://localhost:8080/"
        },
        "id": "xu8SX83apdtS",
        "outputId": "31206f2b-d991-4f83-8f87-e5e5f5a54058"
      },
      "execution_count": 31,
      "outputs": [
        {
          "output_type": "stream",
          "name": "stdout",
          "text": [
            "삼각형의 세 변의 길이를 입력 받습니다.\n",
            "빗변 c의 길이를 입력하세요: 5\n",
            "  변 a의 길이를 입력하세요: 3\n",
            "  변 b의 길이를 입력하세요: 4\n",
            "------------------------------\n",
            "직각삼각형입니다\n"
          ]
        }
      ]
    },
    {
      "cell_type": "markdown",
      "source": [
        "##4. 다중 조건문\n",
        "if~ else~ if --> if~ elif"
      ],
      "metadata": {
        "id": "gSF6TZvUyKP3"
      }
    },
    {
      "cell_type": "code",
      "source": [
        "# 나이별 학생 구분하기\n",
        "age = int(input('나이를 입력하세요'))\n",
        "if age < 8:\n",
        "    print('미취학 아동입니다.')\n",
        "elif age < 14:\n",
        "    print('초등학생 입니다.')\n",
        "elif age < 17:\n",
        "    print('중학생 입니다.')\n",
        "elif age < 20:\n",
        "    print('고등학생 입니다.')\n",
        "else:\n",
        "    print('성인입니다.11')"
      ],
      "metadata": {
        "colab": {
          "base_uri": "https://localhost:8080/"
        },
        "id": "-4VH_aC8yamj",
        "outputId": "4579e6a7-7b6d-467b-b4ac-acffa7a4bf39"
      },
      "execution_count": 35,
      "outputs": [
        {
          "output_type": "stream",
          "name": "stdout",
          "text": [
            "나이를 입력하세요16\n",
            "중학생 입니다.\n"
          ]
        }
      ]
    },
    {
      "cell_type": "markdown",
      "source": [
        "##5. 조건부 표현식"
      ],
      "metadata": {
        "id": "vpZAAxzyz0zK"
      }
    },
    {
      "cell_type": "code",
      "source": [
        "score = int(input('점수를 입력하세요: '))\n",
        "if score >= 80:\n",
        "    message = 'Success'\n",
        "else:\n",
        "    message = 'Failure'\n",
        "print(f\"당신의 점수 {score}점은 시험에 {message} 했습니다.\")"
      ],
      "metadata": {
        "colab": {
          "base_uri": "https://localhost:8080/"
        },
        "id": "AR9dKBb4z6Ql",
        "outputId": "46091680-760e-4957-df7a-afe5a534e8f2"
      },
      "execution_count": 39,
      "outputs": [
        {
          "output_type": "stream",
          "name": "stdout",
          "text": [
            "점수를 입력하세요: 90\n",
            "당신의 점수 90점은 시험에 Success 했습니다.\n"
          ]
        }
      ]
    },
    {
      "cell_type": "code",
      "source": [
        "score = int(input('점수를 입력하세요: '))\n",
        "message = 'Success' if score >= 80 else 'Failure'\n",
        "print(f\"당신의 점수 {score}점은 시험에 {message} 했습니다.\")"
      ],
      "metadata": {
        "colab": {
          "base_uri": "https://localhost:8080/"
        },
        "id": "ZdAL6mry0Qw3",
        "outputId": "9fffe961-1088-403d-a6ce-c116f500c461"
      },
      "execution_count": 40,
      "outputs": [
        {
          "output_type": "stream",
          "name": "stdout",
          "text": [
            "점수를 입력하세요: 47\n",
            "당신의 점수 47점은 시험에 Failure 했습니다.\n"
          ]
        }
      ]
    },
    {
      "cell_type": "markdown",
      "source": [
        "###[실습문제] 일상생활의 상황을 조건문으로 표현하기"
      ],
      "metadata": {
        "id": "KBjBcRgo177i"
      }
    },
    {
      "cell_type": "code",
      "source": [
        "# 모닝 커피\n",
        "time = int(input('센터 갈 시간까지 남은 시간을 입력하세요'))\n",
        "print(f\"{time}분이 남았군요\")\n",
        "print('#'*30)\n",
        "if time < 30:\n",
        "    print('오늘 오전에는 커피 마실 시간이 없습니다.')\n",
        "elif time < 45:\n",
        "    print('센터 원두커피를 마셔야겠네요. \\n빈 텀블러와 1000원을 챙기세요')\n",
        "else:\n",
        "    print('시간이 여유있네요.집에서 커피를 내려서 마실 수 있습니다~')"
      ],
      "metadata": {
        "colab": {
          "base_uri": "https://localhost:8080/"
        },
        "id": "WjazWm7w17Ic",
        "outputId": "1477bd96-a398-43ce-eb16-7ba465a24de2"
      },
      "execution_count": 43,
      "outputs": [
        {
          "output_type": "stream",
          "name": "stdout",
          "text": [
            "학교 갈 시간까지 남은 시간을 입력하세요60\n",
            "60분이 남았군요\n",
            "##############################\n",
            "시간이 여유있네요. 커피를 내려서 마실 수 있습니다~\n"
          ]
        }
      ]
    },
    {
      "cell_type": "code",
      "source": [
        "'''\n",
        "기온 조건 상황\n",
        "- 온도가 30도 이상이면 에어컨을 켜고\n",
        "- 온도가 20도 미만이면 되면 내복을 입고\n",
        "- 온도가 10도 이하면 난방기를 켠다.\n",
        "'''\n",
        "\n",
        "degree = int(input('온도를 입력하세요: '))\n",
        "if degree >= 30:\n",
        "    print('에어컨을 켜세요!')\n",
        "elif degree <= 10:\n",
        "    print('난방기를 켜세요!')\n",
        "elif degree < 20:\n",
        "    print('내복을 입으세요')\n",
        "else:\n",
        "    print('쾌적한 기온입니다.')"
      ],
      "metadata": {
        "colab": {
          "base_uri": "https://localhost:8080/"
        },
        "id": "R576ph1q5JR3",
        "outputId": "22d833e1-2cd4-4cee-9aac-af91b82c2b44"
      },
      "execution_count": 50,
      "outputs": [
        {
          "output_type": "stream",
          "name": "stdout",
          "text": [
            "온도를 입력하세요: 14\n",
            "내복을 입으세요\n"
          ]
        }
      ]
    },
    {
      "cell_type": "code",
      "source": [
        "degree = int(input('온도를 입력하세요: '))\n",
        "if degree >= 30:\n",
        "    print('에어컨을 켜세요!')\n",
        "else:\n",
        "    if 20 <= degree < 30:\n",
        "        print('쾌적한 기온입니다.')\n",
        "    if degree < 20:\n",
        "        print('내복을 입으세요')\n",
        "    if degree <= 10:\n",
        "        print('난방기를 켜세요!')"
      ],
      "metadata": {
        "colab": {
          "base_uri": "https://localhost:8080/"
        },
        "id": "vjhfE7V96-Xz",
        "outputId": "d736dc42-ff62-429d-bb1c-2d1bf7d5b2bf"
      },
      "execution_count": 56,
      "outputs": [
        {
          "output_type": "stream",
          "name": "stdout",
          "text": [
            "온도를 입력하세요: 17\n",
            "내복을 입으세요\n"
          ]
        }
      ]
    },
    {
      "cell_type": "markdown",
      "source": [
        "###[실습문제] 커피 자동주문 프로그램 만들기"
      ],
      "metadata": {
        "id": "FXEU0Gh59Bvs"
      }
    },
    {
      "cell_type": "code",
      "source": [
        "menu = '''[커피 주문 머신 메뉴]\n",
        "-------------------------------\n",
        "- 아메리카노 : 2500원\n",
        "- 카페라테 :   3000원\n",
        "- 카페모카 :   3000원\n",
        "-------------------------------\n",
        "\n",
        "원하시는 커피종류와 잔수를 입력하세요.'''\n",
        "print(menu)\n",
        "\n",
        "coffee1 = int(input('아메리카노 몇 잔: '))\n",
        "coffee2 = int(input('카페라테   몇 잔: '))\n",
        "coffee3 = int(input('카푸치노   몇 잔: '))\n",
        "\n",
        "total = 2500*coffee1 + 3000*coffee2 + 3000*coffee3\n",
        "print(f\"지불하실 총 금액은 {total:,}원 입니다.\")\n",
        "\n",
        "money = int(input('돈을 넣어 주세요: '))\n",
        "change = total-money    # 거스름돈\n",
        "\n",
        "if total > money:\n",
        "    print(f\"돈이 부족합니다. {change:,}원을 더 넣어 주세요\")\n",
        "else:\n",
        "    print(f\"거스름돈은 {abs(change):,}입니다. 커피 맛있게 드세요~\")"
      ],
      "metadata": {
        "colab": {
          "base_uri": "https://localhost:8080/"
        },
        "id": "SzgvnFbX8Drg",
        "outputId": "cfcc6bce-4bd6-4b6a-cffc-3cf999be2a7f"
      },
      "execution_count": 61,
      "outputs": [
        {
          "output_type": "stream",
          "name": "stdout",
          "text": [
            "[커피 주문 머신 메뉴]\n",
            "-------------------------------\n",
            "- 아메리카노 : 2500원\n",
            "- 카페라테 :   3000원\n",
            "- 카페모카 :   3000원\n",
            "-------------------------------\n",
            "\n",
            "원하시는 커피종류와 잔수를 입력하세요.\n",
            "아메리카노 몇 잔: 2\n",
            "카페라테   몇 잔: 2\n",
            "카푸치노   몇 잔: 2\n",
            "지불하실 총 금액은 17,000원 입니다.\n",
            "돈을 넣어 주세요: 20000\n",
            "거스름돈은 3,000입니다. 커피 맛있게 드세요~\n"
          ]
        }
      ]
    },
    {
      "cell_type": "code",
      "source": [
        "!pip install gTTS"
      ],
      "metadata": {
        "colab": {
          "base_uri": "https://localhost:8080/"
        },
        "id": "eFodkvgPA74L",
        "outputId": "5a5ef4c8-1652-4d2a-d8c0-896937341172"
      },
      "execution_count": 63,
      "outputs": [
        {
          "output_type": "stream",
          "name": "stdout",
          "text": [
            "Collecting gTTS\n",
            "  Downloading gTTS-2.5.1-py3-none-any.whl (29 kB)\n",
            "Requirement already satisfied: requests<3,>=2.27 in /usr/local/lib/python3.10/dist-packages (from gTTS) (2.31.0)\n",
            "Requirement already satisfied: click<8.2,>=7.1 in /usr/local/lib/python3.10/dist-packages (from gTTS) (8.1.7)\n",
            "Requirement already satisfied: charset-normalizer<4,>=2 in /usr/local/lib/python3.10/dist-packages (from requests<3,>=2.27->gTTS) (3.3.2)\n",
            "Requirement already satisfied: idna<4,>=2.5 in /usr/local/lib/python3.10/dist-packages (from requests<3,>=2.27->gTTS) (3.6)\n",
            "Requirement already satisfied: urllib3<3,>=1.21.1 in /usr/local/lib/python3.10/dist-packages (from requests<3,>=2.27->gTTS) (2.0.7)\n",
            "Requirement already satisfied: certifi>=2017.4.17 in /usr/local/lib/python3.10/dist-packages (from requests<3,>=2.27->gTTS) (2024.2.2)\n",
            "Installing collected packages: gTTS\n",
            "Successfully installed gTTS-2.5.1\n"
          ]
        }
      ]
    },
    {
      "cell_type": "code",
      "source": [
        "from gtts import gTTS\n",
        "from IPython.display import Audio\n",
        "\n",
        "def speaker(stm):\n",
        "    kor_wav = gTTS(menu, lang = 'ko')\n",
        "    kor_wav.save('kor.wav') # 저장하지 않으면 너무 빨리 읽는다\n",
        "    display(Audio('kor.wav', autoplay=True))\n",
        "\n",
        "menu = '''[커피 주문 머신 메뉴]\n",
        "-------------------------------\n",
        "- 아메리카노 : 2500원\n",
        "- 카페라테 :   3000원\n",
        "- 카페모카 :   3000원\n",
        "-------------------------------\n",
        "\n",
        "원하시는 커피종류와 잔수를 입력하세요.'''\n",
        "speaker(menu)\n",
        "\n",
        "coffee1 = int(input('아메리카노 몇 잔: '))\n",
        "coffee2 = int(input('카페라테   몇 잔: '))\n",
        "coffee3 = int(input('카푸치노   몇 잔: '))\n",
        "\n",
        "total = 2500*coffee1 + 3000*coffee2 + 3000*coffee3\n",
        "print(f\"지불하실 총 금액은 {total:,}원 입니다.\")\n",
        "\n",
        "money = int(input('돈을 넣어 주세요: '))\n",
        "change = total-money    # 거스름돈\n",
        "\n",
        "if total > money:\n",
        "    print(f\"돈이 부족합니다. {change:,}원을 더 넣어 주세요\")\n",
        "else:\n",
        "    print(f\"거스름돈은 {abs(change):,}입니다. 커피 맛있게 드세요~\")"
      ],
      "metadata": {
        "id": "xUxzwpEkBqfC"
      },
      "execution_count": null,
      "outputs": []
    },
    {
      "cell_type": "code",
      "source": [
        "# 강시님 버전\n",
        "# gTTS사용하여 소리 나오게 하기\n",
        "from gtts import gTTS\n",
        "from IPython.display import Audio\n",
        "\n",
        "def speaker(stmt):\n",
        "    kor_wav = gTTS(stmt, lang = 'ko')\n",
        "    kor_wav.save('kor.wav')\n",
        "    display(Audio('kor.wav', autoplay=True))\n",
        "\n",
        "menu = '''[커피 주문 머신 메뉴]\n",
        "-----------------------------\n",
        "- 아메리카노: 2500원\n",
        "- 카페라테:   3000원\n",
        "- 카페모카:   3000원\n",
        "-----------------------------\n",
        "원하시는 커피종류와 잔수를 입력하세요.'''\n",
        "print(menu)\n",
        "speaker(menu)\n",
        "\n",
        "speaker('아메리카노 몇잔')\n",
        "coffee1 = int(input('아메리카노 몇잔: '))\n",
        "speaker('카페라테   몇잔')\n",
        "coffee2 = int(input('카페라테   몇잔: '))\n",
        "speaker('카페모카   몇잔')\n",
        "coffee3 = int(input('카페모카   몇잔: '))\n",
        "\n",
        "total = 2500*coffee1 + 3000*coffee2 + 3000*coffee3\n",
        "print(f\"지불하실 총 금액은 {total:,}원 입니다.\")\n",
        "speaker(f\"지불하실 총 금액은 {total:,}원 입니다.\")\n",
        "money = int(input('돈을 넣어 주세요: '))\n",
        "\n",
        "change = total-money   # 거스름돈\n",
        "if total > money:\n",
        "    print(f\"돈이 부족합니다. {change:,}원을 더 넣어주세요.\")\n",
        "else:\n",
        "    print(f\"거스름돈은 {abs(change):,}입니다. 커피 맛있게 드세요~\")"
      ],
      "metadata": {
        "id": "OwILfCtNEVsG"
      },
      "execution_count": null,
      "outputs": []
    },
    {
      "cell_type": "code",
      "source": [
        "import time\n",
        "for i in range(1,11):\n",
        "    time.sleep(1)   # 1초 기다리기\n",
        "    print(i)"
      ],
      "metadata": {
        "id": "Omq5soJ4I3S4"
      },
      "execution_count": null,
      "outputs": []
    }
  ]
}