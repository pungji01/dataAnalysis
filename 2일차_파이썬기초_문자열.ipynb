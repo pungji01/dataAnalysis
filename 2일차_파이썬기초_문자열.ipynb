{
  "nbformat": 4,
  "nbformat_minor": 0,
  "metadata": {
    "colab": {
      "provenance": [],
      "authorship_tag": "ABX9TyP+uM/ojGHm/sfWW0HoyjVT",
      "include_colab_link": true
    },
    "kernelspec": {
      "name": "python3",
      "display_name": "Python 3"
    },
    "language_info": {
      "name": "python"
    }
  },
  "cells": [
    {
      "cell_type": "markdown",
      "metadata": {
        "id": "view-in-github",
        "colab_type": "text"
      },
      "source": [
        "<a href=\"https://colab.research.google.com/github/pungji01/dataAnalysis/blob/main/2%EC%9D%BC%EC%B0%A8_%ED%8C%8C%EC%9D%B4%EC%8D%AC%EA%B8%B0%EC%B4%88_%EB%AC%B8%EC%9E%90%EC%97%B4.ipynb\" target=\"_parent\"><img src=\"https://colab.research.google.com/assets/colab-badge.svg\" alt=\"Open In Colab\"/></a>"
      ]
    },
    {
      "cell_type": "markdown",
      "source": [
        "##1.파이썬 자료형과 연산자"
      ],
      "metadata": {
        "id": "AsAuS7uKOnp3"
      }
    },
    {
      "cell_type": "markdown",
      "source": [
        "###문자와 문자열"
      ],
      "metadata": {
        "id": "F8a4TgqoO9Kg"
      }
    },
    {
      "cell_type": "code",
      "execution_count": 1,
      "metadata": {
        "id": "0NHnwi2UOW2Q"
      },
      "outputs": [],
      "source": [
        "# 큰 따옴표(or 작은 따옴표)로 표시\n",
        "a = '사과'\n",
        "a = \"사과\"\n",
        "a = \"No, I can't\"\n",
        "a = '\"사과는 정말 맛있지?\" 라고 이야기 했습니다.'"
      ]
    },
    {
      "cell_type": "code",
      "source": [
        "# 한 줄 이상 문장 --> 따옴표 3개 사용\n",
        "menu = '''------ 메뉴판 -------\n",
        "- 아메리카노 : 3000원\n",
        "- 카페라테 : 4000원\n",
        "- 카페모카 : 4000원 '''\n",
        "\n",
        "#print(a)\n",
        "coffee = input(f'{menu}\\n\\n주문하실 메뉴를 골라주세요: ')\n",
        "print(f\"{'-'*30}\\n주문하신 메뉴는 '{coffee}'입니다\")"
      ],
      "metadata": {
        "colab": {
          "base_uri": "https://localhost:8080/"
        },
        "id": "wlRV0SQERA_Z",
        "outputId": "39640e30-0874-455e-e488-abb7b757d297"
      },
      "execution_count": 11,
      "outputs": [
        {
          "output_type": "stream",
          "name": "stdout",
          "text": [
            "------ 메뉴판 -------\n",
            "- 아메리카노 : 3000원\n",
            "- 카페라테 : 4000원\n",
            "- 카페모카 : 4000원 \n",
            "\n",
            "주문하실 메뉴를 골라주세요: 아메리카노\n",
            "------------------------------\n",
            "주문하신 메뉴는 '아메리카노'입니다\n"
          ]
        }
      ]
    },
    {
      "cell_type": "markdown",
      "source": [
        "#### gTTS 모듈 사용하여 텍스트를 음성으로 읽어주기"
      ],
      "metadata": {
        "id": "G3lpaBtlT_Le"
      }
    },
    {
      "cell_type": "code",
      "source": [
        "!pip install gTTS # google tts"
      ],
      "metadata": {
        "id": "p3Wd9IjuVzfj"
      },
      "execution_count": null,
      "outputs": []
    },
    {
      "cell_type": "code",
      "source": [
        "from gtts import gTTS\n",
        "from IPython.display import Audio\n",
        "\n",
        "# 영어 출력\n",
        "# eng_wav = gTTS('Hello World!')\n",
        "# eng_wav.save('eng.wav')\n",
        "# display(Audio('eng.wav', autoplay=True))\n",
        "\n",
        "# 한국어 출력\n",
        "kor_wav = gTTS(menu, lang = 'ko')\n",
        "kor_wav.save('kor.wav') # 저장하지 않으면 너무 빨리 읽는다\n",
        "display(Audio('kor.wav', autoplay=True))\n",
        "\n",
        "\"\"\"window os에서만 사용할 수 있는 win32com 라이브러리\n",
        "커맨드 창에서 pip install pywin32 를 먼저 설치한 후\n",
        "아래코드 에디터 창에서 입력하여 실행한다\n",
        "import win32com.client\n",
        "speaker = win32com.client.Dispatch('SAPI.SpVoice')\n",
        "speaker.Speak('안녕하세요? Hello, 12:21')\n",
        "https://wikidocs.net/153174 참고\n",
        "\"\"\""
      ],
      "metadata": {
        "id": "_micfkH2UD9k"
      },
      "execution_count": null,
      "outputs": []
    },
    {
      "cell_type": "markdown",
      "source": [
        "#### + 기호 : 문자열을 합쳐서 출력"
      ],
      "metadata": {
        "id": "hxPnQ-gxelnG"
      }
    },
    {
      "cell_type": "code",
      "source": [
        "print('사과' + '맛있어')\n",
        "print('사과' , '맛있어') # ','는 한 칸 뛰기"
      ],
      "metadata": {
        "colab": {
          "base_uri": "https://localhost:8080/"
        },
        "id": "NywD0MUPetGX",
        "outputId": "ea2e08ec-2766-4c35-ad8d-66e94d3272bb"
      },
      "execution_count": 13,
      "outputs": [
        {
          "output_type": "stream",
          "name": "stdout",
          "text": [
            "사과맛있어\n",
            "사과 맛있어\n"
          ]
        }
      ]
    },
    {
      "cell_type": "markdown",
      "source": [
        "#### '*\" 기호 : 반복의 의미"
      ],
      "metadata": {
        "id": "ODyIpnQhe3X0"
      }
    },
    {
      "cell_type": "code",
      "source": [
        "print('반짝'*2, '눈이 부셔', '노'*5)\n",
        "print('*'*50)"
      ],
      "metadata": {
        "colab": {
          "base_uri": "https://localhost:8080/"
        },
        "id": "ij1BkODde8Gd",
        "outputId": "2f9396ad-682f-42b6-bdd1-f3ba9d6c06b7"
      },
      "execution_count": 14,
      "outputs": [
        {
          "output_type": "stream",
          "name": "stdout",
          "text": [
            "반짝반짝 눈이 부셔 노노노노노\n",
            "**************************************************\n"
          ]
        }
      ]
    },
    {
      "cell_type": "markdown",
      "source": [
        "#### [실습문제] 문자열 출력하기"
      ],
      "metadata": {
        "id": "5UX5tAlPgeJl"
      }
    },
    {
      "cell_type": "code",
      "source": [
        "# 문제1: 화면에 Mary’s cosmetics 출력\n",
        "print(\"Mary's cosmetics\")\n",
        "\n",
        "# 문제2: 화면에 박씨가 소리질렀다. “도둑이야!”. 출력\n",
        "print('박씨가 소리질렀다. \"도둑이야!\"')\n",
        "\n",
        "# 문제3: 다음 코드 실행시켜서 \\t와 \\n의 역할 확인하기\n",
        "print(\"안녕하세요.\\n오늘\\t날씨가\\t\\t좋습니다.\")"
      ],
      "metadata": {
        "colab": {
          "base_uri": "https://localhost:8080/"
        },
        "id": "SJTl3gbIZiSK",
        "outputId": "49ab76ac-e164-48e2-e595-d06624fd1e40"
      },
      "execution_count": 15,
      "outputs": [
        {
          "output_type": "stream",
          "name": "stdout",
          "text": [
            "Mary's cosmetics\n",
            "박씨가 소리질렀다. \"도둑이야!\"\n",
            "안녕하세요.\n",
            "오늘\t날씨가\t\t좋습니다.\n"
          ]
        }
      ]
    },
    {
      "cell_type": "markdown",
      "source": [
        "###문자열에서 자주 사용하는 함수"
      ],
      "metadata": {
        "id": "APheHaPLhPwz"
      }
    },
    {
      "cell_type": "code",
      "source": [
        "a = \"Life is too short!\"\n",
        "print(f\"문자(열) 개수 세기 : {a.count('o')}\")\n",
        "print(f\"문자(열) 위치 : {a.find('f')}\") # 없으면 '-1' 반환\n",
        "print(f\"문자(열) 위치 : {a.index('f')}\") # 없으면 오류\n",
        "b = '*'\n",
        "print(f\"문자(열) 삽입 : {b.join(a)}\") # a에 b를 삽입\n",
        "print(f\"문자(열) 반환 : {a.replace('Life', 'Your leg')}\")\n",
        "print(f\"문자(열) 나누기 : {a.split()}\") # 공백으로 분리해서 리스트형으로 반환\n",
        "print(f\"문자(열) 위치 : {a.split('is')}\")\n"
      ],
      "metadata": {
        "colab": {
          "base_uri": "https://localhost:8080/"
        },
        "id": "nI6o_RJUkpWJ",
        "outputId": "1430e47d-52f0-4e98-92e4-94a9432ba8a9"
      },
      "execution_count": 19,
      "outputs": [
        {
          "output_type": "stream",
          "name": "stdout",
          "text": [
            "문자(열) 개수 세기 : 3\n",
            "문자(열) 위치 : 2\n",
            "문자(열) 위치 : 2\n",
            "문자(열) 삽입 : L*i*f*e* *i*s* *t*o*o* *s*h*o*r*t*!\n",
            "문자(열) 반환 : Your leg is too short!\n",
            "문자(열) 나누기 : ['Life', 'is', 'too', 'short!']\n",
            "문자(열) 위치 : ['Life ', ' too short!']\n"
          ]
        }
      ]
    },
    {
      "cell_type": "markdown",
      "source": [
        "####[퀴즈] 문자열을 입력 받아 거꾸로 출력"
      ],
      "metadata": {
        "id": "eBMuXxtKmztK"
      }
    },
    {
      "cell_type": "code",
      "source": [
        "s = input('문자열을 입력하세요: ')\n",
        "print(s)\n",
        "print(s[::-1])"
      ],
      "metadata": {
        "colab": {
          "base_uri": "https://localhost:8080/"
        },
        "id": "HI2wo3lRm-4l",
        "outputId": "6e91d64a-e9b5-4730-d470-46c56a87f818"
      },
      "execution_count": 21,
      "outputs": [
        {
          "output_type": "stream",
          "name": "stdout",
          "text": [
            "문자열을 입력하세요: 안녕하세요\n",
            "안녕하세요\n",
            "요세하녕안\n"
          ]
        }
      ]
    },
    {
      "cell_type": "markdown",
      "source": [
        "####[퀴즈] 파일명과 확장자 분리해서 출력"
      ],
      "metadata": {
        "id": "lx4ZEzyepWGy"
      }
    },
    {
      "cell_type": "code",
      "source": [
        "filename = input('확장자 포함 파일명을 입력하세요: ')\n",
        "a = filename.split('.')\n",
        "\n",
        "print(f'파일명: {a[0]}, 확장자: {a[1]}')"
      ],
      "metadata": {
        "colab": {
          "base_uri": "https://localhost:8080/"
        },
        "id": "5eSMubTgoWYn",
        "outputId": "43ced8c1-559b-49e1-ffdd-d9d87e4c41a3"
      },
      "execution_count": 23,
      "outputs": [
        {
          "output_type": "stream",
          "name": "stdout",
          "text": [
            "확장자 포함 파일명을 입력하세요: test.py\n",
            "파일명: test, 확장자: py\n"
          ]
        }
      ]
    },
    {
      "cell_type": "code",
      "source": [
        "filename = input('확장자 포함 파일명을 입력하세요: ')\n",
        "a = filename.split('.')\n",
        "\n",
        "print('파일: %s' %filename)\n",
        "print('파일명: %s, 확장자: %s' %(a[0], a[1]))"
      ],
      "metadata": {
        "colab": {
          "base_uri": "https://localhost:8080/"
        },
        "id": "pcprgBz7rmhY",
        "outputId": "1a2dd0d2-41f6-4fd4-9cd7-6c79fe44534f"
      },
      "execution_count": 25,
      "outputs": [
        {
          "output_type": "stream",
          "name": "stdout",
          "text": [
            "확장자 포함 파일명을 입력하세요: test.py\n",
            "파일: test.py\n",
            "파일명: test, 확장자: py\n"
          ]
        }
      ]
    },
    {
      "cell_type": "markdown",
      "source": [
        "###[실습문제] 음식가격 출력하기"
      ],
      "metadata": {
        "id": "2uIxdREewgjl"
      }
    },
    {
      "cell_type": "code",
      "source": [
        "# 아래 조건을 보고 음식의 총 가격에 팁을 적용하여 지출할 음식 가격을 출력하세요.\n",
        "# 지불할 음식 총 가격 계산하기\n",
        "# 1. meal 변수를 선언\n",
        "meal = int(input('음식가격: '))\n",
        "\n",
        "# 2. tax 변수를 생성하고 값으로 6.75%를 소수점 두자리 형태로 지정하세요.\n",
        "tax = 0.0675\n",
        "\n",
        "# 3. tip 변수를 생성하고 값으로 15%를 소수점 형태로 지정하세요.\n",
        "tip = 0.15\n",
        "\n",
        "# 4. meal의 변수값에 세금을 곱해 meal 변수에 지정하세요.\n",
        "meal = meal + (meal * tax)  # meal += (meal * tax)\n",
        "\n",
        "# 5. 음식값에 tip을 더해 total 변수에 지정하세요.\n",
        "total = meal + (meal * tip)\n",
        "\n",
        "# 6. total 변수 값을 출력하세요\n",
        "print(f'내가 지불할 총 금액: {round(total,2): ,}') #세자리 수 마다 ','"
      ],
      "metadata": {
        "colab": {
          "base_uri": "https://localhost:8080/"
        },
        "id": "UYIIyKHTuts1",
        "outputId": "002c27af-647c-48f5-9064-9bd94fb19885"
      },
      "execution_count": 36,
      "outputs": [
        {
          "output_type": "stream",
          "name": "stdout",
          "text": [
            "음식가격: 4450\n",
            "내가 지불할 총 금액:  5,462.93\n"
          ]
        }
      ]
    },
    {
      "cell_type": "markdown",
      "source": [
        "###[실습문제] 섭씨온도를 화씨온도로 변환하기"
      ],
      "metadata": {
        "id": "PBiI9AX-xo1C"
      }
    },
    {
      "cell_type": "code",
      "source": [
        "# 섭씨온도(℃) = (5 / 9) × (℉ - 32) # Celsius\n",
        "# 화씨온도(℉) = (9 / 5) × ℃ + 32 # Fahrenheit\n",
        "\n",
        "c = float(input('섭씨 온도: '))\n",
        "print(f'섭씨 온도 {c}℃는 화씨 온도 {(9 / 5) * c + 32} ℉')"
      ],
      "metadata": {
        "colab": {
          "base_uri": "https://localhost:8080/"
        },
        "id": "V2G4-9lhxwm7",
        "outputId": "648f7fe0-5b7c-4fdb-8afd-6572278911eb"
      },
      "execution_count": 34,
      "outputs": [
        {
          "output_type": "stream",
          "name": "stdout",
          "text": [
            "섭씨 온도: 33\n",
            "섭씨 온도 33.0℃는 화씨 온도 91.4 ℉\n"
          ]
        }
      ]
    },
    {
      "cell_type": "markdown",
      "source": [
        "### 파이썬 연산자"
      ],
      "metadata": {
        "id": "Z6R4T3jPzvg5"
      }
    },
    {
      "cell_type": "code",
      "source": [
        "# 산술 연산자\n",
        "print(33 // 5) # 몫\n",
        "print(33 % 5) # 나머지"
      ],
      "metadata": {
        "colab": {
          "base_uri": "https://localhost:8080/"
        },
        "id": "_7aV-K1rzyKi",
        "outputId": "f65592a1-24a9-472f-df3a-ed3c72e4abab"
      },
      "execution_count": 35,
      "outputs": [
        {
          "output_type": "stream",
          "name": "stdout",
          "text": [
            "6\n",
            "3\n"
          ]
        }
      ]
    },
    {
      "cell_type": "code",
      "source": [
        "# 대입 연산자\n",
        "a = a + 1 # a += 1\n",
        "meal += (meal * tax)"
      ],
      "metadata": {
        "id": "s-6zVBV40Hsd"
      },
      "execution_count": null,
      "outputs": []
    },
    {
      "cell_type": "code",
      "source": [
        "# 관계 연산자(비교 연산자)\n",
        "a = 100\n",
        "print(a > 200)\n",
        "print(a == 200)\n",
        "print(a!= 100)"
      ],
      "metadata": {
        "colab": {
          "base_uri": "https://localhost:8080/"
        },
        "id": "WSSCy4uw0x2h",
        "outputId": "50febdf7-eabf-4cc7-fc85-ab684597d814"
      },
      "execution_count": 38,
      "outputs": [
        {
          "output_type": "stream",
          "name": "stdout",
          "text": [
            "False\n",
            "False\n",
            "False\n"
          ]
        }
      ]
    },
    {
      "cell_type": "code",
      "source": [
        "# 논리 연산자\n",
        "a =  100\n",
        "print( a > 100 and a == 100)\n",
        "print( a > 100 or a == 100)\n",
        "print( not(a == 100) )"
      ],
      "metadata": {
        "colab": {
          "base_uri": "https://localhost:8080/"
        },
        "id": "XouQLKMl1AMP",
        "outputId": "b684ae96-de55-487a-f2d4-1cab5900784b"
      },
      "execution_count": 37,
      "outputs": [
        {
          "output_type": "stream",
          "name": "stdout",
          "text": [
            "False\n",
            "True\n",
            "False\n"
          ]
        }
      ]
    },
    {
      "cell_type": "code",
      "source": [
        "# 멤버쉽 연산자\n",
        "fruits = ['사과','포도', '오렌지','딸기']\n",
        "print('딸기' in fruits)\n",
        "print('키위' not in fruits)\n",
        "\n",
        "if '딸기' in fruits:\n",
        "    print('딸기는 fruits 안에 있습니다.')\n",
        "else:\n",
        "    print('딸기는 fruits 안에 없습니다.')\n",
        "\n",
        "for fruit in fruits:\n",
        "    print(f\"내가 좋아하는 과일 '{fruit}'\")\n",
        "\n",
        "letters = 'Life is too short!'\n",
        "if 'too' in letters:\n",
        "    print(True)\n",
        "else:\n",
        "    print(False)"
      ],
      "metadata": {
        "colab": {
          "base_uri": "https://localhost:8080/"
        },
        "id": "s_O1nuNt1VQi",
        "outputId": "1bad60ed-6c8d-4228-c8e0-3ee0508c4471"
      },
      "execution_count": 43,
      "outputs": [
        {
          "output_type": "stream",
          "name": "stdout",
          "text": [
            "True\n",
            "True\n",
            "딸기는 fruits 안에 있습니다.\n",
            "내가 좋아하는 과일 '사과'\n",
            "내가 좋아하는 과일 '포도'\n",
            "내가 좋아하는 과일 '오렌지'\n",
            "내가 좋아하는 과일 '딸기'\n",
            "True\n"
          ]
        }
      ]
    },
    {
      "cell_type": "markdown",
      "source": [
        "###[실습문제] 동전 교환 프로그램 만들기"
      ],
      "metadata": {
        "id": "wO7O_7hw3mLD"
      }
    },
    {
      "cell_type": "code",
      "source": [
        "money = int(input('동전으로 교환할 금액을 입력하세요: '))\n",
        "print('-'*50)\n",
        "print(f'500원짜리 ==> {money // 500} 개')\n",
        "money %= 500\n",
        "print(f'100원짜리 ==> {money // 100} 개')\n",
        "money %= 100\n",
        "print(f' 50원짜리 ==> {money // 50} 개')\n",
        "money %= 50\n",
        "print(f' 10원짜리 ==> {money // 10} 개')\n",
        "money %= 10\n",
        "print(f'     잔돈 ==> {money} 원')"
      ],
      "metadata": {
        "colab": {
          "base_uri": "https://localhost:8080/"
        },
        "id": "RK9bdu3-3rGV",
        "outputId": "4c561eaa-e436-4368-b4a2-4b2d0b32dbcd"
      },
      "execution_count": 46,
      "outputs": [
        {
          "output_type": "stream",
          "name": "stdout",
          "text": [
            "동전으로 교환할 금액을 입력하세요: 4321\n",
            "--------------------------------------------------\n",
            "500원짜리 ==> 8 개\n",
            "100원짜리 ==> 3 개\n",
            " 50원짜리 ==> 0 개\n",
            " 10원짜리 ==> 2 개\n",
            "     잔돈 ==> 1 원\n"
          ]
        }
      ]
    }
  ]
}