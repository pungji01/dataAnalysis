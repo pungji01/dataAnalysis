{
  "nbformat": 4,
  "nbformat_minor": 0,
  "metadata": {
    "colab": {
      "provenance": [],
      "authorship_tag": "ABX9TyN81270Z9HrrW+P6ZuLSlfy",
      "include_colab_link": true
    },
    "kernelspec": {
      "name": "python3",
      "display_name": "Python 3"
    },
    "language_info": {
      "name": "python"
    }
  },
  "cells": [
    {
      "cell_type": "markdown",
      "metadata": {
        "id": "view-in-github",
        "colab_type": "text"
      },
      "source": [
        "<a href=\"https://colab.research.google.com/github/pungji01/dataAnalysis/blob/main/3%EC%9D%BC%EC%B0%A8_%ED%8C%8C%EC%9D%B4%EC%8D%AC%EA%B8%B0%EC%B4%88_%EC%BB%AC%EB%A0%89%EC%85%98%EC%9E%90%EB%A3%8C%ED%98%95.ipynb\" target=\"_parent\"><img src=\"https://colab.research.google.com/assets/colab-badge.svg\" alt=\"Open In Colab\"/></a>"
      ]
    },
    {
      "cell_type": "markdown",
      "source": [
        "#3. 컬렉션 자료형"
      ],
      "metadata": {
        "id": "h70SmSdQTnO9"
      }
    },
    {
      "cell_type": "markdown",
      "source": [
        "##3-1 리스트 생성"
      ],
      "metadata": {
        "id": "uvlMZYnBTyUd"
      }
    },
    {
      "cell_type": "code",
      "execution_count": 2,
      "metadata": {
        "colab": {
          "base_uri": "https://localhost:8080/"
        },
        "id": "vcPUxmduTgKI",
        "outputId": "7279d84c-d891-4fe3-f91d-124d577b23de"
      },
      "outputs": [
        {
          "output_type": "stream",
          "name": "stdout",
          "text": [
            "<class 'list'>\n",
            "[]\n"
          ]
        }
      ],
      "source": [
        "# 빈 리스트 생성\n",
        "a = []\n",
        "a = list()\n",
        "print( type(a) )\n",
        "print(a)"
      ]
    },
    {
      "cell_type": "code",
      "source": [
        "# 초기 데이터 넣고 리스트 생성\n",
        "import math\n",
        "a = [1,2,3,4,5,]\n",
        "a = [1, 'apple', '딸기', 3.14, math.pi, max([10,30,20])]\n",
        "b = [1, 2, a, ['사과', '딸기'], {'k':'kiwi'}]\n",
        "print(a)\n",
        "print(b)"
      ],
      "metadata": {
        "colab": {
          "base_uri": "https://localhost:8080/"
        },
        "id": "S4OqkouSTtEg",
        "outputId": "f3eb92bf-b34f-4335-e658-1c12c2c9d0af"
      },
      "execution_count": 5,
      "outputs": [
        {
          "output_type": "stream",
          "name": "stdout",
          "text": [
            "[1, 'apple', '딸기', 3.14, 3.141592653589793, 30]\n",
            "[1, 2, [1, 'apple', '딸기', 3.14, 3.141592653589793, 30], ['사과', '딸기'], {'k': 'kiwi'}]\n"
          ]
        }
      ]
    },
    {
      "cell_type": "code",
      "source": [
        "numlist = []\n",
        "for num in range(1,21,2):   # for 반복문, range():정수를 순차로 발생시키는 함수\n",
        "    numlist.append(num)     # 리스트에 데이터 추가\n",
        "print(numlist)"
      ],
      "metadata": {
        "colab": {
          "base_uri": "https://localhost:8080/"
        },
        "id": "MV3HqNeFVLu9",
        "outputId": "82cc0951-53d6-4fc8-c912-328022b4155e"
      },
      "execution_count": 7,
      "outputs": [
        {
          "output_type": "stream",
          "name": "stdout",
          "text": [
            "[1, 3, 5, 7, 9, 11, 13, 15, 17, 19]\n"
          ]
        }
      ]
    },
    {
      "cell_type": "code",
      "source": [
        "print(b)\n",
        "for i in b:   #for 반복문, b란 이름의 리스트 안에 있는 요소를 하나씩 출력하는 코드\n",
        "    print(i)"
      ],
      "metadata": {
        "colab": {
          "base_uri": "https://localhost:8080/"
        },
        "id": "zHM-y1kUVhgh",
        "outputId": "59852837-031b-42d7-d952-073ce170244c"
      },
      "execution_count": 9,
      "outputs": [
        {
          "output_type": "stream",
          "name": "stdout",
          "text": [
            "[1, 2, [1, 'apple', '딸기', 3.14, 3.141592653589793, 30], ['사과', '딸기'], {'k': 'kiwi'}]\n",
            "1\n",
            "2\n",
            "[1, 'apple', '딸기', 3.14, 3.141592653589793, 30]\n",
            "['사과', '딸기']\n",
            "{'k': 'kiwi'}\n"
          ]
        }
      ]
    },
    {
      "cell_type": "markdown",
      "source": [
        "##3-2 리스트 요소에 접근"
      ],
      "metadata": {
        "id": "OhoG2L3cXaCF"
      }
    },
    {
      "cell_type": "code",
      "source": [
        "colors = ['빨강', '초록', '파랑', '노랑', '검정']\n",
        "print( colors[0] )\n",
        "print( colors[2:4] )\n",
        "print( colors[::-1] )   # 거꾸로 정렬\n",
        "\n",
        "for color in colors:\n",
        "    print(f\"나는 '{color}' 색상을 좋아합니다.\")"
      ],
      "metadata": {
        "colab": {
          "base_uri": "https://localhost:8080/"
        },
        "id": "Y0cnVnbSXdXx",
        "outputId": "9cd04b84-d9f1-43d3-c5ab-3b1bb2aa3b7a"
      },
      "execution_count": 11,
      "outputs": [
        {
          "output_type": "stream",
          "name": "stdout",
          "text": [
            "빨강\n",
            "['파랑', '노랑']\n",
            "['검정', '노랑', '파랑', '초록', '빨강']\n",
            "나는 '빨강' 색상을 좋아합니다.\n",
            "나는 '초록' 색상을 좋아합니다.\n",
            "나는 '파랑' 색상을 좋아합니다.\n",
            "나는 '노랑' 색상을 좋아합니다.\n",
            "나는 '검정' 색상을 좋아합니다.\n"
          ]
        }
      ]
    },
    {
      "cell_type": "markdown",
      "source": [
        "###리스트에 요소 추가하기"
      ],
      "metadata": {
        "id": "IwXiO-XbYoZL"
      }
    },
    {
      "cell_type": "code",
      "source": [
        "print(colors)\n",
        "# 인덱스 2위치에 '분홍' 넣기\n",
        "colors.insert(2, '분홍')\n",
        "print(colors)\n",
        "\n",
        "# 맨 뒤에 추가하기\n",
        "colors.append('보라')\n",
        "print(colors)"
      ],
      "metadata": {
        "colab": {
          "base_uri": "https://localhost:8080/"
        },
        "id": "e38sChoKYmr9",
        "outputId": "6e9baa5c-4e28-45b7-877f-b8c2d81ed4dd"
      },
      "execution_count": 13,
      "outputs": [
        {
          "output_type": "stream",
          "name": "stdout",
          "text": [
            "['빨강', '초록', '분홍', '파랑', '노랑', '검정']\n",
            "['빨강', '초록', '분홍', '분홍', '파랑', '노랑', '검정']\n",
            "['빨강', '초록', '분홍', '분홍', '파랑', '노랑', '검정', '보라']\n"
          ]
        }
      ]
    },
    {
      "cell_type": "markdown",
      "source": [
        "### 리스트 특정 위치의 요소값 변경"
      ],
      "metadata": {
        "id": "gy3twjiKZerk"
      }
    },
    {
      "cell_type": "code",
      "source": [
        "colors[3] = '주황'\n",
        "print(colors)\n",
        "colors[1:3] = '갈색'\n",
        "print(colors)\n",
        "colors[1:3] = ['갈색', '고동']\n",
        "print(colors)\n",
        "colors[1:4] = '갈색'    # 주의! 인덱스 개수가 다르면 대체가 안되고 없어짐\n",
        "print(colors)"
      ],
      "metadata": {
        "colab": {
          "base_uri": "https://localhost:8080/"
        },
        "id": "n1jZ5MY6ZjrM",
        "outputId": "6144f582-9bba-4f93-bf36-c331a0daae63"
      },
      "execution_count": 19,
      "outputs": [
        {
          "output_type": "stream",
          "name": "stdout",
          "text": [
            "['빨강', '갈색', '고동', '주황', '파랑', '노랑', '검정', '보라']\n",
            "['빨강', '갈', '색', '주황', '파랑', '노랑', '검정', '보라']\n",
            "['빨강', '갈색', '고동', '주황', '파랑', '노랑', '검정', '보라']\n",
            "['빨강', '갈', '색', '파랑', '노랑', '검정', '보라']\n"
          ]
        }
      ]
    },
    {
      "cell_type": "markdown",
      "source": [
        "### 리스트의 요소 삭제"
      ],
      "metadata": {
        "id": "WE7rt559bYyo"
      }
    },
    {
      "cell_type": "code",
      "source": [
        "colors = ['빨강', '노랑', '초록', '파랑', '노랑', '검정', '노랑']\n",
        "# 맨 뒤에 있는 것 삭제(꺼내기)\n",
        "colors.pop()\n",
        "print(colors)\n",
        "\n",
        "# 요소값과 일치하는 것 삭제\n",
        "colors.remove('노랑')\n",
        "print(colors)\n",
        "\n",
        "# 전체 요소 삭제\n",
        "colors.clear()\n",
        "print(colors)"
      ],
      "metadata": {
        "colab": {
          "base_uri": "https://localhost:8080/"
        },
        "id": "GBj8rGpVbbmZ",
        "outputId": "f5d3e2d6-f922-4376-9668-f62b31a8d5a0"
      },
      "execution_count": 23,
      "outputs": [
        {
          "output_type": "stream",
          "name": "stdout",
          "text": [
            "['빨강', '노랑', '초록', '파랑', '노랑', '검정']\n",
            "['빨강', '초록', '파랑', '노랑', '검정']\n",
            "[]\n"
          ]
        }
      ]
    },
    {
      "cell_type": "markdown",
      "source": [
        "### 리스트 자체 삭제"
      ],
      "metadata": {
        "id": "eI03JGxycxPA"
      }
    },
    {
      "cell_type": "code",
      "source": [
        "del(colors)\n",
        "print(colors)   # 리스트 colors가 없어졌으므로 오류 발생"
      ],
      "metadata": {
        "colab": {
          "base_uri": "https://localhost:8080/",
          "height": 164
        },
        "id": "cdkI_IFBcm-0",
        "outputId": "36ed5caf-597d-4673-a7c1-defede26aee4"
      },
      "execution_count": 24,
      "outputs": [
        {
          "output_type": "error",
          "ename": "NameError",
          "evalue": "name 'colors' is not defined",
          "traceback": [
            "\u001b[0;31m---------------------------------------------------------------------------\u001b[0m",
            "\u001b[0;31mNameError\u001b[0m                                 Traceback (most recent call last)",
            "\u001b[0;32m<ipython-input-24-90ee9471d91d>\u001b[0m in \u001b[0;36m<cell line: 2>\u001b[0;34m()\u001b[0m\n\u001b[1;32m      1\u001b[0m \u001b[0;32mdel\u001b[0m\u001b[0;34m(\u001b[0m\u001b[0mcolors\u001b[0m\u001b[0;34m)\u001b[0m\u001b[0;34m\u001b[0m\u001b[0;34m\u001b[0m\u001b[0m\n\u001b[0;32m----> 2\u001b[0;31m \u001b[0mprint\u001b[0m\u001b[0;34m(\u001b[0m\u001b[0mcolors\u001b[0m\u001b[0;34m)\u001b[0m\u001b[0;34m\u001b[0m\u001b[0;34m\u001b[0m\u001b[0m\n\u001b[0m",
            "\u001b[0;31mNameError\u001b[0m: name 'colors' is not defined"
          ]
        }
      ]
    },
    {
      "cell_type": "markdown",
      "source": [
        "###2차원/3차원... 리스트 요소 접근"
      ],
      "metadata": {
        "id": "ycdTW6n0c96j"
      }
    },
    {
      "cell_type": "code",
      "source": [
        "animals = ['사자', '호랑이', '곰',\n",
        "            ['고양이', '강아지', ['돌고래', '범고래'], '햄스터'],\n",
        "           ]\n",
        "\n",
        "print(animals)\n",
        "print(animals[1])\n",
        "print(animals[3])\n",
        "print(animals[3][1])      # 2차원\n",
        "print(animals[3][2][1])   # 3차원"
      ],
      "metadata": {
        "colab": {
          "base_uri": "https://localhost:8080/"
        },
        "id": "GpMqwutcdDK_",
        "outputId": "dd5a42aa-54f2-4889-b8a6-7ceafa3a00a5"
      },
      "execution_count": 26,
      "outputs": [
        {
          "output_type": "stream",
          "name": "stdout",
          "text": [
            "['사자', '호랑이', '곰', ['고양이', '강아지', ['돌고래', '범고래'], '햄스터']]\n",
            "호랑이\n",
            "['고양이', '강아지', ['돌고래', '범고래'], '햄스터']\n",
            "강아지\n",
            "범고래\n"
          ]
        }
      ]
    },
    {
      "cell_type": "markdown",
      "source": [
        "### 리스트 길이(요소의 개수)"
      ],
      "metadata": {
        "id": "K3FegWq3fYo5"
      }
    },
    {
      "cell_type": "code",
      "source": [
        "print(animals)\n",
        "print( len(animals) )\n",
        "print(len(animals[3]))\n",
        "print(len(animals[3][2]))"
      ],
      "metadata": {
        "colab": {
          "base_uri": "https://localhost:8080/"
        },
        "id": "mm2rd96gfbYM",
        "outputId": "f7bd7e09-c9af-41ab-bdbf-9545a1f8a8d4"
      },
      "execution_count": 29,
      "outputs": [
        {
          "output_type": "stream",
          "name": "stdout",
          "text": [
            "['사자', '호랑이', '곰', ['고양이', '강아지', ['돌고래', '범고래'], '햄스터']]\n",
            "4\n",
            "4\n",
            "2\n"
          ]
        }
      ]
    },
    {
      "cell_type": "markdown",
      "source": [
        "### 리스트 함수"
      ],
      "metadata": {
        "id": "mkj0e7ZYgEMU"
      }
    },
    {
      "cell_type": "code",
      "source": [
        "colors = ['빨강', '초록', '파랑', '노랑', '검정', '노랑']\n",
        "\n",
        "# 리스트 요소 정렬\n",
        "print(colors)\n",
        "colors.sort()   # 순차 정렬(가나다 순)\n",
        "print(colors)\n",
        "\n",
        "colors.reverse() # 역순 정렬\n",
        "print(colors)\n",
        "\n",
        "# 리스트의 특정 요소 위치 찾기\n",
        "print(f\"'빨강' 요소 값 위치 찾기 : {colors.index('빨강')}\" )\n",
        "print(f\"'노랑' 요소 값 위치 찾기 : {colors.index('노랑')}\" ) # 여러 개 있을 경우 맨 앞의 인덱스 나타내기\n",
        "\n",
        "# 요소 값 개수 세기\n",
        "print(f\"요소 값 개수 세기 : {colors.count('노랑')}\")\n",
        "\n",
        "# 리스트 정렬해서 새로운 이름을 저장해서 사용\n",
        "new = sorted(colors)\n",
        "print(new)"
      ],
      "metadata": {
        "colab": {
          "base_uri": "https://localhost:8080/"
        },
        "id": "SYAv_ZZygGmr",
        "outputId": "4a80d33e-dd44-4361-e19d-890debddb8e9"
      },
      "execution_count": 47,
      "outputs": [
        {
          "output_type": "stream",
          "name": "stdout",
          "text": [
            "['빨강', '초록', '파랑', '노랑', '검정', '노랑']\n",
            "['검정', '노랑', '노랑', '빨강', '초록', '파랑']\n",
            "['파랑', '초록', '빨강', '노랑', '노랑', '검정']\n",
            "'빨강' 요소 값 위치 찾기 : 2\n",
            "'노랑' 요소 값 위치 찾기 : 3\n",
            "요소 값 개수 세기 : 2\n",
            "['검정', '노랑', '노랑', '빨강', '초록', '파랑']\n"
          ]
        }
      ]
    },
    {
      "cell_type": "code",
      "source": [
        "colors = ['빨강', '초록', '파랑', '노랑', '검정', '노랑']\n",
        "newColors = ['red', 'green', 'blue']\n",
        "print(colors)\n",
        "print(newColors)\n",
        "colors.extend(newColors)\n",
        "print(colors)\n",
        "print('-'*50)\n",
        "\n",
        "colors = ['빨강', '초록', '파랑', '노랑', '검정', '노랑']\n",
        "newColors = ['red', 'green', 'blue']\n",
        "print(colors)\n",
        "print(newColors)\n",
        "colors += newColors   # colors.extend(newColors)와 같은 결과\n",
        "print(colors)"
      ],
      "metadata": {
        "colab": {
          "base_uri": "https://localhost:8080/"
        },
        "id": "EcluhdIfiGvQ",
        "outputId": "101dfff0-22ba-4172-f683-7c7f8bc76366"
      },
      "execution_count": 45,
      "outputs": [
        {
          "output_type": "stream",
          "name": "stdout",
          "text": [
            "['빨강', '초록', '파랑', '노랑', '검정', '노랑']\n",
            "['red', 'green', 'blue']\n",
            "['빨강', '초록', '파랑', '노랑', '검정', '노랑', 'red', 'green', 'blue']\n",
            "--------------------------------------------------\n",
            "['빨강', '초록', '파랑', '노랑', '검정', '노랑']\n",
            "['red', 'green', 'blue']\n",
            "['빨강', '초록', '파랑', '노랑', '검정', '노랑', 'red', 'green', 'blue']\n"
          ]
        }
      ]
    }
  ]
}