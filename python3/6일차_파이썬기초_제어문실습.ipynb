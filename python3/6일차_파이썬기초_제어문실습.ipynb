{
  "nbformat": 4,
  "nbformat_minor": 0,
  "metadata": {
    "colab": {
      "provenance": [],
      "include_colab_link": true
    },
    "kernelspec": {
      "name": "python3",
      "display_name": "Python 3"
    },
    "language_info": {
      "name": "python"
    }
  },
  "cells": [
    {
      "cell_type": "markdown",
      "metadata": {
        "id": "view-in-github",
        "colab_type": "text"
      },
      "source": [
        "<a href=\"https://colab.research.google.com/github/pungji01/dataAnalysis/blob/main/6%EC%9D%BC%EC%B0%A8_%ED%8C%8C%EC%9D%B4%EC%8D%AC%EA%B8%B0%EC%B4%88_%EC%A0%9C%EC%96%B4%EB%AC%B8%EC%8B%A4%EC%8A%B5.ipynb\" target=\"_parent\"><img src=\"https://colab.research.google.com/assets/colab-badge.svg\" alt=\"Open In Colab\"/></a>"
      ]
    },
    {
      "cell_type": "markdown",
      "source": [
        "# 제어문(조건문, 반목문) 실습문제 풀이"
      ],
      "metadata": {
        "id": "GWO7FYWqJcrD"
      }
    },
    {
      "cell_type": "markdown",
      "source": [
        "### [실습문제] while 반복문(퀴즈 맞히기)"
      ],
      "metadata": {
        "id": "2G-uPX3EKLV2"
      }
    },
    {
      "cell_type": "code",
      "source": [
        "print('프로그램을 작성할 때 일정한 구간의 명령을\\n반복해서 실행하도록 구성한 문장을 무엇이라고 할까요?')\n",
        "while True:\n",
        "    answer = input('정답: ')\n",
        "    if answer == '반복문':\n",
        "        print('정답!')\n",
        "        break\n",
        "    elif answer == '반복':\n",
        "        print('좀 더 고민해 보세요~')\n",
        "        continue\n",
        "    print('오답')\n",
        "print('프로그램 종료!')"
      ],
      "metadata": {
        "colab": {
          "base_uri": "https://localhost:8080/"
        },
        "id": "TyPQDodvKLlq",
        "outputId": "b6fe3041-f1e6-4912-f1e4-c12d3fde1946"
      },
      "execution_count": null,
      "outputs": [
        {
          "output_type": "stream",
          "name": "stdout",
          "text": [
            "프로그램을 작성할 때 일정한 구간의 명령을\n",
            "반복해서 실행하도록 구성한 문장을 무엇이라고 할까요?\n",
            "정답: 반복\n",
            "좀 더 고민해 보세요~\n",
            "정답: 제어문\n",
            "오답\n",
            "정답: 반복문\n",
            "정답!\n",
            "프로그램 종료!\n"
          ]
        }
      ]
    },
    {
      "cell_type": "markdown",
      "source": [
        "## [실습문제] 금리 계산하기"
      ],
      "metadata": {
        "id": "29y69CgkNgZE"
      }
    },
    {
      "cell_type": "code",
      "source": [
        "seed, target = 1000, 2000\n",
        "balance, interest = 1000, 0.035\n",
        "year = 0\n",
        "while balance <= target:\n",
        "    balance = balance + balance * interest\n",
        "    year += 1   # year = year + 1\n",
        "    print(f\"year:{year}, balance:{round(balance)}\")\n",
        "print(f\"{seed}원이 {target}이 되는데 {year}년이 걸립니다\")\n"
      ],
      "metadata": {
        "colab": {
          "base_uri": "https://localhost:8080/"
        },
        "id": "gtv0MWulNgpF",
        "outputId": "677a638f-33de-4320-ce39-2ef4c21dc875"
      },
      "execution_count": null,
      "outputs": [
        {
          "output_type": "stream",
          "name": "stdout",
          "text": [
            "year:1, balance:1035\n",
            "year:2, balance:1071\n",
            "year:3, balance:1109\n",
            "year:4, balance:1148\n",
            "year:5, balance:1188\n",
            "year:6, balance:1229\n",
            "year:7, balance:1272\n",
            "year:8, balance:1317\n",
            "year:9, balance:1363\n",
            "year:10, balance:1411\n",
            "year:11, balance:1460\n",
            "year:12, balance:1511\n",
            "year:13, balance:1564\n",
            "year:14, balance:1619\n",
            "year:15, balance:1675\n",
            "year:16, balance:1734\n",
            "year:17, balance:1795\n",
            "year:18, balance:1857\n",
            "year:19, balance:1923\n",
            "year:20, balance:1990\n",
            "year:21, balance:2059\n",
            "1000원이 2000이 되는데 21년이 걸립니다\n"
          ]
        }
      ]
    },
    {
      "cell_type": "markdown",
      "source": [
        "### [실습문제] 1~N까지 3의 배수 합계 구하기"
      ],
      "metadata": {
        "id": "b_RbfTSYJky8"
      }
    },
    {
      "cell_type": "code",
      "source": [
        "result = sum( [i for i in range(1,1001) if i%3==0  ] )\n",
        "print(f'{result:,}')"
      ],
      "metadata": {
        "colab": {
          "base_uri": "https://localhost:8080/"
        },
        "id": "suy3PgJrNnLw",
        "outputId": "d4d4cb78-9ace-44b0-8046-32968295c862"
      },
      "execution_count": null,
      "outputs": [
        {
          "output_type": "stream",
          "name": "stdout",
          "text": [
            "166,833\n"
          ]
        }
      ]
    },
    {
      "cell_type": "code",
      "execution_count": null,
      "metadata": {
        "id": "vVLfe_1vJScO"
      },
      "outputs": [],
      "source": [
        "N = 1000\n"
      ]
    },
    {
      "cell_type": "markdown",
      "source": [
        "### [실습문제] 숫자 입력 받아 별 출력하기"
      ],
      "metadata": {
        "id": "cX-2Nc--Rb0I"
      }
    },
    {
      "cell_type": "code",
      "source": [
        "star = '⭐'\n",
        "numbers = input('숫자 입력 여러 개 입력(0~9): ')\n",
        "for number in numbers:\n",
        "    for _ in range(int(number)*2):\n",
        "        print(star, end='')\n",
        "    print()"
      ],
      "metadata": {
        "colab": {
          "base_uri": "https://localhost:8080/"
        },
        "id": "cNa1Wd2RR8d5",
        "outputId": "db4ed4d0-3f56-4a50-c5dc-659f69f13164"
      },
      "execution_count": null,
      "outputs": [
        {
          "output_type": "stream",
          "name": "stdout",
          "text": [
            "숫자 입력 여러 개 입력(0~9): 23\n",
            "⭐⭐⭐⭐\n",
            "⭐⭐⭐⭐⭐⭐\n"
          ]
        }
      ]
    },
    {
      "cell_type": "code",
      "source": [
        "for number in numbers:\n",
        "    print('⭐'*int(number)*2)"
      ],
      "metadata": {
        "colab": {
          "base_uri": "https://localhost:8080/"
        },
        "id": "RPjVTzVCTz0D",
        "outputId": "059c3d35-12af-4558-f501-61bcef0c724d"
      },
      "execution_count": null,
      "outputs": [
        {
          "output_type": "stream",
          "name": "stdout",
          "text": [
            "⭐⭐⭐⭐\n",
            "⭐⭐⭐⭐⭐⭐\n"
          ]
        }
      ]
    },
    {
      "cell_type": "markdown",
      "source": [
        "### [실습문제] 커피 자판기 프로그램"
      ],
      "metadata": {
        "id": "aa_qGXYLWLUT"
      }
    },
    {
      "cell_type": "code",
      "source": [
        "menu = '''[커피 주문 머신 메뉴]\n",
        "-----------------------------\n",
        "- 아메리카노: 2500원\n",
        "- 카페라테:   3000원\n",
        "- 카페모카:   3000원\n",
        "-----------------------------\n",
        "원하시는 커피종류와 잔수를 입력하세요.'''\n",
        "print(menu)\n",
        "coffee1 = int(input('아메리카노 몇잔: '))\n",
        "coffee2 = int(input('카페라테   몇잔: '))\n",
        "coffee3 = int(input('카페모카   몇잔: '))\n",
        "\n",
        "total = 2500*coffee1 + 3000*coffee2 + 3000*coffee3\n",
        "print(f\"지불하실 총 금액은 {total:,}원 입니다.\")\n",
        "\n",
        "while True:\n",
        "    print('------------------------')\n",
        "    money = int(input('돈을 넣어 주세요: '))\n",
        "    change = money - total   # 거스름돈\n",
        "    if change < 0:\n",
        "        print(f\"돈이 부족합니다. {abs(change):,}원을 더 넣어주세요.\")\n",
        "        total = total - money\n",
        "    else:\n",
        "        print(f\"거스름돈은 {change:,}입니다. 커피 맛있게 드세요~\")\n",
        "        break"
      ],
      "metadata": {
        "colab": {
          "base_uri": "https://localhost:8080/"
        },
        "id": "EGXr1gTpWPDW",
        "outputId": "dd12e624-0279-4182-eb7d-6dd07387b628"
      },
      "execution_count": null,
      "outputs": [
        {
          "output_type": "stream",
          "name": "stdout",
          "text": [
            "[커피 주문 머신 메뉴]\n",
            "-----------------------------\n",
            "- 아메리카노: 2500원\n",
            "- 카페라테:   3000원\n",
            "- 카페모카:   3000원\n",
            "-----------------------------\n",
            "원하시는 커피종류와 잔수를 입력하세요.\n",
            "아메리카노 몇잔: 1\n",
            "카페라테   몇잔: 1\n",
            "카페모카   몇잔: 2\n",
            "지불하실 총 금액은 11,500원 입니다.\n",
            "------------------------\n",
            "돈을 넣어 주세요: 10000\n",
            "돈이 부족합니다. 1,500원을 더 넣어주세요.\n",
            "------------------------\n",
            "돈을 넣어 주세요: 1000\n",
            "돈이 부족합니다. 500원을 더 넣어주세요.\n",
            "------------------------\n",
            "돈을 넣어 주세요: 1000\n",
            "거스름돈은 500입니다. 커피 맛있게 드세요~\n"
          ]
        }
      ]
    },
    {
      "cell_type": "markdown",
      "source": [
        "### [실습문제] 호텔 관리 시스템"
      ],
      "metadata": {
        "id": "FohckU5yd7Lx"
      }
    },
    {
      "cell_type": "code",
      "source": [
        "'''\n",
        "<< 메뉴 설명 >>\n",
        "1. 체크인\n",
        "    방 호수(1번부터 시작)를 입력 받습니다.\n",
        "    방이 이미 입실 중이면 \"입실 중인 방은 체크인 하실 수 없습니다.\"를 출력하세요.\n",
        "    빈 방인 경우 \"입실 완료!\"를 출력하고 메뉴로 돌아갑니다.\n",
        "2. 체크아웃\n",
        "    방 호수(1번부터 시작)를 입력 받습니다.\n",
        "    방이 빈 방이면 \"빈 방은 체크아웃 하실 수 없습니다.\"를 출력하세요.\n",
        "    체크인 상태인 경우 \"퇴실 완료!\"를 출력하고 메뉴로 돌아갑니다.\n",
        "3. '방호수 - 상태'를 출력합니다.\n",
        "    출력 예)\n",
        "    1호 : 빈 방\n",
        "    2호 : 입실 중\n",
        "    3호 : 입실 중\n",
        "    4호 : 빈 방\n",
        "    5호 : 빈 방\n",
        "0. 종료\n",
        "    반복을 종료하고 '영업 종료' 를 출력합니다.\n",
        "'''"
      ],
      "metadata": {
        "id": "clpdWwgIeOYl"
      },
      "execution_count": null,
      "outputs": []
    },
    {
      "cell_type": "code",
      "source": [
        "print('호텔관리 시스템입니다.')\n",
        "menu = '''\n",
        "1. 체크인\n",
        "2. 체크아웃\n",
        "3. 입실현황\n",
        "0. 종료'''\n",
        "number = int(input('호텔 방의 개수는(입력): '))\n",
        "hotel = [0 for _ in range(number)]\n",
        "print(f\"방 현황: {hotel} (0:빈방, 1:입실중)\")\n",
        "while True:\n",
        "    print('-------------------')\n",
        "    print(menu)\n",
        "    select = input('-->메뉴 선택: ')\n",
        "    if select == '0':\n",
        "        break\n",
        "\n",
        "    elif select == '1': # 체크인\n",
        "        num = int(input(f'체크-in하실 방 호수(1~{len(hotel)}): '))\n",
        "        if hotel[num-1]:   # 이미 입실 중일 때\n",
        "            print(f\"{num}번 방은 이미 입실 중입니다.\")\n",
        "        else:\n",
        "            hotel[num-1] = 1\n",
        "        continue\n",
        "\n",
        "    elif select == '2': # 체크아웃\n",
        "        num = int(input(f'체크-out하실 방 호수(1~{len(hotel)}): '))\n",
        "        if hotel[num-1]: # 체크아웃 처리\n",
        "            hotel[num-1] = 0    # 빈 방 상태로 만듦\n",
        "        else:\n",
        "            print(f'{hotel[num]}번 방은 빈 방입니다. 빈 방은 체크-out하실 수 없습니다.')\n",
        "\n",
        "    elif select == '3': # 현황보기\n",
        "        for idx, room in enumerate(hotel): #[0, 0, 0]\n",
        "            if room == 0:\n",
        "                print(f\"{idx+1}호: 빈방\")\n",
        "            elif room == 1:\n",
        "                print(f\"{idx+1}호: 입실중\")\n",
        "\n",
        "\n",
        "print('-------------------')\n",
        "print('프로그램 종료!')"
      ],
      "metadata": {
        "colab": {
          "base_uri": "https://localhost:8080/"
        },
        "id": "vPpZUd7ieRiW",
        "outputId": "eafe343f-7ecd-46a1-a1f3-d5c21dfcdf2d"
      },
      "execution_count": null,
      "outputs": [
        {
          "output_type": "stream",
          "name": "stdout",
          "text": [
            "호텔관리 시스템입니다.\n",
            "호텔 방의 개수는(입력): 3\n",
            "방 현황: [0, 0, 0] (0:빈방, 1:입실중)\n",
            "-------------------\n",
            "\n",
            "1. 체크인\n",
            "2. 체크아웃\n",
            "3. 입실현황\n",
            "0. 종료\n",
            "-->메뉴 선택: 1\n",
            "체크-in하실 방 호수(1~3): 2\n",
            "-------------------\n",
            "\n",
            "1. 체크인\n",
            "2. 체크아웃\n",
            "3. 입실현황\n",
            "0. 종료\n",
            "-->메뉴 선택: 3\n",
            "1호: 빈방\n",
            "2호: 입실중\n",
            "3호: 빈방\n",
            "-------------------\n",
            "\n",
            "1. 체크인\n",
            "2. 체크아웃\n",
            "3. 입실현황\n",
            "0. 종료\n",
            "-->메뉴 선택: 1\n",
            "체크-in하실 방 호수(1~3): 1\n",
            "-------------------\n",
            "\n",
            "1. 체크인\n",
            "2. 체크아웃\n",
            "3. 입실현황\n",
            "0. 종료\n",
            "-->메뉴 선택: 3\n",
            "1호: 입실중\n",
            "2호: 입실중\n",
            "3호: 빈방\n",
            "-------------------\n",
            "\n",
            "1. 체크인\n",
            "2. 체크아웃\n",
            "3. 입실현황\n",
            "0. 종료\n",
            "-->메뉴 선택: 2\n",
            "체크-out하실 방 호수(1~3): 2\n",
            "-------------------\n",
            "\n",
            "1. 체크인\n",
            "2. 체크아웃\n",
            "3. 입실현황\n",
            "0. 종료\n",
            "-->메뉴 선택: 3\n",
            "1호: 입실중\n",
            "2호: 빈방\n",
            "3호: 빈방\n",
            "-------------------\n",
            "\n",
            "1. 체크인\n",
            "2. 체크아웃\n",
            "3. 입실현황\n",
            "0. 종료\n",
            "-->메뉴 선택: 0\n",
            "-------------------\n",
            "프로그램 종료!\n"
          ]
        }
      ]
    },
    {
      "cell_type": "code",
      "source": [
        "import random\n",
        "print(f\"로또번호 출력: {sorted(random.sample(range(1,46), 6))}\")"
      ],
      "metadata": {
        "colab": {
          "base_uri": "https://localhost:8080/"
        },
        "id": "lYbZfqb2rbfW",
        "outputId": "0da0cb64-6685-44e6-8766-e37357e96023"
      },
      "execution_count": null,
      "outputs": [
        {
          "output_type": "stream",
          "name": "stdout",
          "text": [
            "로또번호 출력: [6, 25, 28, 33, 41, 42]\n"
          ]
        }
      ]
    },
    {
      "cell_type": "markdown",
      "source": [
        "### [실습문제] 주사위 숫자별 빈도수"
      ],
      "metadata": {
        "id": "QXuBXKvzrVWw"
      }
    },
    {
      "cell_type": "code",
      "source": [
        "import random\n",
        "\n",
        "dice = [0, 0, 0, 0, 0, 0]\n",
        "for _ in range(100):\n",
        "  x = random.randint(1, 6)\n",
        "  dice[x-1] += 1\n",
        "print(f\"숫자별 개수 : {dice}\")\n",
        "\n",
        "maxValue = max(dice)\n",
        "max_dice = [idx+1  for idx, v in enumerate(dice)  if v==maxValue]\n",
        "# max_dice = []\n",
        "# for idx, v in enumerate(dice):\n",
        "#     if v==maxValue:\n",
        "#         max_dice.append(idx+1)\n",
        "\n",
        "print(f\"가장 많이 나온 숫자: {max_dice}, 횟수: {maxValue}\")"
      ],
      "metadata": {
        "colab": {
          "base_uri": "https://localhost:8080/"
        },
        "id": "wHcqLIIUs_jy",
        "outputId": "643de815-78ce-42a4-8176-3545cba8c57f"
      },
      "execution_count": null,
      "outputs": [
        {
          "output_type": "stream",
          "name": "stdout",
          "text": [
            "숫자별 개수 : [18, 19, 19, 11, 14, 19]\n",
            "가장많이 나온 숫자: [2, 3, 6], 횟수: 19\n"
          ]
        }
      ]
    },
    {
      "cell_type": "code",
      "source": [
        "import random\n",
        "\n",
        "dice = [0, 0, 0, 0, 0, 0]\n",
        "for _ in range(100):\n",
        "    num = random.randint(1,6)\n",
        "    dice[num-1] += 1\n",
        "print(f\"숫자별 개수 : {dice}\")\n",
        "\n",
        "maxValue = max(dice)\n",
        "diceNum = []\n",
        "for n in dice:\n",
        "    if n == maxValue:\n",
        "        diceNum.append(dice.index(n)+1)\n",
        "print(f\"가장 많이 나온 숫자 : {diceNum}, 횟수: {maxValue}\")"
      ],
      "metadata": {
        "id": "zmVbrxMUMfvX",
        "outputId": "e60ea250-d427-4f49-e145-2b7d449b8443",
        "colab": {
          "base_uri": "https://localhost:8080/"
        }
      },
      "execution_count": 9,
      "outputs": [
        {
          "output_type": "stream",
          "name": "stdout",
          "text": [
            "숫자별 개수 : [20, 18, 11, 19, 22, 10]\n",
            "가장 많이 나온 숫자 : [5], 횟수: 22\n"
          ]
        }
      ]
    }
  ]
}
