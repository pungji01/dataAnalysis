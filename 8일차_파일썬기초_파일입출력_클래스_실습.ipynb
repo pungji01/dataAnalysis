{
  "nbformat": 4,
  "nbformat_minor": 0,
  "metadata": {
    "colab": {
      "provenance": [],
      "authorship_tag": "ABX9TyOAjXHx+YWfkeIFcsqAvIyU",
      "include_colab_link": true
    },
    "kernelspec": {
      "name": "python3",
      "display_name": "Python 3"
    },
    "language_info": {
      "name": "python"
    }
  },
  "cells": [
    {
      "cell_type": "markdown",
      "metadata": {
        "id": "view-in-github",
        "colab_type": "text"
      },
      "source": [
        "<a href=\"https://colab.research.google.com/github/pungji01/dataAnalysis/blob/main/8%EC%9D%BC%EC%B0%A8_%ED%8C%8C%EC%9D%BC%EC%8D%AC%EA%B8%B0%EC%B4%88_%ED%8C%8C%EC%9D%BC%EC%9E%85%EC%B6%9C%EB%A0%A5_%ED%81%B4%EB%9E%98%EC%8A%A4_%EC%8B%A4%EC%8A%B5.ipynb\" target=\"_parent\"><img src=\"https://colab.research.google.com/assets/colab-badge.svg\" alt=\"Open In Colab\"/></a>"
      ]
    },
    {
      "cell_type": "markdown",
      "source": [
        "#파일 입출력 문제"
      ],
      "metadata": {
        "id": "jURiXbXPmgiV"
      }
    },
    {
      "cell_type": "markdown",
      "source": [
        "###[실습문제] 회원 목록 읽어와서 팀으로 배정하기"
      ],
      "metadata": {
        "id": "HY0MzxklmrQy"
      }
    },
    {
      "cell_type": "code",
      "execution_count": 11,
      "metadata": {
        "colab": {
          "base_uri": "https://localhost:8080/"
        },
        "id": "qiYU_xdGmVoC",
        "outputId": "c1e09f6e-5153-4f47-b569-8da750aef452"
      },
      "outputs": [
        {
          "output_type": "stream",
          "name": "stdout",
          "text": [
            "전체 인원: 39\n",
            "섞기 전 : ['1,고정미', '2,권지선', '3,김미영', '4,김선형', '5,김현아', '6,김혜정', '7,박성미', '8,박윤경', '9,박지연', '10,박지영', '11,박효미', '12,서남미', '13,송인경', '14,안지영', '15,오현주', '16,유지연', '17,유지은', '18,윤노숙', '19,윤영순', '20,이미경', '21,이수진', '22,이숙미', '23,이정', '24,이주현', '25,인선미', '26,임미숙', '27,임은희', '28,전유진', '29,전현주', '30,전혜진', '31,조현정', '32,천윤희', '33,최민지', '34,최원희', '35,최준희', '36,한진희', '37,황수산나', '38,정재순', '39,권명숙']\n",
            "섞은 후 : ['5,김현아', '33,최민지', '10,박지영', '26,임미숙', '28,전유진', '14,안지영', '3,김미영', '2,권지선', '37,황수산나', '35,최준희', '15,오현주', '4,김선형', '7,박성미', '1,고정미', '34,최원희', '21,이수진', '12,서남미', '29,전현주', '23,이정', '39,권명숙', '11,박효미', '18,윤노숙', '13,송인경', '36,한진희', '30,전혜진', '27,임은희', '31,조현정', '17,유지은', '19,윤영순', '24,이주현', '22,이숙미', '38,정재순', '9,박지연', '16,유지연', '8,박윤경', '20,이미경', '6,김혜정', '25,인선미', '32,천윤희']\n",
            "1팀 : ['5,김현아', '33,최민지', '10,박지영', '26,임미숙']\n",
            "2팀 : ['28,전유진', '14,안지영', '3,김미영', '2,권지선']\n",
            "3팀 : ['37,황수산나', '35,최준희', '15,오현주', '4,김선형']\n",
            "4팀 : ['7,박성미', '1,고정미', '34,최원희', '21,이수진']\n",
            "5팀 : ['12,서남미', '29,전현주', '23,이정', '39,권명숙']\n",
            "6팀 : ['11,박효미', '18,윤노숙', '13,송인경', '36,한진희']\n",
            "7팀 : ['30,전혜진', '27,임은희', '31,조현정', '17,유지은']\n",
            "8팀 : ['19,윤영순', '24,이주현', '22,이숙미', '38,정재순']\n",
            "9팀 : ['9,박지연', '16,유지연', '8,박윤경', '20,이미경']\n",
            "10팀 : ['6,김혜정', '25,인선미', '32,천윤희']\n"
          ]
        }
      ],
      "source": [
        "# 1.파일 열고 회원 목록 읽기\n",
        "f = open('./members.txt', 'r')      # 파일 객체 닫기\n",
        "fw = open('./teams.txt', 'w')       # 파일 객체 닫기\n",
        "members = [ member.strip() for member in f.readlines() ]\n",
        "print(f\"전체 인원: {len(members)}\")\n",
        "print(f\"섞기 전 : {members}\")\n",
        "\n",
        "# 2.리스트 섞기\n",
        "import random\n",
        "random.shuffle(members)\n",
        "print(f\"섞은 후 : {members}\")\n",
        "\n",
        "# 3.팀별로 배정하기\n",
        "teams_dic, tmp = dict(), list()\n",
        "i, member_cnt = 1, 4\n",
        "for idx, member in enumerate(members): # 팀:회원 저장 딕셔너리, 임시 저장 리스트 tmp\n",
        "    if idx>0 and idx%member_cnt == 0:\n",
        "        teams_dic[f'{i}팀'] = tmp\n",
        "        print(f\"{i:2>}팀 : {tmp}\")         # 화면 출력\n",
        "        fw.write(f\"{i:2>}팀 : {tmp}\\n\")      # 파일 출력\n",
        "        i += 1\n",
        "        tmp = []\n",
        "    tmp.append(member)\n",
        "\n",
        "if tmp:\n",
        "    teams_dic[f'{i}팀'] = tmp\n",
        "    print(f\"{i}팀 : {tmp}\")\n",
        "    fw.write(f\"{i}팀 : {tmp}\")\n",
        "\n",
        "f.close()           # 파일 객체 닫기\n",
        "fw.close()          # 파일 객체 닫기"
      ]
    },
    {
      "cell_type": "code",
      "source": [
        "import pandas as pd\n",
        "df = pd.read_csv('./members.txt')\n",
        "df"
      ],
      "metadata": {
        "id": "fAuBB25nn5b6"
      },
      "execution_count": null,
      "outputs": []
    }
  ]
}