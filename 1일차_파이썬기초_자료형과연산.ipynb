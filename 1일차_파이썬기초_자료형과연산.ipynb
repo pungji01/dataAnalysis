{
  "nbformat": 4,
  "nbformat_minor": 0,
  "metadata": {
    "colab": {
      "provenance": [],
      "collapsed_sections": [
        "UPzc236KC5sq"
      ],
      "authorship_tag": "ABX9TyMp3riSG+0GMiMQZyFS3iBu",
      "include_colab_link": true
    },
    "kernelspec": {
      "name": "python3",
      "display_name": "Python 3"
    },
    "language_info": {
      "name": "python"
    }
  },
  "cells": [
    {
      "cell_type": "markdown",
      "metadata": {
        "id": "view-in-github",
        "colab_type": "text"
      },
      "source": [
        "<a href=\"https://colab.research.google.com/github/pungji01/dataAnalysis/blob/main/1%EC%9D%BC%EC%B0%A8_%ED%8C%8C%EC%9D%B4%EC%8D%AC%EA%B8%B0%EC%B4%88_%EC%9E%90%EB%A3%8C%ED%98%95%EA%B3%BC%EC%97%B0%EC%82%B0.ipynb\" target=\"_parent\"><img src=\"https://colab.research.google.com/assets/colab-badge.svg\" alt=\"Open In Colab\"/></a>"
      ]
    },
    {
      "cell_type": "markdown",
      "source": [
        "# 1.파이썬 자료형과 연산"
      ],
      "metadata": {
        "id": "fu09SLyJqEIo"
      }
    },
    {
      "cell_type": "markdown",
      "source": [
        "## 1.파이썬 자료형"
      ],
      "metadata": {
        "id": "F-OrjahkD197"
      }
    },
    {
      "cell_type": "code",
      "execution_count": null,
      "metadata": {
        "id": "5VEDDTEIp8fp"
      },
      "outputs": [],
      "source": [
        "# 오류\n",
        "a = 10        #number\n",
        "b = '파이썬'  #string\n",
        "print(a + b)"
      ]
    },
    {
      "cell_type": "markdown",
      "source": [
        "### [실습문제] 파이썬으로 표현하기"
      ],
      "metadata": {
        "id": "rHvdqClhzHjG"
      }
    },
    {
      "cell_type": "code",
      "source": [
        "# 1. 파이썬 버전 출력\n",
        "!python -V  #!는 외부 명령어에 사용, 대문자 V사용"
      ],
      "metadata": {
        "id": "QhNNCYxmzOf0"
      },
      "execution_count": null,
      "outputs": []
    },
    {
      "cell_type": "code",
      "source": [
        "import sys\n",
        "sys.version\n",
        "print('---',sys.version)"
      ],
      "metadata": {
        "id": "x_VZZ4ISzi-j"
      },
      "execution_count": null,
      "outputs": []
    },
    {
      "cell_type": "code",
      "source": [
        "print('---',sys.version)\n",
        "sys.version"
      ],
      "metadata": {
        "id": "ZmiQeZGgzSAc"
      },
      "execution_count": null,
      "outputs": []
    },
    {
      "cell_type": "code",
      "source": [
        "# 2.파이썬 설치 위치\n",
        "print(sys.executable)"
      ],
      "metadata": {
        "id": "CIn-QXZ_0goN"
      },
      "execution_count": null,
      "outputs": []
    },
    {
      "cell_type": "code",
      "source": [
        "# 4. 현재 위치(물리적 폴더 위치)\n",
        "import os\n",
        "os.getcwdb()"
      ],
      "metadata": {
        "id": "-7h-12iO0pgf"
      },
      "execution_count": null,
      "outputs": []
    },
    {
      "cell_type": "markdown",
      "source": [
        "### 파이썬 수학연산"
      ],
      "metadata": {
        "id": "6P1izk_f-3Q8"
      }
    },
    {
      "cell_type": "code",
      "source": [
        "# 문제1: 10 + 3 x 4 결과 출력\n",
        "print(10 + 3 * 4)\n",
        "\n",
        "# 문제2: 아이폰 15대를 가지고 있다. 아이폰의 가격이 130만원 일 때 총 금액은?\n",
        "iphone = 15\n",
        "price = 1300000\n",
        "print(iphone * price)\n",
        "\n",
        "# 문제3: 주어진 임의의 자연수가 홀수인지 짝수인지 판별하는 방법은?\n",
        "a = int(input('숫자를 입력하세요 '))\n",
        "if a % 2 == 0:\n",
        "  print('%d은 짝수입니다' %a)\n",
        "else:\n",
        "  print('%d은 홀수입니다' %a)\n",
        "\n",
        "# 문제3 보완: 주어진 임의의 자연수가 홀수인지 짝수인지 판별하는 방법은?\n",
        "a = int(input('숫자를 입력하세요 '))\n",
        "print('%d은 짝수입니다' %a) if a % 2 == 0 else print('%d은 홀수입니다' %a)\n",
        "\n",
        "\n",
        "# 문제4: 2x2x2x5x5x5x5x3x3x3x3을 제곱형태로 나타낸 후 그 결과 출력하기\n",
        "print(2**3 * 5**4 * 3**4)\n"
      ],
      "metadata": {
        "id": "aoecFqkr3Jrv"
      },
      "execution_count": null,
      "outputs": []
    },
    {
      "cell_type": "markdown",
      "source": [
        "### 파이썬 자료형(Data Type) 확인 함수 : type()"
      ],
      "metadata": {
        "id": "jJOL5Xqq91PQ"
      }
    },
    {
      "cell_type": "code",
      "source": [
        "print( type(123) )\n",
        "print( type(3.14) )\n",
        "print( type(\"123\") )\n",
        "print( type([123]) )\n",
        "print( type((123,)) )\n",
        "print( type({'123':123}) )\n",
        "print( type({123}) )\n",
        "print( type(True) )"
      ],
      "metadata": {
        "id": "k9RQUG-u9xec"
      },
      "execution_count": null,
      "outputs": []
    },
    {
      "cell_type": "markdown",
      "source": [
        "------"
      ],
      "metadata": {
        "id": "C6TgUbsOCgR8"
      }
    },
    {
      "cell_type": "markdown",
      "source": [
        "## 2.표준 입출력"
      ],
      "metadata": {
        "id": "_z4PEvggCliK"
      }
    },
    {
      "cell_type": "markdown",
      "source": [
        "### 문자열 데이터를 숫자로 변환하기"
      ],
      "metadata": {
        "id": "UPzc236KC5sq"
      }
    },
    {
      "cell_type": "code",
      "source": [
        "a = input('숫자를 입력하세요: ')\n",
        "print( type(a) )\n",
        "a = int(a)  # 정수로 변환하는 함수 : int()\n",
        "print( type(a) )"
      ],
      "metadata": {
        "id": "2nrkNtOLDCAf"
      },
      "execution_count": null,
      "outputs": []
    },
    {
      "cell_type": "code",
      "source": [
        "# a = input('숫자를 입력하세요: ')\n",
        "# a = int(a)\n",
        "\n",
        "a = int(input('숫자를 입력하세요: '))"
      ],
      "metadata": {
        "id": "6f0xQrsUDXRz"
      },
      "execution_count": null,
      "outputs": []
    },
    {
      "cell_type": "code",
      "source": [
        "# 문자열 포맷팅\n",
        "a = input('키보드로 입력해 주세요.')\n",
        "print('변수 a의 값은', a, '입니다.')\n",
        "print('변수 a의 값은 %s 입니다' %a)\n",
        "print(f'변수 a의 값은 {a} 입니다.') #가장 최근 방법"
      ],
      "metadata": {
        "id": "rFpdOnq0Fr8Z"
      },
      "execution_count": null,
      "outputs": []
    },
    {
      "cell_type": "code",
      "source": [
        "# 실습문제\n",
        "# 키보드로 두 수를 입력 받아 간단한 계산기 프로그램 만들기\n",
        "\n",
        "num1 = int(input('첫 번째 숫자를 입력하세요 : '))\n",
        "num2 = int(input('두 번째 숫자를 입력하세요 : '))\n",
        "print('-' * 20)\n",
        "print(f'덧셈   : {num1}  + {num2} = {num1 + num2:5}')\n",
        "print(f'뺄셈   : {num1}  - {num2} = {num1 - num2:5}')\n",
        "print(f'곱셈   : {num1}  * {num2} = {num1 * num2:5}')\n",
        "print(f'몫     : {num1} // {num2} = {num1 // num2:5}')\n",
        "print(f'나머지 : {num1}  % {num2} = {num1 % num2:5}')"
      ],
      "metadata": {
        "id": "tGeHvQl8GT_X"
      },
      "execution_count": null,
      "outputs": []
    },
    {
      "cell_type": "code",
      "source": [
        "val = input('첫 번째 숫자: ')\n",
        "print(f'a의 값은: {val:>10}') # val 값을 10자리로 오른쪽 정렬\n",
        "print(f'a의 값은: {val:<10}') # val 값을 10자리로 왼쪽 정렬\n",
        "print(f'a의 값은: {val:^10}') # val 값을 10자리로 가운데 정렬"
      ],
      "metadata": {
        "id": "zPFPyBE3H6Qx"
      },
      "execution_count": null,
      "outputs": []
    },
    {
      "cell_type": "code",
      "source": [
        "# 실습문제\n",
        "# 속력과 거리를 입력 받아 시간을 계산하는 프로그램\n",
        "velocity = float(input('속력을 입력해 주세요(km/h): '))\n",
        "distance = float(input('거리를 입력해 주세요(km): '))\n",
        "print('-'*30)\n",
        "print(f'속력 : {velocity} km/h')\n",
        "print(f'거리 : {distance} km')\n",
        "print(f'시간 : {distance / velocity:.1f} h)')"
      ],
      "metadata": {
        "id": "tv8pDyc8K1T8"
      },
      "execution_count": null,
      "outputs": []
    },
    {
      "cell_type": "markdown",
      "source": [
        "### 내장된 수학함수\n",
        "    02-[교안]-20파이썬기초-파이썬기초프로그래밍.pdf 슬라이드 41"
      ],
      "metadata": {
        "id": "5d5MwBfgOtEg"
      }
    },
    {
      "cell_type": "code",
      "source": [
        "# 실습문제\n",
        "# 파이썬 수학 함수를 사용하여 계산하기\n",
        "\n",
        "import math\n",
        "# 문제1: 반지름이 4인 원의 넓이 출력\n",
        "r = 4\n",
        "print(f'원의 넓이: {round(math.pi * math.pow(r, 2),4)}')\n",
        "\n",
        "# 문제2: 3.14 곱하기 2 나누기 7의 값을 반올림하여 계산 결과 출력\n",
        "pi = 3.14\n",
        "print(f'계산결과 : {round(pi * 2 / 7)}')\n",
        "\n",
        "# 문제3: 원주율을 3.14로 만들어서 반지름이 4인 원의 둘레의 길이 출력\n",
        "print(f'원의 둘레: {2 * pi * r}')"
      ],
      "metadata": {
        "id": "bEMdDApjOwMm"
      },
      "execution_count": null,
      "outputs": []
    },
    {
      "cell_type": "markdown",
      "source": [
        "\n",
        "\n",
        "---\n",
        "\n"
      ],
      "metadata": {
        "id": "1alCrcC3U0Ch"
      }
    },
    {
      "cell_type": "code",
      "source": [
        "# [실습문제]\n",
        "#정수 a를 입력 받아, a + aa + aaa 의 결과값 구하기\n",
        "a = input('1~9까지의 정수 중 1개 입력: ')\n",
        "add = int(a) + int(a+a) + int(a+a+a)\n",
        "print(add)"
      ],
      "metadata": {
        "colab": {
          "base_uri": "https://localhost:8080/"
        },
        "id": "AcOwrFW-UeU-",
        "outputId": "235dd287-0231-49d3-872f-5df0773dddda"
      },
      "execution_count": 3,
      "outputs": [
        {
          "output_type": "stream",
          "name": "stdout",
          "text": [
            "1~9까지의 정수 중 1개 입력: 2\n",
            "246\n"
          ]
        }
      ]
    },
    {
      "cell_type": "code",
      "source": [
        "#eval() : 문자열을 숫자로 인식하고 계산하는 함수\n",
        "eval('2 + 22 + 222')\n",
        "calc = f'{a} + {a*2} + {a*3}'\n",
        "print(f'{calc} = {eval(calc)}')"
      ],
      "metadata": {
        "colab": {
          "base_uri": "https://localhost:8080/"
        },
        "id": "vhifATYIM-x6",
        "outputId": "bf99d471-dad5-40fa-f584-82ae03ac9adc"
      },
      "execution_count": 5,
      "outputs": [
        {
          "output_type": "stream",
          "name": "stdout",
          "text": [
            "2 + 22 + 222 = 246\n"
          ]
        }
      ]
    }
  ]
}