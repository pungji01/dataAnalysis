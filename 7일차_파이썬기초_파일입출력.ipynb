{
  "nbformat": 4,
  "nbformat_minor": 0,
  "metadata": {
    "colab": {
      "provenance": [],
      "authorship_tag": "ABX9TyPdpaqJX6qyEAHJ5fesZjpA",
      "include_colab_link": true
    },
    "kernelspec": {
      "name": "python3",
      "display_name": "Python 3"
    },
    "language_info": {
      "name": "python"
    }
  },
  "cells": [
    {
      "cell_type": "markdown",
      "metadata": {
        "id": "view-in-github",
        "colab_type": "text"
      },
      "source": [
        "<a href=\"https://colab.research.google.com/github/pungji01/dataAnalysis/blob/main/7%EC%9D%BC%EC%B0%A8_%ED%8C%8C%EC%9D%B4%EC%8D%AC%EA%B8%B0%EC%B4%88_%ED%8C%8C%EC%9D%BC%EC%9E%85%EC%B6%9C%EB%A0%A5.ipynb\" target=\"_parent\"><img src=\"https://colab.research.google.com/assets/colab-badge.svg\" alt=\"Open In Colab\"/></a>"
      ]
    },
    {
      "cell_type": "markdown",
      "source": [
        "#6. 파일 입출력"
      ],
      "metadata": {
        "id": "3FLkLLAjmN5C"
      }
    },
    {
      "cell_type": "markdown",
      "source": [
        "##6-1. TXT"
      ],
      "metadata": {
        "id": "tAvDXeP1mUwB"
      }
    },
    {
      "cell_type": "markdown",
      "source": [
        "###파일 입출력"
      ],
      "metadata": {
        "id": "TYR_XG6AmgCO"
      }
    },
    {
      "cell_type": "code",
      "execution_count": 7,
      "metadata": {
        "id": "DCtUIEIikp5X"
      },
      "outputs": [],
      "source": [
        "# 파일에 쓰기\n",
        "f = open('./새파일.txt', 'w')\n",
        "for i in range(1,11):\n",
        "    f.write(f\"{i:2>}번째 줄입니다.\\n\")\n",
        "f.close()"
      ]
    },
    {
      "cell_type": "markdown",
      "source": [
        "-readline()\n",
        "-readlines()\n",
        "-read()"
      ],
      "metadata": {
        "id": "Y9L4Og8SooWs"
      }
    },
    {
      "cell_type": "code",
      "source": [
        "# readline()\n",
        "\n",
        "f = open('./새파일.txt','r')\n",
        "line = f.readline()\n",
        "print(line)\n",
        "print('---------------------')\n",
        "\n",
        "while True:\n",
        "    line = f.readline()\n",
        "    if not line:\n",
        "        break\n",
        "    print(line.strip()) # line 마지막 '\\n'을 제거해서 불필요한 마지막 줄 제거\n",
        "f.close()"
      ],
      "metadata": {
        "colab": {
          "base_uri": "https://localhost:8080/"
        },
        "id": "nPVywDFdmzsg",
        "outputId": "19705378-686e-4acf-d9aa-6eeab1bb89bb"
      },
      "execution_count": 13,
      "outputs": [
        {
          "output_type": "stream",
          "name": "stdout",
          "text": [
            "1번째 줄입니다.\n",
            "\n",
            "---------------------\n",
            "2번째 줄입니다.\n",
            "3번째 줄입니다.\n",
            "4번째 줄입니다.\n",
            "5번째 줄입니다.\n",
            "6번째 줄입니다.\n",
            "7번째 줄입니다.\n",
            "8번째 줄입니다.\n",
            "9번째 줄입니다.\n",
            "10번째 줄입니다.\n"
          ]
        }
      ]
    },
    {
      "cell_type": "code",
      "source": [
        "# readlines() : 결과는 list로 반환한다\n",
        "\n",
        "f = open('./새파일.txt','r')\n",
        "for line in f.readlines():  # readlines()는 리스트를 반환\n",
        "    print(line.strip())\n",
        "f.close()"
      ],
      "metadata": {
        "colab": {
          "base_uri": "https://localhost:8080/"
        },
        "id": "ajOz0f6Up1Dt",
        "outputId": "e0b2f1eb-1a45-47da-998f-7c8cf2b79d02"
      },
      "execution_count": 17,
      "outputs": [
        {
          "output_type": "stream",
          "name": "stdout",
          "text": [
            "1번째 줄입니다.\n",
            "\n",
            "2번째 줄입니다.\n",
            "\n",
            "3번째 줄입니다.\n",
            "\n",
            "4번째 줄입니다.\n",
            "\n",
            "5번째 줄입니다.\n",
            "\n",
            "6번째 줄입니다.\n",
            "\n",
            "7번째 줄입니다.\n",
            "\n",
            "8번째 줄입니다.\n",
            "\n",
            "9번째 줄입니다.\n",
            "\n",
            "10번째 줄입니다.\n",
            "\n"
          ]
        }
      ]
    },
    {
      "cell_type": "code",
      "source": [
        "# read() : 결과는 string으로 반환한다\n",
        "\n",
        "f = open('./새파일.txt','r')\n",
        "data = f.read()\n",
        "print(data)\n",
        "f.close()"
      ],
      "metadata": {
        "colab": {
          "base_uri": "https://localhost:8080/"
        },
        "id": "bFJxRXMJqd16",
        "outputId": "a3b35413-a626-4a6f-baf2-61b3e5813783"
      },
      "execution_count": 19,
      "outputs": [
        {
          "output_type": "stream",
          "name": "stdout",
          "text": [
            "1번째 줄입니다.\n",
            "2번째 줄입니다.\n",
            "3번째 줄입니다.\n",
            "4번째 줄입니다.\n",
            "5번째 줄입니다.\n",
            "6번째 줄입니다.\n",
            "7번째 줄입니다.\n",
            "8번째 줄입니다.\n",
            "9번째 줄입니다.\n",
            "10번째 줄입니다.\n",
            "\n"
          ]
        }
      ]
    },
    {
      "cell_type": "markdown",
      "source": [
        "###with 문\n",
        "with문을 벗어나면 자동으로 파일 객체를 닫는다.\n",
        "f.close()를 사용할 필요가 없다."
      ],
      "metadata": {
        "id": "JZqLsF7BroDA"
      }
    },
    {
      "cell_type": "code",
      "source": [
        "# f = open('./새파일.txt','r')\n",
        "# data = f.read()\n",
        "# print(data)\n",
        "# f.close()\n",
        "\n",
        "with open('./새파일.txt','r') as f:\n",
        "    data = f.read()\n",
        "    print(type(data))\n",
        "    data = data.replace('줄', '사람')\n",
        "    print(data)"
      ],
      "metadata": {
        "colab": {
          "base_uri": "https://localhost:8080/"
        },
        "id": "V7QAKGr2rwcO",
        "outputId": "6d4aa951-4f9b-41a2-fe34-e5a668280611"
      },
      "execution_count": 23,
      "outputs": [
        {
          "output_type": "stream",
          "name": "stdout",
          "text": [
            "<class 'str'>\n",
            "1번째 사람입니다.\n",
            "2번째 사람입니다.\n",
            "3번째 사람입니다.\n",
            "4번째 사람입니다.\n",
            "5번째 사람입니다.\n",
            "6번째 사람입니다.\n",
            "7번째 사람입니다.\n",
            "8번째 사람입니다.\n",
            "9번째 사람입니다.\n",
            "10번째 사람입니다.\n",
            "\n"
          ]
        }
      ]
    },
    {
      "cell_type": "markdown",
      "source": [
        "###os 모듈: 디렉토리 & 파일 관련 함수"
      ],
      "metadata": {
        "id": "O9kVJb0OspWG"
      }
    },
    {
      "cell_type": "code",
      "source": [
        "import os\n",
        "print(f\"현재위치: {os.getcwd()}\")\n",
        "print(f\"현재위치 파일/폴더 목록: {os.listdir()}\")\n",
        "# os.chdir('../')\n",
        "# print(f\"현재위치 파일/폴더 목록: {os.listdir()}\")"
      ],
      "metadata": {
        "colab": {
          "base_uri": "https://localhost:8080/"
        },
        "id": "Yh5XwH6bs8EO",
        "outputId": "6af3ff78-97b3-4a3d-faf7-476486c828c1"
      },
      "execution_count": 37,
      "outputs": [
        {
          "output_type": "stream",
          "name": "stdout",
          "text": [
            "현재위치: /content\n",
            "현재위치 파일/폴더 목록: ['.config', 'sample_data']\n"
          ]
        }
      ]
    },
    {
      "cell_type": "code",
      "source": [
        "os.chdir('./content')"
      ],
      "metadata": {
        "id": "d4di7lffuKEB"
      },
      "execution_count": 32,
      "outputs": []
    },
    {
      "cell_type": "markdown",
      "source": [
        "-os.remove() : 파일 삭제"
      ],
      "metadata": {
        "id": "Rd_rqYKruiBr"
      }
    },
    {
      "cell_type": "code",
      "source": [
        "import os\n",
        "file = '새파일.txt'\n",
        "if os.path.isfile(file):\n",
        "    os.remove(file)\n",
        "    print(f\"'{file}' 파일이 삭제되었습니다.\")\n",
        "else:\n",
        "    print(f\"'{file}' 파일이 존재하지 않습니다.\")"
      ],
      "metadata": {
        "colab": {
          "base_uri": "https://localhost:8080/"
        },
        "id": "BQx3irAIulkZ",
        "outputId": "b6aba777-02bf-49ac-fb37-658bcbf4b9c3"
      },
      "execution_count": 35,
      "outputs": [
        {
          "output_type": "stream",
          "name": "stdout",
          "text": [
            "'새파일.txt' 파일이 존재하지 않습니다.\n"
          ]
        }
      ]
    },
    {
      "cell_type": "markdown",
      "source": [
        "###[실습문제]"
      ],
      "metadata": {
        "id": "fJvUxHH3wABa"
      }
    },
    {
      "cell_type": "code",
      "source": [
        "import random\n",
        "\n",
        "with open('./sample.txt','w') as f:\n",
        "    for _ in range(10):\n",
        "        n = str(random.randint(1,100))\n",
        "        f.write(n+'\\n')     # 문자열 사용 가능\n",
        "\n",
        "with open('./sample.txt','r') as f:\n",
        "    data = f.read()\n",
        "    print(data)"
      ],
      "metadata": {
        "colab": {
          "base_uri": "https://localhost:8080/"
        },
        "id": "qDHwpoJ6wCmP",
        "outputId": "d8590989-f60d-4c71-d11f-2968b92053ae"
      },
      "execution_count": 50,
      "outputs": [
        {
          "output_type": "stream",
          "name": "stdout",
          "text": [
            "20\n",
            "67\n",
            "80\n",
            "18\n",
            "7\n",
            "38\n",
            "64\n",
            "91\n",
            "4\n",
            "39\n",
            "\n"
          ]
        }
      ]
    },
    {
      "cell_type": "code",
      "source": [
        "# 파일 읽어서 총합&평균 출력하기\n",
        "with open('./sample.txt','r') as f:\n",
        "    data = [int(line) for line in f.readlines()]\n",
        "    hap = sum(data)\n",
        "    avg = hap / len(data)\n",
        "    content = f\"{data}\\n총합은 {hap} 입니다.\\n평균은 {avg}입니다\"\n",
        "    print(content)\n",
        "\n",
        "with open('./result.txt','w') as f:\n",
        "    f.write(content)"
      ],
      "metadata": {
        "colab": {
          "base_uri": "https://localhost:8080/"
        },
        "id": "vyoGL_pOzMK6",
        "outputId": "2dd08709-b933-435d-83b1-d01018c2a7aa"
      },
      "execution_count": 55,
      "outputs": [
        {
          "output_type": "stream",
          "name": "stdout",
          "text": [
            "[20, 67, 80, 18, 7, 38, 64, 91, 4, 39]\n",
            "총합은 428 입니다.\n",
            "평균은 42.8입니다\n"
          ]
        }
      ]
    }
  ]
}