{
  "nbformat": 4,
  "nbformat_minor": 0,
  "metadata": {
    "colab": {
      "provenance": [],
      "authorship_tag": "ABX9TyOCc0HJqhHqd9e1uzM2zlB7",
      "include_colab_link": true
    },
    "kernelspec": {
      "name": "python3",
      "display_name": "Python 3"
    },
    "language_info": {
      "name": "python"
    }
  },
  "cells": [
    {
      "cell_type": "markdown",
      "metadata": {
        "id": "view-in-github",
        "colab_type": "text"
      },
      "source": [
        "<a href=\"https://colab.research.google.com/github/pungji01/dataAnalysis/blob/main/8%EC%9D%BC%EC%B0%A8_%ED%8C%8C%EC%9D%B4%EC%8D%AC%EA%B8%B0%EC%B4%88_%EB%AF%B8%EB%8B%88%ED%94%84%EB%A1%9C%EC%A0%9D%ED%8A%B8.ipynb\" target=\"_parent\"><img src=\"https://colab.research.google.com/assets/colab-badge.svg\" alt=\"Open In Colab\"/></a>"
      ]
    },
    {
      "cell_type": "markdown",
      "source": [
        "#영어 단어장 프로그램 만들기\n",
        "① 프로그램이 실행되면 5가지 영어 단어장 ---선택메뉴--- 가 출력된다.\n",
        "\n",
        "② 키보도로 0,1,2,3,4 중 번호 하나를 입력하면 해당하는 기능이 작동된다.\n",
        "\n",
        "③ 메뉴 번호 중 0이 입력될 때까지 무한반복된다. 0이 입력되면 프로그램이 종료된다.\n",
        "\n",
        "④ 단어를 저장하기 위해서는 리스트 또는 딕셔너리로 사용합니다.\n",
        "\n",
        "⑤ 각 메뉴의 기능은 조건문을 이용하여 작성하며 각 기능을 함수로 정의하고 호출해도 좋다.(꼭 함수를 사용하지 않아도 됩니다. )\n"
      ],
      "metadata": {
        "id": "sg3nTAWHtUBX"
      }
    },
    {
      "cell_type": "code",
      "execution_count": null,
      "metadata": {
        "id": "nnqpSNLltDXF"
      },
      "outputs": [],
      "source": [
        "dictionary = {}\n",
        "menu = '''\n",
        "---선택메뉴---\n",
        "1. 단어 등록\n",
        "2. 단어 검색\n",
        "3. 단어 삭제\n",
        "4. 모든 단어 보기\n",
        "0. 종료하기\n",
        "'''\n",
        "\n",
        "def w_add():\n",
        "    word = input('새단어 :')\n",
        "    meaning = input(f'{word} 의 뜻 : ')\n",
        "    dictionary[word] = meaning\n",
        "\n",
        "\n",
        "def w_search():\n",
        "    word = input('검색할 단어 :')\n",
        "    if word in dictionary:\n",
        "        print(f\"{word} : {dictionary[word]}\")\n",
        "    else:\n",
        "        print('미등록 단어!')\n",
        "\n",
        "def w_delete():\n",
        "    word = input('삭제할 단어 : ')\n",
        "    if word in dictionary:\n",
        "        del dictionary[word]\n",
        "        print(f\"{word} 단어 삭제됨!\")\n",
        "    else:\n",
        "        print('미등록 단어!')\n",
        "\n",
        "def w_show():\n",
        "    sortedDic = dict(sorted(dictionary.items()))\n",
        "    for k in sortedDic:\n",
        "        print(f\"{k} : {sortedDic[k]}\")\n",
        "\n",
        "def quit():\n",
        "    print('프로그램을 종료합니다.')\n",
        "\n",
        "print(menu)\n",
        "choice = int(input('----------------------------- 선택: '))\n",
        "\n",
        "while choice != 0:\n",
        "    if choice == 1:\n",
        "        w_add()\n",
        "    elif choice == 2:\n",
        "        w_search()\n",
        "    elif choice == 3:\n",
        "        w_delete()\n",
        "    elif choice == 4:\n",
        "        w_show()\n",
        "    print(menu)\n",
        "    choice = int(input('----------------------------- 선택: '))\n",
        "quit()\n"
      ]
    }
  ]
}