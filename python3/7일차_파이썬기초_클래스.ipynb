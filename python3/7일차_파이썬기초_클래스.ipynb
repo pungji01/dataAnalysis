{
  "nbformat": 4,
  "nbformat_minor": 0,
  "metadata": {
    "colab": {
      "provenance": [],
      "authorship_tag": "ABX9TyOXGjri90nPF1JBkbo8UkSi",
      "include_colab_link": true
    },
    "kernelspec": {
      "name": "python3",
      "display_name": "Python 3"
    },
    "language_info": {
      "name": "python"
    }
  },
  "cells": [
    {
      "cell_type": "markdown",
      "metadata": {
        "id": "view-in-github",
        "colab_type": "text"
      },
      "source": [
        "<a href=\"https://colab.research.google.com/github/pungji01/dataAnalysis/blob/main/7%EC%9D%BC%EC%B0%A8_%ED%8C%8C%EC%9D%B4%EC%8D%AC%EA%B8%B0%EC%B4%88_%ED%81%B4%EB%9E%98%EC%8A%A4.ipynb\" target=\"_parent\"><img src=\"https://colab.research.google.com/assets/colab-badge.svg\" alt=\"Open In Colab\"/></a>"
      ]
    },
    {
      "cell_type": "markdown",
      "source": [
        "#7.클래스"
      ],
      "metadata": {
        "id": "AbL27c4D-WIL"
      }
    },
    {
      "cell_type": "markdown",
      "source": [
        "##7-1. 클래스 이해"
      ],
      "metadata": {
        "id": "NrhlowXb-aL1"
      }
    },
    {
      "cell_type": "code",
      "execution_count": 3,
      "metadata": {
        "colab": {
          "base_uri": "https://localhost:8080/"
        },
        "id": "jtlpyIfs-Q6v",
        "outputId": "29161012-e4ac-4a71-e2a5-061a818317de"
      },
      "outputs": [
        {
          "output_type": "stream",
          "name": "stdout",
          "text": [
            "<class 'list'>\n"
          ]
        }
      ],
      "source": [
        "data1 = list()      # 인스턴스\n",
        "data2 = list()      # 인스턴스\n",
        "print(type(data1))\n",
        "\n",
        "data1.append(100)\n",
        "data2.append(200)"
      ]
    }
  ]
}
